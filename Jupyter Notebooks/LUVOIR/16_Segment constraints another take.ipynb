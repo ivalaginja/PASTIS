{
 "cells": [
  {
   "cell_type": "markdown",
   "metadata": {},
   "source": [
    "# Another take on the segment requirements\n",
    "\n",
    "We will try going the other way, using Laurent P's approach to get $\\mu$, use that to. build $C_y$ and go the other way around. We calculate $C_x$ from $C_y$ and look at that $C_x$ matrix, see how diagonal it is or not. We can truncate $C_x$ to the diagonal terms and run a Monte Carlo with these dependent modes and see if we get to the requested target contrast for which we drew the $\\mu$ in the first place.\n",
    "\n",
    "1. set target contrat in code cell 2 (e.g. `1e-10`)\n",
    "2. set apodizer design in code cell 3 (e.g. `small`)\n",
    "3. comment in correct data path in code cell 3 (e.g. `[...]/2020-01-27T23-57-00_luvoir-small`)"
   ]
  },
  {
   "cell_type": "code",
   "execution_count": null,
   "metadata": {},
   "outputs": [],
   "source": [
    "# Imports\n",
    "import os\n",
    "import numpy as np\n",
    "import matplotlib.pyplot as plt\n",
    "from matplotlib.colors import LogNorm\n",
    "%matplotlib inline\n",
    "from astropy.io import fits\n",
    "import astropy.units as u\n",
    "import hcipy as hc\n",
    "from hcipy.optics.segmented_mirror import SegmentedMirror\n",
    "\n",
    "os.chdir('../../pastis/')\n",
    "import util as util\n",
    "from e2e_simulators.luvoir_imaging import LuvoirAPLC"
   ]
  },
  {
   "cell_type": "code",
   "execution_count": null,
   "metadata": {},
   "outputs": [],
   "source": [
    "c_target = 1e-10\n",
    "nmodes = 120"
   ]
  },
  {
   "cell_type": "markdown",
   "metadata": {},
   "source": [
    "## Instantiate LUVOIR telescope for full functionality"
   ]
  },
  {
   "cell_type": "code",
   "execution_count": null,
   "metadata": {},
   "outputs": [],
   "source": [
    "apodizer_design = 'small'\n",
    "\n",
    "savedpath = '/Users/ilaginja/Documents/data_from_repos/pastis_data/2020-01-27T23-57-00_luvoir-small'\n",
    "#savedpath = '/Users/ilaginja/Documents/data_from_repos/pastis_data/2020-01-28T02-17-18_luvoir-medium'\n",
    "#savedpath = '/Users/ilaginja/Documents/data_from_repos/pastis_data/2020-01-28T04-45-55_luvoir-large'"
   ]
  },
  {
   "cell_type": "code",
   "execution_count": null,
   "metadata": {},
   "outputs": [],
   "source": [
    "# Instantiate LUVOIR\n",
    "sampling = 4\n",
    "# This path is specific to the paths used in the LuvoirAPLC class\n",
    "optics_input = '/Users/ilaginja/Documents/LabWork/ultra/LUVOIR_delivery_May2019/'\n",
    "\n",
    "luvoir = LuvoirAPLC(optics_input, apodizer_design, sampling)"
   ]
  },
  {
   "cell_type": "code",
   "execution_count": null,
   "metadata": {},
   "outputs": [],
   "source": [
    "# Make reference image\n",
    "luvoir.flatten()\n",
    "psf_unaber, ref = luvoir.calc_psf(ref=True)\n",
    "norm = ref.max()"
   ]
  },
  {
   "cell_type": "code",
   "execution_count": null,
   "metadata": {},
   "outputs": [],
   "source": [
    "# Make dark hole\n",
    "dh_outer = hc.circular_aperture(2*luvoir.apod_dict[apodizer_design]['owa'] * luvoir.lam_over_d)(luvoir.focal_det)\n",
    "dh_inner = hc.circular_aperture(2*luvoir.apod_dict[apodizer_design]['iwa'] * luvoir.lam_over_d)(luvoir.focal_det)\n",
    "dh_mask = (dh_outer - dh_inner).astype('bool')\n",
    "\n",
    "plt.figure(figsize=(18, 6))\n",
    "plt.subplot(131)\n",
    "hc.imshow_field(psf_unaber/norm, norm=LogNorm())\n",
    "plt.subplot(132)\n",
    "hc.imshow_field(dh_mask)\n",
    "plt.subplot(133)\n",
    "hc.imshow_field(psf_unaber/norm, norm=LogNorm(), mask=dh_mask)"
   ]
  },
  {
   "cell_type": "code",
   "execution_count": null,
   "metadata": {},
   "outputs": [],
   "source": [
    "dh_intensity = psf_unaber/norm * dh_mask\n",
    "baseline_contrast = util.dh_mean(dh_intensity, dh_mask)\n",
    "#np.mean(dh_intensity[np.where(dh_intensity != 0)])\n",
    "print('Baseline contrast:', baseline_contrast)"
   ]
  },
  {
   "cell_type": "markdown",
   "metadata": {},
   "source": [
    "## Read PASTIS matrix and mode matrix"
   ]
  },
  {
   "cell_type": "code",
   "execution_count": null,
   "metadata": {},
   "outputs": [],
   "source": [
    "# Load PASTIS modes - piston value per segment per mode\n",
    "pastismodes = np.loadtxt(os.path.join(savedpath, 'results', 'pastis_modes.txt'))\n",
    "print('pastismodes.shape: {}'.format(pastismodes.shape))\n",
    "# pastismodes[segs, modes]\n",
    "\n",
    "# Load PASTIS matrix\n",
    "pastismatrix = fits.getdata(os.path.join(savedpath, 'matrix_numerical', 'PASTISmatrix_num_piston_Noll1.fits'))"
   ]
  },
  {
   "cell_type": "code",
   "execution_count": null,
   "metadata": {},
   "outputs": [],
   "source": [
    "# Calculate the inverse of the PASTIS mode matrix\n",
    "# This is ModeToSegs in Mathematica\n",
    "modestosegs = np.linalg.pinv(pastismodes)"
   ]
  },
  {
   "cell_type": "markdown",
   "metadata": {},
   "source": [
    "## Calculate the $\\mu$ map"
   ]
  },
  {
   "cell_type": "code",
   "execution_count": null,
   "metadata": {},
   "outputs": [],
   "source": [
    "# Now calculate all mean contrasts of the pastis modes directly (as-is, with natural normalization)\n",
    "c_avg = []\n",
    "for i in range(nmodes):\n",
    "    c_avg.append(util.pastis_contrast(pastismodes[:,i]*u.nm, pastismatrix) + baseline_contrast)\n",
    "    \n",
    "print(c_avg)"
   ]
  },
  {
   "cell_type": "code",
   "execution_count": null,
   "metadata": {},
   "outputs": [],
   "source": [
    "# Calculate segment requirements\n",
    "mus = np.sqrt(((c_target-baseline_contrast)/nmodes)/(np.dot(c_avg-baseline_contrast, np.square(modestosegs))))\n",
    "print(mus)"
   ]
  },
  {
   "cell_type": "markdown",
   "metadata": {},
   "source": [
    "## Construct $C_y$ by using the $\\mu$ values as standard deviation"
   ]
  },
  {
   "cell_type": "code",
   "execution_count": null,
   "metadata": {},
   "outputs": [],
   "source": [
    "cy = np.diag(np.square(mus))\n",
    "print(cy)"
   ]
  },
  {
   "cell_type": "code",
   "execution_count": null,
   "metadata": {},
   "outputs": [],
   "source": [
    "plt.figure(figsize=(10,10))\n",
    "plt.imshow(cy)\n",
    "plt.title('$C_y$')\n",
    "plt.xlabel('segments')\n",
    "plt.ylabel('segments')\n",
    "plt.colorbar()"
   ]
  },
  {
   "cell_type": "markdown",
   "metadata": {},
   "source": [
    "Check that the mode matrix $U$ (= `pastismodes`) is unitary. `modestosegs` (= $U^{-1}$) is the inverse of `pastismodes` (= $U$).\n",
    "\n",
    "Means, check that $U^T = U^{-1}$"
   ]
  },
  {
   "cell_type": "code",
   "execution_count": null,
   "metadata": {},
   "outputs": [],
   "source": [
    "np.allclose(np.transpose(pastismodes), modestosegs)"
   ]
  },
  {
   "cell_type": "markdown",
   "metadata": {},
   "source": [
    "This means $U$ is unitary.\n",
    "\n",
    "We know that $y = U \\cdot x$ and therefore:\n",
    "\n",
    "$$y = U \\cdot x$$\n",
    "$$C_x = E(x \\cdot x^T)$$\n",
    "$$C_y = E(y \\cdot y^T) = U \\cdot E(x \\cdot x^T) \\cdot U^T$$\n",
    "$$C_y = U \\cdot C_x \\cdot U^T$$\n",
    "\n",
    "Go the other way around:\n",
    "\n",
    "$$x = U^{-1} \\cdot y$$\n",
    "$$C_x = U^{-1} \\cdot C_y \\cdot (U^{-1})^T$$\n",
    "$$C_x = U^{-1} \\cdot C_y \\cdot U$$\n",
    "$$C_x = U^{T} \\cdot C_y \\cdot U$$\n",
    "\n",
    "Now calculate $C_x$ with this."
   ]
  },
  {
   "cell_type": "code",
   "execution_count": null,
   "metadata": {},
   "outputs": [],
   "source": [
    "cx = np.dot(np.transpose(pastismodes), np.dot(cy, pastismodes))"
   ]
  },
  {
   "cell_type": "code",
   "execution_count": null,
   "metadata": {},
   "outputs": [],
   "source": [
    "plt.figure(figsize=(10,10))\n",
    "plt.imshow(cx)\n",
    "plt.title('$C_x$')\n",
    "plt.xlabel('modes')\n",
    "plt.ylabel('modes')\n",
    "plt.colorbar()"
   ]
  },
  {
   "cell_type": "code",
   "execution_count": null,
   "metadata": {},
   "outputs": [],
   "source": [
    "cx_diag = np.sqrt(np.diag(cx))"
   ]
  },
  {
   "cell_type": "code",
   "execution_count": null,
   "metadata": {},
   "outputs": [],
   "source": [
    "plt.plot(cx_diag)"
   ]
  },
  {
   "cell_type": "markdown",
   "metadata": {},
   "source": [
    "We have two bases: modes and segments. Both are equivalent because they are just a change of base.\n",
    "Because there is a linear transform between both, there is a covariance matrix relationship.\n",
    "I you assume non-correlation in one space, there will be correlation in the other space.\n",
    "\n",
    "It's very assymmetric in the sense that when the modes are uncorrelated, the resulting segment distribution is very correlated, see notebook 14/15. Whereas when the segments are uncorrelated, the modes are not quite as correlated as the other way around.\n",
    "\n",
    "This makes sense since already one mode by itself imposes a correlation between all segments (because they have to build that mode)."
   ]
  },
  {
   "cell_type": "code",
   "execution_count": null,
   "metadata": {},
   "outputs": [],
   "source": [
    "cy_backwards = np.dot(pastismodes, np.dot(np.diag(np.diag(cx)), np.transpose(pastismodes)))"
   ]
  },
  {
   "cell_type": "code",
   "execution_count": null,
   "metadata": {},
   "outputs": [],
   "source": [
    "plt.figure(figsize=(10,10))\n",
    "plt.imshow(cy_backwards)\n",
    "plt.title('cy_backwards')\n",
    "plt.xlabel('segment')\n",
    "plt.ylabel('segment')\n",
    "plt.colorbar()"
   ]
  },
  {
   "cell_type": "markdown",
   "metadata": {},
   "source": [
    "Use the diagonal from $C_x$ to build an equivalent of the cumulative target contrast curve, now with this \"optimized\" error budget."
   ]
  },
  {
   "cell_type": "code",
   "execution_count": null,
   "metadata": {},
   "outputs": [],
   "source": [
    "# Calculate cumulative contrast\n",
    "cont_cum_pastis = []\n",
    "for maxmode in range(nmodes):\n",
    "    aber = np.nansum(pastismodes[:, :maxmode+1]*cx_diag[:maxmode+1], axis=1)\n",
    "    aber *= u.nm\n",
    "    \n",
    "    contrast_matrix = util.pastis_contrast(aber, pastismatrix) + baseline_contrast\n",
    "    cont_cum_pastis.append(contrast_matrix)"
   ]
  },
  {
   "cell_type": "code",
   "execution_count": null,
   "metadata": {},
   "outputs": [],
   "source": [
    "plt.figure(figsize=(16, 10))\n",
    "plt.plot(cont_cum_pastis, label='PASTIS matrix')\n",
    "plt.title('Cumulative contrast for target $C$ = ' + str(c_target), size=15)\n",
    "plt.xlabel('Mode number', size=15)\n",
    "plt.ylabel('Constrast', size=15)"
   ]
  },
  {
   "cell_type": "code",
   "execution_count": null,
   "metadata": {},
   "outputs": [],
   "source": [
    "cont_cum_pastis[-1]"
   ]
  },
  {
   "cell_type": "markdown",
   "metadata": {},
   "source": [
    "## Calculate statistical mean contrast\n",
    "\n",
    "We derived\n",
    "\n",
    "$$\\left< c \\right> = tr(C_y M) + c_0,$$\n",
    "\n",
    "where $M$ is the PASTIS matrix, $C_y$ the covariance matrix in segment-space and $c_0$ the coronagraph floor. We want to confirm this.\n",
    "\n",
    "Our $C_y$ that we calculated in this notebook is specifically for the target contrast $c_{target}$, so that's what we want to recover."
   ]
  },
  {
   "cell_type": "code",
   "execution_count": null,
   "metadata": {},
   "outputs": [],
   "source": [
    "print('c_target = {}'.format(c_target))"
   ]
  },
  {
   "cell_type": "code",
   "execution_count": null,
   "metadata": {},
   "outputs": [],
   "source": [
    "mean_c_stat = np.trace(np.matmul(cy, pastismatrix)) + baseline_contrast\n",
    "print('Statistical mean contrast = {}'.format(mean_c_stat))"
   ]
  },
  {
   "cell_type": "markdown",
   "metadata": {},
   "source": [
    "## Calculate variance of statistical mean contrasst\n",
    "\n",
    "($C_y = C_a$)\n",
    "\n",
    "We derived in the paper\n",
    "\n",
    "$$\\langle c(\\mathbf{a})\\rangle = c_0 +  \\sum_p^{n_{modes}} \\lambda_p \\sum_k^{n_{seg}} u'^2_{pk} \\langle a^2_k\\rangle,$$\n",
    "\n",
    "which is equivalent to \n",
    "\n",
    "$$\\langle c(\\mathbf{a})\\rangle = c_0 + tr (U D U^T C_a) = c_0 + tr(M C_a).$$\n",
    "\n",
    "The Monte-Carlo plots in the PASTIS 2020 paper are almost a Gaussian distribution of the contrast $c$. We can calucalte the mean of the distribution, $\\langle c \\rangle$, with the equation above, next we also want to calculate the variance of that distribution, $\\sigma_{c}$.\n",
    "\n",
    "$$\\sigma_c^2 = Var(c_0 + a^T M a) = Var(a^T M a) = 2 tr(M C_a M C_a)$$"
   ]
  },
  {
   "cell_type": "code",
   "execution_count": null,
   "metadata": {},
   "outputs": [],
   "source": [
    "var_new = 2 * np.trace(np.matmul(pastismatrix, np.matmul(cy, (np.matmul(pastismatrix, cy)))))\n",
    "print(var_new)"
   ]
  },
  {
   "cell_type": "code",
   "execution_count": null,
   "metadata": {},
   "outputs": [],
   "source": [
    "std_new = np.sqrt(var_new)\n",
    "print(std_new)"
   ]
  },
  {
   "cell_type": "code",
   "execution_count": null,
   "metadata": {},
   "outputs": [],
   "source": []
  }
 ],
 "metadata": {
  "kernelspec": {
   "display_name": "Python 3",
   "language": "python",
   "name": "python3"
  },
  "language_info": {
   "codemirror_mode": {
    "name": "ipython",
    "version": 3
   },
   "file_extension": ".py",
   "mimetype": "text/x-python",
   "name": "python",
   "nbconvert_exporter": "python",
   "pygments_lexer": "ipython3",
   "version": "3.7.3"
  }
 },
 "nbformat": 4,
 "nbformat_minor": 2
}
