{
 "cells": [
  {
   "cell_type": "markdown",
   "metadata": {},
   "source": [
    "# Comparing HiCAT E2E vs. matrix PASTIS contrast"
   ]
  },
  {
   "cell_type": "code",
   "execution_count": null,
   "metadata": {},
   "outputs": [],
   "source": [
    "from astropy.io import fits\n",
    "import astropy.units as u\n",
    "import matplotlib.pyplot as plt\n",
    "import numpy as np\n",
    "\n",
    "from config import CONFIG_PASTIS\n",
    "from e2e_simulators.hicat_imaging import set_up_hicat\n",
    "import util as util"
   ]
  },
  {
   "cell_type": "code",
   "execution_count": null,
   "metadata": {},
   "outputs": [],
   "source": [
    "nb_seg = CONFIG_PASTIS.getint('HiCAT', 'nb_subapertures')"
   ]
  },
  {
   "cell_type": "code",
   "execution_count": null,
   "metadata": {},
   "outputs": [],
   "source": [
    "# HiCAT direct PSF and normalization\n",
    "hicat = set_up_hicat(apply_continuous_dm_maps=True)\n",
    "hicat.include_fpm = False\n",
    "data = hicat.calc_psf()\n",
    "psf = data[0].data\n",
    "norm = psf.max()\n",
    "print(norm)\n",
    "\n",
    "plt.imshow(np.log(psf))"
   ]
  },
  {
   "cell_type": "code",
   "execution_count": null,
   "metadata": {},
   "outputs": [],
   "source": [
    "# HiCAT coronagraph floor\n",
    "hicat = set_up_hicat(apply_continuous_dm_maps=True)\n",
    "hicat.include_fpm = True\n",
    "data = hicat.calc_psf()\n",
    "coro = data[0].data / norm\n",
    "\n",
    "iwa = CONFIG_PASTIS.getfloat('HiCAT', 'IWA')\n",
    "owa = CONFIG_PASTIS.getfloat('HiCAT', 'OWA')\n",
    "sampling = CONFIG_PASTIS.getfloat('HiCAT', 'sampling')\n",
    "\n",
    "dh_mask = util.create_dark_hole(coro, iwa=iwa, owa=owa, samp=sampling)\n",
    "coro_floor = util.dh_mean(coro, dh_mask)\n",
    "print(f'Coro floor: {coro_floor}')"
   ]
  },
  {
   "cell_type": "code",
   "execution_count": null,
   "metadata": {},
   "outputs": [],
   "source": [
    "# Load the matrix\n",
    "matrix = fits.getdata('/Users/ilaginja/data_from_repos/pastis_data/2020-08-26T11-44-28_hicat/matrix_numerical/PASTISmatrix_num_piston_Noll1.fits')\n",
    "print(matrix.shape)"
   ]
  },
  {
   "cell_type": "code",
   "execution_count": null,
   "metadata": {},
   "outputs": [],
   "source": [
    "plt.imshow(matrix)"
   ]
  },
  {
   "cell_type": "markdown",
   "metadata": {},
   "source": [
    "## Create aberation"
   ]
  },
  {
   "cell_type": "code",
   "execution_count": null,
   "metadata": {},
   "outputs": [],
   "source": [
    "# Create random aberrations normalized to a certain WFE rms value\n",
    "rms_norm = 2 *u.nm\n",
    "print(rms_norm)"
   ]
  },
  {
   "cell_type": "code",
   "execution_count": null,
   "metadata": {},
   "outputs": [],
   "source": [
    "aber = np.random.random([nb_seg]) \n",
    "rms_init = util.rms(aber)\n",
    "aber *= rms_norm.value / rms_init\n",
    "aber *= u.nm\n",
    "print(aber)"
   ]
  },
  {
   "cell_type": "code",
   "execution_count": null,
   "metadata": {},
   "outputs": [],
   "source": [
    "aber -= np.mean(aber)\n",
    "print(aber)"
   ]
  },
  {
   "cell_type": "markdown",
   "metadata": {},
   "source": [
    "## E2E contrast"
   ]
  },
  {
   "cell_type": "code",
   "execution_count": null,
   "metadata": {},
   "outputs": [],
   "source": [
    "# Put aberration on Iris AO and calculate PSF\n",
    "plt.figure(figsize=(12, 10))\n",
    "for nseg in range(nb_seg):\n",
    "    hicat.iris_dm.set_actuator(nseg, aber[nseg], 0, 0)\n",
    "\n",
    "psf_hicat = hicat.calc_psf(display=True, return_intermediates=False)\n",
    "psf_hicat = psf_hicat[0].data / norm"
   ]
  },
  {
   "cell_type": "code",
   "execution_count": null,
   "metadata": {},
   "outputs": [],
   "source": [
    "plt.figure(figsize=(10,10))\n",
    "plt.imshow(np.log10(psf_hicat))\n",
    "plt.colorbar()"
   ]
  },
  {
   "cell_type": "code",
   "execution_count": null,
   "metadata": {},
   "outputs": [],
   "source": [
    "contrast_e2e = util.dh_mean(psf_hicat, dh_mask)\n",
    "print(rms_norm)\n",
    "print(contrast_e2e)"
   ]
  },
  {
   "cell_type": "markdown",
   "metadata": {},
   "source": [
    "## PASTIS contrast"
   ]
  },
  {
   "cell_type": "code",
   "execution_count": null,
   "metadata": {},
   "outputs": [],
   "source": [
    "contrast_pastis = util.pastis_contrast(aber, matrix) + coro_floor\n",
    "print(contrast_pastis)"
   ]
  },
  {
   "cell_type": "code",
   "execution_count": null,
   "metadata": {},
   "outputs": [],
   "source": [
    "print(matrix)"
   ]
  },
  {
   "cell_type": "code",
   "execution_count": null,
   "metadata": {},
   "outputs": [],
   "source": []
  },
  {
   "cell_type": "code",
   "execution_count": null,
   "metadata": {},
   "outputs": [],
   "source": []
  }
 ],
 "metadata": {
  "kernelspec": {
   "display_name": "Python 3",
   "language": "python",
   "name": "python3"
  },
  "language_info": {
   "codemirror_mode": {
    "name": "ipython",
    "version": 3
   },
   "file_extension": ".py",
   "mimetype": "text/x-python",
   "name": "python",
   "nbconvert_exporter": "python",
   "pygments_lexer": "ipython3",
   "version": "3.7.3"
  }
 },
 "nbformat": 4,
 "nbformat_minor": 2
}
