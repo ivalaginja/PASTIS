{
 "cells": [
  {
   "cell_type": "markdown",
   "metadata": {},
   "source": [
    "# Get PASTIS modes\n",
    "\n",
    "## --- LUVOIR A --\n",
    "\n",
    "We will now perform a singular value decomposition (SVD) on the PASTIS matrix to get the PASTIS modes and save them.\n",
    "\n",
    "I started working on the stability calculations in here too, but I will expand on that (and do it properly) in notebook 11."
   ]
  },
  {
   "cell_type": "code",
   "execution_count": null,
   "metadata": {},
   "outputs": [],
   "source": [
    "# Imports\n",
    "import os\n",
    "import numpy as np\n",
    "import matplotlib.pyplot as plt\n",
    "from matplotlib.colors import LogNorm\n",
    "%matplotlib inline\n",
    "from astropy.io import fits\n",
    "import astropy.units as u\n",
    "import hcipy as hc\n",
    "#from hcipy.optics.segmented_mirror import SegmentedMirror\n",
    "\n",
    "os.chdir('../../pastis/')\n",
    "from e2e_simulators.luvoir_imaging_new import LuvoirAPLC"
   ]
  },
  {
   "cell_type": "code",
   "execution_count": null,
   "metadata": {},
   "outputs": [],
   "source": [
    "# Which directory are we working in?\n",
    "savedpath = '/Users/pueyo/Documents/data_from_repos/pastis_data/2020-06-10T19-06-12_luvoir-medium'   # large apodizer LUVOIR"
   ]
  },
  {
   "cell_type": "markdown",
   "metadata": {},
   "source": [
    "## Read the matrix\n",
    "\n",
    "It's your choice wheter you read the analytical or numerical matrix."
   ]
  },
  {
   "cell_type": "code",
   "execution_count": null,
   "metadata": {},
   "outputs": [],
   "source": [
    "savedpath = '/Users/pueyo/Documents/data_from_repos/pastis_data/2020-06-10T19-06-12_luvoir-medium'   # large apodizer LUVOIR\n",
    "matrix = fits.getdata(os.path.join(savedpath, 'matrix_numerical', 'PASTISmatrix_num_Multiple_Modes_MaxZer_4.fits'))\n",
    "\n",
    "plt.figure(figsize=(10, 10))\n",
    "plt.imshow(matrix)\n",
    "plt.colorbar()"
   ]
  },
  {
   "cell_type": "markdown",
   "metadata": {},
   "source": [
    "## Get eigenmodes and eigenvalues\n",
    "\n",
    "We should actually be using an SVD, which I do at the end of this notebook."
   ]
  },
  {
   "cell_type": "code",
   "execution_count": null,
   "metadata": {},
   "outputs": [],
   "source": [
    "evals, evecs = np.linalg.eig(matrix)"
   ]
  },
  {
   "cell_type": "code",
   "execution_count": null,
   "metadata": {},
   "outputs": [],
   "source": [
    "# Hack to use SVD modes instead\n",
    "#evals = s\n",
    "#evecs = u"
   ]
  },
  {
   "cell_type": "code",
   "execution_count": null,
   "metadata": {},
   "outputs": [],
   "source": [
    "print('evals.shape: {}'.format(evals.shape))\n",
    "print('evals:\\n{}'.format(evals))"
   ]
  },
  {
   "cell_type": "code",
   "execution_count": null,
   "metadata": {},
   "outputs": [],
   "source": [
    "print('evecs.shape: {}'.format(evecs.shape))\n",
    "#print('evecs:\\n{}'.format(evecs))"
   ]
  },
  {
   "cell_type": "markdown",
   "metadata": {},
   "source": [
    "Which dimension are the eigenvectors in?\n",
    "\n",
    "We know\n",
    "\n",
    "$$M \\cdot u = \\lambda \\cdot u$$\n",
    "\n",
    "so we can test this."
   ]
  },
  {
   "cell_type": "code",
   "execution_count": null,
   "metadata": {},
   "outputs": [],
   "source": [
    "# Evaluate left and right side of eigenvalue problem for mode number n\n",
    "n = 17\n",
    "\n",
    "left = np.dot(matrix, evals[n])\n",
    "right = np.dot(matrix, evecs[:, n])\n",
    "\n",
    "# Compare them\n",
    "print('Are the left and right side the same:')\n",
    "print(np.allclose(left, right))"
   ]
  },
  {
   "cell_type": "markdown",
   "metadata": {},
   "source": [
    "### Sort from lowest to highest eigenvalue"
   ]
  },
  {
   "cell_type": "code",
   "execution_count": null,
   "metadata": {},
   "outputs": [],
   "source": [
    "# Sort them\n",
    "sorted_evals = np.sort(evals)\n",
    "sorted_indices = np.argsort(evals)\n",
    "sorted_evecs = evecs[:, sorted_indices]\n",
    "\n",
    "print('Sorted evals:')\n",
    "#print(sorted_evals)\n",
    "#np.savetxt(os.path.join(savedpath, 'results', 'eigenvalues.txt'), sorted_evals)\n",
    "#np.savetxt(os.path.join(savedpath, 'results', 'eigenvectors.txt'), sorted_evecs)\n",
    "\n",
    "plt.figure(figsize=(14, 8))\n",
    "#plt.plot(evals, label='Unsorted from eigendecomposition')\n",
    "plt.plot(sorted_evals, label='Sorted lowest to highest evals')\n",
    "plt.semilogy()\n",
    "plt.xlabel('Eigenmodes')\n",
    "plt.ylabel('Log Eigenvalues')\n",
    "plt.legend()\n",
    "#plt.savefig(os.path.join(savedpath, 'results', 'LUVOIR_eigenvals.pdf'))"
   ]
  },
  {
   "cell_type": "markdown",
   "metadata": {},
   "source": [
    "## Mode display\n",
    "\n",
    "Instead of using the `SegmentedTelescopeAPLC` class to display the modes, which would require us to load andn create all the files needed for the APLC propagation, we will simply use a `SegmentedMirror`."
   ]
  },
  {
   "cell_type": "code",
   "execution_count": null,
   "metadata": {},
   "outputs": [],
   "source": [
    "# Load aperture files needed for SM\n",
    "nseg = 120\n",
    "wvln = 638e-9\n",
    "\n",
    "datadir = '/Users/pueyo/PythonPackages/PASTIS/LUVOIR_delivery_May2019/'\n",
    "aper_path = 'inputs/TelAp_LUVOIR_gap_pad01_bw_ovsamp04_N1000.fits'\n",
    "aper_ind_path = 'inputs/TelAp_LUVOIR_gap_pad01_bw_ovsamp04_N1000_indexed.fits'\n",
    "aper_read = hc.read_fits(os.path.join(datadir, aper_path))\n",
    "aper_ind_read = hc.read_fits(os.path.join(datadir, aper_ind_path))\n",
    "\n",
    "pupil_grid = hc.make_pupil_grid(dims=aper_ind_read.shape[0], diameter=15)\n",
    "aper = hc.Field(aper_read.ravel(), pupil_grid)\n",
    "aper_ind = hc.Field(aper_ind_read.ravel(), pupil_grid)\n",
    "\n",
    "wf_aper = hc.Wavefront(aper, wvln)\n",
    "\n",
    "# Load segment positions from fits header\n",
    "hdr = fits.getheader(os.path.join(datadir, aper_ind_path))\n",
    "\n",
    "poslist = []\n",
    "for i in range(nseg):\n",
    "    segname = 'SEG' + str(i+1)\n",
    "    xin = hdr[segname + '_X']\n",
    "    yin = hdr[segname + '_Y']\n",
    "    poslist.append((xin, yin))\n",
    "    \n",
    "poslist = np.transpose(np.array(poslist))\n",
    "seg_pos = hc.CartesianGrid(hc.UnstructuredCoords(poslist))"
   ]
  },
  {
   "cell_type": "code",
   "execution_count": null,
   "metadata": {},
   "outputs": [],
   "source": [
    "# Instantiate LUVOIR\n",
    "sampling = 4\n",
    "apodizer_design = 'medium'\n",
    "# This path is specific to the paths used in the LuvoirAPLC class\n",
    "optics_input = '/Users/pueyo/PythonPackages/PASTIS/LUVOIR_delivery_May2019/'\n",
    "\n",
    "luvoir = LuvoirAPLC(optics_input, apodizer_design, sampling)"
   ]
  },
  {
   "cell_type": "code",
   "execution_count": null,
   "metadata": {},
   "outputs": [],
   "source": [
    "luvoir.make_segment_zernike_primary(4)"
   ]
  },
  {
   "cell_type": "code",
   "execution_count": null,
   "metadata": {},
   "outputs": [],
   "source": [
    "number_of_modes = luvoir.sm.num_actuators"
   ]
  },
  {
   "cell_type": "code",
   "execution_count": null,
   "metadata": {},
   "outputs": [],
   "source": [
    "# Lets compute all modes now for LUVOIR with an HCIPy SM\n",
    "luvoir_modes = []\n",
    "\n",
    "for mode in range(len(evals)):\n",
    "    print('Working on mode {}/{}.'.format(mode+1, len(evals)))\n",
    "    \n",
    "    zernike_coeffs = 0.000000001*sorted_evecs[:, mode]/2\n",
    "    luvoir.sm.actuators = zernike_coeffs\n",
    "    wf_sm = luvoir.sm(luvoir.wf_aper)\n",
    "    luvoir_modes.append(wf_sm.phase)"
   ]
  },
  {
   "cell_type": "markdown",
   "metadata": {},
   "source": [
    "### Saving stuff"
   ]
  },
  {
   "cell_type": "code",
   "execution_count": null,
   "metadata": {},
   "outputs": [],
   "source": [
    "# # Plot them all\n",
    "# pmin = -5e-7\n",
    "# pmax = 5e-7\n",
    "\n",
    "# plt.figure(figsize=(24, 20))\n",
    "# for mode in range(len(evals)):\n",
    "    \n",
    "#     plt.subplot(12, 10, mode+1)\n",
    "#     hc.imshow_field(luvoir_modes[mode], cmap='RdBu')#, vmin=pmin, vmax=pmax)\n",
    "#     #plt.colorbar()\n",
    "#     plt.axis('off')\n",
    "#     plt.title('Mode ' + str(mode+1))\n",
    "    \n",
    "# #plt.savefig(os.path.join(savedpath, 'results', 'LUVOIR_modes_piston.pdf'))"
   ]
  },
  {
   "cell_type": "code",
   "execution_count": null,
   "metadata": {},
   "outputs": [],
   "source": [
    "# Plot them all\n",
    "pmin = -5e-7\n",
    "pmax = 5e-7\n",
    "\n",
    "plt.figure(figsize=(24, 80))\n",
    "for mode in range(len(evals)):\n",
    "    \n",
    "    plt.subplot(48, 10, mode+1)\n",
    "    hc.imshow_field(luvoir_modes[mode], cmap='RdBu')#, vmin=pmin, vmax=pmax)\n",
    "    #plt.colorbar()\n",
    "    plt.axis('off')\n",
    "    plt.title('Mode ' + str(mode+1))\n",
    "    \n",
    "plt.savefig(os.path.join(savedpath, 'results', 'LUVOIR_modes_pttd.pdf'))"
   ]
  },
  {
   "cell_type": "code",
   "execution_count": null,
   "metadata": {},
   "outputs": [],
   "source": []
  }
 ],
 "metadata": {
  "kernelspec": {
   "display_name": "Python 3",
   "language": "python",
   "name": "python3"
  },
  "language_info": {
   "codemirror_mode": {
    "name": "ipython",
    "version": 3
   },
   "file_extension": ".py",
   "mimetype": "text/x-python",
   "name": "python",
   "nbconvert_exporter": "python",
   "pygments_lexer": "ipython3",
   "version": "3.7.3"
  }
 },
 "nbformat": 4,
 "nbformat_minor": 2
}
