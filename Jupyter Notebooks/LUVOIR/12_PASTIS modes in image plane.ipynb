{
 "cells": [
  {
   "cell_type": "markdown",
   "metadata": {},
   "source": [
    "# Working with individual PASTIS modes and their influence on the DZ"
   ]
  },
  {
   "cell_type": "code",
   "execution_count": null,
   "metadata": {},
   "outputs": [],
   "source": [
    "# Imports\n",
    "import os\n",
    "import numpy as np\n",
    "import matplotlib.pyplot as plt\n",
    "from matplotlib.colors import LogNorm\n",
    "%matplotlib inline\n",
    "from astropy.io import fits\n",
    "import astropy.units as u\n",
    "import hcipy as hc\n",
    "from hcipy.optics.segmented_mirror import SegmentedMirror\n",
    "\n",
    "os.chdir('../../pastis/')\n",
    "import util as util\n",
    "from e2e_simulators.luvoir_imaging import LuvoirAPLC"
   ]
  },
  {
   "cell_type": "code",
   "execution_count": null,
   "metadata": {},
   "outputs": [],
   "source": [
    "eunit = 1e-9"
   ]
  },
  {
   "cell_type": "markdown",
   "metadata": {},
   "source": [
    "## Instantiate Segmented mirror for plotting of primary"
   ]
  },
  {
   "cell_type": "code",
   "execution_count": null,
   "metadata": {},
   "outputs": [],
   "source": [
    "# Load aperture files needed for SM\n",
    "nseg = 120\n",
    "wvln = 638e-9\n",
    "\n",
    "datadir = '/Users/ilaginja/Documents/LabWork/ultra/LUVOIR_delivery_May2019/'\n",
    "aper_path = 'inputs/TelAp_LUVOIR_gap_pad01_bw_ovsamp04_N1000.fits'\n",
    "aper_ind_path = 'inputs/TelAp_LUVOIR_gap_pad01_bw_ovsamp04_N1000_indexed.fits'\n",
    "aper_read = hc.read_fits(os.path.join(datadir, aper_path))\n",
    "aper_ind_read = hc.read_fits(os.path.join(datadir, aper_ind_path))\n",
    "\n",
    "pupil_grid = hc.make_pupil_grid(dims=aper_ind_read.shape[0], diameter=15)\n",
    "aper = hc.Field(aper_read.ravel(), pupil_grid)\n",
    "aper_ind = hc.Field(aper_ind_read.ravel(), pupil_grid)\n",
    "\n",
    "wf_aper = hc.Wavefront(aper, wvln)\n",
    "\n",
    "# Load segment positions from fits header\n",
    "hdr = fits.getheader(os.path.join(datadir, aper_ind_path))\n",
    "\n",
    "poslist = []\n",
    "for i in range(nseg):\n",
    "    segname = 'SEG' + str(i+1)\n",
    "    xin = hdr[segname + '_X']\n",
    "    yin = hdr[segname + '_Y']\n",
    "    poslist.append((xin, yin))\n",
    "    \n",
    "poslist = np.transpose(np.array(poslist))\n",
    "seg_pos = hc.CartesianGrid(poslist)"
   ]
  },
  {
   "cell_type": "code",
   "execution_count": null,
   "metadata": {},
   "outputs": [],
   "source": [
    "# Instantiate SM\n",
    "sm = SegmentedMirror(aper_ind, seg_pos)"
   ]
  },
  {
   "cell_type": "markdown",
   "metadata": {},
   "source": [
    "## Instantiate LUVOIR telescope for full functionality"
   ]
  },
  {
   "cell_type": "code",
   "execution_count": null,
   "metadata": {},
   "outputs": [],
   "source": [
    "# Instantiate LUVOIR\n",
    "sampling = 4\n",
    "apodizer_design = 'small'\n",
    "# This path is specific to the paths used in the LuvoirAPLC class\n",
    "optics_input = '/Users/ilaginja/Documents/LabWork/ultra/LUVOIR_delivery_May2019/'\n",
    "\n",
    "luvoir = LuvoirAPLC(optics_input, apodizer_design, sampling)"
   ]
  },
  {
   "cell_type": "code",
   "execution_count": null,
   "metadata": {},
   "outputs": [],
   "source": [
    "# Make reference image\n",
    "luvoir.flatten()\n",
    "psf_unaber, ref = luvoir.calc_psf(ref=True)\n",
    "norm = ref.max()"
   ]
  },
  {
   "cell_type": "code",
   "execution_count": null,
   "metadata": {},
   "outputs": [],
   "source": [
    "# Make dark hole\n",
    "dh_outer = hc.circular_aperture(2*luvoir.apod_dict[apodizer_design]['owa'] * luvoir.lam_over_d)(luvoir.focal_det)\n",
    "dh_inner = hc.circular_aperture(2*luvoir.apod_dict[apodizer_design]['iwa'] * luvoir.lam_over_d)(luvoir.focal_det)\n",
    "dh_mask = (dh_outer - dh_inner).astype('bool')\n",
    "\n",
    "plt.figure(figsize=(18, 6))\n",
    "plt.subplot(131)\n",
    "hc.imshow_field(psf_unaber/norm, norm=LogNorm())\n",
    "plt.subplot(132)\n",
    "hc.imshow_field(dh_mask)\n",
    "plt.subplot(133)\n",
    "hc.imshow_field(psf_unaber/norm, norm=LogNorm(), mask=dh_mask)"
   ]
  },
  {
   "cell_type": "code",
   "execution_count": null,
   "metadata": {},
   "outputs": [],
   "source": [
    "dh_intensity = psf_unaber/norm * dh_mask\n",
    "baseline_contrast = np.mean(dh_intensity[np.where(dh_intensity != 0)])\n",
    "print('contrast:', baseline_contrast)"
   ]
  },
  {
   "cell_type": "code",
   "execution_count": null,
   "metadata": {},
   "outputs": [],
   "source": [
    "# Which directory are we working in?\n",
    "savedpath = '/Users/ilaginja/Documents/data_from_repos/pastis_data/2020-01-14T09-34-04_luvoir-small'\n",
    "#savedpath = '/Users/ilaginja/Documents/data_from_repos/pastis_data/2020-01-14T11-52-59_luvoir-medium'\n",
    "\n",
    "# Load eigenvalues - lowest first, highest at the end\n",
    "evals = np.loadtxt(os.path.join(savedpath, 'results', 'eigenvalues.txt'))\n",
    "print('evals.shape: {}'.format(evals.shape))\n",
    "\n",
    "# Load eigenmodes - piston value per segment per mode\n",
    "emodes = np.loadtxt(os.path.join(savedpath, 'results', 'pastis_modes.txt'))\n",
    "print('emodes.shape: {}'.format(emodes.shape))"
   ]
  },
  {
   "cell_type": "code",
   "execution_count": null,
   "metadata": {},
   "outputs": [],
   "source": [
    "mode = 72   # We start numbering at 0 here, 0-35 (Python nunmbering!)\n",
    "\n",
    "sm.flatten()\n",
    "for seg, val in enumerate(emodes[:, mode]):\n",
    "    #print(val)\n",
    "    sm.set_segment(seg+1, eunit*val/2, 0, 0)\n",
    "\n",
    "# Propagate WF and display SM phase\n",
    "wf_sm = sm(wf_aper)\n",
    "\n",
    "hc.imshow_field(wf_sm.phase, cmap='RdBu')\n",
    "plt.colorbar()"
   ]
  },
  {
   "cell_type": "code",
   "execution_count": null,
   "metadata": {},
   "outputs": [],
   "source": [
    "# its singular values:\n",
    "print(evals[mode])"
   ]
  },
  {
   "cell_type": "code",
   "execution_count": null,
   "metadata": {},
   "outputs": [],
   "source": [
    "lam_p = evals[mode]\n",
    "c = 1e-10 - baseline_contrast\n",
    "sigma_p = np.sqrt(c/lam_p)\n",
    "print(sigma_p)"
   ]
  },
  {
   "cell_type": "code",
   "execution_count": null,
   "metadata": {},
   "outputs": [],
   "source": [
    "opd = emodes[:, mode] * sigma_p\n",
    "rms = np.sqrt(np.mean(np.square(opd)) - np.square(np.mean(opd)))\n",
    "print(np.std(opd))"
   ]
  },
  {
   "cell_type": "code",
   "execution_count": null,
   "metadata": {},
   "outputs": [],
   "source": [
    "luvoir.flatten()\n",
    "for seg, val in enumerate(opd):\n",
    "    luvoir.set_segment(seg+1, eunit*val/2, 0, 0)\n",
    "\n",
    "# Get PSF from putting this OPD on the SM\n",
    "psf = luvoir.calc_psf()\n",
    "\n",
    "# Calculate the contrast from that PSF\n",
    "dh_intensity = psf/norm * dh_mask\n",
    "contrast = np.mean(dh_intensity[np.where(dh_mask != 0)])\n",
    "print(contrast)\n",
    "\n",
    "hc.imshow_field(np.log10(psf))"
   ]
  },
  {
   "cell_type": "code",
   "execution_count": null,
   "metadata": {},
   "outputs": [],
   "source": [
    "print(opd)\n",
    "print(emodes[:, mode])"
   ]
  },
  {
   "cell_type": "markdown",
   "metadata": {},
   "source": [
    "Taking out the bit that calculates the cumulative contrast curve and doing it for an individual mode only:"
   ]
  },
  {
   "cell_type": "code",
   "execution_count": null,
   "metadata": {},
   "outputs": [],
   "source": [
    "# Matrix\n",
    "maxmode = mode\n",
    "matrix = fits.getdata(os.path.join(savedpath, 'matrix_numerical', 'PASTISmatrix_num_piston_Noll1.fits'))\n",
    "print(os.path.join(savedpath, 'matrix_numerical', 'PASTISmatrix_num_piston_Noll1.fits'))\n",
    "\n",
    "aber = emodes[:, maxmode] * sigma_p\n",
    "aber *= u.nm\n",
    "\n",
    "contrast_matrix = util.pastis_contrast(aber, matrix) + baseline_contrast\n",
    "print(contrast_matrix)"
   ]
  },
  {
   "cell_type": "code",
   "execution_count": null,
   "metadata": {},
   "outputs": [],
   "source": [
    "# E2E\n",
    "opd = emodes[:, maxmode] * sigma_p\n",
    "\n",
    "luvoir.flatten()\n",
    "for seg, val in enumerate(opd):\n",
    "    #val *= u.nm    # the LUVOIR modes come out in units of nanometers\n",
    "    #luvoir.set_segment(seg + 1, val.to(u.m).value/2, 0, 0)\n",
    "    luvoir.set_segment(seg + 1, val*eunit/2, 0, 0)\n",
    "\n",
    "# Get PSF from putting this OPD on the SM\n",
    "psf, ref = luvoir.calc_psf(ref=True)\n",
    "#norm = ref.max()\n",
    "\n",
    "# Calculate the contrast from that PSF\n",
    "contrast_e2e = util.dh_mean(psf/norm, dh_mask)\n",
    "contrast_weird_ref = util.dh_mean(psf/ref.max(), dh_mask)\n",
    "print(contrast_e2e)\n",
    "print(contrast_weird_ref)"
   ]
  },
  {
   "cell_type": "markdown",
   "metadata": {},
   "source": [
    "Now using a mode * sigma_p and putting it into the hockeystick curve generation since that one actually told us that a M a and E2E are the same, bu the above cells say they're not."
   ]
  },
  {
   "cell_type": "code",
   "execution_count": null,
   "metadata": {},
   "outputs": [],
   "source": [
    "# E2E\n",
    "luvoir.flatten()\n",
    "for nseg in range(120):\n",
    "    luvoir.set_segment(nseg+1, opd[nseg]*eunit/2, 0, 0)\n",
    "\n",
    "psf_luvoir = luvoir.calc_psf()\n",
    "psf_luvoir /= norm\n",
    "\n",
    "# Create DH\n",
    "dh_outer = hc.circular_aperture(2 * luvoir.apod_dict[apodizer_design]['owa'] * luvoir.lam_over_d)(luvoir.focal_det)\n",
    "dh_inner = hc.circular_aperture(2 * luvoir.apod_dict[apodizer_design]['iwa'] * luvoir.lam_over_d)(luvoir.focal_det)\n",
    "dh_mask = (dh_outer - dh_inner).astype('bool')\n",
    "\n",
    "# Get the mean contrast\n",
    "dh_intensity = psf_luvoir * dh_mask\n",
    "contrast_luvoir = np.mean(dh_intensity[np.where(dh_intensity != 0)])\n",
    "\n",
    "print(contrast_luvoir)"
   ]
  },
  {
   "cell_type": "code",
   "execution_count": null,
   "metadata": {},
   "outputs": [],
   "source": [
    "# Matrix\n",
    "contrast_matrix = util.pastis_contrast(opd*u.nm, matrix) + baseline_contrast\n",
    "print(contrast_matrix)"
   ]
  },
  {
   "cell_type": "code",
   "execution_count": null,
   "metadata": {},
   "outputs": [],
   "source": [
    "print(np.std(opd))"
   ]
  },
  {
   "cell_type": "code",
   "execution_count": null,
   "metadata": {},
   "outputs": [],
   "source": []
  },
  {
   "cell_type": "code",
   "execution_count": null,
   "metadata": {},
   "outputs": [],
   "source": [
    "a = 1e-10/120\n",
    "print(a)"
   ]
  },
  {
   "cell_type": "code",
   "execution_count": null,
   "metadata": {},
   "outputs": [],
   "source": [
    "b = a + baseline_contrast\n",
    "print(b)"
   ]
  },
  {
   "cell_type": "markdown",
   "metadata": {},
   "source": [
    "Check the RMS and PtV of the modes:"
   ]
  },
  {
   "cell_type": "code",
   "execution_count": null,
   "metadata": {},
   "outputs": [],
   "source": [
    "# Read full image modes\n",
    "modes_im = fits.getdata(os.path.join(savedpath, 'results', 'modes', 'fits', 'cube_modes.fits'))"
   ]
  },
  {
   "cell_type": "code",
   "execution_count": null,
   "metadata": {},
   "outputs": [],
   "source": [
    "plt.imshow(modes_im[78])"
   ]
  },
  {
   "cell_type": "code",
   "execution_count": null,
   "metadata": {},
   "outputs": [],
   "source": [
    "rms = []\n",
    "ptv = []\n",
    "for i in range(119):\n",
    "    rms_this = np.std(emodes[:, i])\n",
    "    ptv_this = np.ptp(emodes[:, i])\n",
    "    rms.append(rms_this)\n",
    "    ptv.append(ptv_this)"
   ]
  },
  {
   "cell_type": "code",
   "execution_count": null,
   "metadata": {},
   "outputs": [],
   "source": [
    "rms_im = []\n",
    "ptv_im = []\n",
    "for i in range(119):\n",
    "    rms_this = np.std(modes_im[i] * luvoir.apod.shaped)\n",
    "    ptv_this = np.ptp(modes_im[i] * luvoir.apod.shaped)\n",
    "    rms_im.append(rms_this)\n",
    "    ptv_im.append(ptv_this)"
   ]
  },
  {
   "cell_type": "code",
   "execution_count": null,
   "metadata": {},
   "outputs": [],
   "source": [
    "plt.plot(rms, label='rms')\n",
    "plt.plot(ptv, label='ptv')\n",
    "plt.plot(rms_im)\n",
    "plt.plot(ptv_im)\n",
    "plt.legend()"
   ]
  },
  {
   "cell_type": "code",
   "execution_count": null,
   "metadata": {},
   "outputs": [],
   "source": [
    "print(rms)"
   ]
  },
  {
   "cell_type": "code",
   "execution_count": null,
   "metadata": {},
   "outputs": [],
   "source": [
    "print(ptv[117])"
   ]
  },
  {
   "cell_type": "code",
   "execution_count": null,
   "metadata": {},
   "outputs": [],
   "source": []
  }
 ],
 "metadata": {
  "kernelspec": {
   "display_name": "Python 3",
   "language": "python",
   "name": "python3"
  },
  "language_info": {
   "codemirror_mode": {
    "name": "ipython",
    "version": 3
   },
   "file_extension": ".py",
   "mimetype": "text/x-python",
   "name": "python",
   "nbconvert_exporter": "python",
   "pygments_lexer": "ipython3",
   "version": "3.7.3"
  }
 },
 "nbformat": 4,
 "nbformat_minor": 2
}
