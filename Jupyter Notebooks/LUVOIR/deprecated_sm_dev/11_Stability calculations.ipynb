{
 "cells": [
  {
   "cell_type": "markdown",
   "metadata": {},
   "source": [
    "# Stability calculations\n",
    "\n",
    "## -- LUVOIR --\n",
    "\n",
    "In notebook 10, we calculated the PASTIS modes for all three currently designed apodizers for the LUVOIR A pupil. In this notebook, we will load the modes and calculate the maximum mode contributions $\\sigma$ and strability requirements $\\Delta \\sigma$."
   ]
  },
  {
   "cell_type": "code",
   "execution_count": null,
   "metadata": {},
   "outputs": [],
   "source": [
    "# Imports\n",
    "import os\n",
    "import numpy as np\n",
    "import matplotlib.pyplot as plt\n",
    "from matplotlib.colors import LogNorm\n",
    "%matplotlib inline\n",
    "from astropy.io import fits\n",
    "import astropy.units as u\n",
    "import hcipy as hc"
   ]
  },
  {
   "cell_type": "markdown",
   "metadata": {},
   "source": [
    "<span style=\"color:red\"> *** Careful: *** </span>\n",
    "\n",
    "**The segmented mirror in this notebook is based on the `hcipy` commit `980f39c` specifically. The SegmentedMirror (now: SegmentedDeformableMirror) class has seen major upgrades, so this notebook is out of date with the hcipy master branch. However, if you check out said notebook, it should work fine.**\n",
    "\n",
    "**You should also be on the PASTIS commit `caf29ad`.**"
   ]
  },
  {
   "cell_type": "code",
   "execution_count": null,
   "metadata": {},
   "outputs": [],
   "source": [
    "from hcipy.optics.segmented_mirror import SegmentedMirror\n",
    "\n",
    "os.chdir('../../pastis/')\n",
    "from luvoir_imaging import LuvoirAPLC"
   ]
  },
  {
   "cell_type": "markdown",
   "metadata": {},
   "source": [
    "## Instantiate a simple SM for mode plotting\n",
    "\n",
    "I need to simplify this... I can make a child class like I did for the full LUVOIR simulator."
   ]
  },
  {
   "cell_type": "code",
   "execution_count": null,
   "metadata": {},
   "outputs": [],
   "source": [
    "# Load aperture files needed for SM\n",
    "nseg = 120\n",
    "wvln = 638e-9\n",
    "\n",
    "datadir = '/Users/ilaginja/Documents/LabWork/ultra/LUVOIR_delivery_May2019/'\n",
    "aper_path = 'inputs/TelAp_LUVOIR_gap_pad01_bw_ovsamp04_N1000.fits'\n",
    "aper_ind_path = 'inputs/TelAp_LUVOIR_gap_pad01_bw_ovsamp04_N1000_indexed.fits'\n",
    "aper_read = hc.read_fits(os.path.join(datadir, aper_path))\n",
    "aper_ind_read = hc.read_fits(os.path.join(datadir, aper_ind_path))\n",
    "\n",
    "pupil_grid = hc.make_pupil_grid(dims=aper_ind_read.shape[0], diameter=15)\n",
    "aper = hc.Field(aper_read.ravel(), pupil_grid)\n",
    "aper_ind = hc.Field(aper_ind_read.ravel(), pupil_grid)\n",
    "\n",
    "wf_aper = hc.Wavefront(aper, wvln)\n",
    "\n",
    "# Load segment positions from fits header\n",
    "hdr = fits.getheader(os.path.join(datadir, aper_ind_path))\n",
    "\n",
    "poslist = []\n",
    "for i in range(nseg):\n",
    "    segname = 'SEG' + str(i+1)\n",
    "    xin = hdr[segname + '_X']\n",
    "    yin = hdr[segname + '_Y']\n",
    "    poslist.append((xin, yin))\n",
    "    \n",
    "poslist = np.transpose(np.array(poslist))\n",
    "seg_pos = hc.CartesianGrid(poslist)"
   ]
  },
  {
   "cell_type": "code",
   "execution_count": null,
   "metadata": {},
   "outputs": [],
   "source": [
    "# Instantiate SM\n",
    "sm = SegmentedMirror(aper_ind, seg_pos)"
   ]
  },
  {
   "cell_type": "markdown",
   "metadata": {},
   "source": [
    "## Mode and eigenvalue units\n",
    "\n",
    "Since the matrices got generated normalized to an aberration of 1 nm, everything stemming from the matrix will be in units of **nanometers**. --> This is the desired behaviour of course and is yet to be confirmed, which is one of the goals of this notebook."
   ]
  },
  {
   "cell_type": "code",
   "execution_count": null,
   "metadata": {},
   "outputs": [],
   "source": [
    "eunit = 1e-9"
   ]
  },
  {
   "cell_type": "markdown",
   "metadata": {},
   "source": [
    "## Also instantiate a LUVOR telescope\n",
    "\n",
    "For cumulative contrast calculation.\n",
    "\n",
    "> **ATTENTION:** the variable `apodizer_design` has to be correct for the data we are reading with the variable `savedpath` further below!!!"
   ]
  },
  {
   "cell_type": "code",
   "execution_count": null,
   "metadata": {},
   "outputs": [],
   "source": [
    "# Instantiate LUVOIR\n",
    "sampling = 4\n",
    "apodizer_design = 'small'\n",
    "# This path is specific to the paths used in the LuvoirAPLC class\n",
    "optics_input = '/Users/ilaginja/Documents/LabWork/ultra/LUVOIR_delivery_May2019/'\n",
    "\n",
    "luvoir = LuvoirAPLC(optics_input, apodizer_design, sampling)"
   ]
  },
  {
   "cell_type": "code",
   "execution_count": null,
   "metadata": {},
   "outputs": [],
   "source": [
    "# Make reference image\n",
    "luvoir.flatten()\n",
    "psf, ref = luvoir.calc_psf(ref=True)\n",
    "norm = ref.max()"
   ]
  },
  {
   "cell_type": "code",
   "execution_count": null,
   "metadata": {},
   "outputs": [],
   "source": [
    "# Make dark hole\n",
    "dh_outer = hc.circular_aperture(2*luvoir.apod_dict[apodizer_design]['owa'] * luvoir.lam_over_d)(luvoir.focal_det)\n",
    "dh_inner = hc.circular_aperture(2*luvoir.apod_dict[apodizer_design]['iwa'] * luvoir.lam_over_d)(luvoir.focal_det)\n",
    "dh_mask = (dh_outer - dh_inner).astype('bool')\n",
    "\n",
    "plt.figure(figsize=(18, 6))\n",
    "plt.subplot(131)\n",
    "hc.imshow_field(psf/norm, norm=LogNorm())\n",
    "plt.subplot(132)\n",
    "hc.imshow_field(dh_mask)\n",
    "plt.subplot(133)\n",
    "hc.imshow_field(psf/norm, norm=LogNorm(), mask=dh_mask)"
   ]
  },
  {
   "cell_type": "code",
   "execution_count": null,
   "metadata": {},
   "outputs": [],
   "source": [
    "dh_intensity = psf/norm * dh_mask\n",
    "baseline_contrast = np.mean(dh_intensity[np.where(dh_intensity != 0)])\n",
    "print('contrast:', baseline_contrast)"
   ]
  },
  {
   "cell_type": "markdown",
   "metadata": {},
   "source": [
    "## Read eigenmodes and eigenvalues"
   ]
  },
  {
   "cell_type": "code",
   "execution_count": null,
   "metadata": {},
   "outputs": [],
   "source": [
    "# Which directory are we working in?\n",
    "savedpath = '/Users/ilaginja/Documents/data_from_repos/pastis_data/2019-5-31_002_1nm'\n",
    "\n",
    "# Load eigenvalues - lowest first, highest at the end\n",
    "evals = np.loadtxt(os.path.join(savedpath, 'results', 'eigenvalues.txt'))\n",
    "print('evals.shape: {}'.format(evals.shape))\n",
    "\n",
    "# Load eigenmodes - piston value per segment per mode\n",
    "emodes = np.loadtxt(os.path.join(savedpath, 'results', 'eigenvectors.txt'))\n",
    "print('emodes.shape: {}'.format(emodes.shape))\n",
    "\n",
    "# Load eigenmodes (just for plotting) - mode images\n",
    "epics = hc.read_fits(os.path.join(savedpath, 'results', 'modes', 'fits', 'cube_modes.fits'))\n",
    "print('emodes.shape: {}'.format(epics.shape))"
   ]
  },
  {
   "cell_type": "markdown",
   "metadata": {},
   "source": [
    "Check that eigenmodes are in correct order and how to address them in the data cube."
   ]
  },
  {
   "cell_type": "code",
   "execution_count": null,
   "metadata": {},
   "outputs": [],
   "source": [
    "mode = -1   # We start numbering at 0 here, 0-35 (Python nunmbering!)\n",
    "\n",
    "sm.flatten()\n",
    "for seg, val in enumerate(emodes[:, mode]):\n",
    "    #print(val)\n",
    "    sm.set_segment(seg+1, eunit*val/2, 0, 0)\n",
    "\n",
    "# Propagate WF and display SM phase\n",
    "wf_sm = sm(wf_aper)\n",
    "\n",
    "hc.imshow_field(wf_sm.phase, cmap='RdBu')\n",
    "plt.colorbar()"
   ]
  },
  {
   "cell_type": "markdown",
   "metadata": {},
   "source": [
    "So we have `emodes[segments, modes]`."
   ]
  },
  {
   "cell_type": "markdown",
   "metadata": {},
   "source": [
    "## Stability requirements\n",
    "\n",
    "### Static contrast and static contribution\n",
    "\n",
    "According to Lucie's paper, we can get the maximum aberration $\\sigma_p$ we can allow per mode $p$ if we want to obtain a contrast $C$ directly from the according eigenvalue $\\lambda_p$.\n",
    "\n",
    "$$\\sigma_p = \\sqrt{\\frac{C_p}{\\lambda_p}}$$\n",
    "\n",
    "Where $C_p$ is the contrast contribution from mode $p$ only. For simplicity, we assume that all modes have the same contribution to the total contrast $C$, meaning\n",
    "\n",
    "$$C = C_1 + C_2 + ... + C_N$$\n",
    "\n",
    "with $N$ being the total number of modes. This also means\n",
    "\n",
    "$$C_p = \\frac{C}{N}$$\n",
    "\n",
    "Since we have one mode that has a really low eigenvalue and essentially on contribution, we can take that mode out and assume that the other $N-1$ modes bear all the contrast contributions, changing it to\n",
    "\n",
    "$$C_p = C_1 + C_2 + ... + C_{N-1}$$\n",
    "\n",
    "and\n",
    "\n",
    "$$C_p = \\frac{C}{N-1}$$\n",
    "\n",
    "So we can calculate the maximum ocntribution of a mode $\\sigma_p$ with\n",
    "\n",
    "$$\\sigma_p = \\sqrt{\\frac{C}{(N-1)\\lambda_p}}$$\n",
    "\n",
    "We have 120 segments, so $N=120$ and we will aim to achieve a static contrast of $C = 10^{-10}$.\n",
    "\n",
    "Note how we start numbering at 1 here, to stay consistent with our segment numbering, but when doing these things in Python we need to start numbering at 0.\n",
    "\n",
    "Skype with Lucie, have to include baselin contrast $C_0$:\n",
    "\n",
    "$$\\sigma_p = \\sqrt{\\frac{C-C_0}{(N-1)\\lambda_p}}$$"
   ]
  },
  {
   "cell_type": "code",
   "execution_count": null,
   "metadata": {},
   "outputs": [],
   "source": [
    "c_stat = 1e-10\n",
    "print('Static contrast: {}'.format(c_stat))\n",
    "print('N = {}'.format(nseg))"
   ]
  },
  {
   "cell_type": "code",
   "execution_count": null,
   "metadata": {},
   "outputs": [],
   "source": [
    "# Calculate single sigma - remember that we start numbering at 0 because of python\n",
    "def get_sigma(cstat, nseg, eigenval, c_zero):\n",
    "    sigma = np.sqrt((cstat - c_zero) / ((nseg-1)*eigenval))\n",
    "    return sigma"
   ]
  },
  {
   "cell_type": "code",
   "execution_count": null,
   "metadata": {},
   "outputs": [],
   "source": [
    "p = 1\n",
    "sigma_p = get_sigma(c_stat, nseg, evals[p], baseline_contrast)\n",
    "print(sigma_p)"
   ]
  },
  {
   "cell_type": "code",
   "execution_count": null,
   "metadata": {},
   "outputs": [],
   "source": [
    "# Do them all at once\n",
    "sigmas = get_sigma(c_stat, nseg, evals, baseline_contrast)\n",
    "print(sigmas)"
   ]
  },
  {
   "cell_type": "code",
   "execution_count": null,
   "metadata": {},
   "outputs": [],
   "source": [
    "plt.plot(sigmas)\n",
    "plt.title('Constraints per mode')\n",
    "plt.xlabel('Mode')\n",
    "plt.ylabel('Max mode contribution $\\sigma_p$ (nm)')"
   ]
  },
  {
   "cell_type": "markdown",
   "metadata": {},
   "source": [
    "### Dynamic contast and dynamic contribution\n",
    "\n",
    "We want $\\Delta C = 10^{-11}$. This \"dynamic contast\" is the error on the contrast $C$ which we want to limit, so we write it as\n",
    "\n",
    "$$\\Delta C = \\sqrt{\\Delta C_1^2 + \\Delta C_2^2 + ... \\Delta C_N^2} = \\sqrt{N \\Delta C_p^2} = \\sqrt{N} \\Delta C_p$$\n",
    "\n",
    "which also means\n",
    "\n",
    "$$\\Delta C_p = \\frac{C}{\\sqrt{N}}$$\n",
    "\n",
    "and then again because we discard that non-contributing mode, we actually have\n",
    "\n",
    "$$\\Delta C_p = \\frac{C}{\\sqrt{N-1}}$$\n",
    "\n",
    "For the $\\Delta \\sigma_p$ we can use the same equation like for the $\\sigma_p$, but we plug in $\\Delta C$ instead of $C$.\n",
    "\n",
    "$$\\Delta \\sigma_p = \\sqrt{\\frac{\\Delta C}{\\lambda_p}} = \\sqrt{\\frac{\\Delta C}{\\sqrt{(N-1)}\\ \\lambda_p}}$$"
   ]
  },
  {
   "cell_type": "code",
   "execution_count": null,
   "metadata": {},
   "outputs": [],
   "source": [
    "c_dyn = 1e-10\n",
    "\n",
    "# Calculate the Delta Cs\n",
    "def get_delta_sigma(cdyn, nseg, eigenval):\n",
    "    del_sigma = np.sqrt(cdyn / (np.sqrt(nseg-1)*eigenval))\n",
    "    return del_sigma"
   ]
  },
  {
   "cell_type": "code",
   "execution_count": null,
   "metadata": {},
   "outputs": [],
   "source": [
    "del_sigmas = get_delta_sigma(c_dyn, nseg, evals)\n",
    "print(del_sigmas)"
   ]
  },
  {
   "cell_type": "code",
   "execution_count": null,
   "metadata": {},
   "outputs": [],
   "source": [
    "plt.plot(del_sigmas)\n",
    "plt.title('Stability per mode')\n",
    "plt.xlabel('Mode')\n",
    "plt.ylabel('Max mode contribution $\\Delta \\sigma_p$ (nm)')"
   ]
  },
  {
   "cell_type": "markdown",
   "metadata": {},
   "source": [
    "These are only slightly larger than theh $\\sigma_p$.\n",
    "\n",
    "### Cumulative contrast plot\n",
    "\n",
    "I guess the only way I can think of right now to verify at least the $\\sigma_p$ is to make the same cumulative contrast like Fig. 11b in Lucie's paper. Let's do that."
   ]
  },
  {
   "cell_type": "markdown",
   "metadata": {},
   "source": [
    "Since I never get rid of the first mode, global piston with a ridiculously low eigenvalue, I will have a `Nan` in the sigma array, so when I sum up the OPD, I have to use `numpy.nansum()` instead of `numpy.nan()`."
   ]
  },
  {
   "cell_type": "code",
   "execution_count": null,
   "metadata": {},
   "outputs": [],
   "source": [
    "cont_cuml = []\n",
    "for maxmode in range(len(evals)):\n",
    "\n",
    "    opd = np.nansum(emodes[:, :maxmode+1]*sigmas[:maxmode+1], axis=1)\n",
    "\n",
    "    luvoir.flatten()\n",
    "    for seg, val in enumerate(opd):\n",
    "        luvoir.set_segment(seg+1, eunit*val/2, 0, 0)\n",
    "        \n",
    "    # Get PSF from putting this OPD on the SM\n",
    "    psf = luvoir.calc_psf()\n",
    "\n",
    "    # Calculate the contrast from that PSF\n",
    "    dh_intensity = psf/norm * dh_mask\n",
    "    contrast = np.mean(dh_intensity[np.where(dh_intensity != 0)])\n",
    "    cont_cuml.append(contrast)"
   ]
  },
  {
   "cell_type": "code",
   "execution_count": null,
   "metadata": {},
   "outputs": [],
   "source": [
    "# Just having a look at the last PSF from that loop above\n",
    "#hc.imshow_field(np.log10(psf))"
   ]
  },
  {
   "cell_type": "code",
   "execution_count": null,
   "metadata": {},
   "outputs": [],
   "source": [
    "# Plot the cumulative contrast\n",
    "plt.plot(cont_cuml)\n",
    "plt.title('Cumulative contrast for target $C$ = ' + str(c_stat))"
   ]
  },
  {
   "cell_type": "markdown",
   "metadata": {},
   "source": [
    "Sweeeeeet!!! :D I realized today that I have been using the medium apodizer design all along, but then remembered that form the three LUVOIR APLC designs, only the small one had a good accordance of its contrast calculation with the matrix compared with the E2E simulation - the medium and large designs still have a constant offset that I haven't figured out. So when I reverted back to using the small design, this essentially fell out of the sky haha."
   ]
  },
  {
   "cell_type": "markdown",
   "metadata": {},
   "source": [
    "## Mode rms\n",
    "\n",
    "Let's check whether the  modes are normalized to the correct overall rms and if not, what their units are."
   ]
  },
  {
   "cell_type": "code",
   "execution_count": null,
   "metadata": {},
   "outputs": [],
   "source": [
    "rms_modes = []\n",
    "for mod in range(len(evals)):\n",
    "    rms = np.std(emodes[:, mod])\n",
    "    rms_modes.append(rms)"
   ]
  },
  {
   "cell_type": "code",
   "execution_count": null,
   "metadata": {},
   "outputs": [],
   "source": [
    "rms_modes"
   ]
  },
  {
   "cell_type": "markdown",
   "metadata": {},
   "source": [
    "They're off by a factor of 10. Or do I have to multipy them by their sigmas?"
   ]
  },
  {
   "cell_type": "code",
   "execution_count": null,
   "metadata": {},
   "outputs": [],
   "source": [
    "# Plot the RMS per mode, excluding first, global piston mode\n",
    "plt.plot(rms_modes[1:])"
   ]
  },
  {
   "cell_type": "code",
   "execution_count": null,
   "metadata": {},
   "outputs": [],
   "source": [
    "rms_sigma = []\n",
    "for mod in range(len(evals)):\n",
    "    rms = np.std(emodes[:, mod] * sigmas[mod])\n",
    "    rms_sigma.append(rms)"
   ]
  },
  {
   "cell_type": "code",
   "execution_count": null,
   "metadata": {},
   "outputs": [],
   "source": [
    "rms_sigma"
   ]
  },
  {
   "cell_type": "markdown",
   "metadata": {},
   "source": [
    "Nope, definitely not."
   ]
  }
 ],
 "metadata": {
  "kernelspec": {
   "display_name": "Python 3",
   "language": "python",
   "name": "python3"
  },
  "language_info": {
   "codemirror_mode": {
    "name": "ipython",
    "version": 3
   },
   "file_extension": ".py",
   "mimetype": "text/x-python",
   "name": "python",
   "nbconvert_exporter": "python",
   "pygments_lexer": "ipython3",
   "version": "3.7.2"
  }
 },
 "nbformat": 4,
 "nbformat_minor": 2
}
