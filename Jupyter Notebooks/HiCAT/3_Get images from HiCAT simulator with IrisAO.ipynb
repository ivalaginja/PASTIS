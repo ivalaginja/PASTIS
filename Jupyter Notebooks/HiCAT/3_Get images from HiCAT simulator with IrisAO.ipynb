{
 "cells": [
  {
   "cell_type": "markdown",
   "metadata": {},
   "source": [
    "# Getting images from HiCAT simulator and controlling the IrisAO"
   ]
  },
  {
   "cell_type": "code",
   "execution_count": null,
   "metadata": {},
   "outputs": [],
   "source": [
    "import matplotlib.pyplot as plt\n",
    "from matplotlib.colors import LogNorm\n",
    "import numpy as np\n",
    "import hicat.simulators"
   ]
  },
  {
   "cell_type": "code",
   "execution_count": null,
   "metadata": {},
   "outputs": [],
   "source": [
    "%matplotlib inline"
   ]
  },
  {
   "cell_type": "markdown",
   "metadata": {},
   "source": [
    "## Instantiate hicat"
   ]
  },
  {
   "cell_type": "code",
   "execution_count": null,
   "metadata": {},
   "outputs": [],
   "source": [
    "hc = hicat.simulators.hicat_sim.HICAT_Sim()"
   ]
  },
  {
   "cell_type": "code",
   "execution_count": null,
   "metadata": {},
   "outputs": [],
   "source": [
    "hc.testbed_state"
   ]
  },
  {
   "cell_type": "code",
   "execution_count": null,
   "metadata": {},
   "outputs": [],
   "source": [
    "print(hc.describe())"
   ]
  },
  {
   "cell_type": "markdown",
   "metadata": {},
   "source": [
    "## Set the testbed into the correct hardware state"
   ]
  },
  {
   "cell_type": "code",
   "execution_count": null,
   "metadata": {},
   "outputs": [],
   "source": [
    "hc.pupil_maskmask = 'circular'    # I will likely have to implement a new pupil mask\n",
    "hc.iris_ao = 'iris_ao'\n",
    "hc.apodizer = 'no_apodizer'\n",
    "hc.lyot_stop = 'circular'\n",
    "hc.detector = 'imager'"
   ]
  },
  {
   "cell_type": "code",
   "execution_count": null,
   "metadata": {},
   "outputs": [],
   "source": [
    "hc.testbed_state"
   ]
  },
  {
   "cell_type": "markdown",
   "metadata": {},
   "source": [
    "## Get an image from the simulator with flat IrisAO, unnormalized"
   ]
  },
  {
   "cell_type": "code",
   "execution_count": null,
   "metadata": {},
   "outputs": [],
   "source": [
    "# All the images\n",
    "plt.figure(figsize=(14,14))\n",
    "psf, waves = hc.calc_psf(display=True, return_intermediates=True)"
   ]
  },
  {
   "cell_type": "code",
   "execution_count": null,
   "metadata": {},
   "outputs": [],
   "source": [
    "hicat_psf = psf[0].data\n",
    "print(type(hicat_psf))\n",
    "print(hicat_psf.shape)"
   ]
  },
  {
   "cell_type": "code",
   "execution_count": null,
   "metadata": {},
   "outputs": [],
   "source": [
    "plt.figure(figsize=(10,10))\n",
    "plt.imshow(np.log10(hicat_psf))"
   ]
  },
  {
   "cell_type": "markdown",
   "metadata": {},
   "source": [
    "## Get normalized coro PSF\n",
    "\n",
    "### Calculate direct image"
   ]
  },
  {
   "cell_type": "code",
   "execution_count": null,
   "metadata": {},
   "outputs": [],
   "source": [
    "hc.include_fpm = False\n",
    "psf_direct_data = hc.calc_psf()"
   ]
  },
  {
   "cell_type": "code",
   "execution_count": null,
   "metadata": {},
   "outputs": [],
   "source": [
    "psf_direct = psf_direct_data[0].data\n",
    "norm = psf_direct.max()\n",
    "\n",
    "plt.figure(figsize=(10,10))\n",
    "plt.title('Direct PSF')\n",
    "plt.imshow(np.log10(psf_direct), cmap='inferno')\n",
    "plt.colorbar()"
   ]
  },
  {
   "cell_type": "markdown",
   "metadata": {},
   "source": [
    "### Calculate normalized coro image"
   ]
  },
  {
   "cell_type": "code",
   "execution_count": null,
   "metadata": {},
   "outputs": [],
   "source": [
    "hc.include_fpm = True\n",
    "psf_coro_data = hc.calc_psf()"
   ]
  },
  {
   "cell_type": "code",
   "execution_count": null,
   "metadata": {},
   "outputs": [],
   "source": [
    "psf_coro = psf_coro_data[0].data/norm\n",
    "\n",
    "plt.figure(figsize=(10,10))\n",
    "plt.title('Coro PSF')\n",
    "plt.imshow(np.log10(psf_coro), cmap='inferno')\n",
    "plt.colorbar()"
   ]
  },
  {
   "cell_type": "markdown",
   "metadata": {},
   "source": [
    "## Aberrate a segment on the IrisAO"
   ]
  },
  {
   "cell_type": "code",
   "execution_count": null,
   "metadata": {},
   "outputs": [],
   "source": [
    "hc.iris_dm.flatten()\n",
    "hc.iris_dm.set_actuator(0, 50e-9, 0, 0)"
   ]
  },
  {
   "cell_type": "code",
   "execution_count": null,
   "metadata": {},
   "outputs": [],
   "source": [
    "plt.figure(figsize=(14,14))\n",
    "one_seg_data, inter = hc.calc_psf(display=True, return_intermediates=True)\n",
    "one_seg = one_seg_data[0].data"
   ]
  },
  {
   "cell_type": "code",
   "execution_count": null,
   "metadata": {},
   "outputs": [],
   "source": [
    "# Display PSF and IrisAo OPD\n",
    "plt.figure(figsize=(7, 7))\n",
    "plt.imshow(one_seg/norm, norm=LogNorm(), cmap='inferno')\n",
    "plt.colorbar()"
   ]
  },
  {
   "cell_type": "code",
   "execution_count": null,
   "metadata": {},
   "outputs": [],
   "source": [
    "plt.figure(figsize=(7, 7))\n",
    "inter[1].display(what='phase')"
   ]
  },
  {
   "cell_type": "markdown",
   "metadata": {},
   "source": [
    "## Aberrate pair of segments\n",
    "\n",
    "0 is the center segment"
   ]
  },
  {
   "cell_type": "code",
   "execution_count": null,
   "metadata": {},
   "outputs": [],
   "source": [
    "hc.iris_dm.flatten()\n",
    "\n",
    "seg1 = 4\n",
    "seg2 = 23\n",
    "ampl = 50e-9    # nm\n",
    "\n",
    "hc.iris_dm.set_actuator(seg1, ampl, 0, 0)\n",
    "hc.iris_dm.set_actuator(seg2, ampl, 0, 0)"
   ]
  },
  {
   "cell_type": "code",
   "execution_count": null,
   "metadata": {},
   "outputs": [],
   "source": [
    "pair_psf_data, inter = hc.calc_psf(return_intermediates=True)\n",
    "pair_psf = pair_psf_data[0].data"
   ]
  },
  {
   "cell_type": "code",
   "execution_count": null,
   "metadata": {},
   "outputs": [],
   "source": [
    "plt.figure(figsize=(7, 7))\n",
    "plt.imshow(pair_psf/norm, norm=LogNorm(), cmap='inferno')\n",
    "plt.colorbar()"
   ]
  },
  {
   "cell_type": "code",
   "execution_count": null,
   "metadata": {},
   "outputs": [],
   "source": [
    "plt.figure(figsize=(7, 7))\n",
    "inter[1].display(what='phase')"
   ]
  },
  {
   "cell_type": "markdown",
   "metadata": {},
   "source": [
    "## Create DH mask and measure mean contrast"
   ]
  },
  {
   "cell_type": "code",
   "execution_count": null,
   "metadata": {},
   "outputs": [],
   "source": [
    "# lifted from util_pastis\n",
    "def create_dark_hole(pup_im, iwa, owa, samp):\n",
    "    \"\"\"\n",
    "    Create a dark hole on pupil image pup_im.\n",
    "    :param pup_im: np.array of pupil image\n",
    "    :param iwa: inner working angle in lambda/D\n",
    "    :param owa: outer working angle in lambda/D\n",
    "    :param samp: sampling factor\n",
    "    :return: dh_area: np.array\n",
    "    \"\"\"\n",
    "    circ_inner = circle_mask(pup_im, pup_im.shape[0]/2., pup_im.shape[1]/2., iwa * samp) * 1   # *1 converts from booleans to integers\n",
    "    circ_outer = circle_mask(pup_im, pup_im.shape[0]/2., pup_im.shape[1]/2., owa * samp) * 1\n",
    "    dh_area = circ_outer - circ_inner\n",
    "\n",
    "    return dh_area\n",
    "\n",
    "def circle_mask(im, xc, yc, rcirc):\n",
    "    \"\"\" Create a circle on array im centered on xc, yc with radius rcirc; inside circle equals 1.\"\"\"\n",
    "    x, y = np.shape(im)\n",
    "    newy, newx = np.mgrid[0:y,0:x]\n",
    "    circ = (newx-xc)**2 + (newy-yc)**2 < rcirc**2\n",
    "    return circ\n",
    "\n",
    "def dh_mean(im, dh):\n",
    "    \"\"\"\n",
    "    Return the dark hole contrast.\n",
    "\n",
    "    Calculate the mean intensity in the dark hole area dh of the image im.\n",
    "    im and dh have to have the same array size and shape.\n",
    "    :param im: array, normalized (by direct PSF peak pixel) image\n",
    "    :param dh: array, dark hole mask\n",
    "    \"\"\"\n",
    "    darkh = im * dh\n",
    "    con = np.mean(darkh[np.where(dh != 0)])\n",
    "    return con"
   ]
  },
  {
   "cell_type": "code",
   "execution_count": null,
   "metadata": {},
   "outputs": [],
   "source": [
    "iwa = 6\n",
    "owa = 11\n",
    "sampling = 3.1364"
   ]
  },
  {
   "cell_type": "code",
   "execution_count": null,
   "metadata": {},
   "outputs": [],
   "source": [
    "dh_mask = create_dark_hole(pair_psf, iwa, owa, sampling)\n",
    "\n",
    "plt.figure(figsize=(10, 5))\n",
    "plt.subplot(1, 2, 1)\n",
    "plt.imshow(dh_mask)\n",
    "plt.title('dh_mask')\n",
    "\n",
    "plt.subplot(1, 2, 2)\n",
    "plt.imshow(pair_psf/norm, norm=LogNorm())\n",
    "plt.imshow(dh_mask, alpha=0.5)\n",
    "plt.title('Dark hole')"
   ]
  },
  {
   "cell_type": "code",
   "execution_count": null,
   "metadata": {},
   "outputs": [],
   "source": [
    "plt.figure(figsize=(7, 7))\n",
    "plt.imshow(pair_psf/norm*dh_mask, norm=LogNorm(), cmap='inferno')\n",
    "plt.colorbar()"
   ]
  },
  {
   "cell_type": "code",
   "execution_count": null,
   "metadata": {},
   "outputs": [],
   "source": [
    "contrast = dh_mean(pair_psf/norm, dh_mask)\n",
    "print(contrast)"
   ]
  },
  {
   "cell_type": "code",
   "execution_count": null,
   "metadata": {},
   "outputs": [],
   "source": []
  },
  {
   "cell_type": "code",
   "execution_count": null,
   "metadata": {},
   "outputs": [],
   "source": [
    "hc.display_pupil_overlaps()"
   ]
  },
  {
   "cell_type": "code",
   "execution_count": null,
   "metadata": {},
   "outputs": [],
   "source": []
  }
 ],
 "metadata": {
  "kernelspec": {
   "display_name": "Python 3",
   "language": "python",
   "name": "python3"
  },
  "language_info": {
   "codemirror_mode": {
    "name": "ipython",
    "version": 3
   },
   "file_extension": ".py",
   "mimetype": "text/x-python",
   "name": "python",
   "nbconvert_exporter": "python",
   "pygments_lexer": "ipython3",
   "version": "3.7.3"
  }
 },
 "nbformat": 4,
 "nbformat_minor": 4
}
