{
 "cells": [
  {
   "cell_type": "markdown",
   "metadata": {},
   "source": [
    "<h1>Testing the calibration</h1>"
   ]
  },
  {
   "cell_type": "markdown",
   "metadata": {},
   "source": [
    "After we have confirmed what our E2E simulation images from WebbPSF look like, let's test the calibration script \"calibration.py\"."
   ]
  },
  {
   "cell_type": "code",
   "execution_count": null,
   "metadata": {
    "collapsed": true
   },
   "outputs": [],
   "source": [
    "import os\n",
    "import numpy as np\n",
    "from astropy.io import fits\n",
    "import astropy.units as u\n",
    "import matplotlib.pyplot as plt\n",
    "from matplotlib.colors import LogNorm\n",
    "import webbpsf\n",
    "\n",
    "os.chdir('../../pastis/')\n",
    "from config import CONFIG_PASTIS\n",
    "import util as util\n",
    "import image_pastis as impastis\n",
    "from e2e_simulators import webbpsf_imaging as webbim\n",
    "\n",
    "# Path to all the outputs from \"aperture_definition.py\".\n",
    "dir = '/Users/ilaginja/Documents/data_from_repos/pastis_data/active/calibration'\n",
    "# Change into that directory\n",
    "os.chdir(dir)"
   ]
  },
  {
   "cell_type": "code",
   "execution_count": null,
   "metadata": {},
   "outputs": [],
   "source": [
    "# Load some parameters\n",
    "which_tel = CONFIG_PASTIS.get('telescope', 'name')\n",
    "fpm = CONFIG_PASTIS.get(which_tel, 'focal_plane_mask')                 # focal plane mask\n",
    "lyot_stop = CONFIG_PASTIS.get(which_tel, 'pupil_plane_stop')   # Lyot stop\n",
    "filter = CONFIG_PASTIS.get(which_tel, 'filter_name')\n",
    "nb_seg = CONFIG_PASTIS.getint(which_tel, 'nb_subapertures')\n",
    "wss_segs = webbpsf.constants.SEGNAMES_WSS_ORDER\n",
    "zern_max = CONFIG_PASTIS.getint('zernikes', 'max_zern')\n",
    "nm_aber = CONFIG_PASTIS.getfloat('calibration', 'single_aberration') * u.nm    # [nm] amplitude of aberration\n",
    "zern_number = CONFIG_PASTIS.getint('calibration', 'zernike')               # Which (Noll) Zernike we are calibrating for\n",
    "wss_zern_nb = util.noll_to_wss(zern_number)                             # Convert from Noll to WSS framework"
   ]
  },
  {
   "cell_type": "code",
   "execution_count": null,
   "metadata": {
    "collapsed": true
   },
   "outputs": [],
   "source": [
    "# Set up limits for zooming into images\n",
    "im_size_e2e = CONFIG_PASTIS.getint('numerical', 'im_size_px_webbpsf')   # image size in pixels\n",
    "sampling = CONFIG_PASTIS.getfloat(which_tel, 'sampling')              # sampling\n",
    "outer_wa = CONFIG_PASTIS.getint(which_tel, 'OWA')                   # outer working angle of coronagraph\n",
    "tot_dh_im_size = sampling*(outer_wa+3)"
   ]
  },
  {
   "cell_type": "markdown",
   "metadata": {},
   "source": [
    "## Load the non-aberrated direct PSF and coro PSF from E2E simulation\n",
    "\n",
    "Let's first check the direct and coronagraphic PSF from the E2E simulation. The direct PSF from the E2E simulation will also be used for PSF normalization."
   ]
  },
  {
   "cell_type": "code",
   "execution_count": null,
   "metadata": {
    "collapsed": true
   },
   "outputs": [],
   "source": [
    "psf_direct = fits.getdata('psf_default.fits')\n",
    "psf_coro = fits.getdata('psf_coro.fits')\n",
    "print(psf_direct.shape)\n",
    "print(psf_coro.shape)\n",
    "\n",
    "im_range = 70\n",
    "\n",
    "plt.figure(figsize=(15, 15))\n",
    "plt.suptitle('Non-aberrated PSFs from E2E simulation')\n",
    "plt.subplot(2, 2, 1)\n",
    "plt.imshow(psf_direct, norm=LogNorm())\n",
    "plt.title('Direct PSF E2E')\n",
    "\n",
    "plt.subplot(2, 2, 2)\n",
    "plt.imshow(psf_coro, norm=LogNorm())\n",
    "plt.title('Coronagraphic PSF E2E')\n",
    "\n",
    "plt.subplot(2, 2, 3)\n",
    "plt.imshow(util.zoom_cen(psf_direct, im_range), norm=LogNorm())\n",
    "plt.title('Direct PSF E2E - zoom')\n",
    "\n",
    "plt.subplot(2, 2, 4)\n",
    "plt.imshow(util.zoom_cen(psf_coro, im_range), norm=LogNorm())\n",
    "plt.title('Coronagraphic PSF E2E - zoom')\n",
    "\n",
    "plt.show()"
   ]
  },
  {
   "cell_type": "markdown",
   "metadata": {},
   "source": [
    "## Load the dark hole array and check baseline contrast $C_0$\n",
    "\n",
    "Load the dark hole and see what it looks like by itseld and when overlapped with the two images."
   ]
  },
  {
   "cell_type": "code",
   "execution_count": null,
   "metadata": {
    "collapsed": true
   },
   "outputs": [],
   "source": [
    "dh = fits.getdata('dh_area.fits')\n",
    "plt.imshow(dh)\n",
    "plt.show()"
   ]
  },
  {
   "cell_type": "code",
   "execution_count": null,
   "metadata": {
    "collapsed": true
   },
   "outputs": [],
   "source": [
    "# DH over PSFs (dh over direct PSF is a useles concept, but I wanted to see what it looked like).\n",
    "\n",
    "plt.figure(figsize=(15, 15))\n",
    "plt.subplot(2, 2, 1)\n",
    "plt.imshow(psf_direct*dh, norm=LogNorm())\n",
    "plt.title('Direct PSF E2E DH')\n",
    "\n",
    "plt.subplot(2, 2, 2)\n",
    "plt.imshow(psf_coro*dh, norm=LogNorm())\n",
    "plt.title('Coronagraphic PSF E2E DH')\n",
    "\n",
    "plt.subplot(2, 2, 3)\n",
    "plt.imshow(util.zoom_cen((psf_direct*dh), tot_dh_im_size), norm=LogNorm())\n",
    "plt.title('Direct PSF E2E DH - zoom')\n",
    "plt.colorbar()\n",
    "\n",
    "plt.subplot(2, 2, 4)\n",
    "plt.imshow(util.zoom_cen((psf_coro*dh), tot_dh_im_size), norm=LogNorm())\n",
    "plt.title('Coronagraphic PSF E2E DH - zoom')\n",
    "plt.colorbar()\n",
    "\n",
    "plt.show()"
   ]
  },
  {
   "cell_type": "markdown",
   "metadata": {},
   "source": [
    "Read in the baseline contrast to see what it is. You will have to adjust the file name. Then compare it to what we read out of the image ourselves."
   ]
  },
  {
   "cell_type": "code",
   "execution_count": null,
   "metadata": {
    "collapsed": true
   },
   "outputs": [],
   "source": [
    "blcontr = np.loadtxt('base-contrast_piston_Noll1.txt')\n",
    "print('Baseline contrast E2E simulation from file: C_0 =', blcontr)\n",
    "\n",
    "con_dir = np.mean((psf_direct*dh)[np.where((psf_direct*dh) != 0)])\n",
    "con_coro = np.mean((psf_coro*dh)[np.where((psf_coro*dh) != 0)])\n",
    "\n",
    "print('Contrast direct PSF:', con_dir)\n",
    "print('Contrast coro PSF:', con_coro)"
   ]
  },
  {
   "cell_type": "markdown",
   "metadata": {},
   "source": [
    "## Generate direct PSF for normalization"
   ]
  },
  {
   "cell_type": "code",
   "execution_count": null,
   "metadata": {
    "collapsed": true
   },
   "outputs": [],
   "source": [
    "# Create a direct WebbPSF image for normalization factor\n",
    "fake_aber = np.zeros([nb_seg, zern_max])\n",
    "psf_perfect = webbim.nircam_nocoro(filter, fake_aber)\n",
    "normp = np.max(psf_perfect)\n",
    "psf_perfect = psf_perfect / normp\n",
    "print(normp)"
   ]
  },
  {
   "cell_type": "markdown",
   "metadata": {},
   "source": [
    "## Set up the coro NIRCam object"
   ]
  },
  {
   "cell_type": "code",
   "execution_count": null,
   "metadata": {
    "collapsed": true
   },
   "outputs": [],
   "source": [
    "# Set up coro object\n",
    "nc_coro = webbpsf.NIRCam()\n",
    "nc_coro.filter = filter\n",
    "\n",
    "# Add coronagraphic elements to nc_coro\n",
    "nc_coro.image_mask = fpm\n",
    "nc_coro.pupil_mask = lyot_stop\n",
    "\n",
    "# Null the OTE OPDs for the coro PSF, maybe we will add internal WFE later.\n",
    "nc_coro, ote_coro = webbpsf.enable_adjustable_ote(nc_coro)      # create OTE for coronagraph\n",
    "ote_coro.zero()                   # set OTE for coronagraph to zero\n",
    "nc_coro.include_si_wfe = False    # set SI internal WFE to zero"
   ]
  },
  {
   "cell_type": "markdown",
   "metadata": {
    "collapsed": true
   },
   "source": [
    "## Calibrate the segments one by one\n",
    "\n",
    "We will walk through each segment on the OTE, aberrate it, make an image with it and record it. Then we'll also generate an (uncalibrated) analytical image with the same single-segment aberration and compare the two."
   ]
  },
  {
   "cell_type": "code",
   "execution_count": null,
   "metadata": {},
   "outputs": [],
   "source": [
    "# Pick what segment to work on\n",
    "segnum = 3\n",
    "###########\n",
    "i = segnum - 1     # segment nubers start at 1, but Python numbering starts at 0\n",
    "\n",
    "seg = wss_segs[i].split('-')[0]\n",
    "print('Working on segment ' + seg)"
   ]
  },
  {
   "cell_type": "code",
   "execution_count": null,
   "metadata": {
    "collapsed": true
   },
   "outputs": [],
   "source": [
    "# Create arrays to hold Zernike aberration coefficients\n",
    "Aber_WSS = np.zeros([nb_seg, zern_max])           # The Zernikes here will be filled in the WSS order!!!\n",
    "                                                  # Because it goes into _apply_hexikes_to_seg().\n",
    "Aber_Noll = np.copy(Aber_WSS)                     # This is the Noll version for imput into PASTIS.\n",
    "\n",
    "# Feed the aberration nm_aber into the array position\n",
    "# that corresponds to the correct Zernike, but only on segment i\n",
    "Aber_WSS[i, wss_zern_nb-1] = nm_aber.to(u.m).value   # Aberration on the segment we're currently working on;\n",
    "                                                     # convert to meters; -1 on the Zernike because Python starts\n",
    "                                                     # numbering at 0.\n",
    "Aber_Noll[i, zern_number-1] = nm_aber.value          # Noll version - in nm!\n",
    "\n",
    "# Make sure the aberration coefficients have correct units\n",
    "Aber_Noll *= u.nm\n",
    "\n",
    "#-# Crate OPD with aberrated segment(s)\n",
    "print('Applying aberration to OTE.')\n",
    "print('nm_aber: {}'.format(nm_aber))\n",
    "ote_coro.reset()   # Making sure there are no previous movements on the segments.\n",
    "ote_coro.zero()    # For now, ignore internal WFE.\n",
    "ote_coro._apply_hexikes_to_seg(seg, Aber_WSS[i,:])\n",
    "\n",
    "ote_coro.display_opd()\n",
    "plt.show()"
   ]
  },
  {
   "cell_type": "code",
   "execution_count": null,
   "metadata": {
    "collapsed": true
   },
   "outputs": [],
   "source": [
    "# Calculate coronagraphic PSF from E2E sim\n",
    "psf_endsim = nc_coro.calc_psf(fov_pixels=int(im_size_e2e), oversample=1, nlambda=1)\n",
    "psf_end = psf_endsim[0].data\n",
    "\n",
    "# Normalize coro PSF\n",
    "psf_end = psf_end / normp"
   ]
  },
  {
   "cell_type": "code",
   "execution_count": null,
   "metadata": {
    "collapsed": true
   },
   "outputs": [],
   "source": [
    "# Display calculated PSF\n",
    "plt.figure(figsize=(15, 15))\n",
    "plt.imshow(psf_end, norm=LogNorm(), origin='lower')\n",
    "plt.title('Coronagraphic PSF from WebbPSF with aberrated segment ' + seg)\n",
    "plt.colorbar()\n",
    "plt.show()"
   ]
  },
  {
   "cell_type": "code",
   "execution_count": null,
   "metadata": {},
   "outputs": [],
   "source": [
    "# Display the dark hole and calculate contrast\n",
    "im_end = psf_end * dh\n",
    "contrast_e2e = np.mean(im_end[np.where(im_end != 0)])\n",
    "\n",
    "imext = 50\n",
    "\n",
    "plt.figure(figsize=(20, 10))\n",
    "plt.subplot(1, 2, 1)\n",
    "plt.imshow(util.zoom_cen(im_end, imext), norm=LogNorm(), origin='lower')\n",
    "plt.title('DH in WebbPSF image')\n",
    "plt.subplot(1, 2, 2)\n",
    "plt.imshow(util.zoom_cen(psf_end, imext), norm=LogNorm(), origin='lower')\n",
    "plt.title('Full WebbPSF image')\n",
    "plt.show()\n",
    "\n",
    "print('WebbPSF contrast = ', contrast_e2e)"
   ]
  },
  {
   "cell_type": "code",
   "execution_count": null,
   "metadata": {
    "collapsed": true
   },
   "outputs": [],
   "source": [
    "# Calculate coronagraphic PSF from analytical model\n",
    "dh_im_am, full_im_am = impastis.analytical_model(zern_number, Aber_Noll[:, zern_number-1], cali=False)\n",
    "contrast_pastis = np.mean(dh_im_am[np.where(dh_im_am != 0)])"
   ]
  },
  {
   "cell_type": "code",
   "execution_count": null,
   "metadata": {
    "collapsed": true
   },
   "outputs": [],
   "source": [
    "# Display the dark hole and (uncalibrated!) contrast\n",
    "plt.figure(figsize=(20, 10))\n",
    "plt.subplot(1, 2, 1)\n",
    "plt.imshow(util.zoom_cen(dh_im_am, imext), norm=LogNorm(), origin='lower')\n",
    "plt.title('DH in PASTIS image')\n",
    "plt.subplot(1, 2, 2)\n",
    "plt.imshow(util.zoom_cen(full_im_am, imext), norm=LogNorm(), origin='lower')\n",
    "plt.title('Full PASTIS image')\n",
    "plt.show()\n",
    "\n",
    "print('Uncalibrated PASTIS image contrast = ', contrast_pastis)"
   ]
  },
  {
   "cell_type": "code",
   "execution_count": null,
   "metadata": {
    "collapsed": true
   },
   "outputs": [],
   "source": [
    "# Calculate the calibration value for current segment\n",
    "cali = np.sqrt((contrast_e2e - blcontr) / contrast_pastis)\n",
    "\n",
    "print('Calibration coefficient for segment ', seg, '=', cali)"
   ]
  },
  {
   "cell_type": "markdown",
   "metadata": {},
   "source": [
    "## Read in results from calibration run in real script\n",
    "\n",
    "Let's have a look at the results from the real calibration script.\n",
    "\n",
    "In her codes, Lucie also plots the contrast vs. the segment number, although this is not something really important. Just because, we can do it too:"
   ]
  },
  {
   "cell_type": "code",
   "execution_count": null,
   "metadata": {
    "collapsed": true
   },
   "outputs": [],
   "source": [
    "# Read in contrast values form WebbPSF and uncalibrated PASTIS images form during calibration\n",
    "con_webbpsf = fits.getdata('contrast_IMAGE-PASTIS_piston_Noll1.fits')\n",
    "con_pastis = fits.getdata('contrast_WEBBPSF_piston_Noll1.fits')\n",
    "\n",
    "segrange = np.arange(1, nb_seg+1)"
   ]
  },
  {
   "cell_type": "code",
   "execution_count": null,
   "metadata": {
    "collapsed": true
   },
   "outputs": [],
   "source": [
    "# And plot them\n",
    "plt.figure(figsize=(15, 10))\n",
    "plt.plot(segrange, con_webbpsf)\n",
    "plt.title('Uncalibrated PASTIS DH contrast per segment')\n",
    "plt.show()"
   ]
  },
  {
   "cell_type": "code",
   "execution_count": null,
   "metadata": {
    "collapsed": true
   },
   "outputs": [],
   "source": [
    "plt.figure(figsize=(15, 10))\n",
    "plt.plot(segrange, con_pastis)\n",
    "plt.title('Uncalibrated WebbPSF DH contrast per segment')\n",
    "plt.show()"
   ]
  },
  {
   "cell_type": "markdown",
   "metadata": {},
   "source": [
    "Not much to see here. Let's have a look at the calibration coefficients too."
   ]
  },
  {
   "cell_type": "code",
   "execution_count": null,
   "metadata": {
    "collapsed": true
   },
   "outputs": [],
   "source": [
    "calis = fits.getdata('calibration_piston_Noll1.fits')\n",
    "print('Calibration coefficients:')\n",
    "print(calis)"
   ]
  },
  {
   "cell_type": "code",
   "execution_count": null,
   "metadata": {
    "collapsed": true
   },
   "outputs": [],
   "source": [
    "plt.figure(figsize=(15, 10))\n",
    "plt.plot(calis)\n",
    "plt.title('Calibration coefficients per segment')\n",
    "plt.show()"
   ]
  },
  {
   "cell_type": "code",
   "execution_count": null,
   "metadata": {
    "collapsed": true
   },
   "outputs": [],
   "source": []
  }
 ],
 "metadata": {
  "kernelspec": {
   "display_name": "Python 3",
   "language": "python",
   "name": "python3"
  },
  "language_info": {
   "codemirror_mode": {
    "name": "ipython",
    "version": 3
   },
   "file_extension": ".py",
   "mimetype": "text/x-python",
   "name": "python",
   "nbconvert_exporter": "python",
   "pygments_lexer": "ipython3",
   "version": "3.6.8"
  }
 },
 "nbformat": 4,
 "nbformat_minor": 2
}
