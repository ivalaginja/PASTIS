{
 "cells": [
  {
   "cell_type": "code",
   "execution_count": null,
   "metadata": {},
   "outputs": [],
   "source": [
    "# Imports\n",
    "import os\n",
    "import numpy as np\n",
    "import matplotlib.pyplot as plt\n",
    "from matplotlib.colors import LogNorm\n",
    "%matplotlib inline\n",
    "from astropy.io import fits\n",
    "import astropy.units as u\n",
    "import hcipy as hc\n",
    "from scipy.interpolate import griddata\n",
    "\n",
    "os.chdir('../../pastis/')\n",
    "import util_pastis as util\n",
    "from e2e_simulators.luvoir_imaging_new import LuvoirAPLC\n",
    "from pandas import DataFrame, read_csv\n",
    "import matplotlib.pyplot as plt\n",
    "import pandas as pd "
   ]
  },
  {
   "cell_type": "code",
   "execution_count": null,
   "metadata": {},
   "outputs": [],
   "source": [
    "# Load aperture files needed for SM\n",
    "nseg = 120\n",
    "wvln = 638e-9\n",
    "\n",
    "datadir = '/Users/pueyo/PythonPackages/PASTIS/LUVOIR_delivery_May2019/'\n",
    "aper_path = 'inputs/TelAp_LUVOIR_gap_pad01_bw_ovsamp04_N1000.fits'\n",
    "aper_ind_path = 'inputs/TelAp_LUVOIR_gap_pad01_bw_ovsamp04_N1000_indexed.fits'\n",
    "aper_read = hc.read_fits(os.path.join(datadir, aper_path))\n",
    "aper_ind_read = hc.read_fits(os.path.join(datadir, aper_ind_path))\n",
    "\n",
    "pupil_grid = hc.make_pupil_grid(dims=aper_ind_read.shape[0], diameter=15)\n",
    "aper = hc.Field(aper_read.ravel(), pupil_grid)\n",
    "aper_ind = hc.Field(aper_ind_read.ravel(), pupil_grid)\n",
    "\n",
    "wf_aper = hc.Wavefront(aper, wvln)\n",
    "\n",
    "# Load segment positions from fits header\n",
    "hdr = fits.getheader(os.path.join(datadir, aper_ind_path))\n",
    "\n",
    "poslist = []\n",
    "for i in range(nseg):\n",
    "    segname = 'SEG' + str(i+1)\n",
    "    xin = hdr[segname + '_X']\n",
    "    yin = hdr[segname + '_Y']\n",
    "    poslist.append((xin, yin))\n",
    "    \n",
    "poslist = np.transpose(np.array(poslist))\n",
    "seg_pos = hc.CartesianGrid(hc.UnstructuredCoords(poslist))\n",
    "# Instantiate LUVOIR\n",
    "sampling = 4\n",
    "apodizer_design = 'large'\n",
    "# This path is specific to the paths used in the LuvoirAPLC class\n",
    "optics_input = '/Users/pueyo/PythonPackages/PASTIS/LUVOIR_delivery_May2019/'\n",
    "\n",
    "luvoir = LuvoirAPLC(optics_input, apodizer_design, sampling)"
   ]
  },
  {
   "cell_type": "code",
   "execution_count": null,
   "metadata": {},
   "outputs": [],
   "source": [
    "Pad_orients = np.pi/2*np.ones(120)\n",
    "harris_file = '/Users/pueyo/Desktop/ULTRA/HarrisData/Sensitivities2.xlsx'\n",
    "luvoir.make_segment_Harris_thermal_primary(harris_file,Pad_orients)"
   ]
  },
  {
   "cell_type": "code",
   "execution_count": null,
   "metadata": {},
   "outputs": [],
   "source": [
    "luvoir.make_segment_Harris_thermal_primary(harris_file,Pad_orients)"
   ]
  },
  {
   "cell_type": "code",
   "execution_count": null,
   "metadata": {},
   "outputs": [],
   "source": [
    "luvoir.sm"
   ]
  },
  {
   "cell_type": "code",
   "execution_count": null,
   "metadata": {},
   "outputs": [],
   "source": [
    "df = pd.read_excel(harris_file)"
   ]
  },
  {
   "cell_type": "code",
   "execution_count": null,
   "metadata": {},
   "outputs": [],
   "source": [
    "#Thermal: a, h, i, j, k  \n",
    "#Mechnical: e, f, g\n",
    "#Other: b, c, d"
   ]
  },
  {
   "cell_type": "code",
   "execution_count": null,
   "metadata": {},
   "outputs": [],
   "source": [
    "# X = np.asarray(df.X)\n",
    "# Y = np.asarray(df.Y)\n",
    "A = np.asarray(df.a)\n",
    "B = np.asarray(df.b)\n",
    "C = np.asarray(df.c)\n",
    "D = np.asarray(df.d)\n",
    "E = np.asarray(df.e)\n",
    "F = np.asarray(df.f)\n",
    "G = np.asarray(df.g)\n",
    "H = np.asarray(df.h)\n",
    "I = np.asarray(df.i)\n",
    "J = np.asarray(df.j)\n",
    "K = np.asarray(df.k)"
   ]
  },
  {
   "cell_type": "code",
   "execution_count": null,
   "metadata": {},
   "outputs": [],
   "source": [
    "# ti = np.linspace(-1,1,200)\n",
    "# XI, YI = np.meshgrid(ti, ti)\n",
    "# points = np.transpose(np.asarray([X,Y]))\n",
    "# values = A\n",
    "# ZI = griddata(points, values, (XI, YI), method='linear')\n",
    "# f = plt.figure()\n",
    "# plt.imshow(ZI)\n",
    "# plt.clim(min(A),max(A))\n",
    "# plt.colorbar()\n",
    "# phi = np.pi/2\n",
    "# XRot = XI * np.cos(phi) + YI * np.sin(phi)\n",
    "# YRot = -XI * np.sin(phi) + YI * np.cos(phi)\n",
    "# pointsR = np.transpose(np.asarray([X,Y]))\n",
    "# values = A\n",
    "# ZI = griddata(pointsR, values, (XRot, YRot), method='linear')\n",
    "# f = plt.figure()\n",
    "# plt.imshow(ZI)\n",
    "# plt.clim(min(A),max(A))\n",
    "# plt.colorbar()"
   ]
  },
  {
   "cell_type": "code",
   "execution_count": null,
   "metadata": {},
   "outputs": [],
   "source": [
    "X = np.asarray(df.X)\n",
    "Y = np.asarray(df.Y)\n",
    "HarrisDiam = np.max([np.max(X)-np.min(X),np.max(Y)-np.min(Y)])\n",
    "pup_dims = luvoir.pupil_grid.dims\n",
    "X = np.asarray(df.X)*luvoir.segment_circum_diameter/HarrisDiam\n",
    "Y = np.asarray(df.Y)*luvoir.segment_circum_diameter/HarrisDiam\n",
    "# A = np.asarray(df.j)\n",
    "ti = np.linspace(-0.5,0.5,pup_dims[0])*luvoir.diam\n",
    "points = np.transpose(np.asarray([X,Y]))\n",
    "valuesA = A\n",
    "valuesB = B\n",
    "valuesC = C\n",
    "valuesD = D\n",
    "valuesE = E\n",
    "valuesF = F\n",
    "valuesG = G\n",
    "valuesH = H\n",
    "valuesI = I\n",
    "valuesJ = J\n",
    "valuesK = K\n",
    "XI, YI = np.meshgrid(ti, ti)\n",
    "# ZI = griddata(points, values, (XI, YI), method='linear')\n",
    "# f = plt.figure()\n",
    "# plt.imshow(ZI)\n",
    "# plt.clim(min(A),max(A))\n",
    "# plt.colorbar()\n",
    "# phi = np.pi/2\n",
    "# pointsR = np.transpose(np.asarray([X,Y]))\n",
    "# values = A\n",
    "# XRot = XI * np.cos(phi) + YI * np.sin(phi)\n",
    "# YRot = -XI * np.sin(phi) + YI * np.cos(phi)\n",
    "# ZI = griddata(pointsR, values, (XRot, YRot), method='linear')\n",
    "# f = plt.figure()\n",
    "# plt.imshow(ZI)\n",
    "# plt.clim(min(A),max(A))\n",
    "# plt.colorbar()"
   ]
  },
  {
   "cell_type": "code",
   "execution_count": null,
   "metadata": {},
   "outputs": [],
   "source": [
    "segment = hc.hexagonal_aperture(luvoir.segment_circum_diameter, np.pi / 2)\n",
    "segment_sampled = hc.evaluate_supersampled(segment,luvoir.pupil_grid, 1)\n",
    "# plt.figure(figsize=(10, 10))\n",
    "# hc.imshow_field(segment_sampled)\n",
    "# plt.figure(figsize=(10, 10))\n",
    "# plt.imshow(ZI)\n",
    "# plt.clim(min(A),max(A))\n",
    "# plt.colorbar()\n",
    "# plt.figure(figsize=(10, 10))\n",
    "# hc.imshow_field(ZI.ravel()*segment_sampled)\n",
    "# plt.clim(min(A),max(A))\n",
    "# plt.colorbar()"
   ]
  },
  {
   "cell_type": "code",
   "execution_count": null,
   "metadata": {},
   "outputs": [],
   "source": [
    "pupil_grid = hc.make_pupil_grid(dims=aper_ind_read.shape[0], diameter=15)\n",
    "aper = hc.Field(aper_read.ravel(), pupil_grid)"
   ]
  },
  {
   "cell_type": "code",
   "execution_count": null,
   "metadata": {},
   "outputs": [],
   "source": [
    "segment = hc.hexagonal_aperture(luvoir.segment_circum_diameter, np.pi / 2)\n",
    "segment_sampled = hc.evaluate_supersampled(segment,luvoir.pupil_grid, 1)\n",
    "aper2, segs2 = hc.make_segmented_aperture(segment,luvoir.seg_pos, segment_transmissions=1, return_segments=True)\n",
    "luvoir_segmented_pattern = hc.evaluate_supersampled(aper2, luvoir.pupil_grid, 1)\n",
    "seg_evaluated = []\n",
    "for seg_tmp in segs2:\n",
    "    tmp_evaluated = hc.evaluate_supersampled(seg_tmp, luvoir.pupil_grid, 1)\n",
    "    seg_evaluated.append(tmp_evaluated)"
   ]
  },
  {
   "cell_type": "code",
   "execution_count": null,
   "metadata": {},
   "outputs": [],
   "source": [
    "luvoir.pupil_grid.coords"
   ]
  },
  {
   "cell_type": "code",
   "execution_count": null,
   "metadata": {},
   "outputs": [],
   "source": [
    "xL1D = luvoir.pupil_grid.x\n",
    "yL1D = luvoir.pupil_grid.y\n",
    "xL1D = np.asarray(xL1D)\n",
    "yL1D = np.asarray(yL1D)"
   ]
  },
  {
   "cell_type": "code",
   "execution_count": null,
   "metadata": {},
   "outputs": [],
   "source": [
    "xL1D = np.asarray(xL1D)\n",
    "yL1D = np.asarray(yL1D)"
   ]
  },
  {
   "cell_type": "code",
   "execution_count": null,
   "metadata": {},
   "outputs": [],
   "source": [
    "HarrisBase_Thermal = []\n",
    "Pad_orients = np.pi/2*np.ones(120)\n",
    "for seg_num in range(0, 120):\n",
    "    #Thermal: a, h, i, j, k  \n",
    "    #Mechnical: e, f, g\n",
    "    #Other: b, c, d\n",
    "    print(seg_num)\n",
    "    grid_seg = luvoir.pupil_grid.shifted(-luvoir.seg_pos[seg_num])\n",
    "    xL1D = grid_seg.x\n",
    "    yL1D = grid_seg.y\n",
    "    xL1D = np.asarray(xL1D)\n",
    "    yL1D = np.asarray(yL1D)\n",
    "    phi = Pad_orients[seg_num]\n",
    "    XRot = xL1D * np.cos(phi) + yL1D * np.sin(phi)\n",
    "    YRot = -xL1D * np.sin(phi) + yL1D * np.cos(phi)\n",
    "    ZA = griddata(points, valuesA, (XRot, YRot), method='linear')\n",
    "    ZA[np.isnan(ZA)]=0\n",
    "    ZA = ZA.ravel()*seg_evaluated[seg_num]\n",
    "    ZH = griddata(points, valuesH, (XRot, YRot), method='linear')\n",
    "    ZH[np.isnan(ZH)]=0\n",
    "    ZH = ZH.ravel()*seg_evaluated[seg_num]\n",
    "    ZI = griddata(points, valuesI, (XRot, YRot), method='linear')\n",
    "    ZI[np.isnan(ZI)]=0\n",
    "    ZI = ZI.ravel()*seg_evaluated[seg_num]\n",
    "    ZJ = griddata(points, valuesJ, (XRot, YRot), method='linear')\n",
    "    ZJ[np.isnan(ZJ)]=0\n",
    "    ZJ = ZJ.ravel()*seg_evaluated[seg_num]\n",
    "    ZK = griddata(points, valuesK, (XRot, YRot), method='linear')\n",
    "    ZK[np.isnan(ZK)]=0\n",
    "    ZK = ZK.ravel()*seg_evaluated[seg_num]\n",
    "    HarrisBase_Thermal.append([ZA,ZH,ZI,ZJ,ZK])\n",
    "HarrisBase_Thermal = np.asarray(HarrisBase_Thermal)\n",
    "N_segs= HarrisBase_Thermal.shape[0]\n",
    "N_single_modes= HarrisBase_Thermal.shape[1]\n",
    "HarrisBase_Thermal = HarrisBase_Thermal.reshape(N_segs*N_single_modes,pup_dims[0]**2)\n",
    "Harris_Thermal_ModeBasis = hc.ModeBasis(np.transpose(HarrisBase_Thermal),grid = pupil_grid)"
   ]
  },
  {
   "cell_type": "code",
   "execution_count": null,
   "metadata": {},
   "outputs": [],
   "source": [
    "plt.figure(figsize=(10, 10))\n",
    "hc.imshow_field(HarrisBase_Thermal[4]-seg_evaluated[1])"
   ]
  },
  {
   "cell_type": "code",
   "execution_count": null,
   "metadata": {},
   "outputs": [],
   "source": [
    "Harris_Thermal_sm = hc.optics.DeformableMirror(Harris_Thermal_ModeBasis)"
   ]
  },
  {
   "cell_type": "code",
   "execution_count": null,
   "metadata": {},
   "outputs": [],
   "source": [
    "N_Modes_Harris = Harris_Thermal_ModeBasis.num_modes"
   ]
  },
  {
   "cell_type": "code",
   "execution_count": null,
   "metadata": {},
   "outputs": [],
   "source": [
    "qqq = 265\n",
    "zernike_coeffs = np.zeros([N_Modes_Harris])\n",
    "zernike_coeffs[qqq] = 1e-12\n",
    "Harris_Thermal_sm.actuators = zernike_coeffs\n",
    "wf_sm = Harris_Thermal_sm(luvoir.wf_aper)\n",
    "plt.figure(figsize=(10, 10))\n",
    "hc.imshow_field(wf_sm.phase)\n",
    "zernike_coeffs = np.zeros([N_Modes_Harris])\n",
    "zernike_coeffs[qqq] = 1e-12\n",
    "luvoir.sm.actuators = zernike_coeffs\n",
    "wf_sm2 = luvoir.sm(luvoir.wf_aper)\n",
    "plt.figure(figsize=(10, 10))\n",
    "hc.imshow_field(wf_sm2.phase)\n",
    "plt.figure(figsize=(10, 10))\n",
    "hc.imshow_field(wf_sm2.phase - wf_sm.phase)"
   ]
  },
  {
   "cell_type": "code",
   "execution_count": null,
   "metadata": {},
   "outputs": [],
   "source": []
  }
 ],
 "metadata": {
  "kernelspec": {
   "display_name": "Python 3",
   "language": "python",
   "name": "python3"
  },
  "language_info": {
   "codemirror_mode": {
    "name": "ipython",
    "version": 3
   },
   "file_extension": ".py",
   "mimetype": "text/x-python",
   "name": "python",
   "nbconvert_exporter": "python",
   "pygments_lexer": "ipython3",
   "version": "3.7.3"
  }
 },
 "nbformat": 4,
 "nbformat_minor": 2
}
