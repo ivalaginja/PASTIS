{
 "cells": [
  {
   "cell_type": "markdown",
   "metadata": {},
   "source": [
    "# Comparing normal matrix results vs. multiprocessed matrix results\n",
    "\n",
    "Making sure the multiprocessing spits out the correct results. Verified on the LUVOIR case."
   ]
  },
  {
   "cell_type": "code",
   "execution_count": null,
   "metadata": {},
   "outputs": [],
   "source": [
    "# Imports\n",
    "import os\n",
    "from astropy.io import fits\n",
    "import numpy as np\n",
    "import matplotlib.pyplot as plt\n",
    "from matplotlib.colors import LogNorm\n",
    "import hcipy as hc\n",
    "\n",
    "os.chdir('/Users/ilaginja/repos/PASTIS/pastis')\n",
    "from config import CONFIG_INI\n",
    "from e2e_simulators.luvoir_imaging import LuvoirAPLC\n",
    "datadir = CONFIG_INI.get('local', 'local_data_path')"
   ]
  },
  {
   "cell_type": "code",
   "execution_count": null,
   "metadata": {},
   "outputs": [],
   "source": [
    "# Define directories\n",
    "dir_standard = '2020-07-25T17-51-31_luvoir-small'\n",
    "dir_multi = '2020-07-27T15-29-09_luvoir-small'\n",
    "\n",
    "# Define matrix name\n",
    "matrix_name = 'PASTISmatrix_num_piston_Noll1.fits'"
   ]
  },
  {
   "cell_type": "markdown",
   "metadata": {},
   "source": [
    "The multiprocessed case saves individual fits images, while the standard way saves out a PSF cube. It can also save out individual PSF fits images by setting the according parameter, by that's not really necessary."
   ]
  },
  {
   "cell_type": "code",
   "execution_count": null,
   "metadata": {},
   "outputs": [],
   "source": [
    "# Read PSF from cube in standard dir\n",
    "cube_standard = fits.getdata(os.path.join(datadir, dir_standard, 'matrix_numerical', 'psfs', 'psf_cube.fits'))"
   ]
  },
  {
   "cell_type": "markdown",
   "metadata": {},
   "source": [
    "Define a segment pair you want to compare the DH image for and read both PSFs."
   ]
  },
  {
   "cell_type": "code",
   "execution_count": null,
   "metadata": {},
   "outputs": [],
   "source": [
    "# Pick segment pair\n",
    "seg1 = 1\n",
    "seg2 = 10\n",
    "\n",
    "# Read PSFs\n",
    "psf_name_multi = f'psf_piston_Noll1_segs_{seg1}-{seg2}.fits'\n",
    "psf_mult = fits.getdata(os.path.join(datadir, dir_multi, 'matrix_numerical', 'psfs', psf_name_multi))\n",
    "\n",
    "standard_index = (seg1-1)*120+(seg2-1)\n",
    "psf_stand = cube_standard[standard_index]"
   ]
  },
  {
   "cell_type": "markdown",
   "metadata": {},
   "source": [
    "Plot both PSFs side by side to compare them. In the following cell, plot their difference - it should be zero."
   ]
  },
  {
   "cell_type": "code",
   "execution_count": null,
   "metadata": {},
   "outputs": [],
   "source": [
    "# Plot both\n",
    "plt.figure(figsize=(18, 9))\n",
    "plt.subplot(1, 2, 1)\n",
    "plt.title('standard')\n",
    "plt.imshow(psf_stand, norm=LogNorm())\n",
    "plt.subplot(1, 2, 2)\n",
    "plt.title('multi')\n",
    "plt.imshow(psf_mult, norm=LogNorm())"
   ]
  },
  {
   "cell_type": "code",
   "execution_count": null,
   "metadata": {},
   "outputs": [],
   "source": [
    "# Plot difference\n",
    "print(np.sum(psf_stand - psf_mult))\n",
    "plt.imshow(np.log10(psf_stand - psf_mult))\n",
    "plt.colorbar()"
   ]
  },
  {
   "cell_type": "markdown",
   "metadata": {},
   "source": [
    "Prepare to measure their DH mean contrast by making DH mask."
   ]
  },
  {
   "cell_type": "code",
   "execution_count": null,
   "metadata": {},
   "outputs": [],
   "source": [
    "# Create Luvoir and DH mask\n",
    "optics_input = CONFIG_INI.get('LUVOIR', 'optics_path')\n",
    "sampling = 4\n",
    "design = 'small'\n",
    "luvoir = LuvoirAPLC(optics_input, design, sampling)   "
   ]
  },
  {
   "cell_type": "code",
   "execution_count": null,
   "metadata": {},
   "outputs": [],
   "source": [
    "dh_outer = hc.circular_aperture(2 * luvoir.apod_dict[design]['owa'] * luvoir.lam_over_d)(luvoir.focal_det)\n",
    "dh_inner = hc.circular_aperture(2 * luvoir.apod_dict[design]['iwa'] * luvoir.lam_over_d)(luvoir.focal_det)\n",
    "dh_mask = (dh_outer - dh_inner).astype('bool')\n",
    "\n",
    "hc.imshow_field(dh_mask)"
   ]
  },
  {
   "cell_type": "markdown",
   "metadata": {},
   "source": [
    "Compare the mean contrast in both images."
   ]
  },
  {
   "cell_type": "code",
   "execution_count": null,
   "metadata": {},
   "outputs": [],
   "source": [
    "# Measure contrast in both images\n",
    "dh_int_stand = (psf_stand) * dh_mask.shaped\n",
    "c_stand = np.mean(dh_int_stand[np.where(dh_mask.shaped != 0)])\n",
    "print('contrast floor: {}'.format(c_stand))\n",
    "\n",
    "dh_int_multi = (psf_mult) * dh_mask.shaped\n",
    "c_multi = np.mean(dh_int_multi[np.where(dh_mask.shaped != 0)])\n",
    "print('contrast floor: {}'.format(c_multi))"
   ]
  },
  {
   "cell_type": "markdown",
   "metadata": {},
   "source": [
    "Now let's do the same on the PASTIS matrices directly. Load them, plot them side by side and then their difference."
   ]
  },
  {
   "cell_type": "code",
   "execution_count": null,
   "metadata": {},
   "outputs": [],
   "source": [
    "# Load both matrices\n",
    "mat_stand = fits.getdata(os.path.join(dir_standard, 'matrix_numerical', matrix_name))\n",
    "mat_multi = fits.getdata(os.path.join(dir_multi, 'matrix_numerical', matrix_name))"
   ]
  },
  {
   "cell_type": "code",
   "execution_count": null,
   "metadata": {},
   "outputs": [],
   "source": [
    "# Plot both matrices\n",
    "plt.figure(figsize=(18, 9))\n",
    "plt.subplot(1, 2, 1)\n",
    "plt.imshow(mat_stand)#, norm=LogNorm())\n",
    "plt.colorbar()\n",
    "plt.subplot(1, 2, 2)\n",
    "plt.imshow(mat_multi)#, norm=LogNorm())\n",
    "plt.colorbar()"
   ]
  },
  {
   "cell_type": "code",
   "execution_count": null,
   "metadata": {},
   "outputs": [],
   "source": [
    "# Plot their difference\n",
    "print(np.sum(mat_stand - mat_multi))\n",
    "plt.imshow(mat_stand - mat_multi, norm=LogNorm())\n",
    "plt.colorbar()"
   ]
  },
  {
   "cell_type": "code",
   "execution_count": null,
   "metadata": {},
   "outputs": [],
   "source": []
  }
 ],
 "metadata": {
  "kernelspec": {
   "display_name": "Python 3",
   "language": "python",
   "name": "python3"
  },
  "language_info": {
   "codemirror_mode": {
    "name": "ipython",
    "version": 3
   },
   "file_extension": ".py",
   "mimetype": "text/x-python",
   "name": "python",
   "nbconvert_exporter": "python",
   "pygments_lexer": "ipython3",
   "version": "3.7.3"
  }
 },
 "nbformat": 4,
 "nbformat_minor": 2
}
