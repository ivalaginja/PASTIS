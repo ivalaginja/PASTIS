{
 "cells": [
  {
   "cell_type": "markdown",
   "metadata": {},
   "source": [
    "<h1>Testing the numerical matrix generation</h1>\n",
    "\n",
    "## -- HiCAT --\n",
    "\n",
    "Testing the numerical mlatrix generation with the HiCAT simulator."
   ]
  },
  {
   "cell_type": "code",
   "execution_count": null,
   "metadata": {},
   "outputs": [],
   "source": [
    "import os\n",
    "import numpy as np\n",
    "import matplotlib.pyplot as plt\n",
    "from matplotlib.colors import LogNorm\n",
    "from astropy.io import fits\n",
    "import astropy.units as u\n",
    "\n",
    "%pylab inline\n",
    "import poppy\n",
    "import hicat.simulators\n",
    "\n",
    "os.chdir('../../pastis/')\n",
    "from config import CONFIG_PASTIS\n",
    "import util_pastis as util"
   ]
  },
  {
   "cell_type": "markdown",
   "metadata": {},
   "source": [
    "## Testing the code in form of a notebook"
   ]
  },
  {
   "cell_type": "code",
   "execution_count": null,
   "metadata": {},
   "outputs": [],
   "source": [
    "# Parameters\n",
    "# Nothing to read. I will do all of it locally.\n",
    "nb_seg = 36"
   ]
  },
  {
   "cell_type": "markdown",
   "metadata": {},
   "source": [
    "## Basic hicat simulator and create a PSF"
   ]
  },
  {
   "cell_type": "code",
   "execution_count": null,
   "metadata": {},
   "outputs": [],
   "source": [
    "hicat = hicat.simulators.hicat_sim.HICAT_Sim()\n",
    "print('HiCAT simulator')"
   ]
  },
  {
   "cell_type": "markdown",
   "metadata": {},
   "source": [
    "The simulator mmics the `hicat` repo's configfile. I don't want that now, so I will have to set all components manually.\n",
    "\n",
    "First, lets view the current simulator's state."
   ]
  },
  {
   "cell_type": "code",
   "execution_count": null,
   "metadata": {},
   "outputs": [],
   "source": [
    "hicat.testbed_state"
   ]
  },
  {
   "cell_type": "code",
   "execution_count": null,
   "metadata": {},
   "outputs": [],
   "source": [
    "# Set the components I want\n",
    "hicat.iris_ao = 'iris_ao'\n",
    "hicat.apodizer = 'no_apodizer'\n",
    "hicat.lyot_stop = 'circular'"
   ]
  },
  {
   "cell_type": "code",
   "execution_count": null,
   "metadata": {},
   "outputs": [],
   "source": [
    "# Get some more info\n",
    "hicat.ref_info['fpm']"
   ]
  },
  {
   "cell_type": "code",
   "execution_count": null,
   "metadata": {},
   "outputs": [],
   "source": [
    "# Get some more info\n",
    "hicat.ref_info['lyot_stop']"
   ]
  },
  {
   "cell_type": "code",
   "execution_count": null,
   "metadata": {},
   "outputs": [],
   "source": [
    "# Get the full HiCAT sim info one more time\n",
    "print(hicat.describe())"
   ]
  },
  {
   "cell_type": "markdown",
   "metadata": {},
   "source": [
    "Lets create a PSF now."
   ]
  },
  {
   "cell_type": "code",
   "execution_count": null,
   "metadata": {},
   "outputs": [],
   "source": [
    "plt.figure(figsize=(15, 15))\n",
    "psf, waves = hicat.calc_psf(display=True, return_intermediates=True)"
   ]
  },
  {
   "cell_type": "markdown",
   "metadata": {},
   "source": [
    "The `waves` variable holds arrays of the E-field at each of the 12 planes."
   ]
  },
  {
   "cell_type": "code",
   "execution_count": null,
   "metadata": {},
   "outputs": [],
   "source": [
    "plt.imshow(waves[0].phase)"
   ]
  },
  {
   "cell_type": "markdown",
   "metadata": {},
   "source": [
    "Add an apodizer and the according Lyot stop and recalculate the PSF."
   ]
  },
  {
   "cell_type": "code",
   "execution_count": null,
   "metadata": {},
   "outputs": [],
   "source": [
    "hicat.apodizer = 'cnt1_apodizer'\n",
    "hicat.lyot_stop = 'cnt1_apodizer_lyot_stop'\n",
    "print(hicat.describe())"
   ]
  },
  {
   "cell_type": "code",
   "execution_count": null,
   "metadata": {},
   "outputs": [],
   "source": [
    "plt.figure(figsize=(15, 15))\n",
    "psf2, waves2 = hicat.calc_psf(display=True, return_intermediates=True)"
   ]
  },
  {
   "cell_type": "code",
   "execution_count": null,
   "metadata": {},
   "outputs": [],
   "source": [
    "plt.figure(figsize=(10,8))\n",
    "poppy.display_psf(psf2, vmin=1e-10, vmax=1e-5) # NOT contrast units\n",
    "plt.title(\"PSF with apodizer\")"
   ]
  },
  {
   "cell_type": "code",
   "execution_count": null,
   "metadata": {},
   "outputs": [],
   "source": [
    "# Extract the PSF array\n",
    "psf_ar = psf2[0].data"
   ]
  },
  {
   "cell_type": "code",
   "execution_count": null,
   "metadata": {},
   "outputs": [],
   "source": [
    "plt.imshow(psf_ar, vmin=1e-10, vmax=1e-7)"
   ]
  },
  {
   "cell_type": "markdown",
   "metadata": {},
   "source": [
    "### DH mask\n",
    "\n",
    "I need to get the image in the DH only, and for that I need a DH mask. I want to be able to tie that directly to $lambda/D$ in the focal plane, but because I don't know how to do that right, now I'll wing it by plugging in an estimated sampling. THe samplling will change based on how mich the images are binned, which is refelcted inthe configfile."
   ]
  },
  {
   "cell_type": "code",
   "execution_count": null,
   "metadata": {},
   "outputs": [],
   "source": [
    "dh_mask = util.create_dark_hole(psf_ar, iwa=5, owa=12, samp = 13)\n",
    "plt.imshow(dh_mask)\n",
    "plt.title('dh_mask')"
   ]
  },
  {
   "cell_type": "code",
   "execution_count": null,
   "metadata": {},
   "outputs": [],
   "source": [
    "test = psf_ar * dh_mask\n",
    "\n",
    "plt.figure()\n",
    "plt.imshow(test, vmin=1e-10, vmax=1e-8)\n",
    "plt.title('DH of HiCAT image')"
   ]
  },
  {
   "cell_type": "markdown",
   "metadata": {},
   "source": [
    "Looking good."
   ]
  },
  {
   "cell_type": "markdown",
   "metadata": {},
   "source": [
    "### Create a direct E2E PSF witih apodizer to obtain normalization factor\n",
    "\n",
    "No coronagraph, no aberrations. No coronagraph for the HiCAT case means no FPM, but the apodizer and according Lyot stop stay in, as does the Iris AO. I don't remember how to take direct images in the simulator. Do I just move the FPM out of the beam? Edit: Yes, with `hc.include_fpm = False`."
   ]
  },
  {
   "cell_type": "code",
   "execution_count": null,
   "metadata": {},
   "outputs": [],
   "source": [
    "# Set up the direct imaging mode for the HiCAT simulator\n",
    "hicat.include_fpm = False\n",
    "print(hc.describe())"
   ]
  },
  {
   "cell_type": "code",
   "execution_count": null,
   "metadata": {},
   "outputs": [],
   "source": [
    "# Calculate PSF\n",
    "psf_hc = hicat.calc_psf(display=False, return_intermediates=False)\n",
    "psf_perfect = psf_hc[0].data\n",
    "\n",
    "# Normalize PSF\n",
    "normp = np.max(psf_perfect)\n",
    "psf_perfect = psf_perfect / normp\n",
    "\n",
    "# Show PSF\n",
    "plt.figure(figsize=(15, 15))\n",
    "plt.imshow(psf_perfect, norm=LogNorm())\n",
    "plt.title('Direct PSF for normalization purposes')\n",
    "plt.colorbar()\n",
    "plt.show()\n",
    "\n",
    "print('PSf shape:', psf_perfect.shape)\n",
    "print('PSF max:', np.max(psf_perfect))"
   ]
  },
  {
   "cell_type": "markdown",
   "metadata": {},
   "source": [
    "### Set HiCAT up with the coronagraph\n",
    "\n",
    "Put the apodizer in, swap in the Lyot stop that goes with the apodizer and put the FPM back in."
   ]
  },
  {
   "cell_type": "code",
   "execution_count": null,
   "metadata": {},
   "outputs": [],
   "source": [
    "# Set up HiCAT with the coronagraph\n",
    "hc.apodizer = 'cnt1_apodizer'\n",
    "hc.lyot_stop = 'cnt1_apodizer_lyot_stop'\n",
    "hc.include_fpm = True\n",
    "print(hc.describe())"
   ]
  },
  {
   "cell_type": "markdown",
   "metadata": {},
   "source": [
    "## Control the Iris AO DM\n",
    "\n",
    "I can control the segments individually in PTT."
   ]
  },
  {
   "cell_type": "code",
   "execution_count": null,
   "metadata": {},
   "outputs": [],
   "source": [
    "hicat.iris_dm.flatten()\n",
    "hicat.iris_dm.set_actuator(35, 200*u.nm, 0, 0)  # adjust piston (m) without adding tip or tilt"
   ]
  },
  {
   "cell_type": "code",
   "execution_count": null,
   "metadata": {},
   "outputs": [],
   "source": [
    "# Display the pistoned segment in all planes\n",
    "plt.figure(figsize=(14,14))\n",
    "psf = hicat.calc_psf(display=True)"
   ]
  },
  {
   "cell_type": "markdown",
   "metadata": {},
   "source": [
    "We definitely get some extra structure in the dark hole from that. I looped thorugh all 37 segments to confirm I know they're numbered all right.\n",
    "\n",
    "Now lets do a pair of pistoned segments."
   ]
  },
  {
   "cell_type": "markdown",
   "metadata": {},
   "source": [
    "### Aberrating pairs of segments on the Iris AO"
   ]
  },
  {
   "cell_type": "code",
   "execution_count": null,
   "metadata": {},
   "outputs": [],
   "source": [
    "seg1 = 3\n",
    "seg2 = 6\n",
    "aber = 0 * u.nm\n",
    "\n",
    "hicat.iris_dm.flatten()\n",
    "hicat.iris_dm.set_actuator(seg1, aber, 0, 0)  # adjust piston (m) without adding tip or tilt\n",
    "hicat.iris_dm.set_actuator(seg2, aber, 0, 0)  # adjust piston (m) without adding tip or tilt"
   ]
  },
  {
   "cell_type": "code",
   "execution_count": null,
   "metadata": {},
   "outputs": [],
   "source": [
    "# Display the pistoned segment in all planes\n",
    "plt.figure(figsize=(14,14))\n",
    "psf, pair_waves = hicat.calc_psf(display=True, return_intermediates=True)"
   ]
  },
  {
   "cell_type": "code",
   "execution_count": null,
   "metadata": {},
   "outputs": [],
   "source": [
    "# Display the DH only\n",
    "psf_pair = psf[0].data/normp * dh_mask\n",
    "\n",
    "print('Aberration: {}'.format(aber))\n",
    "print('On segments {} and {}.'.format(seg1, seg2))\n",
    "\n",
    "plt.imshow(psf_pair, vmax=1e-5)"
   ]
  },
  {
   "cell_type": "code",
   "execution_count": null,
   "metadata": {},
   "outputs": [],
   "source": [
    "# Do I know how to claculate the contrast?\n",
    "c_test = util.dh_mean(psf[0].data/normp, dh_mask)\n",
    "print(c_test)"
   ]
  },
  {
   "cell_type": "markdown",
   "metadata": {},
   "source": [
    "Can I display the OPD on the IrisAO and save that?"
   ]
  },
  {
   "cell_type": "code",
   "execution_count": null,
   "metadata": {},
   "outputs": [],
   "source": [
    "# This gives me all the planes\n",
    "plt.figure(figsize=(8, 25))\n",
    "hc.display()"
   ]
  },
  {
   "cell_type": "code",
   "execution_count": null,
   "metadata": {},
   "outputs": [],
   "source": [
    "# This will display the phase in the third plane, the phase after the apodizer.\n",
    "plt.imshow(pair_waves[2].phase)"
   ]
  },
  {
   "cell_type": "markdown",
   "metadata": {},
   "source": [
    "It doesn't really give me an outline of the IrisAO so it's a bit hard to tell which segments are aberrated, but if I have many of these in sequence, it will be very easy to figure that out."
   ]
  },
  {
   "cell_type": "markdown",
   "metadata": {},
   "source": [
    "## Generate numerical PASTIS matrix\n",
    "\n",
    "Next, making the loop to generate one image per aberrated segment pair i, j and feeding the resulting contrast into the matrix element [i, j]."
   ]
  },
  {
   "cell_type": "code",
   "execution_count": null,
   "metadata": {},
   "outputs": [],
   "source": [
    "#-# Generating the PASTIS matrix\n",
    "#nb_seg = 36\n",
    "matrix_direct = np.zeros([nb_seg, nb_seg])   # Generate empty matrix\n",
    "aber = 100*u.nm\n",
    "\n",
    "print('aber: {}'.format(aber))\n",
    "\n",
    "# List for saving PSFs and DHs and contrasts\n",
    "all_psfs = []\n",
    "all_dhs = []\n",
    "all_contrasts = []\n",
    "\n",
    "for i in range(nb_seg):\n",
    "    for j in range(nb_seg):\n",
    "\n",
    "        print('STEP: {}-{} / {}-{}'.format(i+1, j+1, nb_seg, nb_seg))\n",
    "\n",
    "        # Putting aberrations on segments i and j\n",
    "        hicat.iris_dm.flatten()\n",
    "        \n",
    "        # Apply both aberrations to OTE. If i=j, apply only once!\n",
    "        hicat.iris_dm.set_actuator(i+1, aber, 0, 0)    # set segment i (segment numbering starts at 1)\n",
    "        if i != j:\n",
    "            hicat.iris_dm.set_actuator(j+1, aber, 0, 0)    # set segment j\n",
    "        \n",
    "        print('Calculating HiCAT sim image')\n",
    "        image, opds = hicat.calc_psf(display=False, return_intermediates=True)\n",
    "        psf = image[0].data/normp\n",
    "        \n",
    "        # Save OPD images of the IrisAO\n",
    "        iris_opd = opds[2].phase\n",
    "        opd_name = 'opd_piston_Noll1_segs_' + str(i+1) + '-' + str(j+1)\n",
    "        plt.clf()\n",
    "        plt.imshow(iris_opd)\n",
    "        plt.savefig(os.path.join('/Users/ilaginja/Documents/Git/PASTIS/Jupyter Notebooks/HiCAT', 'OTE_images', opd_name))\n",
    "        #plt.show()\n",
    "        \n",
    "        # Save HiCAT image to disk\n",
    "        filename_psf = 'psf_' + 'piston_Noll1_segs_' + str(i+1) + '-' + str(j+1)\n",
    "        util.write_fits(psf, os.path.join('/Users/ilaginja/Documents/Git/PASTIS/Jupyter Notebooks/HiCAT', 'psfs', filename_psf + '.fits'), header=None, metadata=None)\n",
    "        all_psfs.append(psf)\n",
    "        \n",
    "        print('Calculating mean contrast in dark hole')\n",
    "        dh_intensity = psf * dh_mask\n",
    "        contrast = np.mean(dh_intensity[np.where(dh_intensity != 0)])\n",
    "        print('contrast:', contrast)\n",
    "        \n",
    "        # Save DH image to disk and put current contrast in list\n",
    "        filename_dh = 'dh_piston_Noll1_segs_' + str(i+1) + '-' + str(j+1)\n",
    "        util.write_fits(dh_intensity, os.path.join('/Users/ilaginja/Documents/Git/PASTIS/Jupyter Notebooks/HiCAT', 'darkholes', filename_dh + '.fits'), header=None, metadata=None)\n",
    "        all_dhs.append(dh_intensity)\n",
    "        all_contrasts.append(contrast)\n",
    "        \n",
    "        # If you want to display the PSF and DH image\n",
    "        plt.figure(figsize=(15,10))\n",
    "        plt.subplot(1, 2, 1)\n",
    "        plt.imshow(psf, norm=LogNorm(), origin='lower')\n",
    "        plt.colorbar()\n",
    "        plt.title('PSF {}/{}'.format(i+1, j+1))\n",
    "        plt.subplot(1, 2, 2)\n",
    "        plt.imshow(dh_intensity, norm=LogNorm(), origin='lower')\n",
    "        plt.colorbar()\n",
    "        plt.title('DH image {}/{}'.format(i+1, j+1))\n",
    "        plt.show()\n",
    "\n",
    "        # Fill according entry in the matrix\n",
    "        matrix_direct[i,j] = contrast\n",
    "        \n",
    "all_psfs = np.array(all_psfs)\n",
    "all_dhs = np.array(all_dhs)\n",
    "all_contrasts = np.array(all_contrasts)\n",
    "\n",
    "print(\"All done\")"
   ]
  },
  {
   "cell_type": "code",
   "execution_count": null,
   "metadata": {},
   "outputs": [],
   "source": [
    "# Print the contrast values\n",
    "print('Measured mean contrasts in the dark holes, per single aberrated segment:')\n",
    "print(all_contrasts)\n",
    "print('Mean:', np.mean(all_contrasts))\n",
    "print('Min:', np.min(all_contrasts))\n",
    "print('Max:', np.max(all_contrasts))"
   ]
  },
  {
   "cell_type": "code",
   "execution_count": null,
   "metadata": {},
   "outputs": [],
   "source": [
    "# You can flick through the images here\n",
    "imnum1 = 6\n",
    "\n",
    "# Figure out what segment pair the number \"imnum\" corresponds to\n",
    "seg1 = int(np.floor(imnum1/nb_seg)) + 1\n",
    "seg2 = imnum1%nb_seg + 1\n",
    "\n",
    "plt.figure(figsize=(18, 9))\n",
    "plt.suptitle('Segment pair:' + str(seg1) + '-' + str(seg2))\n",
    "plt.subplot(1, 2, 1)\n",
    "plt.imshow(all_psfs[imnum1], norm=LogNorm(), origin='lower')\n",
    "plt.title('Whole PSF')\n",
    "plt.subplot(1, 2, 2)\n",
    "plt.imshow(all_dhs[imnum1], norm=LogNorm(), origin='lower')\n",
    "plt.title('Dark hole')\n",
    "plt.show()"
   ]
  },
  {
   "cell_type": "code",
   "execution_count": null,
   "metadata": {},
   "outputs": [],
   "source": [
    "# Testing what area the mean is taken of\n",
    "test_dh = np.copy(all_dhs[imnum1])\n",
    "test_dh[np.where(test_dh != 0)] = 10000\n",
    "\n",
    "zoomim = 50\n",
    "\n",
    "plt.figure(figsize=(18, 9))\n",
    "plt.subplot(1, 2, 1)\n",
    "plt.imshow(util.zoom_cen(all_dhs[imnum1], zoomim), norm=LogNorm(), origin='lower')\n",
    "plt.title('DH image')\n",
    "plt.subplot(1, 2, 2)\n",
    "plt.imshow(util.zoom_cen(dh_mask, zoomim), origin='lower')\n",
    "plt.title('Marked DH')\n",
    "plt.show()"
   ]
  },
  {
   "cell_type": "code",
   "execution_count": null,
   "metadata": {},
   "outputs": [],
   "source": [
    "count_test = np.count_nonzero(dh_mask)\n",
    "count_dh = np.count_nonzero(all_dhs[imnum1])\n",
    "print('Number of pixels in marked array:', count_test)\n",
    "print('Number of pixels in DH array:', count_dh)\n",
    "print('Mean in marked array:', np.sum(test_dh)/count_test)\n",
    "print('Mean in DH array:', np.sum(all_dhs[imnum1])/count_dh)"
   ]
  },
  {
   "cell_type": "code",
   "execution_count": null,
   "metadata": {},
   "outputs": [],
   "source": [
    "# Display the matrix\n",
    "plt.imshow(matrix_direct)\n",
    "plt.title('Numerical matrix')\n",
    "plt.show()"
   ]
  },
  {
   "cell_type": "code",
   "execution_count": null,
   "metadata": {},
   "outputs": [],
   "source": [
    "print(matrix_direct)"
   ]
  },
  {
   "cell_type": "markdown",
   "metadata": {},
   "source": [
    "## Calculating the off-axis elements\n",
    "\n",
    "Analogous to the off-axis elements in the analytical matrix (see notebook: **6_Testing analytical matrix generation**), we need to correct the off-axis elements."
   ]
  },
  {
   "cell_type": "code",
   "execution_count": null,
   "metadata": {},
   "outputs": [],
   "source": [
    "# Filling the off-axis elements\n",
    "matrix_two_N = np.copy(matrix_direct)      # This is just an intermediary copy so that I don't mix things up.\n",
    "matrix_pastis = np.copy(matrix_direct)     # This will be the final PASTIS matrix.\n",
    "\n",
    "for i in range(nb_seg):\n",
    "    for j in range(nb_seg):\n",
    "        if i != j:\n",
    "            matrix_off_val = (matrix_two_N[i,j] - matrix_two_N[i,i] - matrix_two_N[j,j]) / 2.\n",
    "            matrix_pastis[i,j] = matrix_off_val\n",
    "            print('Off-axis for i{}-j{}: {}'.format(i+1, j+1, matrix_off_val))"
   ]
  },
  {
   "cell_type": "code",
   "execution_count": null,
   "metadata": {},
   "outputs": [],
   "source": [
    "# Normalize matrix for the input aberration\n",
    "matrix_pastis /= np.square(aber.value)"
   ]
  },
  {
   "cell_type": "markdown",
   "metadata": {},
   "source": [
    "Save the matrix."
   ]
  },
  {
   "cell_type": "code",
   "execution_count": null,
   "metadata": {},
   "outputs": [],
   "source": [
    "# Save matrix to file\n",
    "where_to = '/Users/ilaginja/Documents/Git/PASTIS/Jupyter Notebooks/HiCAT'\n",
    "filename_matrix = 'PASTISmatrix_num_HiCAT_piston_Noll1'\n",
    "util.write_fits(matrix_pastis, os.path.join(where_to, filename_matrix + '.fits'), header=None, metadata=None)\n",
    "print('Matrix saved to:', os.path.join(where_to, filename_matrix + '.fits'))"
   ]
  },
  {
   "cell_type": "markdown",
   "metadata": {},
   "source": [
    "## Displaying the results from the integrated script on the repo\n",
    "\n",
    "### *-- Can't do this for HiCAT yet --*"
   ]
  },
  {
   "cell_type": "code",
   "execution_count": null,
   "metadata": {},
   "outputs": [],
   "source": [
    "# Read the matrix\n",
    "filename_matrix = 'PASTISmatrix_num_' + zern_mode.name + '_' + zern_mode.convention + str(zern_mode.index)\n",
    "matrix = fits.getdata(os.path.join(resDir, filename_matrix + '.fits'))\n",
    "\n",
    "# Read the PSFs\n",
    "psf_cube = fits.getdata(os.path.join(resDir, 'psfs', 'psf_cube' + '.fits'))\n",
    "\n",
    "# Read the DH images\n",
    "dh_cube = fits.getdata(os.path.join(resDir, 'darkholes', 'dh_cube' + '.fits'))\n",
    "\n",
    "# Read the contrasts\n",
    "con = np.loadtxt(os.path.join(resDir, 'pair-wise_contrasts.txt'))"
   ]
  },
  {
   "cell_type": "code",
   "execution_count": null,
   "metadata": {},
   "outputs": [],
   "source": [
    "# Display numerical matrix\n",
    "plt.figure(figsize=(20, 20))\n",
    "plt.imshow(matrix, origin='lower')\n",
    "plt.show()"
   ]
  },
  {
   "cell_type": "code",
   "execution_count": null,
   "metadata": {},
   "outputs": [],
   "source": [
    "# You can flick through the images here\n",
    "nb_seg = 18   # this has to be the same number like in the script you ran\n",
    "imnum2 = 200\n",
    "\n",
    "# Figure out what segment pair the number \"imnum\" corresponds ro\n",
    "seg1 = int(np.floor(imnum2/nb_seg)) + 1\n",
    "seg2 = imnum2%nb_seg + 1\n",
    "\n",
    "plt.figure(figsize=(18, 9))\n",
    "plt.suptitle('Segment pair:' + str(seg1) + '-' + str(seg2))\n",
    "plt.subplot(1, 2, 1)\n",
    "plt.imshow(psf_cube[imnum2], norm=LogNorm(), origin='lower')\n",
    "plt.title('Whole PSF')\n",
    "plt.subplot(1, 2, 2)\n",
    "plt.imshow(dh_cube[imnum2], norm=LogNorm(), origin='lower')\n",
    "plt.title('Dark hole')\n",
    "plt.show()"
   ]
  },
  {
   "cell_type": "code",
   "execution_count": null,
   "metadata": {},
   "outputs": [],
   "source": []
  }
 ],
 "metadata": {
  "kernelspec": {
   "display_name": "Python 3",
   "language": "python",
   "name": "python3"
  },
  "language_info": {
   "codemirror_mode": {
    "name": "ipython",
    "version": 3
   },
   "file_extension": ".py",
   "mimetype": "text/x-python",
   "name": "python",
   "nbconvert_exporter": "python",
   "pygments_lexer": "ipython3",
   "version": "3.7.3"
  }
 },
 "nbformat": 4,
 "nbformat_minor": 2
}
