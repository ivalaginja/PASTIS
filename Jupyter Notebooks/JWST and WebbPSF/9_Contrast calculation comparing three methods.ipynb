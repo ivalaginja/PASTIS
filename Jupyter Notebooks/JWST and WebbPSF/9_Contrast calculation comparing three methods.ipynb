{
 "cells": [
  {
   "cell_type": "markdown",
   "metadata": {},
   "source": [
    "# Contrast calculation comparing three methods\n",
    "\n",
    "Comparing E2E DH contrast vs. contrast from PASTIS image DH vs. PASTIS matrix contrast; following script `contrast_calculation_simple.py` but with less ouputs."
   ]
  },
  {
   "cell_type": "code",
   "execution_count": null,
   "metadata": {
    "collapsed": true
   },
   "outputs": [],
   "source": [
    "import os\n",
    "import numpy as np\n",
    "from astropy.io import fits\n",
    "import astropy.units as u\n",
    "import matplotlib.pyplot as plt\n",
    "from matplotlib.colors import LogNorm\n",
    "%matplotlib inline\n",
    "\n",
    "os.chdir('../../pastis/')\n",
    "from config import CONFIG_PASTIS\n",
    "import util as util\n",
    "import image_pastis as impastis\n",
    "import webbpsf_imaging as webbim"
   ]
  },
  {
   "cell_type": "code",
   "execution_count": null,
   "metadata": {
    "collapsed": true
   },
   "outputs": [],
   "source": [
    "# Reading parameters from configfile\n",
    "dataDir = os.path.join(CONFIG_PASTIS.get('local', 'local_data_path'), 'active')\n",
    "which_tel = CONFIG_PASTIS.get('telescope', 'name')\n",
    "nb_seg = CONFIG_PASTIS.getint(which_tel, 'nb_subapertures')\n",
    "filter = CONFIG_PASTIS.get(which_tel, 'filter_name')\n",
    "fpm = CONFIG_PASTIS.get(which_tel, 'focal_plane_mask')         # focal plane mask\n",
    "lyot_stop = CONFIG_PASTIS.get(which_tel, 'pupil_plane_stop')   # Lyot stop\n",
    "inner_wa = CONFIG_PASTIS.getint(which_tel, 'IWA')\n",
    "outer_wa = CONFIG_PASTIS.getint(which_tel, 'OWA')\n",
    "sampling = CONFIG_PASTIS.getfloat(which_tel, 'sampling')\n",
    "zern_number = CONFIG_PASTIS.getint('calibration', 'zernike')\n",
    "zern_mode = util.ZernikeMode(zern_number)\n",
    "zern_max = CONFIG_PASTIS.getint('zernikes', 'max_zern')\n",
    "wvln = CONFIG_PASTIS.getfloat(which_tel, 'lambda') * u.nm"
   ]
  },
  {
   "cell_type": "code",
   "execution_count": null,
   "metadata": {
    "collapsed": true
   },
   "outputs": [],
   "source": [
    "# Define matrix mode (numerical or analytical)\n",
    "matrix_mode = 'analytical'\n",
    "# Define RMS value to work with\n",
    "rms = 100 * u.nm"
   ]
  },
  {
   "cell_type": "code",
   "execution_count": null,
   "metadata": {
    "collapsed": true
   },
   "outputs": [],
   "source": [
    "# Import PASTIS matrix\n",
    "if matrix_mode == 'numerical':\n",
    "    filename = 'PASTISmatrix_num_' + zern_mode.name + '_' + zern_mode.convention + str(zern_mode.index)\n",
    "    matrix_pastis = fits.getdata(os.path.join(dataDir, 'matrix_numerical', filename + '.fits'))\n",
    "elif matrix_mode == 'analytical':\n",
    "    filename = 'PASTISmatrix_' + zern_mode.name + '_' + zern_mode.convention + str(zern_mode.index)\n",
    "    matrix_pastis = fits.getdata(os.path.join(dataDir, 'matrix_analytical', filename + '.fits'))"
   ]
  },
  {
   "cell_type": "code",
   "execution_count": null,
   "metadata": {
    "collapsed": true
   },
   "outputs": [],
   "source": [
    "# Display the matrix\n",
    "plt.figure(figsize=(10, 10))\n",
    "plt.imshow(matrix_pastis)"
   ]
  },
  {
   "cell_type": "code",
   "execution_count": null,
   "metadata": {
    "collapsed": true
   },
   "outputs": [],
   "source": [
    "# Load baseline contrast\n",
    "contrastname = 'base-contrast_' + zern_mode.name + '_' + zern_mode.convention + str(zern_mode.index)\n",
    "contrast_base = float(np.loadtxt(os.path.join(dataDir, 'calibration', contrastname+'.txt')))\n",
    "print(\"Base contrast: {:.2e}\".format(contrast_base))"
   ]
  },
  {
   "cell_type": "markdown",
   "metadata": {},
   "source": [
    "### Generate random aberraiton coefficients normalized to rms value"
   ]
  },
  {
   "cell_type": "code",
   "execution_count": null,
   "metadata": {
    "collapsed": true
   },
   "outputs": [],
   "source": [
    "# Create random aberration coefficients - piston only\n",
    "Aber = np.random.random([nb_seg])     # piston values in input units\n",
    "\n",
    "# Remove global piston\n",
    "Aber -= np.mean(Aber)\n",
    "\n",
    "print('PISTON ABERRATIONS:', Aber)"
   ]
  },
  {
   "cell_type": "code",
   "execution_count": null,
   "metadata": {
    "collapsed": true
   },
   "outputs": [],
   "source": [
    "# Normalize to the RMS value I want\n",
    "rms_init = util.rms(Aber)\n",
    "print(\"Initial rms: {} nm\".format(rms_init))\n",
    "coef = Aber * rms.value / rms_init\n",
    "calc_rms = util.rms(coef) * u.nm\n",
    "coef *= u.nm    # making sure the aberration has the correct units\n",
    "print(\"Calculated RMS:\", calc_rms)\n",
    "\n",
    "# Modulo wavelength to get rid of phase wrapping\n",
    "for i, k in enumerate(coef):\n",
    "    if k < 0:\n",
    "        coef[i] = -(np.abs(coef[i]) % wvln)\n",
    "    else:\n",
    "        coef[i] = coef[i] % wvln\n",
    "print(coef)\n",
    "print(\"Wavelength: {}\".format(wvln))"
   ]
  },
  {
   "cell_type": "code",
   "execution_count": null,
   "metadata": {
    "collapsed": true
   },
   "outputs": [],
   "source": [
    "# Make equivalent aberration array that goes into the WebbPSF function\n",
    "Aber_WSS = np.zeros([nb_seg, zern_max])\n",
    "Aber_WSS[:,0] = coef.to(u.m).value   # index \"0\" works because we're using piston currently; convert to meters\n",
    "\n",
    "print(\"WebbPSF aberrations in meters:\\n\", Aber_WSS)"
   ]
  },
  {
   "cell_type": "markdown",
   "metadata": {},
   "source": [
    "## Baseline direct PSF contrast"
   ]
  },
  {
   "cell_type": "code",
   "execution_count": null,
   "metadata": {
    "collapsed": true
   },
   "outputs": [],
   "source": [
    "# Generating baseline PSF from WebbPSF - no coronagraph, no aberrations - and normalize it\n",
    "psf_perfect = webbim.nircam_nocoro(filter, np.zeros_like(Aber_WSS))\n",
    "normp = np.max(psf_perfect)\n",
    "psf_perfect = psf_perfect / normp\n",
    "\n",
    "plt.figure(figsize=(10, 10))\n",
    "plt.imshow(psf_perfect, norm=LogNorm())"
   ]
  },
  {
   "cell_type": "markdown",
   "metadata": {},
   "source": [
    "## Contrast calculations\n",
    "\n",
    "### WebbPSF coro"
   ]
  },
  {
   "cell_type": "code",
   "execution_count": null,
   "metadata": {
    "collapsed": true
   },
   "outputs": [],
   "source": [
    "psf_webbpsf = webbim.nircam_coro(filter, fpm, lyot_stop, Aber_WSS)\n",
    "psf_webbpsf = psf_webbpsf / normp\n",
    "\n",
    "plt.figure(figsize=(10, 10))\n",
    "plt.imshow(psf_webbpsf, norm=LogNorm())\n",
    "plt.title(\"WebbPSF coro PSF\")"
   ]
  },
  {
   "cell_type": "code",
   "execution_count": null,
   "metadata": {
    "collapsed": true
   },
   "outputs": [],
   "source": [
    "# Take the DH\n",
    "dh_area = util.create_dark_hole(psf_webbpsf, inner_wa, outer_wa, sampling)\n",
    "webb_dh_psf = psf_webbpsf * dh_area\n",
    "\n",
    "dh_box = (outer_wa + 3)* sampling\n",
    "\n",
    "plt.figure(figsize=(10, 10))\n",
    "plt.imshow(util.zoom_cen(webb_dh_psf, dh_box), norm=LogNorm())\n",
    "plt.colorbar()\n",
    "plt.title(\"WebbPSF coro DH\")"
   ]
  },
  {
   "cell_type": "code",
   "execution_count": null,
   "metadata": {
    "collapsed": true
   },
   "outputs": [],
   "source": [
    "# Calculate WebbPSF DH contrast\n",
    "contrast_webbpsf = np.mean(webb_dh_psf[np.where(webb_dh_psf != 0)])\n",
    "print(\"WebbPSF contrast: {:.2e}\".format(contrast_webbpsf))"
   ]
  },
  {
   "cell_type": "markdown",
   "metadata": {},
   "source": [
    "### PASTIS image"
   ]
  },
  {
   "cell_type": "code",
   "execution_count": null,
   "metadata": {
    "collapsed": true
   },
   "outputs": [],
   "source": [
    "# Generate analytical image with PASTIS\n",
    "psf_am, full_psf = impastis.analytical_model(zern_number, coef, cali=True)\n",
    "\n",
    "# Display full PSF\n",
    "plt.figure(figsize=(10, 10))\n",
    "plt.imshow(util.zoom_cen(full_psf, psf_webbpsf.shape[0]/2), norm=LogNorm())\n",
    "plt.title(\"PSF image PSF\")"
   ]
  },
  {
   "cell_type": "code",
   "execution_count": null,
   "metadata": {
    "collapsed": true
   },
   "outputs": [],
   "source": [
    "# Display PASTIS image DH\n",
    "plt.figure(figsize=(10, 10))\n",
    "plt.imshow(util.zoom_cen(psf_am, dh_box), norm=LogNorm())\n",
    "plt.colorbar()\n",
    "plt.title(\"PASTIS image DH\")"
   ]
  },
  {
   "cell_type": "code",
   "execution_count": null,
   "metadata": {
    "collapsed": true
   },
   "outputs": [],
   "source": [
    "# Calculate PASTIS image DH contrast\n",
    "contrast_am = np.mean(psf_am[np.where(psf_am != 0)]) + contrast_base\n",
    "print(\"PASTIS image constrast: {:.2e}\".format(contrast_am))"
   ]
  },
  {
   "cell_type": "markdown",
   "metadata": {},
   "source": [
    "### PASTIS matrix"
   ]
  },
  {
   "cell_type": "code",
   "execution_count": null,
   "metadata": {
    "collapsed": true
   },
   "outputs": [],
   "source": [
    "# Calculate contrast with PASTIS matrix\n",
    "contrast_matrix = util.pastis_contrast(coef, matrix_pastis) + contrast_base\n",
    "print(\"PASTIS matrix constrast: {:.2e}\".format(contrast_matrix))"
   ]
  },
  {
   "cell_type": "markdown",
   "metadata": {},
   "source": [
    "## Final display"
   ]
  },
  {
   "cell_type": "code",
   "execution_count": null,
   "metadata": {
    "collapsed": true
   },
   "outputs": [],
   "source": [
    "plt.figure(figsize=(18, 9))\n",
    "plt.subplot(1, 2, 1)\n",
    "plt.imshow(util.zoom_cen(webb_dh_psf, dh_box), norm=LogNorm())\n",
    "plt.colorbar()\n",
    "plt.title(\"WebPSF DH\")\n",
    "plt.subplot(1, 2, 2)\n",
    "plt.imshow(util.zoom_cen(psf_am, dh_box), norm=LogNorm())\n",
    "plt.colorbar()\n",
    "plt.title(\"PASTIS DH\")\n",
    "\n",
    "print(\"CONTRASTS:\")\n",
    "print(\"WebbPSF: {:.2e}\".format(contrast_webbpsf))\n",
    "print(\"PASTIS image: {:.2e}\".format(contrast_am))\n",
    "print(\"PASTIS matrix: {:.2e}\".format(contrast_matrix))"
   ]
  },
  {
   "cell_type": "code",
   "execution_count": null,
   "metadata": {
    "collapsed": true
   },
   "outputs": [],
   "source": []
  }
 ],
 "metadata": {
  "kernelspec": {
   "display_name": "Python 3",
   "language": "python",
   "name": "python3"
  },
  "language_info": {
   "codemirror_mode": {
    "name": "ipython",
    "version": 3
   },
   "file_extension": ".py",
   "mimetype": "text/x-python",
   "name": "python",
   "nbconvert_exporter": "python",
   "pygments_lexer": "ipython3",
   "version": "3.6.8"
  }
 },
 "nbformat": 4,
 "nbformat_minor": 2
}
