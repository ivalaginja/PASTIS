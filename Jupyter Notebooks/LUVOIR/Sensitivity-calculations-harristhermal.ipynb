{
 "cells": [
  {
   "cell_type": "markdown",
   "metadata": {},
   "source": [
    "# Stability calculations\n",
    "\n",
    "## -- LUVOIR --\n",
    "\n",
    "In notebook 10, we calculated the PASTIS modes for all three currently designed apodizers for the LUVOIR A pupil. In this notebook, we will load the modes and calculate the maximum mode contributions $\\sigma$ and strability requirements $\\Delta \\sigma$.\n",
    "\n",
    "After that I also calculate the maximum segment contributions $\\mu$."
   ]
  },
  {
   "cell_type": "code",
   "execution_count": null,
   "metadata": {},
   "outputs": [],
   "source": [
    "# Imports\n",
    "import os\n",
    "import numpy as np\n",
    "import matplotlib.pyplot as plt\n",
    "from matplotlib.colors import LogNorm\n",
    "%matplotlib inline\n",
    "from astropy.io import fits\n",
    "import astropy.units as u\n",
    "import hcipy as hc\n",
    "\n",
    "os.chdir('../../pastis/')\n",
    "import util_pastis as util\n",
    "from e2e_simulators.luvoir_imaging_new import LuvoirAPLC"
   ]
  },
  {
   "cell_type": "code",
   "execution_count": null,
   "metadata": {},
   "outputs": [],
   "source": [
    "plt.rcParams['font.family'] = \"sans-serif\"\n",
    "plt.rcParams[\"font.sans-serif\"] = [\"Computer Modern Sans\"]\n",
    "plt.rcParams[\"text.usetex\"] = True\n",
    "plt.rcParams[\"text.latex.preamble\"] = r\"\\usepackage{cmbright}\"\n",
    "plt.rcParams['font.size'] = 16\n",
    "plt.rcParams['axes.labelsize'] = 22\n",
    "plt.rcParams['axes.labelweight'] = 'bold'\n",
    "plt.rcParams['xtick.labelsize'] = 16\n",
    "plt.rcParams['ytick.labelsize'] = 16\n",
    "plt.rcParams['legend.fontsize'] = 16\n",
    "plt.rcParams['figure.titlesize'] = 16"
   ]
  },
  {
   "cell_type": "markdown",
   "metadata": {},
   "source": [
    "## Instantiate a simple SM for mode plotting\n",
    "\n",
    "I need to simplify this... I can make a child class like I did for the full LUVOIR simulator."
   ]
  },
  {
   "cell_type": "code",
   "execution_count": null,
   "metadata": {},
   "outputs": [],
   "source": [
    "# Load aperture files needed for SM\n",
    "nseg = 120\n",
    "wvln = 638e-9\n",
    "\n",
    "datadir = '/Users/pueyo/PythonPackages/PASTIS/LUVOIR_delivery_May2019/'\n",
    "aper_path = 'inputs/TelAp_LUVOIR_gap_pad01_bw_ovsamp04_N1000.fits'\n",
    "aper_ind_path = 'inputs/TelAp_LUVOIR_gap_pad01_bw_ovsamp04_N1000_indexed.fits'\n",
    "aper_read = hc.read_fits(os.path.join(datadir, aper_path))\n",
    "aper_ind_read = hc.read_fits(os.path.join(datadir, aper_ind_path))\n",
    "\n",
    "pupil_grid = hc.make_pupil_grid(dims=aper_ind_read.shape[0], diameter=15)\n",
    "aper = hc.Field(aper_read.ravel(), pupil_grid)\n",
    "aper_ind = hc.Field(aper_ind_read.ravel(), pupil_grid)\n",
    "\n",
    "wf_aper = hc.Wavefront(aper, wvln)\n",
    "\n",
    "# Load segment positions from fits header\n",
    "hdr = fits.getheader(os.path.join(datadir, aper_ind_path))\n",
    "\n",
    "poslist = []\n",
    "for i in range(nseg):\n",
    "    segname = 'SEG' + str(i+1)\n",
    "    xin = hdr[segname + '_X']\n",
    "    yin = hdr[segname + '_Y']\n",
    "    poslist.append((xin, yin))\n",
    "    \n",
    "poslist = np.transpose(np.array(poslist))\n",
    "seg_pos = hc.CartesianGrid(hc.UnstructuredCoords(poslist))"
   ]
  },
  {
   "cell_type": "markdown",
   "metadata": {},
   "source": [
    "## Mode and eigenvalue units\n",
    "\n",
    "Since the matrices got generated normalized to an aberration of 1 nm, everything stemming from the matrix will be in units of **nanometers**. --> This is the desired behaviour of course and is yet to be confirmed, which is one of the goals of this notebook."
   ]
  },
  {
   "cell_type": "code",
   "execution_count": null,
   "metadata": {},
   "outputs": [],
   "source": [
    "eunit = 1e-9"
   ]
  },
  {
   "cell_type": "markdown",
   "metadata": {},
   "source": [
    "## Also instantiate a LUVOR telescope\n",
    "\n",
    "For cumulative contrast calculation.\n",
    "\n",
    "> **ATTENTION:** the variable `apodizer_design` has to be correct for the data we are reading with the variable `savedpath` further below!!!"
   ]
  },
  {
   "cell_type": "code",
   "execution_count": null,
   "metadata": {},
   "outputs": [],
   "source": [
    "savedpath = '/Users/pueyo/Documents/data_from_repos/pastis_data/2020-06-22T14-01-35_luvoir-medium'   # large apodizer LUVOIR\n",
    "matrix = fits.getdata(os.path.join(savedpath, 'matrix_numerical', 'PASTISmatrix_num_Multiple_Modes_Harris_Thermal.fits'))\n",
    "plt.figure(figsize=(10, 10))\n",
    "plt.imshow(matrix)\n",
    "plt.colorbar()"
   ]
  },
  {
   "cell_type": "code",
   "execution_count": null,
   "metadata": {},
   "outputs": [],
   "source": [
    "# Instantiate LUVOIR\n",
    "sampling = 4\n",
    "apodizer_design = 'medium'\n",
    "# This path is specific to the paths used in the LuvoirAPLC class\n",
    "optics_input = '/Users/pueyo/PythonPackages/PASTIS/LUVOIR_delivery_May2019/'\n",
    "luvoir = LuvoirAPLC(optics_input, apodizer_design, sampling)"
   ]
  },
  {
   "cell_type": "code",
   "execution_count": null,
   "metadata": {},
   "outputs": [],
   "source": [
    "Pad_orients = np.pi / 2 * np.ones(120)\n",
    "harris_file = '/Users/pueyo/Desktop/ULTRA/HarrisData/Sensitivities2.xlsx'\n",
    "luvoir.make_segment_Harris_thermal_primary(harris_file, Pad_orients)"
   ]
  },
  {
   "cell_type": "code",
   "execution_count": null,
   "metadata": {},
   "outputs": [],
   "source": [
    "zernike_coeffs = np.zeros([5*120])\n",
    "zernike_coeffs[4] = eunit\n",
    "luvoir.sm.actuators = zernike_coeffs\n",
    "wf_sm = luvoir.sm(luvoir.wf_aper)\n",
    "plt.figure(figsize=(10, 10))\n",
    "hc.imshow_field(wf_sm.phase)"
   ]
  },
  {
   "cell_type": "code",
   "execution_count": null,
   "metadata": {},
   "outputs": [],
   "source": [
    "zernike_coeffs = np.zeros([5*120])\n",
    "zernike_coeffs[4] = 0\n",
    "luvoir.sm.actuators = zernike_coeffs\n",
    "wf_sm = luvoir.sm(luvoir.wf_aper)\n",
    "psf_unaber, ref = luvoir.calc_psf(ref=True)\n",
    "norm = ref.max()"
   ]
  },
  {
   "cell_type": "code",
   "execution_count": null,
   "metadata": {},
   "outputs": [],
   "source": [
    "psf_unaber, ref = luvoir.calc_psf(ref=True)\n",
    "norm = ref.max()\n",
    "plt.figure(figsize=(10, 10))\n",
    "hc.imshow_field(psf_unaber, norm=LogNorm())"
   ]
  },
  {
   "cell_type": "code",
   "execution_count": null,
   "metadata": {},
   "outputs": [],
   "source": [
    "# Make dark hole\n",
    "dh_outer = hc.circular_aperture(2*luvoir.apod_dict[apodizer_design]['owa'] * luvoir.lam_over_d)(luvoir.focal_det)\n",
    "dh_inner = hc.circular_aperture(2*luvoir.apod_dict[apodizer_design]['iwa'] * luvoir.lam_over_d)(luvoir.focal_det)\n",
    "dh_mask = (dh_outer - dh_inner).astype('bool')"
   ]
  },
  {
   "cell_type": "code",
   "execution_count": null,
   "metadata": {},
   "outputs": [],
   "source": [
    "dh_intensity = psf_unaber/norm * dh_mask\n",
    "baseline_contrast = np.mean(dh_intensity[np.where(dh_intensity != 0)])\n",
    "print('contrast:', baseline_contrast)"
   ]
  },
  {
   "cell_type": "markdown",
   "metadata": {},
   "source": [
    "## Read eigenmodes and eigenvalues"
   ]
  },
  {
   "cell_type": "code",
   "execution_count": null,
   "metadata": {},
   "outputs": [],
   "source": [
    "evals, evecs = np.linalg.eig(matrix)\n",
    "sorted_evals = np.sort(evals)\n",
    "sorted_indices = np.argsort(evals)\n",
    "sorted_evecs = evecs[:, sorted_indices]\n",
    "plt.figure(figsize=(14, 8))\n",
    "#plt.plot(evals, label='Unsorted from eigendecomposition')\n",
    "plt.plot(sorted_evals, label='Sorted lowest to highest evals')\n",
    "plt.semilogy()\n",
    "plt.xlabel('Eigenmodes')\n",
    "plt.ylabel('Log Eigenvalues')\n",
    "plt.legend()"
   ]
  },
  {
   "cell_type": "code",
   "execution_count": null,
   "metadata": {},
   "outputs": [],
   "source": [
    "# Lets compute all modes now for LUVOIR with an HCIPy SM\n",
    "emodes = []\n",
    "\n",
    "for mode in range(len(evals)):\n",
    "    print('Working on mode {}/{}.'.format(mode+1, len(evals)))\n",
    "    \n",
    "    zernike_coeffs = eunit*sorted_evecs[:, mode]/2\n",
    "    luvoir.sm.actuators = zernike_coeffs\n",
    "    wf_sm = luvoir.sm(luvoir.wf_aper)\n",
    "    emodes.append(wf_sm.phase)"
   ]
  },
  {
   "cell_type": "markdown",
   "metadata": {},
   "source": [
    "## Segment based constraints"
   ]
  },
  {
   "cell_type": "code",
   "execution_count": null,
   "metadata": {},
   "outputs": [],
   "source": [
    "plt.rcParams['font.family'] = \"sans-serif\"\n",
    "plt.rcParams[\"font.sans-serif\"] = [\"Computer Modern Sans\"]\n",
    "plt.rcParams[\"text.usetex\"] = True\n",
    "plt.rcParams[\"text.latex.preamble\"] = r\"\\usepackage{cmbright}\"\n",
    "plt.rcParams['font.size'] = 16\n",
    "plt.rcParams['axes.labelsize'] = 22\n",
    "plt.rcParams['axes.labelweight'] = 'bold'\n",
    "plt.rcParams['xtick.labelsize'] = 16\n",
    "plt.rcParams['ytick.labelsize'] = 16\n",
    "plt.rcParams['legend.fontsize'] = 16\n",
    "plt.rcParams['figure.titlesize'] = 16"
   ]
  },
  {
   "cell_type": "code",
   "execution_count": null,
   "metadata": {},
   "outputs": [],
   "source": [
    "c_target = 1e-10"
   ]
  },
  {
   "cell_type": "code",
   "execution_count": null,
   "metadata": {},
   "outputs": [],
   "source": [
    "number_of_modes = luvoir.sm.num_actuators\n",
    "# Calculate the inverse of the pastis MODE matrix\n",
    "modestosegs = np.linalg.pinv(sorted_evecs)\n",
    "\n",
    "# # Calculate all mean contrasts of the pastis modes directly (as-is, with natural normalization)\n",
    "# c_avg = []\n",
    "# for i in range(number_of_modes):\n",
    "#     c_avg.append(util.pastis_contrast(sorted_evecs[:, i] * u.nm, matrix) + baseline_contrast)\n",
    "\n",
    "# # Calculate segment requirements\n",
    "# mu_map = np.sqrt(\n",
    "#     ((c_target - baseline_contrast) / number_of_modes) / (np.dot(c_avg - baseline_contrast, np.square(modestosegs))))\n",
    "\n",
    "# Calculate all mean contrasts of the pastis modes directly (as-is, with natural normalization)\n",
    "c_avg = []\n",
    "for i in range(number_of_modes):\n",
    "    c_avg.append(util.pastis_contrast(sorted_evecs[:, i] * u.nm, matrix) )\n",
    "\n",
    "# Calculate segment requirements\n",
    "mu_map = np.sqrt(\n",
    "    ((c_target ) / number_of_modes) / (np.dot(c_avg, np.square(modestosegs))))"
   ]
  },
  {
   "cell_type": "code",
   "execution_count": null,
   "metadata": {},
   "outputs": [],
   "source": [
    "zernike_coeffs = np.zeros([5*120])\n",
    "luvoir.sm.actuators = zernike_coeffs\n",
    "wf_sm = luvoir.sm(luvoir.wf_aper)\n",
    "psf_unaber, ref, inter_unaber = luvoir.calc_psf(ref=True, return_intermediate='efield')"
   ]
  },
  {
   "cell_type": "code",
   "execution_count": null,
   "metadata": {},
   "outputs": [],
   "source": [
    "zernike_coeffs = mu_map*eunit/2\n",
    "luvoir.sm.actuators = zernike_coeffs\n",
    "luvoir.sm(luvoir.wf_aper)\n",
    "psf, ref, inter = luvoir.calc_psf(ref=True, return_intermediate='efield')\n",
    "plt.figure(figsize=(10, 10))\n",
    "hc.imshow_field(psf.intensity/norm, norm=LogNorm())\n",
    "plt.colorbar()\n",
    "dh_intensity = np.abs(psf.electric_field - psf_unaber.electric_field)**2/norm \n",
    "test_contrast = np.mean(dh_intensity[np.where(dh_intensity != 0)])\n",
    "print('contrast:', test_contrast)"
   ]
  },
  {
   "cell_type": "code",
   "execution_count": null,
   "metadata": {},
   "outputs": [],
   "source": [
    "N_zernike = 5\n",
    "zernike_coeffs_numaps_Drifts = np.zeros([N_zernike,120])\n",
    "for qq in range(N_zernike):\n",
    "    zernike_coeffs_tmp = np.zeros([120])\n",
    "    for pp in range(120):\n",
    "        zernike_coeffs_tmp[pp] = mu_map[qq+(pp)*N_zernike]\n",
    "    zernike_coeffs_numaps_Drifts[qq] = zernike_coeffs_tmp"
   ]
  },
  {
   "cell_type": "code",
   "execution_count": null,
   "metadata": {},
   "outputs": [],
   "source": [
    "N_zernike = 5\n",
    "zernike_coeffs_numaps = np.zeros([N_zernike,number_of_modes])\n",
    "for qq in range(N_zernike):\n",
    "    zernike_coeffs_tmp = np.zeros([number_of_modes])\n",
    "    for pp in range(120):\n",
    "        zernike_coeffs_tmp[qq+(pp)*N_zernike] = mu_map[qq+(pp)*N_zernike]\n",
    "    zernike_coeffs_numaps[qq] = zernike_coeffs_tmp"
   ]
  },
  {
   "cell_type": "code",
   "execution_count": null,
   "metadata": {},
   "outputs": [],
   "source": [
    "# Instantiate LUVOIR\n",
    "sampling = 4\n",
    "apodizer_design = 'medium'\n",
    "# This path is specific to the paths used in the LuvoirAPLC class\n",
    "optics_input = '/Users/pueyo/PythonPackages/PASTIS/LUVOIR_delivery_May2019/'\n",
    "luvoirDUMMY = LuvoirAPLC(optics_input, apodizer_design, sampling)\n",
    "luvoirDUMMY.make_segment_zernike_primary(1)"
   ]
  },
  {
   "cell_type": "code",
   "execution_count": null,
   "metadata": {},
   "outputs": [],
   "source": [
    "luvoirDUMMY.wf_aper.wavenumber*eunit"
   ]
  },
  {
   "cell_type": "code",
   "execution_count": null,
   "metadata": {},
   "outputs": [],
   "source": [
    "nu_maps = []\n",
    "for qq in range(N_zernike):\n",
    "    zernike_coeffs = eunit*zernike_coeffs_numaps[qq]/2\n",
    "    luvoir.sm.actuators = zernike_coeffs\n",
    "    nu_maps.append(luvoir.sm(luvoir.wf_aper).phase/luvoir.wf_aper.wavenumber)"
   ]
  },
  {
   "cell_type": "code",
   "execution_count": null,
   "metadata": {},
   "outputs": [],
   "source": [
    "nu_maps_Drifts = []\n",
    "for qq in range(N_zernike):\n",
    "    zernike_coeffs = eunit*zernike_coeffs_numaps_Drifts[qq]/2\n",
    "    luvoirDUMMY.sm.actuators = zernike_coeffs\n",
    "    nu_maps_Drifts.append(luvoirDUMMY.sm(luvoirDUMMY.wf_aper).phase/luvoirDUMMY.wf_aper.wavenumber/eunit)"
   ]
  },
  {
   "cell_type": "code",
   "execution_count": null,
   "metadata": {},
   "outputs": [],
   "source": [
    "zernike_coeffs = np.zeros([120])\n",
    "zernike_coeffs[3] = eunit/2\n",
    "luvoirDUMMY.sm.actuators = zernike_coeffs\n",
    "tost = luvoirDUMMY.sm(luvoirDUMMY.wf_aper).phase/luvoirDUMMY.wf_aper.wavenumber/eunit\n",
    "fig, ax = plt.subplots(ncols=1)\n",
    "img1 = hc.imshow_field(tost, cmap='RdBu')#, vmin=pmin, vmax=pmax)\n",
    "clb = fig.colorbar(img1)\n",
    "clb.set_label('pm', rotation=90)\n",
    "plt.tight_layout(h_pad=1)\n",
    "plt.title('Segment')\n",
    "zernike_coeffs = np.zeros([5*120])\n",
    "zernike_coeffs[0] = eunit/2\n",
    "luvoir.sm.actuators = zernike_coeffs\n",
    "tast = luvoir.sm(luvoir.wf_aper).phase/luvoir.wf_aper.wavenumber/eunit\n",
    "fig, ax = plt.subplots(ncols=1)\n",
    "img1 = hc.imshow_field(tast, cmap='RdBu')#, vmin=pmin, vmax=pmax)\n",
    "clb = fig.colorbar(img1)\n",
    "clb.set_label('pm', rotation=90)\n",
    "plt.tight_layout(h_pad=1)\n",
    "plt.title('Segment')"
   ]
  },
  {
   "cell_type": "code",
   "execution_count": null,
   "metadata": {},
   "outputs": [],
   "source": [
    "# zernike_coeffs = np.zeros([5*120])\n",
    "# zernike_coeffs[0] = 1e-12/2\n",
    "# luvoir.sm.actuators = zernike_coeffs\n",
    "# tast = luvoir.sm(luvoir.wf_aper).phase/luvoir.wf_aper.wavenumber/1e-12\n",
    "# fig, ax = plt.subplots(ncols=1)\n",
    "# img1 = hc.imshow_field(tast, cmap='RdBu')#, vmin=pmin, vmax=pmax)\n",
    "# clb = fig.colorbar(img1)\n",
    "# clb.set_label('pm', rotation=90)\n",
    "# plt.tight_layout(h_pad=1)\n",
    "# plt.title('Segment')"
   ]
  },
  {
   "cell_type": "code",
   "execution_count": null,
   "metadata": {},
   "outputs": [],
   "source": [
    "fig, ax = plt.subplots(ncols=1)\n",
    "img1 = hc.imshow_field(nu_maps[0]/eunit*1000, cmap='RdBu')#, vmin=pmin, vmax=pmax)\n",
    "clb = fig.colorbar(img1)\n",
    "clb.set_label('pm', rotation=90)\n",
    "plt.tight_layout(h_pad=1)\n",
    "plt.title('Segment Level 1mk Faceplates Silvered ')\n",
    "zernike_coeffs = zernike_coeffs_numaps[0]*eunit/2\n",
    "luvoir.sm.actuators = zernike_coeffs\n",
    "luvoir.sm(luvoir.wf_aper)\n",
    "psf, ref = luvoir.calc_psf(ref=True, return_intermediate='False')\n",
    "plt.figure(figsize=(10, 10))\n",
    "hc.imshow_field(psf/norm, norm=LogNorm())\n",
    "plt.colorbar()\n",
    "dh_intensity = psf/norm * dh_mask\n",
    "test_contrast = np.mean(dh_intensity[np.where(dh_intensity != 0)])- baseline_contrast\n",
    "print('contrast:', test_contrast)\n",
    "fig, ax = plt.subplots(ncols=1)\n",
    "img1 = hc.imshow_field(nu_maps_Drifts[0]*1000,cmap='RdBu')#, vmin=pmin, vmax=pmax)\n",
    "clb = fig.colorbar(img1)\n",
    "clb.set_label('mk', rotation=90)\n",
    "plt.tight_layout(h_pad=1)\n",
    "plt.title('Faceplates Silvered ')"
   ]
  },
  {
   "cell_type": "code",
   "execution_count": null,
   "metadata": {},
   "outputs": [],
   "source": [
    "fig, ax = plt.subplots(ncols=1)\n",
    "img1 = hc.imshow_field(nu_maps[1]/eunit*1000, cmap='RdBu')#, vmin=pmin, vmax=pmax)\n",
    "clb = fig.colorbar(img1)\n",
    "clb.set_label('pm', rotation=90)\n",
    "plt.tight_layout(h_pad=1)\n",
    "plt.title('Segment Level 1mk bulk ')\n",
    "zernike_coeffs = zernike_coeffs_numaps[1]*eunit/2\n",
    "luvoir.sm.actuators = zernike_coeffs\n",
    "luvoir.sm(luvoir.wf_aper)\n",
    "psf, ref = luvoir.calc_psf(ref=True, return_intermediate='False')\n",
    "plt.figure(figsize=(10, 10))\n",
    "hc.imshow_field(psf/norm, norm=LogNorm())\n",
    "plt.colorbar()\n",
    "dh_intensity = psf/norm * dh_mask\n",
    "test_contrast = np.mean(dh_intensity[np.where(dh_intensity != 0)]) - baseline_contrast\n",
    "print('contrast:', test_contrast)\n",
    "fig, ax = plt.subplots(ncols=1)\n",
    "img1 = hc.imshow_field(nu_maps_Drifts[1]*1000,cmap='RdBu')#, vmin=pmin, vmax=pmax)\n",
    "clb = fig.colorbar(img1)\n",
    "clb.set_label('mk', rotation=90)\n",
    "plt.tight_layout(h_pad=1)\n",
    "plt.title('Bulk')"
   ]
  },
  {
   "cell_type": "code",
   "execution_count": null,
   "metadata": {},
   "outputs": [],
   "source": [
    "fig, ax = plt.subplots(ncols=1)\n",
    "img1 = hc.imshow_field(nu_maps[2]/eunit*1000, cmap='RdBu')#, vmin=pmin, vmax=pmax)\n",
    "clb = fig.colorbar(img1)\n",
    "clb.set_label('pm', rotation=90)\n",
    "plt.tight_layout(h_pad=1)\n",
    "plt.title('Segment Level 1mk gradiant radial')\n",
    "zernike_coeffs = zernike_coeffs_numaps[2]*eunit / 2\n",
    "luvoir.sm.actuators = zernike_coeffs\n",
    "luvoir.sm(luvoir.wf_aper)\n",
    "psf, ref = luvoir.calc_psf(ref=True, return_intermediate='False')\n",
    "plt.figure(figsize=(10, 10))\n",
    "hc.imshow_field(psf/norm, norm=LogNorm())\n",
    "plt.colorbar()\n",
    "dh_intensity = psf/norm * dh_mask\n",
    "test_contrast = np.mean(dh_intensity[np.where(dh_intensity != 0)]) - baseline_contrast\n",
    "print('contrast:', test_contrast)\n",
    "fig, ax = plt.subplots(ncols=1)\n",
    "img1 = hc.imshow_field(nu_maps_Drifts[2]*1000,cmap='RdBu')#, vmin=pmin, vmax=pmax)\n",
    "clb = fig.colorbar(img1)\n",
    "clb.set_label('mk', rotation=90)\n",
    "plt.tight_layout(h_pad=1)\n",
    "plt.title('Gradiant radial')"
   ]
  },
  {
   "cell_type": "code",
   "execution_count": null,
   "metadata": {
    "scrolled": true
   },
   "outputs": [],
   "source": [
    "fig, ax = plt.subplots(ncols=1)\n",
    "img1 = hc.imshow_field(nu_maps[3]/eunit*1000, cmap='RdBu')#, vmin=pmin, vmax=pmax)\n",
    "clb = fig.colorbar(img1)\n",
    "clb.set_label('pm', rotation=90)\n",
    "plt.tight_layout(h_pad=1)\n",
    "plt.title('Segment Level 1mk gradient X lateral  ')\n",
    "zernike_coeffs = zernike_coeffs_numaps[3]*eunit/2\n",
    "luvoir.sm.actuators = zernike_coeffs\n",
    "luvoir.sm(luvoir.wf_aper)\n",
    "psf, ref = luvoir.calc_psf(ref=True, return_intermediate='False')\n",
    "plt.figure(figsize=(10, 10))\n",
    "hc.imshow_field(psf/norm, norm=LogNorm())\n",
    "plt.colorbar()\n",
    "dh_intensity = psf/norm * dh_mask\n",
    "test_contrast = np.mean(dh_intensity[np.where(dh_intensity != 0)]) - baseline_contrast\n",
    "print('contrast:', test_contrast)\n",
    "fig, ax = plt.subplots(ncols=1)\n",
    "img1 = hc.imshow_field(nu_maps_Drifts[3]*1000,cmap='RdBu')#, vmin=pmin, vmax=pmax)\n",
    "clb = fig.colorbar(img1)\n",
    "clb.set_label('mk', rotation=90)\n",
    "plt.tight_layout(h_pad=1)\n",
    "plt.title('Gradient X lateral')"
   ]
  },
  {
   "cell_type": "code",
   "execution_count": null,
   "metadata": {},
   "outputs": [],
   "source": [
    "fig, ax = plt.subplots(ncols=1)\n",
    "img1 = hc.imshow_field(nu_maps[4]/eunit*1000, cmap='RdBu')#, vmin=pmin, vmax=pmax)\n",
    "clb = fig.colorbar(img1)\n",
    "clb.set_label('pm', rotation=90)\n",
    "plt.tight_layout(h_pad=1)\n",
    "plt.title('Segment Level 1mk gradient Z axial')\n",
    "zernike_coeffs = zernike_coeffs_numaps[3]*eunit/2\n",
    "luvoir.sm.actuators = zernike_coeffs\n",
    "luvoir.sm(luvoir.wf_aper)\n",
    "psf, ref = luvoir.calc_psf(ref=True, return_intermediate='False')\n",
    "plt.figure(figsize=(10, 10))\n",
    "hc.imshow_field(psf/norm, norm=LogNorm())\n",
    "plt.colorbar()\n",
    "dh_intensity = psf/norm * dh_mask\n",
    "test_contrast = np.mean(dh_intensity[np.where(dh_intensity != 0)]) - baseline_contrast\n",
    "print('contrast:', test_contrast)\n",
    "fig, ax = plt.subplots(ncols=1)\n",
    "img1 = hc.imshow_field(nu_maps_Drifts[4]*1000,cmap='RdBu')#, vmin=pmin, vmax=pmax)\n",
    "clb = fig.colorbar(img1)\n",
    "clb.set_label('mk', rotation=90)\n",
    "plt.tight_layout(h_pad=1)\n",
    "plt.title('Gradient Z axial')"
   ]
  },
  {
   "cell_type": "markdown",
   "metadata": {},
   "source": [
    "# Drawing the modes"
   ]
  },
  {
   "cell_type": "code",
   "execution_count": null,
   "metadata": {},
   "outputs": [],
   "source": [
    "import pandas as pd \n",
    "from scipy.interpolate import griddata"
   ]
  },
  {
   "cell_type": "code",
   "execution_count": null,
   "metadata": {
    "scrolled": true
   },
   "outputs": [],
   "source": [
    "df = pd.read_excel(harris_file)\n",
    "#Thermal: a, h, i, j, k  \n",
    "#Mechnical: e, f, g\n",
    "#Other: b, c, d\n",
    "X = np.asarray(df.X)\n",
    "Y = np.asarray(df.Y)\n",
    "A = np.asarray(df.a)\n",
    "B = np.asarray(df.b)\n",
    "C = np.asarray(df.c)\n",
    "D = np.asarray(df.d)\n",
    "E = np.asarray(df.e)\n",
    "F = np.asarray(df.f)\n",
    "G = np.asarray(df.g)\n",
    "H = np.asarray(df.h)\n",
    "I = np.asarray(df.i)\n",
    "J = np.asarray(df.j)\n",
    "K = np.asarray(df.k)\n",
    "# ti = np.linspace(-1,1,200)\n",
    "# XI, YI = np.meshgrid(ti, ti)\n",
    "# points = np.transpose(np.asarray([X,Y]))\n",
    "# values = A\n",
    "# ZI = griddata(points, values, (XI, YI), method='linear')\n",
    "# f = plt.figure()\n",
    "# plt.imshow(ZI)\n",
    "# plt.clim(min(A),max(A))\n",
    "# plt.colorbar()\n",
    "# phi = np.pi/2\n",
    "# XRot = XI * np.cos(phi) + YI * np.sin(phi)\n",
    "# YRot = -XI * np.sin(phi) + YI * np.cos(phi)\n",
    "# pointsR = np.transpose(np.asarray([X,Y]))\n",
    "# values = A\n",
    "# ZI = griddata(pointsR, values, (XRot, YRot), method='linear')\n",
    "# f = plt.figure()\n",
    "# plt.imshow(ZI)\n",
    "# plt.clim(min(A),max(A))\n",
    "# plt.colorbar()\n",
    "X = np.asarray(df.X)\n",
    "Y = np.asarray(df.Y)\n",
    "HarrisDiam = np.max([np.max(X)-np.min(X),np.max(Y)-np.min(Y)])\n",
    "pup_dims = luvoir.pupil_grid.dims\n",
    "X = np.asarray(df.X)*luvoir.diam/HarrisDiam\n",
    "Y = np.asarray(df.Y)*luvoir.diam/HarrisDiam\n",
    "ti = np.linspace(-0.5,0.5,pup_dims[0])*luvoir.diam\n",
    "points = np.transpose(np.asarray([X,Y]))\n",
    "valuesA = A\n",
    "valuesB = B\n",
    "valuesC = C\n",
    "valuesD = D\n",
    "valuesE = E\n",
    "valuesF = F\n",
    "valuesG = G\n",
    "valuesH = H\n",
    "valuesI = I\n",
    "valuesJ = J\n",
    "valuesK = K\n",
    "XI, YI = np.meshgrid(ti, ti)\n",
    "# ZI = griddata(points, valuesA, (XI, YI), method='linear')\n",
    "# ZI[np.isnan(ZI)]=0\n",
    "# f = plt.figure()\n",
    "# plt.imshow(ZI)\n",
    "# plt.clim(min(A),max(A))\n",
    "# plt.colorbar()\n",
    "phi = np.pi/2\n",
    "pointsR = np.transpose(np.asarray([X,Y]))\n",
    "XRot = XI * np.cos(phi) + YI * np.sin(phi)\n",
    "YRot = -XI * np.sin(phi) + YI * np.cos(phi)\n",
    "ZA = griddata(points, valuesA, (XRot, YRot), method='linear')\n",
    "ZA[np.isnan(ZA)]=0\n",
    "# ZA = ZA.ravel()\n",
    "ZH = griddata(points, valuesH, (XRot, YRot), method='linear')\n",
    "ZH[np.isnan(ZH)]=0\n",
    "# ZH = ZH.ravel()\n",
    "ZI = griddata(points, valuesI, (XRot, YRot), method='linear')\n",
    "ZI[np.isnan(ZI)]=0\n",
    "# ZI = ZI.ravel()\n",
    "ZJ = griddata(points, valuesJ, (XRot, YRot), method='linear')\n",
    "ZJ[np.isnan(ZJ)]=0\n",
    "# ZJ = ZJ.ravel()\n",
    "ZK = griddata(points, valuesK, (XRot, YRot), method='linear')\n",
    "# ZK[np.isnan(ZK)]=0\n",
    "fig, ax = plt.subplots(ncols=1)\n",
    "img1 = plt.imshow(ZA, cmap='RdBu')#, vmin=pmin, vmax=pmax)\n",
    "plt.axis('off')\n",
    "clb = fig.colorbar(img1)\n",
    "clb.set_label('pm', rotation=90)\n",
    "plt.tight_layout(h_pad=1)\n",
    "plt.title('Segment Level 1mk Faceplates Silvered')\n",
    "fig, ax = plt.subplots(ncols=1)\n",
    "img2 = plt.imshow(ZH, cmap='RdBu')#, vmin=pmin, vmax=pmax)\n",
    "plt.axis('off')\n",
    "clb = fig.colorbar(img2)\n",
    "clb.set_label('pm', rotation=90)\n",
    "plt.tight_layout(h_pad=1)\n",
    "plt.title('Segment Level 1mk bulk')\n",
    "fig, ax = plt.subplots(ncols=1)\n",
    "img3 = plt.imshow(ZI, cmap='RdBu')#, vmin=pmin, vmax=pmax)\n",
    "plt.axis('off')\n",
    "clb = fig.colorbar(img3)\n",
    "clb.set_label('pm', rotation=90)\n",
    "plt.tight_layout(h_pad=1)\n",
    "plt.title('Segment Level 1mk gradiant radial')\n",
    "fig, ax = plt.subplots(ncols=1)\n",
    "img4 = plt.imshow(ZJ, cmap='RdBu')#, vmin=pmin, vmax=pmax)\n",
    "plt.axis('off')\n",
    "clb = fig.colorbar(img4)\n",
    "clb.set_label('pm', rotation=90)\n",
    "plt.tight_layout(h_pad=1)\n",
    "plt.title('Segment Level 1mk gradient X lateral')\n",
    "fig, ax = plt.subplots(ncols=1)\n",
    "img5 = plt.imshow(ZK, cmap='RdBu')#, vmin=pmin, vmax=pmax)\n",
    "plt.axis('off')\n",
    "clb = fig.colorbar(img5)\n",
    "clb.set_label('pm', rotation=90)\n",
    "plt.tight_layout(h_pad=1)\n",
    "plt.title('Segment Level 1mk gradient Z axial')"
   ]
  },
  {
   "cell_type": "markdown",
   "metadata": {},
   "source": [
    "# E2E histogram"
   ]
  },
  {
   "cell_type": "code",
   "execution_count": null,
   "metadata": {},
   "outputs": [],
   "source": [
    "n_repeat = 3000\n",
    "all_contr_rand_seg = []\n",
    "all_random_maps = []\n",
    "for rep in range(n_repeat):\n",
    "    print('Segment realization {}/{}'.format(rep + 1, n_repeat))\n",
    "    #zernike_coeffs = np.random.uniform(-mu_map*eunit,mu_map*eunit,number_of_modes)\n",
    "    zernike_coeffs = np.random.uniform(0,mu_map*eunit,number_of_modes)\n",
    "    luvoir.sm.actuators = zernike_coeffs\n",
    "    luvoir.sm(luvoir.wf_aper)\n",
    "    psf, ref, inter = luvoir.calc_psf(ref=True, return_intermediate='efield')\n",
    "#     plt.figure(figsize=(10, 10))\n",
    "#     hc.imshow_field(psf.intensity/norm, norm=LogNorm())\n",
    "#     plt.colorbar()\n",
    "    dh_intensity = np.abs(psf.electric_field - psf_unaber.electric_field)**2/norm \n",
    "    test_contrast = np.mean(dh_intensity[np.where(dh_intensity != 0)])\n",
    "    all_contr_rand_seg.append(test_contrast) \n",
    "    print('contrast:', test_contrast)\n",
    "    "
   ]
  },
  {
   "cell_type": "code",
   "execution_count": null,
   "metadata": {},
   "outputs": [],
   "source": [
    "plt.figure(figsize=(16, 10))\n",
    "plt.hist(all_contr_rand_seg,30)\n",
    "plt.title('E2E raw contrast, {} realizations, target contrast 1e-10'.format(n_repeat), size=20)\n",
    "plt.xlabel('Mean contrast in DH', size=20)\n",
    "plt.ylabel('PDF', size=20)\n",
    "plt.tick_params(axis='both', which='both', length=6, width=2, labelsize=25)"
   ]
  },
  {
   "cell_type": "code",
   "execution_count": null,
   "metadata": {},
   "outputs": [],
   "source": []
  },
  {
   "cell_type": "code",
   "execution_count": null,
   "metadata": {},
   "outputs": [],
   "source": [
    "x"
   ]
  }
 ],
 "metadata": {
  "kernelspec": {
   "display_name": "Python 3",
   "language": "python",
   "name": "python3"
  },
  "language_info": {
   "codemirror_mode": {
    "name": "ipython",
    "version": 3
   },
   "file_extension": ".py",
   "mimetype": "text/x-python",
   "name": "python",
   "nbconvert_exporter": "python",
   "pygments_lexer": "ipython3",
   "version": "3.7.3"
  }
 },
 "nbformat": 4,
 "nbformat_minor": 2
}
