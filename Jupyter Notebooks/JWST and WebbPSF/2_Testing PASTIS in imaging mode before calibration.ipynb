{
 "cells": [
  {
   "cell_type": "markdown",
   "metadata": {},
   "source": [
    "<h1> Testing PASTIS in imaging mode </h1>\n",
    "\n",
    "## -- JWST aperture --"
   ]
  },
  {
   "cell_type": "markdown",
   "metadata": {},
   "source": [
    "Here we're testing the module \"image_pastis.py\" which is the version of PASTIS that still generates images. Since this is a module, it's a tiny bit harder to test, so I'm basically just going through the code step by step.\n",
    "\n",
    "Since this is just copy-pasted code from that module, this will probably be out of date. This is an older version for the JWST. Maybe I can update this at some point - I will when I come back to working on the analytical model."
   ]
  },
  {
   "cell_type": "code",
   "execution_count": null,
   "metadata": {
    "collapsed": true
   },
   "outputs": [],
   "source": [
    "import os\n",
    "import numpy as np\n",
    "from astropy.io import fits\n",
    "import astropy.units as u\n",
    "import poppy.zernike as zern\n",
    "import poppy.matrixDFT as mft\n",
    "import poppy\n",
    "import matplotlib.pyplot as plt\n",
    "from matplotlib.colors import LogNorm\n",
    "\n",
    "os.chdir('../../pastis/')\n",
    "from config import CONFIG_PASTIS\n",
    "import util as util\n",
    "\n",
    "# Change to output folder for this script\n",
    "#dir = '/Users/ilaginja/Documents/data_from_repos/pastis_data/active/calibration'\n",
    "#os.chdir(dir)"
   ]
  },
  {
   "cell_type": "markdown",
   "metadata": {},
   "source": [
    "## Setup and single segment aberration\n",
    "\n",
    "Since this is a module, its function will be called with input parameters, which I will define separetaly here to be able to use them.\n",
    "\n",
    "Taken from `calibration.py`."
   ]
  },
  {
   "cell_type": "code",
   "execution_count": null,
   "metadata": {
    "collapsed": true
   },
   "outputs": [],
   "source": [
    "# Define the aberration coeffitients \"coef\"\n",
    "which_tel = CONFIG_PASTIS.get('telescope', 'name')\n",
    "nb_seg = CONFIG_PASTIS.getint(which_tel, 'nb_subapertures')\n",
    "zern_max = CONFIG_PASTIS.getint('zernikes', 'max_zern')\n",
    "\n",
    "nm_aber = CONFIG_PASTIS.getfloat('calibration', 'single_aberration') * u.nm   # [nm] amplitude of aberration\n",
    "zern_number = CONFIG_PASTIS.getint('calibration', 'zernike')                  # Which (Noll) Zernike we are calibrating for\n",
    "wss_zern_nb = util.noll_to_wss(zern_number)                                # Convert from Noll to WSS framework\n",
    "\n",
    "\n",
    "### What segmend are we aberrating? ###\n",
    "i = 0   # segment 1 --> i=0, seg 2 --> i=1, etc.\n",
    "### ------------------------------- ###\n",
    "\n",
    "# Create arrays to hold Zernike aberration coefficients\n",
    "Aber_WSS = np.zeros([nb_seg, zern_max])           # The Zernikes here will be filled in the WSS order!!!\n",
    "                                                  # Because it goes into _apply_hexikes_to_seg().\n",
    "Aber_Noll = np.copy(Aber_WSS)                     # This is the Noll version for later.\n",
    "\n",
    "# Feed the aberration nm_aber into the array position\n",
    "# that corresponds to the correct Zernike, but only on segment i\n",
    "Aber_WSS[i, wss_zern_nb-1] = nm_aber.to(u.m).value     # Aberration on the segment we're currenlty working on;\n",
    "                                                       # convert to meters; -1 on the Zernike because Python starts\n",
    "                                                       # numbering at 0.\n",
    "Aber_Noll[i, zern_number-1] = nm_aber.value            # Noll version - in input units directly!\n",
    "\n",
    "# Vector of aberration coefficients takes all segments, but only for the Zernike we currently work with\n",
    "coef = Aber_Noll[:,zern_number-1]\n",
    "\n",
    "# Make sure the aberration coefficients have correct units\n",
    "coef *= u.nm\n",
    "\n",
    "# Define the (Noll) zernike number\n",
    "zernike_pol = zern_number\n",
    "\n",
    "# We're not calibrating\n",
    "cali=False\n",
    "\n",
    "print('coef: {}'.format(coef))\n",
    "print('Aberration: {}'.format(nm_aber))\n",
    "print('Zernike (Noll): {}'.format(util.zernike_name(zern_number, framework='Noll')))\n",
    "print('Zernike (WSS): {}'.format(util.zernike_name(wss_zern_nb, framework='WSS')))\n",
    "print('Zernike number (Noll): {}'.format(zernike_pol))"
   ]
  },
  {
   "cell_type": "markdown",
   "metadata": {},
   "source": [
    "Now we'll start with the actual code in the module `image_pastis.py`."
   ]
  },
  {
   "cell_type": "code",
   "execution_count": null,
   "metadata": {
    "collapsed": true
   },
   "outputs": [],
   "source": [
    "#-# Parameters\n",
    "dataDir = os.path.join(CONFIG_PASTIS.get('local', 'local_data_path'), 'active')\n",
    "nb_seg = CONFIG_PASTIS.getint(which_tel, 'nb_subapertures')\n",
    "tel_size_m = CONFIG_PASTIS.getfloat(which_tel, 'diameter') * u.m\n",
    "real_size_seg = CONFIG_PASTIS.getfloat(which_tel, 'flat_to_flat')   # size in meters of an individual segment flatl to flat\n",
    "size_seg = CONFIG_PASTIS.getint('numerical', 'size_seg')              # pixel size of an individual segment tip to tip\n",
    "wvln = CONFIG_PASTIS.getint(which_tel, 'lambda') * u.nm\n",
    "inner_wa = CONFIG_PASTIS.getint(which_tel, 'IWA')\n",
    "outer_wa = CONFIG_PASTIS.getint(which_tel, 'OWA')\n",
    "tel_size_px = CONFIG_PASTIS.getint('numerical', 'tel_size_px')        # pupil diameter of telescope in pixels\n",
    "im_size_pastis = CONFIG_PASTIS.getint('numerical', 'im_size_px_pastis')   # image array size in px\n",
    "im_size_e2e = CONFIG_PASTIS.getint('numerical', 'im_size_px_webbpsf')\n",
    "sampling = CONFIG_PASTIS.getfloat(which_tel, 'sampling')            # sampling\n",
    "largeur = tel_size_px * sampling                                   # size of pupil (?) with taking the sampling into account\n",
    "size_px_tel = tel_size_m / tel_size_px                             # size of one pixel in pupil plane in m\n",
    "px_sq_to_rad = (size_px_tel * np.pi / tel_size_m) * u.rad\n",
    "zern_max = CONFIG_PASTIS.getint('zernikes', 'max_zern')\n",
    "    \n",
    "# Create Zernike mode object for easier handling\n",
    "zern_mode = util.ZernikeMode(zernike_pol)\n",
    "\n",
    "#-# Mean subtraction for piston\n",
    "if zernike_pol == 1:\n",
    "    coef -= np.mean(coef)\n",
    "\n",
    "#-# Generic segment shapes\n",
    "# Load pupil from file\n",
    "pupil = fits.getdata(os.path.join(dataDir, 'segmentation', 'pupil.fits'))\n",
    "pup_im = np.copy(pupil)\n",
    "\n",
    "print('Pupil shape:', pupil.shape)\n",
    "\n",
    "plt.imshow(pupil, origin='lower')\n",
    "plt.show()"
   ]
  },
  {
   "cell_type": "markdown",
   "metadata": {},
   "source": [
    "### Creating a mini segment\n",
    "\n",
    "At this point, you have to make sure the pixel size  **size_seg** of your individual segment is correct, and this will be different depending on the pixel size of your total pupil.\n",
    "\n",
    "With that, we create a mini segment."
   ]
  },
  {
   "cell_type": "code",
   "execution_count": null,
   "metadata": {
    "collapsed": true
   },
   "outputs": [],
   "source": [
    "# Creat a mini-segment (one individual segment from the segmented aperture)\n",
    "mini_seg_real = poppy.NgonAperture(name='mini', radius=real_size_seg)   # creating real mini segment shape with poppy\n",
    "#test = mini_seg_real.sample(wavelength=wvln, grid_size=flat_diam, return_scale=True)   # fix its sampling with wavelength\n",
    "mini_hdu = mini_seg_real.to_fits(wavelength=wvln, npix=size_seg)    # make it a fits file\n",
    "mini_seg = mini_hdu[0].data \n",
    "\n",
    "plt.imshow(mini_seg, origin='lower')\n",
    "plt.title('One mini segment')\n",
    "plt.show()\n",
    "\n",
    "print('Mini-segment array size:', mini_seg.shape)"
   ]
  },
  {
   "cell_type": "markdown",
   "metadata": {},
   "source": [
    "We managed to cut the array to a square where the mini-segment is just about touching the array edges. The size of this array is the size of our mini-segment and that's a number that we have to enter into the configfile. Enter the pixel size of the mini-segment array into the configfile section: **[numerical] --> size_seg**"
   ]
  },
  {
   "cell_type": "markdown",
   "metadata": {},
   "source": [
    "### Generating the dark hole"
   ]
  },
  {
   "cell_type": "code",
   "execution_count": null,
   "metadata": {
    "collapsed": true
   },
   "outputs": [],
   "source": [
    "#-# Generate a dark hole\n",
    "dh_area = util.create_dark_hole(pup_im, inner_wa, outer_wa, sampling)\n",
    "print('DH array shape:', dh_area.shape)\n",
    "\n",
    "boxsize = 50\n",
    "    \n",
    "plt.figure(figsize=(16, 8))\n",
    "plt.subplot(1, 2, 1)\n",
    "plt.imshow(dh_area, origin='lower')\n",
    "plt.title('Dark hole')\n",
    "plt.subplot(1, 2, 2)\n",
    "plt.imshow(util.zoom_cen(dh_area, boxsize), origin='lower')\n",
    "plt.title('Dark hole zoomed in')\n",
    "plt.show()"
   ]
  },
  {
   "cell_type": "markdown",
   "metadata": {},
   "source": [
    "### Importing the matrix"
   ]
  },
  {
   "cell_type": "code",
   "execution_count": null,
   "metadata": {
    "collapsed": true
   },
   "outputs": [],
   "source": [
    "#-# Import information form aperture generation script\n",
    "Projection_Matrix = fits.getdata(os.path.join(dataDir, 'segmentation', 'Projection_Matrix.fits'))\n",
    "vec_list = fits.getdata(os.path.join(dataDir, 'segmentation', 'vec_list.fits'))\n",
    "NR_pairs_list = fits.getdata(os.path.join(dataDir, 'segmentation', 'NR_pairs_list_int.fits'))\n",
    "NR_pairs_nb = NR_pairs_list.shape[0]\n",
    "    \n",
    "plt.imshow(Projection_Matrix[:,:,0], origin='lower')\n",
    "plt.title('Projection matrix displaying NRPs')\n",
    "plt.colorbar()\n",
    "plt.show()\n",
    "    \n",
    "print('Non-redundant pairs (' + str(NR_pairs_nb) + '):')\n",
    "print(NR_pairs_list)"
   ]
  },
  {
   "cell_type": "markdown",
   "metadata": {},
   "source": [
    "### Calculating the (uncalibrated) analytical image\n",
    "\n",
    "We don't have calibration coefficients yet, so we skip the \"if cali:\" part.\n",
    "\n",
    "Move on to the calculation of eq. 13 in the paper Leboulleux et al. 2018 that calculates the image intensity of the analytical images:\n",
    "\n",
    "$$I(u) = ||\\hat{Z_l}(u)||^2  \\Bigg[ \\sum_{k=1}^{n_{seg}} a^2_{k,l} + 2 \\sum_{q=1}^{n_{NRP}} A_q cos(b_q \\cdot u) \\Bigg] $$\n",
    "\n",
    "#### Generic coefficients\n",
    "\n",
    "$A_q$... *generic coefficients*\n",
    "\n",
    "$$A_q = \\sum_{(i,j)} a_{i,l} a_{j,l}$$"
   ]
  },
  {
   "cell_type": "code",
   "execution_count": null,
   "metadata": {
    "collapsed": true
   },
   "outputs": [],
   "source": [
    "#-# Generic coefficients\n",
    "generic_coef = np.zeros(NR_pairs_nb) * u.nm * u.nm   # coefficients in front of the non redundant pairs,\n",
    "                                                     # the A_q in eq. 13 in Leboulleux et al. 2018\n",
    "\n",
    "for q in range(NR_pairs_nb):\n",
    "    for i in range(nb_seg):\n",
    "        for j in range(i+1, nb_seg):\n",
    "            if Projection_Matrix[i, j, 0] == q+1:\n",
    "                print('q:', q, 'i:', i, 'j:', j)\n",
    "                generic_coef[q] += coef[i] * coef[j]\n",
    "                print('ci:', coef[i], 'cj:', coef[j])\n",
    "                    "
   ]
  },
  {
   "cell_type": "code",
   "execution_count": null,
   "metadata": {
    "collapsed": true
   },
   "outputs": [],
   "source": [
    "print('Generic coefficients:')\n",
    "print(generic_coef)"
   ]
  },
  {
   "cell_type": "markdown",
   "metadata": {},
   "source": [
    "#### Sum over the aberration coefficients and sum over the cosines\n",
    "\n",
    "$cos(b_q \\cdot u)$... cos_u_mat\n",
    "\n",
    "Sum over $a^2_{k,l}$... sum1"
   ]
  },
  {
   "cell_type": "code",
   "execution_count": null,
   "metadata": {
    "collapsed": true
   },
   "outputs": [],
   "source": [
    "#-# Constant sum and cosine sum - calculating eq. 13 from Leboulleux et al. 2018\n",
    "i_line = np.linspace(-im_size_pastis/2., im_size_pastis/2., im_size_pastis)\n",
    "tab_i, tab_j = np.meshgrid(i_line, i_line)\n",
    "cos_u_mat = np.zeros((int(im_size_pastis), int(im_size_pastis), NR_pairs_nb))\n",
    "    \n",
    "# The -1 with each NR_pairs_list is because the segment names are saved starting from 1, but Python starts\n",
    "# its indexing at zero, so we have to make it start at zero here too.\n",
    "for q in range(NR_pairs_nb):\n",
    "    cos_u_mat[:,:,q] = np.cos(px_sq_to_rad * (vec_list[NR_pairs_list[q,0]-1, NR_pairs_list[q,1]-1, 0] * tab_i) + \n",
    "                              px_sq_to_rad * (vec_list[NR_pairs_list[q,0]-1, NR_pairs_list[q,1]-1, 1] * tab_j)) * u.dimensionless_unscaled\n",
    "\n",
    "sum1 = np.sum(coef**2)   # sum of all a_{k,l} in eq. 13 - this works only for single Zernikes (l fixed), because np.sum would sum over l too, which would be wrong.\n",
    "    \n",
    "print('cos:', cos_u_mat)\n",
    "print('sum1:', sum1)"
   ]
  },
  {
   "cell_type": "markdown",
   "metadata": {},
   "source": [
    "$\\Bigg[ \\sum_{k=1}^{n_{seg}} a^2_{k,l} + 2 \\sum_{q=1}^{n_{NRP}} A_q cos(b_q \\cdot u) \\Bigg]$ = sum2 + generic_coef[q] * cos_u_mat[:,:,q]"
   ]
  },
  {
   "cell_type": "code",
   "execution_count": null,
   "metadata": {
    "collapsed": true
   },
   "outputs": [],
   "source": [
    "sum2 = np.zeros((int(im_size_pastis), int(im_size_pastis))) * u.nm * u.nm\n",
    "for q in range(NR_pairs_nb):\n",
    "    sum2 = sum2 + generic_coef[q] * cos_u_mat[:,:,q]\n",
    "    \n",
    "print('sum2:', sum2)"
   ]
  },
  {
   "cell_type": "markdown",
   "metadata": {},
   "source": [
    "#### The global envelope from the mini segment Zernike"
   ]
  },
  {
   "cell_type": "code",
   "execution_count": null,
   "metadata": {
    "collapsed": true
   },
   "outputs": [],
   "source": [
    "#-# Local Zernike\n",
    "# Generate a basis of Zernikes with the mini segment being the support\n",
    "isolated_zerns = zern.hexike_basis(nterms=zern_max, npix=size_seg, rho=None, theta=None, vertical=False, outside=0.0)\n",
    "\n",
    "# Calculate the Zernike that is currently being used and put it on one single subaperture, the result is Zer\n",
    "# Apply the currently used Zernike to the mini-segment.\n",
    "if zernike_pol == 1:\n",
    "    Zer = np.copy(mini_seg)\n",
    "elif zernike_pol in range(2, zern_max-2):\n",
    "    Zer = np.copy(mini_seg)\n",
    "    Zer = Zer * isolated_zerns[zernike_pol-1]\n",
    "    \n",
    "plt.imshow(Zer, origin='lower')\n",
    "plt.title('Zernike mode on mini segment')\n",
    "plt.show()"
   ]
  },
  {
   "cell_type": "markdown",
   "metadata": {},
   "source": [
    "Simply to show what it would look like for other Zernikes:"
   ]
  },
  {
   "cell_type": "code",
   "execution_count": null,
   "metadata": {
    "collapsed": true
   },
   "outputs": [],
   "source": [
    "# Calculate them\n",
    "zern_iter = np.arange(8) + 1   # +1 so that they start at 1\n",
    "print('Zernike numbers (Noll):', zern_iter)\n",
    "\n",
    "minizern_stack = []\n",
    "for i in range(zern_iter.shape[0]):\n",
    "    if i+1 == 1:    # for piston\n",
    "        minizern_stack.append(mini_seg)\n",
    "    elif i+1 in range(2, zern_max-2):\n",
    "        minizern_stack.append(mini_seg * isolated_zerns[i])\n",
    "        \n",
    "minizern_stack = np.array(minizern_stack)"
   ]
  },
  {
   "cell_type": "code",
   "execution_count": null,
   "metadata": {
    "collapsed": true
   },
   "outputs": [],
   "source": [
    "# Display them\n",
    "plt.figure(figsize=(16, 8))\n",
    "plt.suptitle('Different Zernikes on one mini-segment')\n",
    "for i in range(minizern_stack.shape[0]):\n",
    "    plt.subplot(2, 4, i+1)\n",
    "    plt.imshow(minizern_stack[i], origin='lower')\n",
    "    plt.title('Noll Zernike: ' + str(i+1))\n",
    "plt.show()"
   ]
  },
  {
   "cell_type": "code",
   "execution_count": null,
   "metadata": {
    "collapsed": true
   },
   "outputs": [],
   "source": [
    "# Fourier Transform of the Zernike - the global envelope\n",
    "mf = mft.MatrixFourierTransform()\n",
    "ft_zern = mf.perform(Zer, im_size_pastis/sampling, im_size_pastis)\n",
    "\n",
    "box_e2e = int(im_size_e2e/2)    # We set the image zoom to the same like WebbPSF\n",
    "\n",
    "plt.figure(figsize=(15, 15))\n",
    "plt.subplot(2, 2, 1)\n",
    "plt.imshow(np.abs(ft_zern), norm=LogNorm(), origin='lower')\n",
    "plt.title('FT of mini Zernike')\n",
    "plt.subplot(2, 2, 2)\n",
    "plt.imshow(util.zoom_cen(np.abs(ft_zern), 50), norm=LogNorm(), origin='lower')\n",
    "plt.title('FT of mini Zernike - zoom')\n",
    "plt.subplot(2, 2, 3)\n",
    "plt.imshow(util.zoom_cen(np.abs(ft_zern), box_e2e), norm=LogNorm(), origin='lower')\n",
    "plt.title('FT of mini Zernike - zoom like WebbPSF')\n",
    "plt.show()"
   ]
  },
  {
   "cell_type": "markdown",
   "metadata": {},
   "source": [
    "#### What do those envelopes look like for other Zernikes?\n",
    "\n",
    "Also check the global envelopes from the other Zernikes on the mini-segment."
   ]
  },
  {
   "cell_type": "code",
   "execution_count": null,
   "metadata": {
    "collapsed": true
   },
   "outputs": [],
   "source": [
    "mini_ft = []\n",
    "for i in range(minizern_stack.shape[0]):\n",
    "    ft_klein = mf.perform(minizern_stack[i], im_size_pastis/sampling, im_size_pastis)\n",
    "    mini_ft.append(ft_klein)\n",
    "    \n",
    "mini_ft = np.array(mini_ft)"
   ]
  },
  {
   "cell_type": "code",
   "execution_count": null,
   "metadata": {
    "collapsed": true
   },
   "outputs": [],
   "source": [
    "zoomin = 50\n",
    "\n",
    "plt.figure(figsize=(18, 18))\n",
    "plt.suptitle('Different Zernikes envelopes')\n",
    "for i in range(mini_ft.shape[0]):\n",
    "    plt.subplot(3, 3, i+1)\n",
    "    plt.imshow(util.zoom_cen(np.abs(mini_ft[i]), zoomin), norm=LogNorm(), origin='lower')\n",
    "    plt.title('Noll Zernike: ' + str(i+1))\n",
    "plt.show()"
   ]
  },
  {
   "cell_type": "code",
   "execution_count": null,
   "metadata": {
    "collapsed": true
   },
   "outputs": [],
   "source": [
    "# Now in the image size of the WebbPSF images from 3. notebook\n",
    "plt.figure(figsize=(18, 18))\n",
    "plt.suptitle('Different Zernikes envelopes')\n",
    "for i in range(mini_ft.shape[0]):\n",
    "    plt.subplot(3, 3, i+1)\n",
    "    plt.imshow(util.zoom_cen(np.abs(mini_ft[i]), box_e2e), norm=LogNorm(), origin='lower')\n",
    "    plt.title('Noll Zernike: ' + str(i+1))\n",
    "plt.show()"
   ]
  },
  {
   "cell_type": "markdown",
   "metadata": {},
   "source": [
    "They correspond to what Lucie has in her paper, which is pretty cool. The sampling is very different though, as I tried to match the sampling to the WebbPSF default.\n",
    "\n",
    "#### Putting things together and calculating the full image\n",
    "\n",
    "Moving on. Calculating the full $I(u)$ now.\n",
    "\n",
    "$$I(u) = ||\\hat{Z_l}(u)||^2  \\Bigg[ \\sum_{k=1}^{n_{seg}} a^2_{k,l} + 2 \\sum_{q=1}^{n_{NRP}} A_q cos(b_q \\cdot u) \\Bigg] $$"
   ]
  },
  {
   "cell_type": "code",
   "execution_count": null,
   "metadata": {
    "collapsed": true
   },
   "outputs": [],
   "source": [
    "#-# Final image - old and WRONG version!!\n",
    "# Generating the final image that will get passed on to the outer scope, I(u) in eq. 13\n",
    "intensity_wrong = np.abs(ft_zern**2 * (sum1.value + 2. * sum2.value))   # old and WRONG!!!\n",
    "#intensity = np.abs(ft_zern)**2 * (sum1.value + 2. * sum2.value)\n",
    "\n",
    "plt.figure(figsize=(18,18))\n",
    "plt.subplot(2, 2, 1)\n",
    "plt.imshow(intensity_wrong, norm=LogNorm(), origin='lower')\n",
    "plt.title('Final image')\n",
    "plt.subplot(2, 2, 2)\n",
    "plt.imshow(util.zoom_cen(intensity_wrong, 50), norm=LogNorm(), origin='lower')   #[450:575, 450:575]\n",
    "plt.title('Zoomed final image')\n",
    "plt.subplot(2, 2, 3)\n",
    "plt.imshow(util.zoom_cen(intensity_wrong, box_e2e), norm=LogNorm(), origin='lower')\n",
    "plt.title('Final image - zoom like WebbPSF')\n",
    "plt.show()"
   ]
  },
  {
   "cell_type": "code",
   "execution_count": null,
   "metadata": {
    "collapsed": true
   },
   "outputs": [],
   "source": [
    "#-# Final image\n",
    "# Generating the final image that will get passed on to the outer scope, I(u) in eq. 13\n",
    "#intensity = np.abs(ft_zern**2 * (sum1.value + 2. * sum2.value))   # old and WRONG!!!\n",
    "intensity = np.abs(ft_zern)**2 * (sum1.value + 2. * sum2.value)\n",
    "\n",
    "plt.figure(figsize=(18,18))\n",
    "plt.subplot(2, 2, 1)\n",
    "plt.imshow(intensity, norm=LogNorm(), origin='lower')\n",
    "plt.title('Final image')\n",
    "plt.subplot(2, 2, 2)\n",
    "plt.imshow(util.zoom_cen(intensity, 50), norm=LogNorm(), origin='lower')   #[450:575, 450:575]\n",
    "plt.title('Zoomed final image')\n",
    "plt.subplot(2, 2, 3)\n",
    "plt.imshow(util.zoom_cen(np.abs(ft_zern), box_e2e), norm=LogNorm(), origin='lower')\n",
    "plt.title('Final image - zoom like WebbPSF')\n",
    "plt.show()"
   ]
  },
  {
   "cell_type": "markdown",
   "metadata": {},
   "source": [
    "\n",
    "\n",
    "#### Extracting the dark hole"
   ]
  },
  {
   "cell_type": "code",
   "execution_count": null,
   "metadata": {
    "collapsed": true
   },
   "outputs": [],
   "source": [
    "# PASTIS is only valid inside the dark hole.\n",
    "tot_dh_im_size = sampling*(outer_wa+3)                     # zoom box must be big enough to capture entire DH\n",
    "\n",
    "intensity_zoom = util.zoom_cen(intensity, tot_dh_im_size)\n",
    "dh_area_zoom = util.zoom_cen(dh_area, tot_dh_im_size)\n",
    "\n",
    "dh_psf = dh_area_zoom * intensity_zoom\n",
    "\n",
    "# Display dark hole and inner part of image next ot each other, on the same scale\n",
    "plt.figure(figsize=(19,10))\n",
    "plt.subplot(1, 2, 1)\n",
    "plt.imshow(dh_psf, norm=LogNorm(), origin='lower')\n",
    "plt.title('Final image - dark hole only')\n",
    "plt.subplot(1, 2, 2)\n",
    "plt.imshow(util.zoom_cen(intensity, tot_dh_im_size), norm=LogNorm(), origin='lower')\n",
    "plt.title('Without mask for comparison, same image size')\n",
    "plt.show()"
   ]
  },
  {
   "cell_type": "markdown",
   "metadata": {},
   "source": [
    "Crop out the DH for the Zernike envelopes."
   ]
  },
  {
   "cell_type": "code",
   "execution_count": null,
   "metadata": {
    "collapsed": true
   },
   "outputs": [],
   "source": [
    "mini_im = np.abs(mini_ft)    # don't forget that mini_ft is the E-field\n",
    "mini_dh_stack = []\n",
    "plt.figure(figsize=(18, 60))\n",
    "plt.suptitle('DH area of individual Zernike envelopes')\n",
    "for i in range(mini_ft.shape[0]):\n",
    "    mini_zoom = util.zoom_cen(mini_im[i], tot_dh_im_size)\n",
    "    mini_dh = dh_area_zoom * mini_zoom\n",
    "    mini_dh_stack.append(mini_dh)\n",
    "    \n",
    "    plt.subplot(8, 2, i*2+1)\n",
    "    plt.imshow(np.abs(mini_dh), norm=LogNorm(), origin='lower')\n",
    "    plt.title('Noll Zernike: ' + str(i+1))\n",
    "    \n",
    "    plt.subplot(8, 2, i*2+2)\n",
    "    plt.imshow(np.abs(mini_zoom), norm=LogNorm(), origin='lower')\n",
    "    plt.title('Noll Zernike: ' + str(i+1))\n",
    "    \n",
    "plt.show()"
   ]
  },
  {
   "cell_type": "markdown",
   "metadata": {},
   "source": [
    "### Aberrating pairs of segments\n",
    "\n",
    "We now want to explore what the final analytical image looks like when we aberrate two segments at a time, with the same aberration."
   ]
  },
  {
   "cell_type": "code",
   "execution_count": null,
   "metadata": {
    "collapsed": true
   },
   "outputs": [],
   "source": [
    "# Decide which two segments you want to aberrate\n",
    "segnum1 = 9     # Which segments are we aberrating - I number them starting with 1\n",
    "segnum2 = 15\n",
    "\n",
    "segnum_array = np.array([segnum1, segnum2])\n",
    "\n",
    "zern_pair = 1  # Which Noll Zernike are we putting on the segments.\n",
    "\n",
    "print('Aberrated segments:', segnum_array)\n",
    "print('Noll Zernike used:', zern_pair)\n",
    "\n",
    "# Create aberration vector\n",
    "Aber_Noll = np.zeros([nb_seg, zern_max])\n",
    "print('nm_aber: {}'.format(nm_aber))\n",
    "\n",
    "# Fill aberration array\n",
    "for i, nseg in enumerate(segnum_array):\n",
    "    Aber_Noll[nseg-1, zern_pair-1] = nm_aber.value   # fill only the index for current Zernike, on segment i - in input units\n",
    "    \n",
    "# Define the aberration coefficient vector\n",
    "coef = Aber_Noll[:, zern_pair-1]\n",
    "coef *= u.nm\n",
    "print('coef:', coef)"
   ]
  },
  {
   "cell_type": "code",
   "execution_count": null,
   "metadata": {
    "collapsed": true
   },
   "outputs": [],
   "source": [
    "#-# Generic coefficients\n",
    "generic_coef = np.zeros(NR_pairs_nb) * u.nm * u.nm   # coefficients in front of the non redundant pairs,\n",
    "                                                     # the A_q in eq. 13 in Leboulleux et al. 2018\n",
    "\n",
    "for q in range(NR_pairs_nb):\n",
    "    for i in range(nb_seg):\n",
    "        for j in range(i+1, nb_seg):\n",
    "            if Projection_Matrix[i, j, 0] == q+1:\n",
    "                generic_coef[q] += coef[i] * coef[j]\n",
    "                \n",
    "print('Generic coefficients:')\n",
    "print(generic_coef)\n",
    "\n",
    "#-# Constant sum and cosine sum - calculating eq. 13 from Leboulleux et al. 2018\n",
    "i_line = np.linspace(-im_size_pastis/2., im_size_pastis/2., im_size_pastis)\n",
    "tab_i, tab_j = np.meshgrid(i_line, i_line)   # these are arrys for the image plane coordinate u\n",
    "cos_u_mat = np.zeros((int(im_size_pastis), int(im_size_pastis), NR_pairs_nb))\n",
    "    \n",
    "# The -1 with each NR_pairs_list is because the segment names are saved starting from 1, but Python starts\n",
    "# its indexing at zero, so we have to make it start at zero here too.\n",
    "for q in range(NR_pairs_nb):\n",
    "    cos_u_mat[:,:,q] = np.cos(px_sq_to_rad * (vec_list[NR_pairs_list[q,0]-1, NR_pairs_list[q,1]-1, 0] * tab_i) + \n",
    "                              px_sq_to_rad * (vec_list[NR_pairs_list[q,0]-1, NR_pairs_list[q,1]-1, 1] * tab_j)) * u.dimensionless_unscaled\n",
    "\n",
    "sum1 = np.sum(coef**2)   # sum of all a_{k,l} in eq. 13 - this works only for single Zernikes (l fixed), because np.sum would sum over l too, which would be wrong.\n",
    "    \n",
    "#print('cos:', cos_u_mat)\n",
    "#print('sum1:', sum1)\n",
    "\n",
    "sum2 = np.zeros((int(im_size_pastis), int(im_size_pastis))) * u.nm * u.nm\n",
    "for q in range(NR_pairs_nb):\n",
    "    sum2 = sum2 + generic_coef[q] * cos_u_mat[:,:,q]\n",
    "    \n",
    "#print('sum2:', sum2)"
   ]
  },
  {
   "cell_type": "code",
   "execution_count": null,
   "metadata": {
    "collapsed": true
   },
   "outputs": [],
   "source": [
    "# Calculate the Zernike that is currently being used and put it on one single subaperture, the result is Zer\n",
    "# Apply the currently used Zernike to the mini-segment.\n",
    "if zern_pair == 1:\n",
    "    Zer = np.copy(mini_seg)\n",
    "elif zern_pair in range(2, zern_max-2):\n",
    "    Zer = np.copy(mini_seg)\n",
    "    Zer = Zer * isolated_zerns[zern_pair-1]\n",
    "    \n",
    "plt.imshow(Zer, origin='lower')\n",
    "plt.title('Zernike mode on mini segment')\n",
    "plt.show()"
   ]
  },
  {
   "cell_type": "code",
   "execution_count": null,
   "metadata": {
    "collapsed": true
   },
   "outputs": [],
   "source": [
    "# Fourier Transform of the Zernike - the global envelope\n",
    "mf = mft.MatrixFourierTransform()\n",
    "ft_zern = mf.perform(Zer, im_size_pastis/sampling, im_size_pastis)\n",
    "\n",
    "#xcen = int(ft_zern.shape[1]/2.)\n",
    "#ycen = int(ft_zern.shape[0]/2.)\n",
    "#boxw = int(161/2)    # We can see in the 3. notebook that WebbPSF produces 161 x 161 px images by default.\n",
    "#\n",
    "#plt.figure(figsize=(15, 15))\n",
    "#plt.subplot(2, 2, 1)\n",
    "#plt.imshow(np.abs(ft_zern), norm=LogNorm())\n",
    "#plt.title('FT of mini Zernike')\n",
    "#plt.subplot(2, 2, 2)\n",
    "#plt.imshow(np.abs(ft_zern)[485:540, 485:540], norm=LogNorm())\n",
    "#plt.title('FT of mini Zernike - zoom')\n",
    "#plt.subplot(2, 2, 3)\n",
    "#plt.imshow(np.abs(ft_zern)[ycen-boxw:ycen+boxw, xcen-boxw:xcen+boxw], norm=LogNorm())\n",
    "#plt.title('FT of mini Zernike - zoom like WebbPSF')\n",
    "#plt.show()"
   ]
  },
  {
   "cell_type": "code",
   "execution_count": null,
   "metadata": {
    "collapsed": true
   },
   "outputs": [],
   "source": [
    "#-# Final image\n",
    "# Generating the final image that will get passed on to the outer scope, I(u) in eq. 13\n",
    "intensity = np.abs(ft_zern)**2 * (sum1.value + 2. * sum2.value)\n",
    "\n",
    "boxw2 = box_e2e/2\n",
    "\n",
    "plt.figure(figsize=(10,10))\n",
    "plt.imshow(util.zoom_cen(intensity, boxw2), norm=LogNorm(), origin='lower')\n",
    "plt.title('Zoomed final image')\n",
    "plt.show()"
   ]
  },
  {
   "cell_type": "markdown",
   "metadata": {},
   "source": [
    "#### Saving some of the images\n",
    "\n",
    "I will save a couple of images down here to be able to display them next to each other:"
   ]
  },
  {
   "cell_type": "code",
   "execution_count": null,
   "metadata": {
    "collapsed": true
   },
   "outputs": [],
   "source": [
    "#segs_3_11_noll_1 = np.copy(intensity)\n",
    "#segs_11_17_noll_1 = np.copy(intensity)\n",
    "#segs_6_11_noll_1 = np.copy(intensity)\n",
    "#segs_9_2_noll_1 = np.copy(intensity)\n",
    "#segs_9_5_noll_1 = np.copy(intensity)\n",
    "#segs_9_15_noll_1 = np.copy(intensity)\n",
    "#segs_8_2_noll_1 = np.copy(intensity)\n",
    "#segs_8_3_noll_1 = np.copy(intensity)\n",
    "#segs_8_12_noll_1 = np.copy(intensity)\n",
    "#segs_8_18_noll_1 = np.copy(intensity)\n",
    "#segs_2_6_noll_1 = np.copy(intensity)\n",
    "#segs_10_16_noll_1 = np.copy(intensity)\n",
    "#segs_8_1_noll_1 = np.copy(intensity)\n",
    "#segs_8_6_noll_1 = np.copy(intensity)\n",
    "#segs_8_16_noll_1 = np.copy(intensity)\n",
    "\n",
    "#segs_10_16_noll_2 = np.copy(intensity)\n",
    "#segs_2_6_noll_2 = np.copy(intensity)\n",
    "#segs_8_18_noll_2 = np.copy(intensity)\n",
    "#segs_8_12_noll_2 = np.copy(intensity)\n",
    "#segs_8_3_noll_2 = np.copy(intensity)\n",
    "#segs_8_2_noll_2 = np.copy(intensity)\n",
    "#segs_9_15_noll_2 = np.copy(intensity)\n",
    "#segs_9_2_noll_2 = np.copy(intensity)"
   ]
  },
  {
   "cell_type": "code",
   "execution_count": null,
   "metadata": {
    "collapsed": true
   },
   "outputs": [],
   "source": [
    "# Save them all to fits files\n",
    "save_dir = '/astro/opticslab1/PASTIS/jwst_data/uncalibrated_analytical_images/2019-01-25-16h-00min'\n",
    "#util.write_fits(segs_3_11_noll_1, os.path.join(save_dir, 'segs_3_11_noll_1.fits'))\n",
    "#util.write_fits(segs_11_17_noll_1, os.path.join(save_dir, 'segs_11_17_noll_1.fits'))\n",
    "#util.write_fits(segs_6_11_noll_1, os.path.join(save_dir, 'segs_6_11_noll_1.fits'))\n",
    "#util.write_fits(segs_9_2_noll_1, os.path.join(save_dir, 'segs_9_2_noll_1.fits'))\n",
    "#util.write_fits(segs_9_5_noll_1, os.path.join(save_dir, 'segs_9_5_noll_1.fits'))\n",
    "#util.write_fits(segs_9_15_noll_1, os.path.join(save_dir, 'segs_9_15_noll_1.fits'))\n",
    "#util.write_fits(segs_8_2_noll_1, os.path.join(save_dir, 'segs_8_2_noll_1.fits'))\n",
    "#util.write_fits(segs_8_3_noll_1, os.path.join(save_dir, 'segs_8_3_noll_1.fits'))\n",
    "#util.write_fits(segs_8_12_noll_1, os.path.join(save_dir, 'segs_8_12_noll_1.fits'))\n",
    "#util.write_fits(segs_8_18_noll_1, os.path.join(save_dir, 'segs_8_18_noll_1.fits'))\n",
    "#util.write_fits(segs_2_6_noll_1, os.path.join(save_dir, 'segs_2_6_noll_1.fits'))\n",
    "#util.write_fits(segs_10_16_noll_1, os.path.join(save_dir, 'segs_10_16_noll_1.fits'))\n",
    "#util.write_fits(segs_8_1_noll_1, os.path.join(save_dir, 'segs_8_1_noll_1.fits'))\n",
    "#util.write_fits(segs_8_6_noll_1, os.path.join(save_dir, 'segs_8_6_noll_1.fits'))\n",
    "#util.write_fits(segs_8_16_noll_1, os.path.join(save_dir, 'segs_8_16_noll_1.fits'))\n",
    "\n",
    "#util.write_fits(segs_10_16_noll_2, os.path.join(save_dir, 'segs_10_16_noll_2.fits'))\n",
    "#util.write_fits(segs_2_6_noll_2, os.path.join(save_dir, 'segs_2_6_noll_2.fits'))\n",
    "#util.write_fits(segs_8_18_noll_2, os.path.join(save_dir, 'segs_8_18_noll_2.fits'))\n",
    "#util.write_fits(segs_8_12_noll_2, os.path.join(save_dir, 'segs_8_12_noll_2.fits'))\n",
    "#util.write_fits(segs_8_3_noll_2, os.path.join(save_dir, 'segs_8_3_noll_2.fits'))\n",
    "#util.write_fits(segs_8_2_noll_2, os.path.join(save_dir, 'segs_8_2_noll_2.fits'))\n",
    "#util.write_fits(segs_9_15_noll_2, os.path.join(save_dir, 'segs_9_15_noll_2.fits'))\n",
    "#util.write_fits(segs_9_2_noll_2, os.path.join(save_dir, 'segs_9_2_noll_2.fits'))"
   ]
  },
  {
   "cell_type": "markdown",
   "metadata": {},
   "source": [
    "#### Display and compare the images\n",
    "\n",
    "I started making PASTIS images from the direct entrance pupil of JWST, which I needed to change to be using the exit pupil instead, because I needed to make it the same like in WebbPSF. That's what's happening now in the code, but below here, I am just showing the general properties of PASTIS images. I have made a lot more different data with the entrance pupil, which is why I am using those images for the demo below here. This data is stored in: '/astro/opticslab1/PASTIS/jwst_data/uncalibrated_analytical_images/2018-01-17-17h-35min_piston_pairs'.\n",
    "\n",
    "#### *Fringe orientation and spacing*\n",
    "\n",
    "Let's start with the image in which we put **piston** on **segments 3 and 11**. When we check in what relation those two segments lie to each other on the (exit!) pupil (open the pupil image file for help), we can see:\n",
    "\n",
    "1. They like on a diagonal offset to each other, about 40 degrees tilted from the horizontal.\n",
    "2. They are very close together, the closest two segments on the JWST can be.\n",
    "\n",
    "This means for the image:\n",
    "1. The fringes are are tilted by the same amount like the connection vector between the two segments, but flipped by 90 degrees.\n",
    "2. Since the segments are **close together**, the fringes in the Fourier plane, here the final image, will be **wide**."
   ]
  },
  {
   "cell_type": "code",
   "execution_count": null,
   "metadata": {
    "collapsed": true
   },
   "outputs": [],
   "source": [
    "# I need to read the images in now\n",
    "read_dir1 = '/astro/opticslab1/PASTIS/jwst_data/uncalibrated_analytical_images/2019-01-17-17h-35min_piston_1000nm_pairs'\n",
    "segs_3_11_noll_1 = fits.getdata(os.path.join(read_dir1, 'segs_3_11_noll_1.fits'))\n",
    "segs_11_17_noll_1 = fits.getdata(os.path.join(read_dir1, 'segs_11_17_noll_1.fits'))\n",
    "segs_6_11_noll_1 = fits.getdata(os.path.join(read_dir1, 'segs_6_11_noll_1.fits'))\n",
    "segs_9_2_noll_1 = fits.getdata(os.path.join(read_dir1, 'segs_9_2_noll_1.fits'))\n",
    "segs_9_5_noll_1 = fits.getdata(os.path.join(read_dir1, 'segs_9_5_noll_1.fits'))\n",
    "segs_9_15_noll_1 = fits.getdata(os.path.join(read_dir1, 'segs_9_15_noll_1.fits'))\n",
    "segs_8_2_noll_1 = fits.getdata(os.path.join(read_dir1, 'segs_8_2_noll_1.fits'))\n",
    "segs_8_3_noll_1 = fits.getdata(os.path.join(read_dir1, 'segs_8_3_noll_1.fits'))\n",
    "segs_8_12_noll_1 = fits.getdata(os.path.join(read_dir1, 'segs_8_12_noll_1.fits'))\n",
    "segs_8_18_noll_1 = fits.getdata(os.path.join(read_dir1, 'segs_8_18_noll_1.fits'))\n",
    "segs_2_6_noll_1 = fits.getdata(os.path.join(read_dir1, 'segs_2_6_noll_1.fits'))\n",
    "segs_10_16_noll_1 = fits.getdata(os.path.join(read_dir1, 'segs_10_16_noll_1.fits'))\n",
    "\n",
    "read_dir2 = '/astro/opticslab1/PASTIS/jwst_data/uncalibrated_analytical_images/2019-01-17-17h-45min_tip_1000nm_pairs'\n",
    "segs_10_16_noll_2 = fits.getdata(os.path.join(read_dir2, 'segs_10_16_noll_2.fits'))\n",
    "segs_2_6_noll_2 = fits.getdata(os.path.join(read_dir2, 'segs_2_6_noll_2.fits'))\n",
    "segs_8_18_noll_2 = fits.getdata(os.path.join(read_dir2, 'segs_8_18_noll_2.fits'))\n",
    "segs_8_12_noll_2 = fits.getdata(os.path.join(read_dir2, 'segs_8_12_noll_2.fits'))\n",
    "segs_8_3_noll_2 = fits.getdata(os.path.join(read_dir2, 'segs_8_3_noll_2.fits'))\n",
    "segs_8_2_noll_2 = fits.getdata(os.path.join(read_dir2, 'segs_8_2_noll_2.fits'))\n",
    "segs_9_15_noll_2 = fits.getdata(os.path.join(read_dir2, 'segs_9_15_noll_2.fits'))\n",
    "segs_9_2_noll_2 = fits.getdata(os.path.join(read_dir2, 'segs_9_2_noll_2.fits'))\n",
    "\n",
    "boxw2 = box_e2e/2"
   ]
  },
  {
   "cell_type": "code",
   "execution_count": null,
   "metadata": {
    "collapsed": true
   },
   "outputs": [],
   "source": [
    "plt.figure(figsize=(10, 10))\n",
    "plt.imshow(util.zoom_cen(segs_3_11_noll_1, boxw2), norm=LogNorm(), origin='lower')\n",
    "plt.title('Piston on segments 3 and 11')\n",
    "plt.show()"
   ]
  },
  {
   "cell_type": "markdown",
   "metadata": {},
   "source": [
    "Moving on to the image iwhere we put **piston** on **segments 11 and 17**. As opposed to the previous image of segments 3 and 11 being aberrated:\n",
    "\n",
    "1. They are connected by the same diagonal.\n",
    "2. They are very far apart, they have the largest possible segment distance on the JWST.\n",
    "\n",
    "This means for the image:\n",
    "1. The fringes have the same orientation in the image like the previous one, because the two segment pairs have the same orientation.\n",
    "2. Since the segments are **far apart**, the fringes in the Fourier plane, here the final image, will be **narrow**. In fact the fringes are so narrow, that we cannot clearly see them when the sampling is low (aliasing)."
   ]
  },
  {
   "cell_type": "code",
   "execution_count": null,
   "metadata": {
    "collapsed": true
   },
   "outputs": [],
   "source": [
    "plt.figure(figsize=(10, 10))\n",
    "plt.imshow(util.zoom_cen(segs_11_17_noll_1, boxw2), norm=LogNorm(), origin='lower')\n",
    "plt.title('Piston on segments 11 and 17')\n",
    "plt.show()"
   ]
  },
  {
   "cell_type": "markdown",
   "metadata": {},
   "source": [
    "For **piston** on **segments 6 and 11**, we have the same fringe orientation again, because the segment pair has the same orientation in the pupil like the two examples before, but because their distance is in between the two previous cases, the fringe spacing will also be somewhere in between."
   ]
  },
  {
   "cell_type": "code",
   "execution_count": null,
   "metadata": {
    "collapsed": true
   },
   "outputs": [],
   "source": [
    "plt.figure(figsize=(10, 10))\n",
    "plt.imshow(util.zoom_cen(segs_6_11_noll_1, boxw2), norm=LogNorm(), origin='lower')\n",
    "plt.title('Piston on segments 6 and 11')\n",
    "plt.show()"
   ]
  },
  {
   "cell_type": "markdown",
   "metadata": {},
   "source": [
    "For **piston** on the segment pairs **9-2**, **9-5** and **9-15**, we can see that they have a pair orientation that is rotated by 90 degrees with respect to the cases we have looked at before, and since these three pairs have different segment separations, you can see how their fringe spacing differs."
   ]
  },
  {
   "cell_type": "code",
   "execution_count": null,
   "metadata": {
    "collapsed": true
   },
   "outputs": [],
   "source": [
    "plt.figure(figsize=(18, 6))\n",
    "plt.subplot(1, 3, 1)\n",
    "plt.imshow(util.zoom_cen(segs_9_2_noll_1, boxw2), norm=LogNorm(), origin='lower')\n",
    "plt.title('Piston on segments 9 and 2')\n",
    "\n",
    "plt.subplot(1, 3, 2)\n",
    "plt.imshow(util.zoom_cen(segs_9_5_noll_1, boxw2), norm=LogNorm(), origin='lower')\n",
    "plt.title('Piston on segments 9 and 5')\n",
    "\n",
    "plt.subplot(1, 3, 3)\n",
    "plt.imshow(util.zoom_cen(segs_9_15_noll_1, boxw2), norm=LogNorm(), origin='lower')\n",
    "plt.title('Piston on segments 9 and 15')\n",
    "\n",
    "plt.show()"
   ]
  },
  {
   "cell_type": "markdown",
   "metadata": {},
   "source": [
    "For **piston** on the segment pairs **8-2**, **8-3** and **8-12**, we can see that they have a pair orientation that is vertical in the pupil plane, so our fringes will be horizontal this time. And since these three pairs have different segment separations, you can see how their fringe spacing differs - like in the previous examples."
   ]
  },
  {
   "cell_type": "code",
   "execution_count": null,
   "metadata": {
    "collapsed": true
   },
   "outputs": [],
   "source": [
    "plt.figure(figsize=(18, 6))\n",
    "plt.subplot(1, 3, 1)\n",
    "plt.imshow(util.zoom_cen(segs_8_2_noll_1, boxw2), norm=LogNorm(), origin='lower')\n",
    "plt.title('Piston on segments 8 and 2')\n",
    "\n",
    "plt.subplot(1, 3, 2)\n",
    "plt.imshow(util.zoom_cen(segs_8_3_noll_1, boxw2), norm=LogNorm(), origin='lower')\n",
    "plt.title('Piston on segments 8 and 3')\n",
    "\n",
    "plt.subplot(1, 3, 3)\n",
    "plt.imshow(util.zoom_cen(segs_8_12_noll_1, boxw2), norm=LogNorm(), origin='lower')\n",
    "plt.title('Piston on segments 8 and 12')\n",
    "\n",
    "plt.show()"
   ]
  },
  {
   "cell_type": "markdown",
   "metadata": {},
   "source": [
    "#### *Pair redundancy*\n",
    "\n",
    "Below, I will display the images for **piston** on pair **8-18** and **2-6**.\n",
    "\n",
    "As you can see - there is absolutely no difference. Except that we know that the two images come from a practically different setup, but effectively, they show the same result.\n",
    "This is explained in Fig. 2 and Sec. 2.2.2 of Leboulleux et al. (2018). The only defining parameters for the influence a segment pair has on the image plane are its orientation and separation. Both of these things are exactly the same for the two pairs displayed here, hence the images resulting from these two seemingly different setups are the same."
   ]
  },
  {
   "cell_type": "code",
   "execution_count": null,
   "metadata": {
    "collapsed": true
   },
   "outputs": [],
   "source": [
    "plt.figure(figsize=(18, 9))\n",
    "plt.subplot(1, 2, 1)\n",
    "plt.imshow(util.zoom_cen(segs_8_18_noll_1, boxw2), norm=LogNorm(), origin='lower')\n",
    "plt.title('Piston on segments 8 and 18')\n",
    "\n",
    "plt.subplot(1, 2, 2)\n",
    "plt.imshow(util.zoom_cen(segs_2_6_noll_1, boxw2), norm=LogNorm(), origin='lower')\n",
    "plt.title('Piston on segments 2 and 6')\n",
    "\n",
    "plt.show()"
   ]
  },
  {
   "cell_type": "markdown",
   "metadata": {},
   "source": [
    "And as one last example with **piston** only: pair **10-16**. The fringe orientation will be same like in the previous example, but the spacing will be different, because this pair is further apart."
   ]
  },
  {
   "cell_type": "code",
   "execution_count": null,
   "metadata": {
    "collapsed": true
   },
   "outputs": [],
   "source": [
    "plt.figure(figsize=(10, 10))\n",
    "plt.imshow(util.zoom_cen(segs_10_16_noll_1, boxw2), norm=LogNorm(), origin='lower')\n",
    "plt.title('Piston on segments 10 and 16')\n",
    "plt.show()"
   ]
  },
  {
   "cell_type": "markdown",
   "metadata": {},
   "source": [
    "#### *A different Zernike than piston*\n",
    "\n",
    "The principles described above will hold true for whatever Zernike we use to aberrate a segment pair. the morphology of the image will change with the chosen Zernike though, as we have see further above when we displayed the different envelopes coming from local Zernikes on the mini segment."
   ]
  },
  {
   "cell_type": "code",
   "execution_count": null,
   "metadata": {
    "collapsed": true
   },
   "outputs": [],
   "source": [
    "im_list2 = np.array([segs_10_16_noll_2, segs_2_6_noll_2, segs_8_18_noll_2, segs_8_12_noll_2, \\\n",
    "                    segs_8_3_noll_2, segs_8_2_noll_2, segs_9_15_noll_2, segs_9_2_noll_2])\n",
    "pair_list2 = np.array(['10-16', '2-6', '2-18', '8-12', '8-3', '8-2', '9-15', '9-2'])\n",
    "\n",
    "plt.figure(figsize=(20, 50))\n",
    "for i in range(im_list2.shape[0]):\n",
    "    plt.subplot(4, 2, i+1)\n",
    "    plt.imshow(util.zoom_cen(im_list2[i], boxw2), norm=LogNorm(), origin='lower')\n",
    "    plt.title('Segment pair ' + pair_list2[i])\n",
    "\n",
    "plt.show()"
   ]
  },
  {
   "cell_type": "markdown",
   "metadata": {},
   "source": [
    "If we compare the pair **9-2** between the **piston** and the **tip** version, we can see that especially the core loos different. And there is that extra dark vertical line in the tip image, although it would be much easier to spot with increased image sampling."
   ]
  },
  {
   "cell_type": "code",
   "execution_count": null,
   "metadata": {
    "collapsed": true
   },
   "outputs": [],
   "source": [
    "plt.figure(figsize=(18, 9))\n",
    "plt.subplot(1, 2, 1)\n",
    "plt.imshow(util.zoom_cen(segs_9_2_noll_1, boxw2), norm=LogNorm(), origin='lower')\n",
    "plt.title('Piston on segments 9 and 2 - Piston')\n",
    "\n",
    "plt.subplot(1, 2, 2)\n",
    "plt.imshow(util.zoom_cen(segs_9_2_noll_2, boxw2), norm=LogNorm(), origin='lower')\n",
    "plt.title('Piston on segments 9 and 2 - Tip')\n",
    "\n",
    "plt.show()"
   ]
  },
  {
   "cell_type": "code",
   "execution_count": null,
   "metadata": {
    "collapsed": true
   },
   "outputs": [],
   "source": []
  }
 ],
 "metadata": {
  "kernelspec": {
   "display_name": "Python 3",
   "language": "python",
   "name": "python3"
  },
  "language_info": {
   "codemirror_mode": {
    "name": "ipython",
    "version": 3
   },
   "file_extension": ".py",
   "mimetype": "text/x-python",
   "name": "python",
   "nbconvert_exporter": "python",
   "pygments_lexer": "ipython3",
   "version": "3.6.8"
  }
 },
 "nbformat": 4,
 "nbformat_minor": 2
}
