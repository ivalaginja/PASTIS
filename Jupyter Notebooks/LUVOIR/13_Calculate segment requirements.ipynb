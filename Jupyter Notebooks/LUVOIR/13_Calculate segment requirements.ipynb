{
 "cells": [
  {
   "cell_type": "markdown",
   "metadata": {},
   "source": [
    "# Segment requirements\n",
    "\n",
    "First try at calculating the per-segment requirements, ploughing thruogh Laurent Pueyo's Mathematica notebook and getting results by scaling the modes to the target contrast.\n",
    "\n",
    "1. set target contrast in code cell 2 (e.g. `1e-10`)\n",
    "2. set apodizer design in code cell 5 (e.g. `small`)\n",
    "3. comment in correct data directory in code cell 9 (`[...]/2020-01-27T23-57-00_luvoir-small`)"
   ]
  },
  {
   "cell_type": "code",
   "execution_count": null,
   "metadata": {},
   "outputs": [],
   "source": [
    "# Imports\n",
    "import os\n",
    "import numpy as np\n",
    "import matplotlib.pyplot as plt\n",
    "from matplotlib.colors import LogNorm\n",
    "%matplotlib inline\n",
    "from astropy.io import fits\n",
    "import astropy.units as u\n",
    "import hcipy as hc\n",
    "from hcipy.optics.segmented_mirror import SegmentedMirror\n",
    "\n",
    "os.chdir('../../pastis/')\n",
    "import util as util\n",
    "from e2e_simulators.luvoir_imaging import LuvoirAPLC"
   ]
  },
  {
   "cell_type": "code",
   "execution_count": null,
   "metadata": {},
   "outputs": [],
   "source": [
    "eunit = 1e-9\n",
    "c_target = 1e-10\n",
    "nmodes = 120"
   ]
  },
  {
   "cell_type": "markdown",
   "metadata": {},
   "source": [
    "## Instantiate Segmented mirror for plotting of primary"
   ]
  },
  {
   "cell_type": "code",
   "execution_count": null,
   "metadata": {},
   "outputs": [],
   "source": [
    "# Load aperture files needed for SM\n",
    "nseg = 120\n",
    "wvln = 638e-9\n",
    "\n",
    "datadir = '/Users/ilaginja/Documents/LabWork/ultra/LUVOIR_delivery_May2019/'\n",
    "aper_path = 'inputs/TelAp_LUVOIR_gap_pad01_bw_ovsamp04_N1000.fits'\n",
    "aper_ind_path = 'inputs/TelAp_LUVOIR_gap_pad01_bw_ovsamp04_N1000_indexed.fits'\n",
    "aper_read = hc.read_fits(os.path.join(datadir, aper_path))\n",
    "aper_ind_read = hc.read_fits(os.path.join(datadir, aper_ind_path))\n",
    "\n",
    "pupil_grid = hc.make_pupil_grid(dims=aper_ind_read.shape[0], diameter=15)\n",
    "aper = hc.Field(aper_read.ravel(), pupil_grid)\n",
    "aper_ind = hc.Field(aper_ind_read.ravel(), pupil_grid)\n",
    "\n",
    "wf_aper = hc.Wavefront(aper, wvln)\n",
    "\n",
    "# Load segment positions from fits header\n",
    "hdr = fits.getheader(os.path.join(datadir, aper_ind_path))\n",
    "\n",
    "poslist = []\n",
    "for i in range(nseg):\n",
    "    segname = 'SEG' + str(i+1)\n",
    "    xin = hdr[segname + '_X']\n",
    "    yin = hdr[segname + '_Y']\n",
    "    poslist.append((xin, yin))\n",
    "    \n",
    "poslist = np.transpose(np.array(poslist))\n",
    "seg_pos = hc.CartesianGrid(poslist)"
   ]
  },
  {
   "cell_type": "code",
   "execution_count": null,
   "metadata": {},
   "outputs": [],
   "source": [
    "# Instantiate SM\n",
    "sm = SegmentedMirror(aper_ind, seg_pos)"
   ]
  },
  {
   "cell_type": "markdown",
   "metadata": {},
   "source": [
    "## Instantiate LUVOIR telescope for full functionality"
   ]
  },
  {
   "cell_type": "code",
   "execution_count": null,
   "metadata": {},
   "outputs": [],
   "source": [
    "# Instantiate LUVOIR\n",
    "sampling = 4\n",
    "apodizer_design = 'large'\n",
    "# This path is specific to the paths used in the LuvoirAPLC class\n",
    "optics_input = '/Users/ilaginja/Documents/LabWork/ultra/LUVOIR_delivery_May2019/'\n",
    "\n",
    "luvoir = LuvoirAPLC(optics_input, apodizer_design, sampling)"
   ]
  },
  {
   "cell_type": "code",
   "execution_count": null,
   "metadata": {},
   "outputs": [],
   "source": [
    "# Make reference image\n",
    "luvoir.flatten()\n",
    "psf_unaber, ref = luvoir.calc_psf(ref=True)\n",
    "norm = ref.max()"
   ]
  },
  {
   "cell_type": "code",
   "execution_count": null,
   "metadata": {},
   "outputs": [],
   "source": [
    "# Make dark hole\n",
    "dh_outer = hc.circular_aperture(2*luvoir.apod_dict[apodizer_design]['owa'] * luvoir.lam_over_d)(luvoir.focal_det)\n",
    "dh_inner = hc.circular_aperture(2*luvoir.apod_dict[apodizer_design]['iwa'] * luvoir.lam_over_d)(luvoir.focal_det)\n",
    "dh_mask = (dh_outer - dh_inner).astype('bool')\n",
    "\n",
    "plt.figure(figsize=(18, 6))\n",
    "plt.subplot(131)\n",
    "hc.imshow_field(psf_unaber/norm, norm=LogNorm())\n",
    "plt.subplot(132)\n",
    "hc.imshow_field(dh_mask)\n",
    "plt.subplot(133)\n",
    "hc.imshow_field(psf_unaber/norm, norm=LogNorm(), mask=dh_mask)"
   ]
  },
  {
   "cell_type": "code",
   "execution_count": null,
   "metadata": {},
   "outputs": [],
   "source": [
    "dh_intensity = psf_unaber/norm * dh_mask\n",
    "baseline_contrast = util.dh_mean(dh_intensity, dh_mask)\n",
    "#np.mean(dh_intensity[np.where(dh_intensity != 0)])\n",
    "print('contrast:', baseline_contrast)"
   ]
  },
  {
   "cell_type": "markdown",
   "metadata": {},
   "source": [
    "### Load the modes"
   ]
  },
  {
   "cell_type": "code",
   "execution_count": null,
   "metadata": {},
   "outputs": [],
   "source": [
    "# Which directory are we working in?\n",
    "#savedpath = '/Users/ilaginja/Documents/data_from_repos/pastis_data/2020-01-27T23-57-00_luvoir-small'\n",
    "#savedpath = '/Users/ilaginja/Documents/data_from_repos/pastis_data/2020-01-28T02-17-18_luvoir-medium'\n",
    "savedpath = '/Users/ilaginja/Documents/data_from_repos/pastis_data/2020-01-28T04-45-55_luvoir-large'\n",
    "\n",
    "# Load PASTIS modes - piston value per segment per mode\n",
    "pastismodes = np.loadtxt(os.path.join(savedpath, 'results', 'pastis_modes.txt'))\n",
    "print('pastismodes.shape: {}'.format(pastismodes.shape))\n",
    "# pastismodes[segs, modes]\n",
    "\n",
    "# Load PASTIS matrix\n",
    "pastismatrix = fits.getdata(os.path.join(savedpath, 'matrix_numerical', 'PASTISmatrix_num_piston_Noll1.fits'))\n",
    "\n",
    "# Load sigma vector\n",
    "sigmas = np.loadtxt(os.path.join(savedpath, 'results', 'mode_requirements_1e-10_uniform.txt'))\n",
    "#print(sigmas)\n",
    "\n",
    "# Load eigenvalues\n",
    "eigenvalues = np.loadtxt(os.path.join(savedpath, 'results', 'eigenvalues.txt'))"
   ]
  },
  {
   "cell_type": "code",
   "execution_count": null,
   "metadata": {},
   "outputs": [],
   "source": [
    "# plot the PASTIS *mode* matrix, i.e. SegToModes in Mathematica\n",
    "plt.imshow(pastismodes)"
   ]
  },
  {
   "cell_type": "code",
   "execution_count": null,
   "metadata": {},
   "outputs": [],
   "source": [
    "# Calculate the inverse of the PASTIS mode matrix\n",
    "# This is ModeToSegs in Mathematica\n",
    "modestosegs = np.linalg.pinv(pastismodes)\n",
    "# modestosegs[modes, segs]\n",
    "\n",
    "plt.imshow(modestosegs)"
   ]
  },
  {
   "cell_type": "code",
   "execution_count": null,
   "metadata": {},
   "outputs": [],
   "source": [
    "# Calculate mean contrast of all modes with PASTIS matrix AND the sigmas, to make sure this works\n",
    "print(sigmas.shape)\n",
    "c_avg_sigma = []\n",
    "for i in range(nmodes):\n",
    "    c_avg_sigma.append(util.pastis_contrast(sigmas[i] * pastismodes[:,i]*u.nm, pastismatrix) + baseline_contrast)\n",
    "    \n",
    "print(c_avg_sigma)"
   ]
  },
  {
   "cell_type": "markdown",
   "metadata": {},
   "source": [
    "Comparing to expectation of error budget to make sure it is the same number:"
   ]
  },
  {
   "cell_type": "code",
   "execution_count": null,
   "metadata": {},
   "outputs": [],
   "source": [
    "c_target/120 + baseline_contrast"
   ]
  },
  {
   "cell_type": "code",
   "execution_count": null,
   "metadata": {},
   "outputs": [],
   "source": [
    "# Now calculate all mean contrasts of the pastis modes directly\n",
    "c_avg = []\n",
    "for i in range(nmodes):\n",
    "    c_avg.append(util.pastis_contrast(pastismodes[:,i]*u.nm, pastismatrix) + baseline_contrast)\n",
    "    \n",
    "print('c_avg:')\n",
    "print(c_avg-baseline_contrast)\n",
    "print('eigenvalues: ')\n",
    "print(eigenvalues)"
   ]
  },
  {
   "cell_type": "markdown",
   "metadata": {},
   "source": [
    "The average contrasts of the unscaled modes are simply the eigenvalues!!\n",
    "\n",
    "$$c_{avg}(mode1) = \\mathbf{u}_1^T M \\mathbf{u}_1 = \\lambda_1$$\n",
    "\n",
    "since $\\mathbf{u}_1$ is an eigenmode of $M$ and $\\lambda_1$ the corresponding eigenvalue."
   ]
  },
  {
   "cell_type": "code",
   "execution_count": null,
   "metadata": {},
   "outputs": [],
   "source": [
    "plt.plot(np.log10(c_avg))"
   ]
  },
  {
   "cell_type": "code",
   "execution_count": null,
   "metadata": {},
   "outputs": [],
   "source": [
    "# Calculate segment requirements\n",
    "mus = np.sqrt(((c_target-baseline_contrast)/nmodes)/(np.dot(c_avg, np.square(modestosegs)))) #* np.sqrt(3)\n",
    "print(mus)"
   ]
  },
  {
   "cell_type": "code",
   "execution_count": null,
   "metadata": {},
   "outputs": [],
   "source": [
    "mus"
   ]
  },
  {
   "cell_type": "code",
   "execution_count": null,
   "metadata": {},
   "outputs": [],
   "source": [
    "baseline_contrast"
   ]
  },
  {
   "cell_type": "code",
   "execution_count": null,
   "metadata": {},
   "outputs": [],
   "source": []
  }
 ],
 "metadata": {
  "kernelspec": {
   "display_name": "Python 3",
   "language": "python",
   "name": "python3"
  },
  "language_info": {
   "codemirror_mode": {
    "name": "ipython",
    "version": 3
   },
   "file_extension": ".py",
   "mimetype": "text/x-python",
   "name": "python",
   "nbconvert_exporter": "python",
   "pygments_lexer": "ipython3",
   "version": "3.7.3"
  }
 },
 "nbformat": 4,
 "nbformat_minor": 2
}
