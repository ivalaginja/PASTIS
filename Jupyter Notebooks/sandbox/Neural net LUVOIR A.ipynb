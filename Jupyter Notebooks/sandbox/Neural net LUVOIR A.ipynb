{
 "cells": [
  {
   "cell_type": "markdown",
   "metadata": {},
   "source": [
    "# PSFs with LUVOIR A telescope\n",
    "\n",
    "In this notebook, I will demonstrate how to generate a PSF with the LUVOIR A simulator and how to adjust the wavefront (phase) in its pupil plane."
   ]
  },
  {
   "cell_type": "code",
   "execution_count": null,
   "metadata": {},
   "outputs": [],
   "source": [
    "# Imports\n",
    "import os\n",
    "import numpy as np\n",
    "%matplotlib inline\n",
    "import matplotlib.pyplot as plt\n",
    "from matplotlib.colors import LogNorm\n",
    "import hcipy as hc\n",
    "\n",
    "os.chdir('../../pastis/')\n",
    "from config import CONFIG_INI\n",
    "from e2e_simulators.luvoir_imaging import LuvoirAPLC"
   ]
  },
  {
   "cell_type": "markdown",
   "metadata": {},
   "source": [
    "## Get simple PSF\n",
    "\n",
    "First we will just instantiate the simulator class and get a simple PSF, both with and without the coronagraph in. We will be working with the \"small\" apodizer design, to keep things simple, so I would suggest to not change that.\n",
    "\n",
    "### Instantiate LUVOIR simulator class"
   ]
  },
  {
   "cell_type": "code",
   "execution_count": null,
   "metadata": {},
   "outputs": [],
   "source": [
    "# Parameters\n",
    "apodizer = 'small'    # coronagraph specification - don't change\n",
    "sampling = 4          # PSF sampling - 2 would be Nyquist-Shannon"
   ]
  },
  {
   "cell_type": "code",
   "execution_count": null,
   "metadata": {},
   "outputs": [],
   "source": [
    "luvoir = LuvoirAPLC(CONFIG_INI.get('LUVOIR', 'optics_path'), apodizer, sampling)"
   ]
  },
  {
   "cell_type": "markdown",
   "metadata": {},
   "source": [
    "#### Pupil image\n",
    "\n",
    "We can display the pupil image easily with `luvoir.aper` and we can plot it. Note how we use a plotting function from `hcipy` instead of `matplotlib`, simply because that's the package we used to develop the simulator."
   ]
  },
  {
   "cell_type": "code",
   "execution_count": null,
   "metadata": {},
   "outputs": [],
   "source": [
    "plt.figure(figsize=(10, 10))\n",
    "hc.imshow_field(luvoir.aper)\n",
    "plt.title('LUVOIR A pupil image')"
   ]
  },
  {
   "cell_type": "markdown",
   "metadata": {},
   "source": [
    "LUVOIR A has 120 individual hexagonal segments that can each be controlled individually in piston, tip and tilt. The segments are numbered and we can display each segment numer as shown below. This is a slightly hacky way to do it since I didn't write a method for this class to do this yet, but it does the job for now."
   ]
  },
  {
   "cell_type": "code",
   "execution_count": null,
   "metadata": {},
   "outputs": [],
   "source": [
    "plt.figure(figsize=(10, 10))\n",
    "hc.imshow_field(luvoir.aper)\n",
    "plt.title('LUVOIR A segment numbering')\n",
    "for i, par in enumerate(luvoir.sm.seg_pos):\n",
    "    pos = par * luvoir.diam\n",
    "    plt.annotate(s=i+1, xy=pos, xytext=pos, color='white', fontweight='bold')"
   ]
  },
  {
   "cell_type": "markdown",
   "metadata": {},
   "source": [
    "In order to calculate a perfect PSF *without* the coronagraph in, we need to call `calc_psf()`. The **non-coronagraphic** PSF will be the reference `ref` image that the simulator spits out. The **coronagraphic** image will be called `coro`.\n",
    "\n",
    "By setting the keyword `display_intermediate=True`, we will get a display of each intermediate optical plane that is of interest to us if we want to have a look at the differen coronagraphic planes. Since we don't really need this though, I will just keep it at its default `False`, so that the PSF compuation happens faster. We do have to set `ref=True` though, otherwise the method only returns a coronagraphic PSF."
   ]
  },
  {
   "cell_type": "code",
   "execution_count": null,
   "metadata": {},
   "outputs": [],
   "source": [
    "coro, ref = luvoir.calc_psf(ref=True)"
   ]
  },
  {
   "cell_type": "markdown",
   "metadata": {},
   "source": [
    "#### Reference PSF\n",
    "\n",
    "Let's display the reference PSF and check it out. Note how I use `norm=LogNorm()` in order to display the image on a log scale.\n",
    "\n",
    "**NOTE:** \n",
    "I will use the terms \"*reference PSF*\", \"*direct PSF*\", \"*plain PSF*\" and \"*non-coronagraphic PSF*\" interchangeably."
   ]
  },
  {
   "cell_type": "code",
   "execution_count": null,
   "metadata": {},
   "outputs": [],
   "source": [
    "plt.figure(figsize=(10, 10))\n",
    "hc.imshow_field(ref, norm=LogNorm())\n",
    "plt.title('LUVOIR A plain PSF')"
   ]
  },
  {
   "cell_type": "markdown",
   "metadata": {},
   "source": [
    "What's a bit tricky is that these images are not actually arrays, but they are of the custom type `Field`, which is an `hcipy` thing. It's easy though: a `Field` is just a raveled array. And the `Field` actually has an internal method that lets you cast it into a *shaped* Field, which then behaves exactly like a normal numpy array."
   ]
  },
  {
   "cell_type": "code",
   "execution_count": null,
   "metadata": {},
   "outputs": [],
   "source": [
    "# Inspect original reference PSF as a hcipy.Field\n",
    "print('Type of reference PSF: {}'.format(type(ref)))\n",
    "print('Shape of reference PSF as Field: {}'.format(ref.shape))\n",
    "\n",
    "# Cast into normal numpy array\n",
    "ref_array = ref.shaped\n",
    "print('\\nType of reference PSF as array: {}'.format(type(ref_array)))\n",
    "print('Shape of reference PSF as array: {}'.format(ref_array.shape))"
   ]
  },
  {
   "cell_type": "markdown",
   "metadata": {},
   "source": [
    "And displaying the shaped Field now works normally with `matplotlib` as we know it:"
   ]
  },
  {
   "cell_type": "code",
   "execution_count": null,
   "metadata": {},
   "outputs": [],
   "source": [
    "plt.figure(figsize=(10, 10))\n",
    "plt.imshow(ref_array, norm=LogNorm())\n",
    "plt.title('Ref PSF as shaped Field = array')"
   ]
  },
  {
   "cell_type": "markdown",
   "metadata": {},
   "source": [
    "#### Coronagraphic PSF\n",
    "\n",
    "We can do the same thing with the coronagraphic PSF and display it as an array with `matplotlib`."
   ]
  },
  {
   "cell_type": "code",
   "execution_count": null,
   "metadata": {},
   "outputs": [],
   "source": [
    "coro_array = coro.shaped\n",
    "print('Shape of coro PSF as array: {}'.format(coro_array.shape))\n",
    "\n",
    "plt.figure(figsize=(10, 10))\n",
    "plt.imshow(coro_array, norm=LogNorm())\n",
    "plt.title('Coronagraphic PSF, unaberrated and NON-NORMALIZED!!')"
   ]
  },
  {
   "cell_type": "markdown",
   "metadata": {},
   "source": [
    "The last important thing is that we need to normalize our PSFs to the **peak intensity of the reference PSF**. For this I will define my normalization factor `norm`, which will just be the peak value of the reference PSF. And then anytime I use the coro PSF, I just have to divide it by `norm`. If I now show a colorbar, I can directly read of the contrast in the dark hole."
   ]
  },
  {
   "cell_type": "code",
   "execution_count": null,
   "metadata": {},
   "outputs": [],
   "source": [
    "# Define normalization factor as max of ref PSF\n",
    "norm = np.max(ref)\n",
    "\n",
    "# Display normalized coro PSF\n",
    "plt.figure(figsize=(10, 10))\n",
    "plt.imshow(coro_array/norm, norm=LogNorm())\n",
    "plt.title('Coronagraphic PSF, unaberrated and NORMALIZED!!')\n",
    "plt.colorbar()"
   ]
  },
  {
   "cell_type": "markdown",
   "metadata": {},
   "source": [
    "From this point onwards you can just chose whic PSF you want to use, the reference PSF or the *normalized* coronagraphic PSF.\n",
    "\n",
    "## Introduce wavefront errors\n",
    "\n",
    "Let's move on to introducing wavefront errors into our pupil, which will change the intensity distribution in the dark hole (DH). This will also allow us to itroduce a defocus diversity.\n",
    "\n",
    "#### Defocus\n",
    "\n",
    "First, we need to identify what Zernike to use. Let's take defocus, which has Noll index 4. We can get its Zernike index with the function `hcipy.mode_basis.noll_to_zernike`."
   ]
  },
  {
   "cell_type": "code",
   "execution_count": null,
   "metadata": {},
   "outputs": [],
   "source": [
    "# Defocus has Noll index 4\n",
    "noll_index = 4\n",
    "\n",
    "n_def, m_def = hc.mode_basis.noll_to_zernike(noll_index)\n",
    "print('Defocus: n={}, m={}'.format(n_def, m_def))"
   ]
  },
  {
   "cell_type": "markdown",
   "metadata": {},
   "source": [
    "We can now create this Zernike mode as a Field, like above. We will keep it in the raveled format though, so that we can apply it to the pupil of the telescope."
   ]
  },
  {
   "cell_type": "code",
   "execution_count": null,
   "metadata": {},
   "outputs": [],
   "source": [
    "defocus_mode = hc.mode_basis.zernike(n_def, m_def, D=luvoir.diam, grid=luvoir.aperture.grid)"
   ]
  },
  {
   "cell_type": "code",
   "execution_count": null,
   "metadata": {},
   "outputs": [],
   "source": [
    "# Let's display the Zernike\n",
    "plt.figure(figsize=(7, 7))\n",
    "hc.imshow_field(defocus_mode)"
   ]
  },
  {
   "cell_type": "markdown",
   "metadata": {},
   "source": [
    "This seems to work fine. Now, obviously this is not perfect since this Zernike is made on a circle, while our telescope actually has its funky segmented shape. This should be fine for now though, but just to make sure that they at least have the same size, let's overlay them."
   ]
  },
  {
   "cell_type": "code",
   "execution_count": null,
   "metadata": {},
   "outputs": [],
   "source": [
    "# Overlap the Zernike with the pupil to make sure array sizes match\n",
    "pup_zern_test = defocus_mode * luvoir.aperture\n",
    "\n",
    "plt.figure(figsize=(7, 7))\n",
    "hc.imshow_field(pup_zern_test)"
   ]
  },
  {
   "cell_type": "markdown",
   "metadata": {},
   "source": [
    "Looks good enough if you ask me. We now have to actually use the Zernike as a phase input in our propagation. To do this, we can use the method `apply_global_zernike()`. We also have to define **how much** of the Zernike we want to apply to the pupil. This Zernike coefficient `a_4`cis in radians."
   ]
  },
  {
   "cell_type": "code",
   "execution_count": null,
   "metadata": {},
   "outputs": [],
   "source": [
    "a_4 = 0.5  # rad\n",
    "luvoir.apply_global_zernike(a_4 * defocus_mode)"
   ]
  },
  {
   "cell_type": "markdown",
   "metadata": {},
   "source": [
    "Now we can go ahead and calcualte a new pair of ref and coro PSFs. This time though I will set `display_intermediates=True`, so that I can check what is going on in the pupil plane."
   ]
  },
  {
   "cell_type": "code",
   "execution_count": null,
   "metadata": {},
   "outputs": [],
   "source": [
    "coro_def, ref_def = luvoir.calc_psf(ref=True, display_intermediate=True)"
   ]
  },
  {
   "cell_type": "markdown",
   "metadata": {},
   "source": [
    "The two plots of interest here are the very first one, which shows the **phase in the pupil** and the very last one, which shows the **intensity distribution** in the final **coronagraphic image**. How about we just put the pupil phase, the ref PSF and the (normalized!) ref PSF next to each other? For this I will have to use another keyword which will actually return all electric fields in all the planes shown above, and I can then pick to display just the **phase** in the **pupil**, next to the two PSFs."
   ]
  },
  {
   "cell_type": "code",
   "execution_count": null,
   "metadata": {},
   "outputs": [],
   "source": [
    "# Recalculate PSFs with applied Zernike, this time also returning intermediate planes,\n",
    "# but not displaying them by default\n",
    "coro_def, ref_def, inter = luvoir.calc_psf(ref=True, return_intermediate='intensity')"
   ]
  },
  {
   "cell_type": "markdown",
   "metadata": {},
   "source": [
    "I keep forgetting how I pack these intermediate plane returns, so let's check that real quick..."
   ]
  },
  {
   "cell_type": "code",
   "execution_count": null,
   "metadata": {},
   "outputs": [],
   "source": [
    "print(inter.keys())"
   ]
  },
  {
   "cell_type": "code",
   "execution_count": null,
   "metadata": {},
   "outputs": [],
   "source": [
    "type(inter['seg_mirror'])   # this is the phase of the segmented mirror, which is the pupil"
   ]
  },
  {
   "cell_type": "markdown",
   "metadata": {},
   "source": [
    "Ok got it. Now let's display the pupil phase, the ref image and the coro image next to each other. We will keep using the normalization factor `norm` of the **unaberrated** reference image from further above!"
   ]
  },
  {
   "cell_type": "code",
   "execution_count": null,
   "metadata": {},
   "outputs": [],
   "source": [
    "plt.figure(figsize=(18, 6))\n",
    "\n",
    "plt.subplot(1, 3, 1)\n",
    "hc.imshow_field(inter['seg_mirror'])\n",
    "plt.title('Pupil phase with Zernike')\n",
    "\n",
    "plt.subplot(1, 3, 2)\n",
    "hc.imshow_field(ref_def, norm=LogNorm())\n",
    "plt.title('Reference PSF with Zernike')\n",
    "plt.colorbar()\n",
    "\n",
    "plt.subplot(1, 3, 3)\n",
    "hc.imshow_field(coro_def/norm, norm=LogNorm())\n",
    "plt.title('Coro PSF with Zernike')\n",
    "plt.colorbar()   # this is always interesting with a coro PSF"
   ]
  },
  {
   "cell_type": "markdown",
   "metadata": {},
   "source": [
    "Let's also display the unaberrated ref PSF next to the defocused ref PSF."
   ]
  },
  {
   "cell_type": "code",
   "execution_count": null,
   "metadata": {},
   "outputs": [],
   "source": [
    "plt.figure(figsize=(16, 8))\n",
    "plt.subplot(1, 2, 1)\n",
    "hc.imshow_field(ref, norm=LogNorm())\n",
    "plt.colorbar()\n",
    "\n",
    "plt.subplot(1, 2, 2)\n",
    "hc.imshow_field(ref_def, norm=LogNorm())\n",
    "plt.colorbar()"
   ]
  },
  {
   "cell_type": "markdown",
   "metadata": {},
   "source": [
    "If the `a_4` is small, the difference will be unnoticable to the eye - the colorbars never lie though! There will always be a higher light level in the DH if there was some defocus introduced.\n",
    "\n",
    "#### Any Zernike\n",
    "\n",
    "Let's do this again, but with a different Zernike and a little faster this time. Btw every time you call `apply_global_zernike()`, the pupil phase gets reset to zero, so there is no accidental addition of wavefronts."
   ]
  },
  {
   "cell_type": "code",
   "execution_count": null,
   "metadata": {},
   "outputs": [],
   "source": [
    "# Pick Noll index\n",
    "noll_index = 5\n",
    "\n",
    "n_def, m_def = hc.mode_basis.noll_to_zernike(noll_index)\n",
    "print('Noll {}: n={}, m={}'.format(noll_index, n_def, m_def))"
   ]
  },
  {
   "cell_type": "code",
   "execution_count": null,
   "metadata": {},
   "outputs": [],
   "source": [
    "# Create the Zernike\n",
    "zernike_mode = hc.mode_basis.zernike(n_def, m_def, D=luvoir.diam, grid=luvoir.aperture.grid)\n",
    "\n",
    "hc.imshow_field(zernike_mode)\n",
    "plt.title('Random Zernike')"
   ]
  },
  {
   "cell_type": "code",
   "execution_count": null,
   "metadata": {},
   "outputs": [],
   "source": [
    "# Decide how much of it you want\n",
    "a_zern = 0.23   # rad\n",
    "\n",
    "# Apply to telescope\n",
    "luvoir.apply_global_zernike(a_zern * zernike_mode)\n",
    "\n",
    "# Calculate the PSFs and intermediate planes\n",
    "coro_zern, ref_zern, inter_zern = luvoir.calc_psf(ref=True, return_intermediate='intensity')"
   ]
  },
  {
   "cell_type": "code",
   "execution_count": null,
   "metadata": {},
   "outputs": [],
   "source": [
    "# Display them next to each other\n",
    "plt.figure(figsize=(18, 6))\n",
    "plt.suptitle('hcipy display of the Fields')\n",
    "\n",
    "plt.subplot(1, 3, 1)\n",
    "hc.imshow_field(inter_zern['seg_mirror'])\n",
    "plt.title('Pupil phase with Zernike')\n",
    "\n",
    "plt.subplot(1, 3, 2)\n",
    "hc.imshow_field(ref_zern, norm=LogNorm())\n",
    "plt.title('Reference PSF with Zernike')\n",
    "plt.colorbar()\n",
    "\n",
    "plt.subplot(1, 3, 3)\n",
    "hc.imshow_field(coro_zern/norm, norm=LogNorm())\n",
    "plt.title('Coro PSF with Zernike')\n",
    "plt.colorbar()   # this is always interesting with a coro PSF"
   ]
  },
  {
   "cell_type": "markdown",
   "metadata": {},
   "source": [
    "Currently, if the aberration is too big, there can be some funny artifacts show up in the pupil phase image, but I don't know yet if that is a problem or not. And as (I think) I have mentioned before, the segmentation of the pupil seems to get lost somewhere, but if anything, that should make things easier.\n",
    "\n",
    "Also, remember that you can always use the \"shaped\" version of one of these \"Fields\", simply by calling their `.shaped` method. This will probably be needed when working with the images."
   ]
  },
  {
   "cell_type": "code",
   "execution_count": null,
   "metadata": {},
   "outputs": [],
   "source": [
    "# Display them next to each other - as shaped arrays this time\n",
    "plt.figure(figsize=(18, 6))\n",
    "plt.suptitle('Matplotlib display of the shaped arrays')\n",
    "\n",
    "plt.subplot(1, 3, 1)\n",
    "plt.imshow(inter_zern['seg_mirror'].shaped)\n",
    "plt.title('Pupil phase with Zernike')\n",
    "\n",
    "plt.subplot(1, 3, 2)\n",
    "plt.imshow(ref_zern.shaped, norm=LogNorm())\n",
    "plt.title('Reference PSF with Zernike')\n",
    "plt.colorbar()\n",
    "\n",
    "plt.subplot(1, 3, 3)\n",
    "plt.imshow(coro_zern.shaped/norm, norm=LogNorm())\n",
    "plt.title('Coro PSF with Zernike')\n",
    "plt.colorbar() "
   ]
  },
  {
   "cell_type": "markdown",
   "metadata": {},
   "source": [
    "### Combining errors\n",
    "\n",
    "In the general case, we will want to be able to apply several Zernikes at once to the pupil phase. This is simply done by adding up all needed Zerenikes into one \"master Zernike\"."
   ]
  },
  {
   "cell_type": "code",
   "execution_count": null,
   "metadata": {},
   "outputs": [],
   "source": [
    "# Combine defocus and astigmatism from above\n",
    "master_zern = 0.8 * defocus_mode + 0.3 * zernike_mode\n",
    "\n",
    "# Then apply this master Zernike to telescope pupil\n",
    "luvoir.apply_global_zernike(master_zern)\n",
    "\n",
    "# Calculate the PSFs and intermediate planes\n",
    "coro_master, ref_master, inter_master = luvoir.calc_psf(ref=True, return_intermediate='intensity')"
   ]
  },
  {
   "cell_type": "code",
   "execution_count": null,
   "metadata": {},
   "outputs": [],
   "source": [
    "# Display them next to each other - as shaped arrays this time\n",
    "plt.figure(figsize=(18, 6))\n",
    "plt.suptitle('Matplotlib display of the shaped arrays')\n",
    "\n",
    "plt.subplot(1, 3, 1)\n",
    "plt.imshow(inter_master['seg_mirror'].shaped)\n",
    "plt.title('Pupil phase with Zernike')\n",
    "\n",
    "plt.subplot(1, 3, 2)\n",
    "plt.imshow(ref_master.shaped, norm=LogNorm())\n",
    "plt.title('Reference PSF with Zernike')\n",
    "plt.colorbar()\n",
    "\n",
    "plt.subplot(1, 3, 3)\n",
    "plt.imshow(coro_master.shaped/norm, norm=LogNorm())\n",
    "plt.title('Coro PSF with Zernike')\n",
    "plt.colorbar() "
   ]
  },
  {
   "cell_type": "code",
   "execution_count": null,
   "metadata": {},
   "outputs": [],
   "source": []
  }
 ],
 "metadata": {
  "kernelspec": {
   "display_name": "Python 3",
   "language": "python",
   "name": "python3"
  },
  "language_info": {
   "codemirror_mode": {
    "name": "ipython",
    "version": 3
   },
   "file_extension": ".py",
   "mimetype": "text/x-python",
   "name": "python",
   "nbconvert_exporter": "python",
   "pygments_lexer": "ipython3",
   "version": "3.7.3"
  }
 },
 "nbformat": 4,
 "nbformat_minor": 2
}
