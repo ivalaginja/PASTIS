{
 "cells": [
  {
   "cell_type": "markdown",
   "metadata": {},
   "source": [
    "<h1> Testing PASTIS in imaging mode </h1>\n",
    "\n",
    "## -- ATLAST aperture --"
   ]
  },
  {
   "cell_type": "markdown",
   "metadata": {},
   "source": [
    "Here we're testing the module `image_pastis.py` which is the version of PASTIS that still generates images. Since this is a module, it's a tiny bit harder to test, so I'm basically just going through the code step by step."
   ]
  },
  {
   "cell_type": "code",
   "execution_count": null,
   "metadata": {
    "collapsed": true
   },
   "outputs": [],
   "source": [
    "import os\n",
    "import numpy as np\n",
    "from astropy.io import fits\n",
    "import astropy.units as u\n",
    "import poppy.zernike as zern\n",
    "import poppy.matrixDFT as mft\n",
    "import poppy\n",
    "import matplotlib.pyplot as plt\n",
    "from matplotlib.colors import LogNorm\n",
    "from hcipy import *\n",
    "\n",
    "os.chdir('../../pastis/')\n",
    "from config import CONFIG_PASTIS\n",
    "import util as util"
   ]
  },
  {
   "cell_type": "markdown",
   "metadata": {},
   "source": [
    "## Setup and single segment aberration\n",
    "\n",
    "Since this is a module, its function will be called with input parameters, which I will define separetaly here to be able to use them.\n",
    "\n",
    "Taken from `calibration.py`."
   ]
  },
  {
   "cell_type": "code",
   "execution_count": null,
   "metadata": {
    "collapsed": true
   },
   "outputs": [],
   "source": [
    "# Define the aberration coeffitients \"coef\"\n",
    "which_tel = CONFIG_PASTIS.get('telescope', 'name')\n",
    "nb_seg = CONFIG_PASTIS.getint(which_tel, 'nb_subapertures')\n",
    "zern_max = CONFIG_PASTIS.getint('zernikes', 'max_zern')\n",
    "\n",
    "nm_aber = CONFIG_PASTIS.getfloat('calibration', 'single_aberration') * u.nm   # [nm] amplitude of aberration\n",
    "zern_number = CONFIG_PASTIS.getint('calibration', 'zernike')                  # Which (Noll) Zernike we are calibrating for\n",
    "\n",
    "### What segmend are we aberrating? ###\n",
    "segnum = 0   # segment 1 --> segnum=0, seg 2 --> segnum=1, etc.\n",
    "### ------------------------------- ###\n",
    "\n",
    "# Create arrays to hold Zernike aberration coefficients\n",
    "Aber_Noll = np.zeros([nb_seg, zern_max])           # The Zernikes here will be filled in the Noll order.\n",
    "\n",
    "# Feed the aberration nm_aber into the array position\n",
    "# that corresponds to the correct Zernike, but only on segment i\n",
    "Aber_Noll[segnum, zern_number-1] = nm_aber.value            # Noll version - in input units directly!\n",
    "\n",
    "# Vector of aberration coefficients takes all segments, but only for the Zernike we currently work with\n",
    "coef = Aber_Noll[:,zern_number-1]\n",
    "\n",
    "# Make sure the aberration coefficients have correct units\n",
    "coef *= u.nm\n",
    "\n",
    "# Define the (Noll) zernike number\n",
    "zernike_pol = zern_number\n",
    "\n",
    "# We're not calibrating\n",
    "cali=False\n",
    "\n",
    "print('Working on segment: {}'.format(segnum+1))\n",
    "print('coef: {}'.format(coef))\n",
    "print('Aberration: {}'.format(nm_aber))\n",
    "print('Zernike (Noll): {}'.format(util.zernike_name(zern_number, framework='Noll')))\n",
    "print('Zernike number (Noll): {}'.format(zernike_pol))"
   ]
  },
  {
   "cell_type": "markdown",
   "metadata": {},
   "source": [
    "Now we'll start with the actual code in the module `image_pastis.py`."
   ]
  },
  {
   "cell_type": "code",
   "execution_count": null,
   "metadata": {
    "collapsed": true
   },
   "outputs": [],
   "source": [
    "#-# Parameters\n",
    "dataDir = os.path.join(CONFIG_PASTIS.get('local', 'local_data_path'), 'active')\n",
    "nb_seg = CONFIG_PASTIS.getint(which_tel, 'nb_subapertures')\n",
    "tel_size_m = CONFIG_PASTIS.getfloat(which_tel, 'diameter') * u.m\n",
    "real_size_seg = CONFIG_PASTIS.getfloat(which_tel, 'flat_to_flat')   # size in meters of an individual segment flatl to flat\n",
    "size_seg = CONFIG_PASTIS.getint('numerical', 'size_seg')              # pixel size of an individual segment tip to tip\n",
    "wvln = CONFIG_PASTIS.getint(which_tel, 'lambda') * u.nm\n",
    "inner_wa = CONFIG_PASTIS.getint(which_tel, 'IWA')\n",
    "outer_wa = CONFIG_PASTIS.getint(which_tel, 'OWA')\n",
    "tel_size_px = CONFIG_PASTIS.getint('numerical', 'tel_size_px')        # pupil diameter of telescope in pixels\n",
    "im_size_pastis = CONFIG_PASTIS.getint('numerical', 'im_size_px_pastis')   # image array size in px\n",
    "im_size_e2e = CONFIG_PASTIS.getint('numerical', 'im_size_px_webbpsf')\n",
    "sampling = CONFIG_PASTIS.getfloat(which_tel, 'sampling')            # sampling\n",
    "size_px_tel = tel_size_m / tel_size_px                             # size of one pixel in pupil plane in m\n",
    "px_sq_to_rad = (size_px_tel * np.pi / tel_size_m) * u.rad\n",
    "zern_max = CONFIG_PASTIS.getint('zernikes', 'max_zern')\n",
    "\n",
    "#############\n",
    "# -) for keeping image size consistency with WebbPSF, use im_size_pastis/sampling\n",
    "# -) for actually being able to see something, make it smaller with a random number of r = sz * lambda/D,\n",
    "#    which translates to a focal plane size of 2*sz*sampling\n",
    "sz = 15 # lambda/D\n",
    "sampling = 4\n",
    "#############\n",
    "    \n",
    "# Create Zernike mode object for easier handling\n",
    "zern_mode = util.ZernikeMode(zernike_pol)\n",
    "\n",
    "#-# Mean subtraction for piston\n",
    "if zernike_pol == 1:\n",
    "    coef -= np.mean(coef)\n",
    "\n",
    "#-# Generic segment shapes\n",
    "# Load pupil from file\n",
    "pupil = fits.getdata(os.path.join(dataDir, 'segmentation', 'pupil.fits'))\n",
    "pup_im = np.copy(pupil)\n",
    "\n",
    "print('Pupil shape:', pupil.shape)\n",
    "\n",
    "plt.imshow(pupil, origin='lower')\n",
    "plt.show()"
   ]
  },
  {
   "cell_type": "markdown",
   "metadata": {},
   "source": [
    "### Creating a mini segment\n",
    "\n",
    "At this point, you have to make sure the pixel size  **size_seg** of your individual segment is correct, and this will be different depending on the pixel size of your total pupil.\n",
    "\n",
    "With that, we create a mini segment."
   ]
  },
  {
   "cell_type": "code",
   "execution_count": null,
   "metadata": {
    "collapsed": true
   },
   "outputs": [],
   "source": [
    "# Setting up pupil and focal grid and propagator\n",
    "pupil_grid = make_pupil_grid(dims=tel_size_px, diameter=real_size_seg)\n",
    "focal_grid = make_focal_grid(pupil_grid, sampling, sz, wavelength=wvln.to(u.m).value)    # pixels per lambda/D, lambda/D radius of total image\n",
    "prop = FraunhoferPropagator(pupil_grid, focal_grid)       # this is without a coronagraph\n",
    "\n",
    "mini_seg_real = hexagonal_aperture(circum_diameter=real_size_seg, angle=np.pi/2)\n",
    "mini_seg = evaluate_supersampled(mini_seg_real, pupil_grid, 2)  # the supersampling number doesn't really matter in context with the other numbers\n",
    "mini_seg_2d = mini_seg.shaped    # make it a 2D array\n",
    "\n",
    "# Redefine size_seg if using HCIPy\n",
    "size_seg = mini_seg_2d.shape[0]\n",
    "\n",
    "print(\"HCIPy array size: {}\".format(mini_seg_2d.shape))\n",
    "\n",
    "imshow_field(mini_seg)\n",
    "plt.title(\"mini segment from HCIPy\")\n",
    "plt.show()"
   ]
  },
  {
   "cell_type": "markdown",
   "metadata": {},
   "source": [
    "We managed to cut the array to a square where the mini-segment is just about touching the array edges. The size of this array is the size of our mini-segment and that's a number that we have to enter into the configfile. Enter the pixel size of the mini-segment array into the configfile section: **[numerical] --> size_seg**"
   ]
  },
  {
   "cell_type": "markdown",
   "metadata": {},
   "source": [
    "### Generating the dark hole"
   ]
  },
  {
   "cell_type": "code",
   "execution_count": null,
   "metadata": {
    "collapsed": true
   },
   "outputs": [],
   "source": [
    "#-# Generate a dark hole\n",
    "\n",
    "# This can probably be made more straight forward\n",
    "dh_area = util.create_dark_hole(pup_im, inner_wa, outer_wa, sampling)\n",
    "print('DH array shape:', dh_area.shape)\n",
    "\n",
    "boxsize = sz*sampling\n",
    "dh_sz = util.zoom_cen(dh_area, boxsize)\n",
    "    \n",
    "plt.figure(figsize=(16, 8))\n",
    "plt.subplot(1, 2, 1)\n",
    "plt.imshow(dh_area, origin='lower')\n",
    "plt.title('Dark hole')\n",
    "plt.subplot(1, 2, 2)\n",
    "plt.imshow(util.zoom_cen(dh_area, boxsize), origin='lower')\n",
    "plt.title('Dark hole zoomed in')\n",
    "plt.show()"
   ]
  },
  {
   "cell_type": "markdown",
   "metadata": {},
   "source": [
    "### Importing the matrix"
   ]
  },
  {
   "cell_type": "code",
   "execution_count": null,
   "metadata": {
    "collapsed": true
   },
   "outputs": [],
   "source": [
    "#-# Import information form aperture generation script\n",
    "Projection_Matrix = fits.getdata(os.path.join(dataDir, 'segmentation', 'Projection_Matrix.fits'))\n",
    "vec_list = fits.getdata(os.path.join(dataDir, 'segmentation', 'vec_list.fits'))   # in pixels\n",
    "NR_pairs_list = fits.getdata(os.path.join(dataDir, 'segmentation', 'NR_pairs_list_int.fits'))\n",
    "NR_pairs_nb = NR_pairs_list.shape[0]\n",
    "    \n",
    "plt.imshow(Projection_Matrix[:,:,0], origin='lower')\n",
    "plt.title('Projection matrix displaying NRPs')\n",
    "plt.colorbar()\n",
    "plt.show()\n",
    "    \n",
    "print('Non-redundant pairs (' + str(NR_pairs_nb) + '):')\n",
    "print(NR_pairs_list)"
   ]
  },
  {
   "cell_type": "markdown",
   "metadata": {},
   "source": [
    "### Calculating the (uncalibrated) analytical image\n",
    "\n",
    "We don't have calibration coefficients yet, so we skip the \"if cali:\" part.\n",
    "\n",
    "Move on to the calculation of eq. 13 in the paper Leboulleux et al. 2018 that calculates the image intensity of the analytical images:\n",
    "\n",
    "$$I(u) = ||\\hat{Z_l}(u)||^2  \\Bigg[ \\sum_{k=1}^{n_{seg}} a^2_{k,l} + 2 \\sum_{q=1}^{n_{NRP}} A_q cos(b_q \\cdot u) \\Bigg] $$\n",
    "\n",
    "#### Generic coefficients\n",
    "\n",
    "$A_q$... *generic coefficients*\n",
    "\n",
    "$$A_q = \\sum_{(i,j)} a_{i,l} a_{j,l}$$"
   ]
  },
  {
   "cell_type": "code",
   "execution_count": null,
   "metadata": {
    "collapsed": true
   },
   "outputs": [],
   "source": [
    "#-# Generic coefficients\n",
    "generic_coef = np.zeros(NR_pairs_nb) * u.nm * u.nm   # coefficients in front of the non redundant pairs,\n",
    "                                                     # the A_q in eq. 13 in Leboulleux et al. 2018\n",
    "\n",
    "for q in range(NR_pairs_nb):\n",
    "    for i in range(nb_seg):\n",
    "        for j in range(i+1, nb_seg):\n",
    "            if Projection_Matrix[i, j, 0] == q+1:\n",
    "                print('q:', q, 'i:', i, 'j:', j)\n",
    "                generic_coef[q] += coef[i] * coef[j]\n",
    "                print('ci:', coef[i], 'cj:', coef[j])"
   ]
  },
  {
   "cell_type": "code",
   "execution_count": null,
   "metadata": {
    "collapsed": true
   },
   "outputs": [],
   "source": [
    "print('Generic coefficients:')\n",
    "print(generic_coef)"
   ]
  },
  {
   "cell_type": "markdown",
   "metadata": {},
   "source": [
    "#### Sum over the aberration coefficients and sum over the cosines\n",
    "\n",
    "$cos(b_q \\cdot u)$... `cos_u_mat`\n",
    "\n",
    "Sum over $a^2_{k,l}$... `sum1`"
   ]
  },
  {
   "cell_type": "code",
   "execution_count": null,
   "metadata": {
    "collapsed": true
   },
   "outputs": [],
   "source": [
    "#-# Constant sum and cosine sum - calculating eq. 13 from Leboulleux et al. 2018\n",
    "i_line = np.linspace(-(2*sz*sampling)/2., (2*sz*sampling)/2., (2*sz*sampling))\n",
    "tab_i, tab_j = np.meshgrid(i_line, i_line)\n",
    "cos_u_mat = np.zeros((int((2*sz*sampling)), int((2*sz*sampling)), NR_pairs_nb))\n",
    "    \n",
    "# The -1 with each NR_pairs_list is because the segment names are saved starting from 1, but Python starts\n",
    "# its indexing at zero, so we have to make it start at zero here too.\n",
    "for q in range(NR_pairs_nb):\n",
    "    cos_u_mat[:,:,q] = np.cos(px_sq_to_rad * (vec_list[NR_pairs_list[q,0]-1, NR_pairs_list[q,1]-1, 0] * tab_i) + \n",
    "                              px_sq_to_rad * (vec_list[NR_pairs_list[q,0]-1, NR_pairs_list[q,1]-1, 1] * tab_j)) * u.dimensionless_unscaled\n",
    "\n",
    "sum1 = np.sum(coef**2)   # sum of all a_{k,l} in eq. 13 - this works only for single Zernikes (l fixed), because np.sum would sum over l too, which would be wrong.\n",
    "    \n",
    "print('cos:', cos_u_mat)\n",
    "print('sum1:', sum1)"
   ]
  },
  {
   "cell_type": "markdown",
   "metadata": {},
   "source": [
    "$\\Bigg[ \\sum_{k=1}^{n_{seg}} a^2_{k,l} + 2 \\sum_{q=1}^{n_{NRP}} A_q cos(b_q \\cdot u) \\Bigg]$ `= sum2 + generic_coef[q] * cos_u_mat[:,:,q]`"
   ]
  },
  {
   "cell_type": "code",
   "execution_count": null,
   "metadata": {
    "collapsed": true
   },
   "outputs": [],
   "source": [
    "sum2 = np.zeros((int(2*sz*sampling), int(2*sz*sampling))) * u.nm * u.nm\n",
    "for q in range(NR_pairs_nb):\n",
    "    sum2 = sum2 + generic_coef[q] * cos_u_mat[:,:,q]\n",
    "    \n",
    "print('sum2:', sum2)"
   ]
  },
  {
   "cell_type": "markdown",
   "metadata": {},
   "source": [
    "#### The global envelope from the mini segment Zernike"
   ]
  },
  {
   "cell_type": "code",
   "execution_count": null,
   "metadata": {
    "collapsed": true
   },
   "outputs": [],
   "source": [
    "#-# Local Zernike\n",
    "# Generate a basis of Zernikes with the mini segment being the support\n",
    "#isolated_zerns = zern.hexike_basis(nterms=zern_max, npix=size_seg, rho=None, theta=None, vertical=False, outside=0.0)\n",
    "isolated_zerns = make_zernike_basis(num_modes=zern_max, D=real_size_seg, grid=pupil_grid, radial_cutoff=True)\n",
    "isolated_zerns_nocut = make_zernike_basis(num_modes=zern_max, D=real_size_seg, grid=pupil_grid, radial_cutoff=False)"
   ]
  },
  {
   "cell_type": "code",
   "execution_count": null,
   "metadata": {
    "collapsed": true
   },
   "outputs": [],
   "source": [
    "print(isolated_zerns[1].shaped.shape)\n",
    "print(type(isolated_zerns[1].shaped))\n",
    "\n",
    "for i in range(zern_max):\n",
    "    plt.subplot(3, 4, i+1)\n",
    "    plt.imshow(isolated_zerns[i].shaped, cmap='RdBu')\n",
    "plt.show()"
   ]
  },
  {
   "cell_type": "code",
   "execution_count": null,
   "metadata": {
    "collapsed": true
   },
   "outputs": [],
   "source": [
    "# Also show the ones that are not cut by circle\n",
    "for i in range(zern_max):\n",
    "    plt.subplot(3, 4, i+1)\n",
    "    plt.imshow(isolated_zerns_nocut[i].shaped, cmap='RdBu')\n",
    "plt.show()"
   ]
  },
  {
   "cell_type": "code",
   "execution_count": null,
   "metadata": {
    "collapsed": true
   },
   "outputs": [],
   "source": [
    "# Display the wavefront with radial cut\n",
    "imshow_field(isolated_zerns[1], cmap='RdBu')\n",
    "plt.show()"
   ]
  },
  {
   "cell_type": "code",
   "execution_count": null,
   "metadata": {
    "collapsed": true
   },
   "outputs": [],
   "source": [
    "# Make a propagated image from the Zernike wavefront and display different\n",
    "# attributes of the resulting wavefront.\n",
    "wf1 = Wavefront(isolated_zerns[4], wavelength=wvln.to(u.m).value)   # change Zernike number here\n",
    "im = prop.forward(wf1)\n",
    "\n",
    "plt.figure(figsize=(20, 20))\n",
    "plt.subplot(2, 2, 1)\n",
    "imshow_field(np.log10(im.amplitude))\n",
    "plt.title(\"Amplitude\")\n",
    "plt.colorbar()\n",
    "plt.subplot(2, 2, 2)\n",
    "imshow_field(im.phase)\n",
    "plt.title(\"Phase\")\n",
    "plt.colorbar()\n",
    "plt.subplot(2, 2, 3)\n",
    "imshow_field(im.real)\n",
    "plt.title(\"Real\")\n",
    "plt.colorbar()\n",
    "plt.subplot(2, 2, 4)\n",
    "imshow_field(im.imag)\n",
    "plt.title(\"Imag\")\n",
    "plt.colorbar()\n",
    "plt.show()"
   ]
  },
  {
   "cell_type": "code",
   "execution_count": null,
   "metadata": {
    "collapsed": true
   },
   "outputs": [],
   "source": [
    "# Display intensity either by directly using the intensity attribute,\n",
    "# or by equivalently getting it from the electric field directly.\n",
    "\n",
    "plt.figure(figsize=(14, 7))\n",
    "plt.subplot(1, 2, 1)\n",
    "imshow_field(np.log10(im.intensity))\n",
    "plt.title(\"Intensity attribute\")\n",
    "plt.colorbar()\n",
    "\n",
    "plt.subplot(1, 2, 2)\n",
    "imshow_field(np.log10(np.abs(im.electric_field**2)))\n",
    "plt.title(\"Intensity from E-field\")\n",
    "plt.colorbar()\n",
    "plt.show()\n",
    "\n",
    "# Obviously, they should be the same."
   ]
  },
  {
   "cell_type": "code",
   "execution_count": null,
   "metadata": {
    "collapsed": true
   },
   "outputs": [],
   "source": [
    "# Create Wavefront (E-field) of aperture and Zernike mode and display phase\n",
    "plt.figure(figsize=(20, 15))\n",
    "for i in range(zern_max):\n",
    "    wf_mode = Wavefront(mini_seg * np.exp(1j * isolated_zerns[i]), wavelength=wvln.to(u.m).value)\n",
    "    plt.subplot(3, 4, i+1)\n",
    "    imshow_field(wf_mode.phase, mask=mini_seg, cmap='RdBu') # mask by mini_seg in order to cut phase outside of aperture out\n",
    "plt.show()"
   ]
  },
  {
   "cell_type": "code",
   "execution_count": null,
   "metadata": {
    "collapsed": true
   },
   "outputs": [],
   "source": [
    "# Create Wavefront (E-field) of aperture and Zernike mode and display phase\n",
    "# this time for non-radially cut Zernikes\n",
    "plt.figure(figsize=(20, 15))\n",
    "for i in range(zern_max):\n",
    "    wf_mode = Wavefront(mini_seg * np.exp(1j * isolated_zerns_nocut[i]), wavelength=wvln.to(u.m).value)\n",
    "    plt.subplot(3, 4, i+1)\n",
    "    imshow_field(wf_mode.phase, mask=mini_seg, cmap='RdBu')\n",
    "    # This is equivalent to doing imshow_field(isolated_zerns_nocut[i]) in line below\n",
    "    #imshow_field(isolated_zerns_nocut[i], mask=mini_seg, cmap='RdBu')\n",
    "plt.show()"
   ]
  },
  {
   "cell_type": "code",
   "execution_count": null,
   "metadata": {
    "collapsed": true
   },
   "outputs": [],
   "source": [
    "# Calculate the Zernike that is currently being used and put it on one single subaperture,\n",
    "# the result is the E-field Zer.\n",
    "# Apply the currently used Zernike to the mini-segment.\n",
    "#zernike_pol = 1\n",
    "Zer_wf = Wavefront(mini_seg * np.exp(1j * isolated_zerns_nocut[zernike_pol-1]), wavelength=wvln.to(u.m).value)\n",
    "    \n",
    "print(type(Zer_wf))\n",
    "print('Working on Zernike number: {}'.format(zernike_pol))\n",
    "\n",
    "imshow_field(Zer_wf.phase, mask=mini_seg, cmap='RdBu')\n",
    "plt.title(\"Pupil phase with Zernike\")\n",
    "plt.show()"
   ]
  },
  {
   "cell_type": "markdown",
   "metadata": {},
   "source": [
    "# Fourier Transform of the Zernike - the global envelope\n",
    "\n",
    "Note how we are **NOT** propagating a full E-field of the form $E = A\\ e^{i\\phi}$, but $\\phi$ only (cut down to $A$, which is here the mini-segment aperture). We still have to make a `Wavefront` out of it, otherwise we can't use the propagator."
   ]
  },
  {
   "cell_type": "code",
   "execution_count": null,
   "metadata": {
    "collapsed": true
   },
   "outputs": [],
   "source": [
    "Zer = Wavefront(mini_seg * isolated_zerns_nocut[zernike_pol-1], wavelength=wvln.to(u.m).value)\n",
    "ft_hcipy = prop(Zer)\n",
    "print(Zer.intensity.shaped.shape)\n",
    "\n",
    "imshow_field(np.log(ft_hcipy.intensity))\n",
    "plt.title(\"Zernike envelope\")\n",
    "plt.show()"
   ]
  },
  {
   "cell_type": "markdown",
   "metadata": {},
   "source": [
    "So the propagated Zernike mode, meaning the propagated Zernike envelope, is `ft_hcipy`. What kind of object is this though? And is it appropriate to use its intensity as the result we need?"
   ]
  },
  {
   "cell_type": "code",
   "execution_count": null,
   "metadata": {
    "collapsed": true
   },
   "outputs": [],
   "source": [
    "print(type(ft_hcipy))\n",
    "print(ft_hcipy.intensity.shaped.shape)"
   ]
  },
  {
   "cell_type": "code",
   "execution_count": null,
   "metadata": {
    "collapsed": true
   },
   "outputs": [],
   "source": [
    "print(\"Shape of ft_mini: {}\".format(ft_hcipy.intensity.grid.shape))"
   ]
  },
  {
   "cell_type": "markdown",
   "metadata": {},
   "source": [
    "#### What do those envelopes look like for other Zernikes?\n",
    "\n",
    "Also check the global envelopes from the other Zernikes on the mini-segment."
   ]
  },
  {
   "cell_type": "code",
   "execution_count": null,
   "metadata": {
    "collapsed": true
   },
   "outputs": [],
   "source": [
    "# Propagate all Zernikes individually to image plane\n",
    "mini_ft = []\n",
    "for i in range(zern_max):\n",
    "    wf_mode = Wavefront(mini_seg * isolated_zerns_nocut[i], wavelength=wvln.to(u.m).value)\n",
    "    ft_klein = prop(wf_mode)\n",
    "    mini_ft.append(ft_klein)\n",
    "mini_ft = np.array(mini_ft)"
   ]
  },
  {
   "cell_type": "code",
   "execution_count": null,
   "metadata": {
    "collapsed": true
   },
   "outputs": [],
   "source": [
    "# Display the envelopes\n",
    "plt.figure(figsize=(15, 20))\n",
    "plt.suptitle('Different Zernike envelopes')\n",
    "for i in range(zern_max):\n",
    "    plt.subplot(4, 3, i+1)\n",
    "    imshow_field(np.log10(mini_ft[i].intensity))\n",
    "    plt.title('Noll Zernike: ' + str(i+1))\n",
    "plt.show()"
   ]
  },
  {
   "cell_type": "markdown",
   "metadata": {},
   "source": [
    "They correspond to what Lucie has in her paper, which is pretty cool. Here, I even have control over the sampling because I am not bound to WebbPSF.\n",
    "\n",
    "#### Putting things together and calculating the full image\n",
    "\n",
    "Moving on. Calculating the full $I(u)$ now.\n",
    "\n",
    "$$I(u) = ||\\hat{Z_l}(u)||^2  \\Bigg[ \\sum_{k=1}^{n_{seg}} a^2_{k,l} + 2 \\sum_{q=1}^{n_{NRP}} A_q cos(b_q \\cdot u) \\Bigg] $$\n"
   ]
  },
  {
   "cell_type": "code",
   "execution_count": null,
   "metadata": {
    "collapsed": true
   },
   "outputs": [],
   "source": [
    "sum2.value"
   ]
  },
  {
   "cell_type": "code",
   "execution_count": null,
   "metadata": {
    "collapsed": true
   },
   "outputs": [],
   "source": [
    "print('Aberration coefficients on segments:\\n{}'.format(coef))"
   ]
  },
  {
   "cell_type": "markdown",
   "metadata": {},
   "source": [
    "One of the coefficients should be way larger than the others because that is the segment we put the single aberration on. The other ones are not zero because we subtracted the mean out of the `coef` array."
   ]
  },
  {
   "cell_type": "code",
   "execution_count": null,
   "metadata": {
    "collapsed": true
   },
   "outputs": [],
   "source": [
    "#-# Final image\n",
    "# Generating the final image that will get passed on to the outer scope, I(u) in eq. 13\n",
    "print('zernike_pol: {}'.format(zernike_pol))\n",
    "final_im = ft_hcipy.intensity.shaped * (sum1.value + 2. * sum2.value)\n",
    "# it doesn't matter if I use ft_hcipy.intensity or np.abs(ft_hcipy.electric_field)**2 here\n",
    "\n",
    "plt.figure(figsize=(10,10))\n",
    "plt.imshow(final_im, norm=LogNorm(), origin='lower')\n",
    "plt.title('Final image, single aberrated segment: {}'.format(segnum+1))\n",
    "plt.show()"
   ]
  },
  {
   "cell_type": "markdown",
   "metadata": {},
   "source": [
    "\n",
    "\n",
    "#### Extracting the dark hole"
   ]
  },
  {
   "cell_type": "code",
   "execution_count": null,
   "metadata": {
    "collapsed": true
   },
   "outputs": [],
   "source": [
    "# PASTIS is only valid inside the dark hole.\n",
    "tot_dh_im_size = sampling*(outer_wa+3)                     # zoom box must be big enough to capture entire DH\n",
    "\n",
    "# These two will not be used or need to be adapted in the future\n",
    "final_im_zoom = util.zoom_cen(final_im, tot_dh_im_size)\n",
    "dh_area_zoom = util.zoom_cen(dh_area, tot_dh_im_size)\n",
    "\n",
    "#dh_psf = dh_area_zoom * intensity_zoom\n",
    "dh_psf = dh_sz * final_im\n",
    "\n",
    "# Display dark hole and inner part of image next ot each other, on the same scale\n",
    "plt.figure(figsize=(19,10))\n",
    "plt.subplot(1, 2, 1)\n",
    "plt.imshow(dh_psf, norm=LogNorm(), origin='lower')\n",
    "plt.title('Final image - dark hole only')\n",
    "plt.subplot(1, 2, 2)\n",
    "plt.imshow(util.zoom_cen(final_im, tot_dh_im_size), norm=LogNorm(), origin='lower')\n",
    "plt.title('Without mask for comparison, not quite same image size')\n",
    "plt.show()"
   ]
  },
  {
   "cell_type": "markdown",
   "metadata": {},
   "source": [
    "Crop out the DH for the Zernike envelopes."
   ]
  },
  {
   "cell_type": "code",
   "execution_count": null,
   "metadata": {
    "collapsed": true
   },
   "outputs": [],
   "source": [
    "dh_sz.shape"
   ]
  },
  {
   "cell_type": "code",
   "execution_count": null,
   "metadata": {
    "collapsed": true
   },
   "outputs": [],
   "source": [
    "mini_im = np.zeros_like(mini_ft)\n",
    "for i in range(len(mini_ft)):\n",
    "    mini_im[i] = mini_ft[i].intensity     # don't forget that mini_ft is a list of wavefront objects\n",
    "mini_dh_stack = []\n",
    "\n",
    "plt.figure(figsize=(15, 25))\n",
    "plt.suptitle('DH area of individual Zernike envelopes')\n",
    "for i in range(mini_ft.shape[0]):\n",
    "    #mini_zoom = util.zoom_cen(mini_im[i], tot_dh_im_size)\n",
    "    mini_dh = dh_sz * mini_im[i].shaped\n",
    "    mini_dh_stack.append(mini_dh)\n",
    "    \n",
    "    plt.subplot(6, 2, i+1)\n",
    "    plt.imshow(np.abs(mini_dh), norm=LogNorm(), origin='lower')\n",
    "    plt.title('Noll Zernike: ' + str(i+1))\n",
    "    \n",
    "plt.show()"
   ]
  },
  {
   "cell_type": "markdown",
   "metadata": {},
   "source": [
    "### Aberrating pairs of segments\n",
    "\n",
    "We now want to explore what the final analytical image looks like when we aberrate two segments at a time, with the same aberration."
   ]
  },
  {
   "cell_type": "code",
   "execution_count": null,
   "metadata": {
    "collapsed": true
   },
   "outputs": [],
   "source": [
    "# Decide which two segments you want to aberrate\n",
    "segnum1 = 19     # Which segments are we aberrating - I number them starting with 1\n",
    "segnum2 = 4\n",
    "\n",
    "segnum_array = np.array([segnum1, segnum2])\n",
    "\n",
    "zern_pair = 1  # Which Noll Zernike are we putting on the segments.\n",
    "nm_aber = 1 * u.nm\n",
    "\n",
    "print('Aberrated segments:', segnum_array)\n",
    "print('Noll Zernike used:', zern_pair)\n",
    "\n",
    "# Create aberration vector\n",
    "Aber_Noll = np.zeros([nb_seg, zern_max])\n",
    "print('nm_aber: {}'.format(nm_aber))\n",
    "\n",
    "# Fill aberration array\n",
    "for i, nseg in enumerate(segnum_array):\n",
    "    Aber_Noll[nseg-1, zern_pair-1] = nm_aber.value   # fill only the index for current Zernike, on segment i - in input units\n",
    "    \n",
    "# Define the aberration coefficient vector\n",
    "coef = Aber_Noll[:, zern_pair-1]\n",
    "coef *= u.nm\n",
    "print('coef:', coef)"
   ]
  },
  {
   "cell_type": "code",
   "execution_count": null,
   "metadata": {
    "collapsed": true
   },
   "outputs": [],
   "source": [
    "#-# Generic coefficients\n",
    "generic_coef = np.zeros(NR_pairs_nb) * u.nm * u.nm   # coefficients in front of the non redundant pairs,\n",
    "                                                     # the A_q in eq. 13 in Leboulleux et al. 2018\n",
    "\n",
    "for q in range(NR_pairs_nb):\n",
    "    for i in range(nb_seg):\n",
    "        for j in range(i+1, nb_seg):\n",
    "            if Projection_Matrix[i, j, 0] == q+1:\n",
    "                generic_coef[q] += coef[i] * coef[j]\n",
    "                \n",
    "print('Generic coefficients:')\n",
    "print(generic_coef)\n",
    "\n",
    "#-# Constant sum and cosine sum - calculating eq. 13 from Leboulleux et al. 2018\n",
    "i_line = np.linspace(-(2*sz*sampling)/2., (2*sz*sampling)/2., (2*sz*sampling))\n",
    "tab_i, tab_j = np.meshgrid(i_line, i_line)   # these are arrys for the image plane coordinate u\n",
    "cos_u_mat = np.zeros((int((2*sz*sampling)), int((2*sz*sampling)), NR_pairs_nb))\n",
    "    \n",
    "# The -1 with each NR_pairs_list is because the segment names are saved starting from 1, but Python starts\n",
    "# its indexing at zero, so we have to make it start at zero here too.\n",
    "for q in range(NR_pairs_nb):\n",
    "    cos_u_mat[:,:,q] = np.cos(px_sq_to_rad * (vec_list[NR_pairs_list[q,0]-1, NR_pairs_list[q,1]-1, 0] * tab_i) + \n",
    "                              px_sq_to_rad * (vec_list[NR_pairs_list[q,0]-1, NR_pairs_list[q,1]-1, 1] * tab_j)) * u.dimensionless_unscaled\n",
    "\n",
    "sum1 = np.sum(coef**2)   # sum of all a_{k,l} in eq. 13 - this works only for single Zernikes (l fixed), because np.sum would sum over l too, which would be wrong.\n",
    "    \n",
    "#print('cos:', cos_u_mat)\n",
    "#print('sum1:', sum1)\n",
    "\n",
    "sum2 = np.zeros((int((2*sz*sampling)), int((2*sz*sampling)))) * u.nm * u.nm\n",
    "for q in range(NR_pairs_nb):\n",
    "    sum2 = sum2 + generic_coef[q] * cos_u_mat[:,:,q]\n",
    "    \n",
    "#print('sum2:', sum2)"
   ]
  },
  {
   "cell_type": "code",
   "execution_count": null,
   "metadata": {
    "collapsed": true
   },
   "outputs": [],
   "source": [
    "# Calculate the Zernike that is currently being used and put it on one single subaperture, the result is Zer\n",
    "# Apply the currently used Zernike to the mini-segment.\n",
    "Zer = Wavefront(mini_seg * isolated_zerns_nocut[zern_pair-1], wavelength=wvln.to(u.m).value)\n",
    "\n",
    "imshow_field(Zer.intensity, mask=mini_seg, cmap='RdBu')\n",
    "plt.title('Zernike mode on mini segment')\n",
    "plt.show()"
   ]
  },
  {
   "cell_type": "code",
   "execution_count": null,
   "metadata": {
    "collapsed": true
   },
   "outputs": [],
   "source": [
    "# Fourier Transform of the Zernike - the global envelope\n",
    "ft_hcipy = prop(Zer)\n",
    "\n",
    "imshow_field(np.log10(ft_hcipy.intensity))\n",
    "plt.title(\"Zernike envelope\")\n",
    "plt.colorbar()\n",
    "plt.show()"
   ]
  },
  {
   "cell_type": "code",
   "execution_count": null,
   "metadata": {
    "collapsed": true
   },
   "outputs": [],
   "source": [
    "#-# Final image\n",
    "# Generating the final image that will get passed on to the outer scope, I(u) in eq. 13\n",
    "final_im = ft_hcipy.intensity.shaped * (sum1.value + 2. * sum2.value)\n",
    "\n",
    "plt.figure(figsize=(10,10))\n",
    "plt.imshow(final_im, norm=LogNorm(), origin='lower')\n",
    "plt.title('Final image')\n",
    "plt.colorbar()\n",
    "plt.show()"
   ]
  },
  {
   "cell_type": "markdown",
   "metadata": {},
   "source": [
    "#### Saving some of the images\n",
    "\n",
    "I will save a couple of images down here to be able to display them next to each other:"
   ]
  },
  {
   "cell_type": "code",
   "execution_count": null,
   "metadata": {
    "collapsed": true
   },
   "outputs": [],
   "source": [
    "# PISTON - Noll 1\n",
    "#segs_1_2_noll_1 = np.copy(final_im)\n",
    "#segs_1_10_noll_1 = np.copy(final_im)\n",
    "#segs_1_24_noll_1 = np.copy(final_im)\n",
    "#segs_1_7_noll_1 = np.copy(final_im)\n",
    "#segs_1_19_noll_1 = np.copy(final_im)\n",
    "#segs_19_28_noll_1 = np.copy(final_im)\n",
    "\n",
    "# TIP - Noll 2\n",
    "#segs_1_2_noll_2 = np.copy(final_im)\n",
    "#segs_1_10_noll_2 = np.copy(final_im)\n",
    "#segs_1_24_noll_2 = np.copy(final_im)\n",
    "#segs_1_7_noll_2 = np.copy(final_im)\n",
    "#segs_1_19_noll_2 = np.copy(final_im)\n",
    "#segs_19_28_noll_2 = np.copy(final_im)"
   ]
  },
  {
   "cell_type": "code",
   "execution_count": null,
   "metadata": {
    "collapsed": true
   },
   "outputs": [],
   "source": [
    "# Save them all to fits files\n",
    "save_dir = '/astro/opticslab1/PASTIS/atlast_data/uncalibrated_analytical_images/2019-05-06-12h-00min'\n",
    "# util.write_fits(segs_1_2_noll_1, os.path.join(save_dir, 'segs_1_2_noll_1.fits'))\n",
    "# util.write_fits(segs_1_10_noll_1, os.path.join(save_dir, 'segs_1_10_noll_1.fits'))\n",
    "# util.write_fits(segs_1_24_noll_1, os.path.join(save_dir, 'segs_1_24_noll_1.fits'))\n",
    "# util.write_fits(segs_1_7_noll_1, os.path.join(save_dir, 'segs_1_7_noll_1.fits'))\n",
    "# util.write_fits(segs_1_19_noll_1, os.path.join(save_dir, 'segs_1_19_noll_1.fits'))\n",
    "# util.write_fits(segs_19_28_noll_1, os.path.join(save_dir, 'segs_19_28_noll_1.fits'))\n",
    "\n",
    "# util.write_fits(segs_1_2_noll_2, os.path.join(save_dir, 'segs_1_2_noll_2.fits'))\n",
    "# util.write_fits(segs_1_10_noll_2, os.path.join(save_dir, 'segs_1_10_noll_2.fits'))\n",
    "# util.write_fits(segs_1_24_noll_2, os.path.join(save_dir, 'segs_1_24_noll_2.fits'))\n",
    "# util.write_fits(segs_1_7_noll_2, os.path.join(save_dir, 'segs_1_7_noll_2.fits'))\n",
    "# util.write_fits(segs_1_19_noll_2, os.path.join(save_dir, 'segs_1_19_noll_2.fits'))\n",
    "# util.write_fits(segs_19_28_noll_2, os.path.join(save_dir, 'segs_19_28_noll_2.fits'))"
   ]
  },
  {
   "cell_type": "markdown",
   "metadata": {},
   "source": [
    "#### Display and compare the images\n",
    "\n",
    "I started making PASTIS images from the ATLAST pupil (generated by HCIPy) and below here, I am just showing the general properties of PASTIS images with the ATLAST example, just like in the JWST notebook. I have made a lot more different data with the entrance pupil, which is why I am using those images for the demo below here. This data is stored in: `/astro/opticslab1/PASTIS/atlast_data/uncalibrated_analytical_images/2019-04-23-13h-00min_100nm_piston`.\n",
    "\n",
    "#### *Fringe orientation and spacing*\n",
    "\n",
    "Let's start with the image in which we put **piston** on **segments 1 and 2**. When we check in what relation those two segments lie to each other on the (exit!) pupil (open the pupil image file for help), we can see:\n",
    "\n",
    "1. They like on a vertical offset to each other.\n",
    "2. They are very close together, the closest two segments on the ATLAST can be.\n",
    "\n",
    "This means for the image:\n",
    "1. The fringes are are tilted by the same amount like the connection vector between the two segments, but flipped by 90 degrees.\n",
    "2. Since the segments are **close together**, the fringes in the Fourier plane, here the final image, will be **wide**."
   ]
  },
  {
   "cell_type": "code",
   "execution_count": null,
   "metadata": {
    "collapsed": true
   },
   "outputs": [],
   "source": [
    "# I need to read the images in now\n",
    "read_dir1 = '/astro/opticslab1/PASTIS/atlast_data/uncalibrated_analytical_images/2019-05-06-11h-30min_1nm_piston'\n",
    "segs_1_2_noll_1 = fits.getdata(os.path.join(read_dir1, 'segs_1_2_noll_1.fits'))\n",
    "segs_1_10_noll_1 = fits.getdata(os.path.join(read_dir1, 'segs_1_10_noll_1.fits'))\n",
    "segs_1_24_noll_1 = fits.getdata(os.path.join(read_dir1, 'segs_1_24_noll_1.fits'))\n",
    "segs_1_7_noll_1 = fits.getdata(os.path.join(read_dir1, 'segs_1_7_noll_1.fits'))\n",
    "segs_1_19_noll_1 = fits.getdata(os.path.join(read_dir1, 'segs_1_19_noll_1.fits'))\n",
    "segs_19_28_noll_1 = fits.getdata(os.path.join(read_dir1, 'segs_19_28_noll_1.fits'))\n",
    "\n",
    "read_dir2 = '/astro/opticslab1/PASTIS/atlast_data/uncalibrated_analytical_images/2019-05-06-12h-00min_1nm_tip'\n",
    "segs_1_2_noll_2 = fits.getdata(os.path.join(read_dir2, 'segs_1_2_noll_2.fits'))\n",
    "segs_1_10_noll_2 = fits.getdata(os.path.join(read_dir2, 'segs_1_10_noll_2.fits'))\n",
    "segs_1_24_noll_2 = fits.getdata(os.path.join(read_dir2, 'segs_1_24_noll_2.fits'))\n",
    "segs_1_7_noll_2 = fits.getdata(os.path.join(read_dir2, 'segs_1_7_noll_2.fits'))\n",
    "segs_1_19_noll_2 = fits.getdata(os.path.join(read_dir2, 'segs_1_19_noll_2.fits'))\n",
    "segs_19_28_noll_2 = fits.getdata(os.path.join(read_dir2, 'segs_19_28_noll_2.fits'))"
   ]
  },
  {
   "cell_type": "code",
   "execution_count": null,
   "metadata": {
    "collapsed": true
   },
   "outputs": [],
   "source": [
    "plt.figure(figsize=(10, 10))\n",
    "plt.imshow(segs_1_2_noll_1, norm=LogNorm(), origin='lower')\n",
    "plt.title('Piston on segments 1 and 2')\n",
    "plt.show()"
   ]
  },
  {
   "cell_type": "markdown",
   "metadata": {},
   "source": [
    "We can see fringes in the correct orientation.\n",
    "\n",
    "Moving on to the image where we put **piston** on **segments 19 and 28**. As opposed to the previous image of segments 3 and 11 being aberrated:\n",
    "\n",
    "1. They are connected by a 45 degree diagonal.\n",
    "2. They are very far apart, they have the largest possible segment distance on the ATLAST.\n",
    "\n",
    "This means for the image:\n",
    "1. The fringes have an orientation in the image that will be 45 degrees tilted the previous one, because the two segment pairs have a different orientation.\n",
    "2. Since the segments are **far apart**, the fringes in the Fourier plane, here the final image, will be **narrow**."
   ]
  },
  {
   "cell_type": "code",
   "execution_count": null,
   "metadata": {
    "collapsed": true
   },
   "outputs": [],
   "source": [
    "plt.figure(figsize=(10, 10))\n",
    "plt.imshow(segs_19_28_noll_1, norm=LogNorm(), origin='lower')\n",
    "plt.title('Piston on segments 19 and 28')\n",
    "plt.show()"
   ]
  },
  {
   "cell_type": "markdown",
   "metadata": {},
   "source": [
    "The segments are in fact so far apart that the fringes get aliased, since they're so close together. So this is not the best example to show.\n",
    "\n",
    "For **piston** on **segments 1 and 24**, we have the same fringe orientation like in the very first image again, because the segment pair has the same orientation in the pupil like the first example before, but because their distance is in between the two previous cases, the fringe spacing will also be somewhere in between."
   ]
  },
  {
   "cell_type": "code",
   "execution_count": null,
   "metadata": {
    "collapsed": true
   },
   "outputs": [],
   "source": [
    "plt.figure(figsize=(10, 10))\n",
    "plt.imshow(segs_1_24_noll_1, norm=LogNorm(), origin='lower')\n",
    "plt.title('Piston on segments 1 and 24')\n",
    "plt.show()"
   ]
  },
  {
   "cell_type": "markdown",
   "metadata": {},
   "source": [
    "For **piston** on the segment pairs **1-10**, **1-24** and **1-2**, we can see that they have a pair orientation that is the same like in the example above, and since these three pairs have different segment separations, you can see how their fringe spacing differs."
   ]
  },
  {
   "cell_type": "code",
   "execution_count": null,
   "metadata": {
    "collapsed": true
   },
   "outputs": [],
   "source": [
    "plt.figure(figsize=(18, 6))\n",
    "plt.subplot(1, 3, 1)\n",
    "plt.imshow(segs_1_10_noll_1, norm=LogNorm(), origin='lower')\n",
    "plt.title('Piston on segments 1 and 10')\n",
    "\n",
    "plt.subplot(1, 3, 2)\n",
    "plt.imshow(segs_1_24_noll_1, norm=LogNorm(), origin='lower')\n",
    "plt.title('Piston on segments 1 and 24')\n",
    "\n",
    "plt.subplot(1, 3, 3)\n",
    "plt.imshow(segs_1_2_noll_1, norm=LogNorm(), origin='lower')\n",
    "plt.title('Piston on segments 1 and 2')\n",
    "\n",
    "plt.show()"
   ]
  },
  {
   "cell_type": "markdown",
   "metadata": {},
   "source": [
    "#### *Pair redundancy*\n",
    "\n",
    "See JWST notebook for this."
   ]
  },
  {
   "cell_type": "markdown",
   "metadata": {},
   "source": [
    "#### *A different Zernike than piston*\n",
    "\n",
    "The principles described above will hold true for whatever Zernike we use to aberrate a segment pair. The morphology of the image will change with the chosen Zernike though, as we have see further above when we displayed the different envelopes coming from local Zernikes on the mini segment."
   ]
  },
  {
   "cell_type": "code",
   "execution_count": null,
   "metadata": {
    "collapsed": true
   },
   "outputs": [],
   "source": [
    "im_list2 = np.array([segs_1_2_noll_2, segs_1_10_noll_2])\n",
    "pair_list2 = np.array(['1-2', '1-10'])\n",
    "\n",
    "plt.figure(figsize=(20, 50))\n",
    "for i in range(im_list2.shape[0]):\n",
    "    plt.subplot(4, 2, i+1)\n",
    "    plt.imshow(im_list2[i], norm=LogNorm(), origin='lower', vmin=1e0, vmax=1e14)\n",
    "    plt.title('Segment pair ' + pair_list2[i])\n",
    "\n",
    "plt.show()"
   ]
  },
  {
   "cell_type": "markdown",
   "metadata": {},
   "source": [
    "If we compare the pair **1-19** between the **piston** and the **tip** version, we can see that especially the core looks different. And there is that extra dark vertical line in the tip image."
   ]
  },
  {
   "cell_type": "code",
   "execution_count": null,
   "metadata": {
    "collapsed": true
   },
   "outputs": [],
   "source": [
    "plt.figure(figsize=(18, 9))\n",
    "plt.subplot(1, 2, 1)\n",
    "plt.imshow(segs_1_19_noll_1, norm=LogNorm(), origin='lower', vmin=1e0, vmax=1e14)\n",
    "plt.title('Piston on segments 19 and 28 - Piston')\n",
    "plt.colorbar()\n",
    "\n",
    "plt.subplot(1, 2, 2)\n",
    "plt.imshow(segs_1_19_noll_2, norm=LogNorm(), origin='lower', vmin=1e0, vmax=1e14)\n",
    "plt.title('Piston on segments 19 and 28 - Tip')\n",
    "plt.colorbar()\n",
    "\n",
    "plt.show()"
   ]
  },
  {
   "cell_type": "code",
   "execution_count": null,
   "metadata": {
    "collapsed": true
   },
   "outputs": [],
   "source": []
  }
 ],
 "metadata": {
  "kernelspec": {
   "display_name": "Python 3",
   "language": "python",
   "name": "python3"
  },
  "language_info": {
   "codemirror_mode": {
    "name": "ipython",
    "version": 3
   },
   "file_extension": ".py",
   "mimetype": "text/x-python",
   "name": "python",
   "nbconvert_exporter": "python",
   "pygments_lexer": "ipython3",
   "version": "3.6.8"
  }
 },
 "nbformat": 4,
 "nbformat_minor": 2
}
