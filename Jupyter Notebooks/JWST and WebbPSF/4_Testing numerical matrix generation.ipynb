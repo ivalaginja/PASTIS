{
 "cells": [
  {
   "cell_type": "markdown",
   "metadata": {},
   "source": [
    "<h1>Testing the numerical matrix generation</h1>\n",
    "\n",
    "## -- JWST --\n",
    "\n",
    "Testing \"matrix_building_numerical.py\"."
   ]
  },
  {
   "cell_type": "code",
   "execution_count": null,
   "metadata": {
    "collapsed": true
   },
   "outputs": [],
   "source": [
    "import os\n",
    "import numpy as np\n",
    "import matplotlib.pyplot as plt\n",
    "from matplotlib.colors import LogNorm\n",
    "import webbpsf\n",
    "from astropy.io import fits\n",
    "import astropy.units as u\n",
    "\n",
    "os.chdir('../../pastis/')\n",
    "from config import CONFIG_PASTIS\n",
    "import util_pastis as util\n",
    "from e2e_simulators import webbpsf_imaging as webbim\n",
    "\n",
    "os.environ['WEBBPSF_PATH'] = CONFIG_PASTIS.get('local', 'webbpsf_data_path')\n",
    "print('Currenlty running on WebbPSF', webbpsf.version.version)"
   ]
  },
  {
   "cell_type": "markdown",
   "metadata": {},
   "source": [
    "## Testing the code in form of a notebook"
   ]
  },
  {
   "cell_type": "code",
   "execution_count": null,
   "metadata": {
    "collapsed": true
   },
   "outputs": [],
   "source": [
    "# Parameters\n",
    "resDir = os.path.join(CONFIG_PASTIS.get('local', 'local_data_path'), 'active', 'matrix_numerical')\n",
    "which_tel = CONFIG_PASTIS.get('telescope', 'name')\n",
    "\n",
    "#############################################################\n",
    "#nb_seg = CONFIG_PASTIS.getint('telescope', 'nb_subapertures')\n",
    "nb_seg = 3       # just for now, to make testing faster\n",
    "im_size_e2e = CONFIG_PASTIS.getint('numerical', 'im_size_px_webbpsf')\n",
    "#im_size_e2e = 128    # just for now, to make testing faster\n",
    "#############################################################\n",
    "\n",
    "inner_wa = CONFIG_PASTIS.getint(which_tel, 'IWA')\n",
    "outer_wa = CONFIG_PASTIS.getint(which_tel, 'OWA')\n",
    "sampling = CONFIG_PASTIS.getfloat(which_tel, 'sampling')\n",
    "fpm = CONFIG_PASTIS.get(which_tel, 'focal_plane_mask')         # focal plane mask\n",
    "lyot_stop = CONFIG_PASTIS.get(which_tel, 'pupil_plane_stop')   # Lyot stop\n",
    "filter = CONFIG_PASTIS.get(which_tel, 'filter_name')\n",
    "nm_aber = CONFIG_PASTIS.getfloat('calibration', 'single_aberration') * u.nm\n",
    "wss_segs = webbpsf.constants.SEGNAMES_WSS_ORDER\n",
    "zern_max = CONFIG_PASTIS.getint('zernikes', 'max_zern')\n",
    "zern_number = CONFIG_PASTIS.getint('calibration', 'zernike')\n",
    "zern_mode = util.ZernikeMode(zern_number)                       # Create Zernike mode object for easier handling\n",
    "wss_zern_nb = util.noll_to_wss(zern_number)                     # Convert from Noll to WSS framework"
   ]
  },
  {
   "cell_type": "markdown",
   "metadata": {},
   "source": [
    "Some preliminary checking of the read-in parameters:"
   ]
  },
  {
   "cell_type": "code",
   "execution_count": null,
   "metadata": {
    "collapsed": true
   },
   "outputs": [],
   "source": [
    "print('resDir:', resDir)\n",
    "print('nb_seg:', nb_seg)\n",
    "print('im_size_e2e:', im_size_e2e)\n",
    "print('inner_wa:', inner_wa)\n",
    "print('outer_wa:', outer_wa)\n",
    "print('sampling:', sampling)\n",
    "print('fpm:', fpm)\n",
    "print('lyot_stop:', lyot_stop)\n",
    "print('filter:', filter)\n",
    "print('nm_aber: {}'.format(nm_aber))\n",
    "print('wss_segs:', wss_segs)\n",
    "print('zern_max:', zern_max)\n",
    "print('zern_number:', zern_number)\n",
    "print(zern_mode.get_info())\n",
    "print('wss_zern_nb:', wss_zern_nb)"
   ]
  },
  {
   "cell_type": "markdown",
   "metadata": {},
   "source": [
    "### Create a direct E2E PSF to obtain normalization factor"
   ]
  },
  {
   "cell_type": "code",
   "execution_count": null,
   "metadata": {
    "collapsed": true
   },
   "outputs": [],
   "source": [
    "Aber_WSS = np.zeros([nb_seg, zern_max])\n",
    "\n",
    "# Create NIRCam object\n",
    "nc = webbpsf.NIRCam()\n",
    "# Set filter\n",
    "nc.filter = filter\n",
    "\n",
    "# Adjust OTE with aberrations\n",
    "nc, ote = webbpsf.enable_adjustable_ote(nc)\n",
    "nc.include_si_wfe = False  # set SI internal WFE to zero\n",
    "ote.reset()\n",
    "ote.zero()\n",
    "for i in range(nb_seg):\n",
    "    seg = wss_segs[i].split('-')[0]\n",
    "    ote._apply_hexikes_to_seg(seg, Aber_WSS[i,:])\n",
    "\n",
    "# Calculate PSF\n",
    "psf_nc = nc.calc_psf(oversample=1, fov_pixels=int(im_size_e2e), nlambda=1)\n",
    "psf_perfect = psf_nc[1].data\n",
    "\n",
    "# Normalize PSF\n",
    "normp = np.max(psf_perfect)\n",
    "psf_perfect = psf_perfect / normp\n",
    "\n",
    "# Show PSF\n",
    "plt.imshow(psf_perfect, norm=LogNorm(), origin='lower')\n",
    "plt.title('Direct PSF for normalization purposes')\n",
    "plt.colorbar()\n",
    "plt.show()\n",
    "\n",
    "print('PSf shape:', psf_perfect.shape)\n",
    "print('PSF max:', np.max(psf_perfect))"
   ]
  },
  {
   "cell_type": "markdown",
   "metadata": {},
   "source": [
    "### Create a dark hole mask\n",
    "\n",
    "Creating a dark hole mask so that we can later overlay it with the images to extract the average contrast."
   ]
  },
  {
   "cell_type": "code",
   "execution_count": null,
   "metadata": {
    "collapsed": true
   },
   "outputs": [],
   "source": [
    "# Create the dark hole mask.\n",
    "pup_im = np.zeros([im_size_e2e, im_size_e2e])    # this is just used for DH mask generation\n",
    "dh_area = util.create_dark_hole(pup_im, inner_wa, outer_wa, sampling)\n",
    "\n",
    "plt.imshow(dh_area)\n",
    "plt.title('Dark hole on total image')\n",
    "plt.show()"
   ]
  },
  {
   "cell_type": "markdown",
   "metadata": {},
   "source": [
    "### Create NIRCam object with coronagraph\n",
    "\n",
    "Setting up the webbpsf NIRCam object which we will control to move different segment pairs at a time and then generate an image."
   ]
  },
  {
   "cell_type": "code",
   "execution_count": null,
   "metadata": {
    "collapsed": true
   },
   "outputs": [],
   "source": [
    "# Set up NIRCam object from WebbPSF\n",
    "nc_coro = webbpsf.NIRCam()\n",
    "nc_coro.filter = filter\n",
    "nc_coro.image_mask = fpm\n",
    "nc_coro.pupil_mask = lyot_stop\n",
    "\n",
    "# Null the OTE OPDs for the PSFs, maybe we will add internal WFE later.\n",
    "nc_coro, ote_coro = webbpsf.enable_adjustable_ote(nc_coro)      # create OTE for coronagraph\n",
    "ote_coro.zero()                       # Delete the OTE OPD\n",
    "nc_coro.include_si_wfe= False         # set SI internal WFE to zero\n",
    "\n",
    "plt.figure(figsize=(20, 30))\n",
    "nc_coro.display()\n",
    "plt.show()"
   ]
  },
  {
   "cell_type": "markdown",
   "metadata": {},
   "source": [
    "### Generate numerical PASTIS matrix\n",
    "\n",
    "Next, making the loop to generate one image per aberrated segment pair i, j and feeding the resulting contrast into the matrix element [i, j]."
   ]
  },
  {
   "cell_type": "code",
   "execution_count": null,
   "metadata": {
    "collapsed": true
   },
   "outputs": [],
   "source": [
    "#-# Generating the PASTIS matrix\n",
    "matrix_direct = np.zeros([nb_seg, nb_seg])   # Generate empty matrix\n",
    "\n",
    "# List for saving PSFs and DHs and contrasts\n",
    "all_psfs = []\n",
    "all_dhs = []\n",
    "all_contrasts = []\n",
    "\n",
    "for i in range(nb_seg):\n",
    "    for j in range(nb_seg):\n",
    "\n",
    "        print('STEP: {}-{} / {}-{}'.format(i+1, j+1, nb_seg, nb_seg))\n",
    "        \n",
    "        # Get names of segments\n",
    "        seg_i = wss_segs[i].split('-')[0]\n",
    "        seg_j = wss_segs[j].split('-')[0]\n",
    "\n",
    "        # Put the aberration on the correct segments\n",
    "        Aber_WSS = np.zeros([nb_seg, zern_max])            # The Zernikes here will be filled in the WSS order!!!\n",
    "                                                           # Because it goes into _apply_hexikes_to_seg().\n",
    "        Aber_WSS[i, wss_zern_nb - 1] = nm_aber.to(u.m).value    # Aberration on the segment we're currently working on;\n",
    "                                                           # convert to meters; -1 on the Zernike because Python starts\n",
    "                                                           # numbering at 0.\n",
    "        Aber_WSS[j, wss_zern_nb - 1] = nm_aber.to(u.m).value    # same for other segment\n",
    "\n",
    "        # Putting aberrations on segments i and j\n",
    "        ote_coro.reset()    # Making sure there are no previous movements on the segments.\n",
    "        ote_coro.zero()     # set OTE for coronagraph to zero\n",
    "        \n",
    "        # Apply both aberrations to OTE. If i=j, apply only once!\n",
    "        ote_coro._apply_hexikes_to_seg(seg_i, Aber_WSS[i, :])    # set segment i (segment numbering starts at 1)\n",
    "        if i != j:\n",
    "            ote_coro._apply_hexikes_to_seg(seg_j, Aber_WSS[j, :])    # set segment j\n",
    "\n",
    "        # If you want to display teh OTE\n",
    "        ote_coro.display_opd()\n",
    "        plt.show()\n",
    "        \n",
    "        print('Calculating WebbPSF image')\n",
    "        image = nc_coro.calc_psf(fov_pixels=int(im_size_e2e), oversample=1, nlambda=1)\n",
    "        psf = image[0].data/normp\n",
    "        all_psfs.append(psf)\n",
    "        \n",
    "        print('Calculating mean contrast in dark hole')\n",
    "        dh_intensity = psf * dh_area\n",
    "        contrast = np.mean(dh_intensity[np.where(dh_intensity != 0)])\n",
    "        print('contrast:', contrast)\n",
    "        all_dhs.append(dh_intensity)\n",
    "        all_contrasts.append(contrast)\n",
    "        \n",
    "        # If you want to display the PSF and DH image\n",
    "        plt.figure(figsize=(15,10))\n",
    "        plt.subplot(1, 2, 1)\n",
    "        plt.imshow(psf, norm=LogNorm(), origin='lower')\n",
    "        plt.colorbar()\n",
    "        plt.title('PSF {}/{}'.format(i+1, j+1))\n",
    "        plt.subplot(1, 2, 2)\n",
    "        plt.imshow(dh_intensity, norm=LogNorm(), origin='lower')\n",
    "        plt.colorbar()\n",
    "        plt.title('DH image {}/{}'.format(i+1, j+1))\n",
    "        plt.show()\n",
    "\n",
    "        # Fill according entry in the matrix\n",
    "        matrix_direct[i,j] = contrast\n",
    "        \n",
    "all_psfs = np.array(all_psfs)\n",
    "all_dhs = np.array(all_dhs)\n",
    "all_contrasts = np.array(all_contrasts)\n",
    "\n",
    "print(\"All done\")"
   ]
  },
  {
   "cell_type": "code",
   "execution_count": null,
   "metadata": {
    "collapsed": true
   },
   "outputs": [],
   "source": [
    "# Print the contrast values\n",
    "print('Measured mean contrasts in the dark holes, per single aberrated segment:')\n",
    "print(all_contrasts)\n",
    "print('Mean:', np.mean(all_contrasts))\n",
    "print('Min:', np.min(all_contrasts))\n",
    "print('Max:', np.max(all_contrasts))"
   ]
  },
  {
   "cell_type": "code",
   "execution_count": null,
   "metadata": {
    "collapsed": true
   },
   "outputs": [],
   "source": [
    "# You can flick through the images here\n",
    "imnum1 = 6\n",
    "\n",
    "# Figure out what segment pair the number \"imnum\" corresponds to\n",
    "seg1 = int(np.floor(imnum1/nb_seg)) + 1\n",
    "seg2 = imnum1%nb_seg + 1\n",
    "\n",
    "plt.figure(figsize=(18, 9))\n",
    "plt.suptitle('Segment pair:' + str(seg1) + '-' + str(seg2))\n",
    "plt.subplot(1, 2, 1)\n",
    "plt.imshow(all_psfs[imnum1], norm=LogNorm(), origin='lower')\n",
    "plt.title('Whole PSF')\n",
    "plt.subplot(1, 2, 2)\n",
    "plt.imshow(all_dhs[imnum1], norm=LogNorm(), origin='lower')\n",
    "plt.title('Dark hole')\n",
    "plt.show()"
   ]
  },
  {
   "cell_type": "code",
   "execution_count": null,
   "metadata": {},
   "outputs": [],
   "source": [
    "# Testing what area the mean is taken of\n",
    "test_dh = np.copy(all_dhs[imnum1])\n",
    "test_dh[np.where(test_dh != 0)] = 10000\n",
    "\n",
    "zoomim = 50\n",
    "\n",
    "plt.figure(figsize=(18, 9))\n",
    "plt.subplot(1, 2, 1)\n",
    "plt.imshow(util.zoom_cen(all_dhs[imnum1], zoomim), norm=LogNorm(), origin='lower')\n",
    "plt.title('DH image')\n",
    "plt.subplot(1, 2, 2)\n",
    "plt.imshow(util.zoom_cen(test_dh, zoomim), norm=LogNorm(), origin='lower')\n",
    "plt.title('Marked DH')\n",
    "plt.show()"
   ]
  },
  {
   "cell_type": "code",
   "execution_count": null,
   "metadata": {
    "collapsed": true
   },
   "outputs": [],
   "source": [
    "count_test = np.count_nonzero(test_dh)\n",
    "count_dh = np.count_nonzero(all_dhs[imnum1])\n",
    "print('Number of pixels in marked array:', count_test)\n",
    "print('Number of pixels in DH array:', count_dh)\n",
    "print('Mean in marked array:', np.sum(test_dh)/count_test)\n",
    "print('Mean in DH array:', np.sum(all_dhs[imnum1])/count_dh)"
   ]
  },
  {
   "cell_type": "code",
   "execution_count": null,
   "metadata": {
    "collapsed": true
   },
   "outputs": [],
   "source": [
    "# Display the matrix\n",
    "plt.imshow(matrix_direct, origin='lower')\n",
    "plt.title('Numerical matrix')\n",
    "plt.show()"
   ]
  },
  {
   "cell_type": "code",
   "execution_count": null,
   "metadata": {
    "collapsed": true
   },
   "outputs": [],
   "source": [
    "print(matrix_direct)"
   ]
  },
  {
   "cell_type": "markdown",
   "metadata": {},
   "source": [
    "### Calculating the off-axis elements\n",
    "\n",
    "Analogous to the off-axis elements in the analytical matrix (see notebook: **6_Testing analytical matrix generation**), we need to correct the off-axis elements."
   ]
  },
  {
   "cell_type": "code",
   "execution_count": null,
   "metadata": {},
   "outputs": [],
   "source": [
    "# Filling the off-axis elements\n",
    "matrix_two_N = np.copy(matrix_direct)      # This is just an intermediary copy so that I don't mix things up.\n",
    "matrix_pastis = np.copy(matrix_direct)     # This will be the final PASTIS matrix.\n",
    "\n",
    "for i in range(nb_seg):\n",
    "    for j in range(nb_seg):\n",
    "        if i != j:\n",
    "            matrix_off_val = (matrix_two_N[i,j] - matrix_two_N[i,i] - matrix_two_N[j,j]) / 2.\n",
    "            matrix_pastis[i,j] = matrix_off_val\n",
    "            print('Off-axis for i{}-j{}: {}'.format(i+1, j+1, matrix_off_val))"
   ]
  },
  {
   "cell_type": "markdown",
   "metadata": {},
   "source": [
    "### Normalize matrix for the input aberration\n",
    "\n",
    "Since we have ot pick an input aberration that is within the linear regime of the hockeystick curve for JWST (where we compare the contrast calculation for random realizaitons of rms amplitudes on the primary), we are using **100 nm** for JWST. To bring the matrix back into normalized units of 1 nm, we need to dived by the square of that value."
   ]
  },
  {
   "cell_type": "code",
   "execution_count": null,
   "metadata": {
    "collapsed": true
   },
   "outputs": [],
   "source": [
    "matrix_pastis /= np.square(nm_aber.value)"
   ]
  },
  {
   "cell_type": "markdown",
   "metadata": {},
   "source": [
    "## Displaying the results from the integrated script on the repo"
   ]
  },
  {
   "cell_type": "code",
   "execution_count": null,
   "metadata": {
    "collapsed": true
   },
   "outputs": [],
   "source": [
    "# Read the matrix\n",
    "filename_matrix = 'PASTISmatrix_num_' + zern_mode.name + '_' + zern_mode.convention + str(zern_mode.index)\n",
    "matrix = fits.getdata(os.path.join(resDir, filename_matrix + '.fits'))\n",
    "\n",
    "# Read the PSFs\n",
    "psf_cube = fits.getdata(os.path.join(resDir, 'psfs', 'psf_cube' + '.fits'))\n",
    "\n",
    "# Read the DH images\n",
    "dh_cube = fits.getdata(os.path.join(resDir, 'darkholes', 'dh_cube' + '.fits'))\n",
    "\n",
    "# Read the contrasts\n",
    "con = np.loadtxt(os.path.join(resDir, 'pair-wise_contrasts.txt'))"
   ]
  },
  {
   "cell_type": "code",
   "execution_count": null,
   "metadata": {
    "collapsed": true
   },
   "outputs": [],
   "source": [
    "# Display numerical matrix\n",
    "plt.figure(figsize=(20, 20))\n",
    "plt.imshow(matrix, origin='lower')\n",
    "plt.show()"
   ]
  },
  {
   "cell_type": "code",
   "execution_count": null,
   "metadata": {
    "collapsed": true
   },
   "outputs": [],
   "source": [
    "# You can flick through the images here\n",
    "nb_seg = 18   # this has to be the same number like in the script you ran\n",
    "imnum2 = 200\n",
    "\n",
    "# Figure out what segment pair the number \"imnum\" corresponds ro\n",
    "seg1 = int(np.floor(imnum2/nb_seg)) + 1\n",
    "seg2 = imnum2%nb_seg + 1\n",
    "\n",
    "plt.figure(figsize=(18, 9))\n",
    "plt.suptitle('Segment pair:' + str(seg1) + '-' + str(seg2))\n",
    "plt.subplot(1, 2, 1)\n",
    "plt.imshow(psf_cube[imnum2], norm=LogNorm(), origin='lower')\n",
    "plt.title('Whole PSF')\n",
    "plt.subplot(1, 2, 2)\n",
    "plt.imshow(dh_cube[imnum2], norm=LogNorm(), origin='lower')\n",
    "plt.title('Dark hole')\n",
    "plt.show()"
   ]
  },
  {
   "cell_type": "code",
   "execution_count": null,
   "metadata": {
    "collapsed": true
   },
   "outputs": [],
   "source": []
  }
 ],
 "metadata": {
  "kernelspec": {
   "display_name": "Python 3",
   "language": "python",
   "name": "python3"
  },
  "language_info": {
   "codemirror_mode": {
    "name": "ipython",
    "version": 3
   },
   "file_extension": ".py",
   "mimetype": "text/x-python",
   "name": "python",
   "nbconvert_exporter": "python",
   "pygments_lexer": "ipython3",
   "version": "3.7.2"
  }
 },
 "nbformat": 4,
 "nbformat_minor": 2
}
