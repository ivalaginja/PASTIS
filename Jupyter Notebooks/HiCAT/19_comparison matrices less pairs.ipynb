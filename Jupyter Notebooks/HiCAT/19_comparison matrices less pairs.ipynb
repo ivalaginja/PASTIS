{
 "cells": [
  {
   "cell_type": "markdown",
   "metadata": {},
   "source": [
    "# Comparing contrast and PASTIS matrices after reducing segment pairs\n",
    "\n",
    "...in the matrix generation."
   ]
  },
  {
   "cell_type": "code",
   "execution_count": null,
   "metadata": {},
   "outputs": [],
   "source": [
    "# Imports\n",
    "import os\n",
    "from astropy.io import fits\n",
    "import numpy as np\n",
    "import matplotlib.pyplot as plt\n",
    "from matplotlib.colors import LogNorm\n",
    "import hcipy as hc\n",
    "\n",
    "os.chdir('/Users/ilaginja/repos/PASTIS/pastis')\n",
    "from config import CONFIG_INI\n",
    "import util_pastis as util\n",
    "datadir = CONFIG_INI.get('local', 'local_data_path')"
   ]
  },
  {
   "cell_type": "code",
   "execution_count": null,
   "metadata": {},
   "outputs": [],
   "source": [
    "# Define directories\n",
    "dir_standard = '2020-09-02T10-59-17_hicat'\n",
    "dir_new = '2020-09-02T14-50-44_hicat'\n",
    "\n",
    "# Define matrix name\n",
    "matrix_name = 'PASTISmatrix_num_piston_Noll1.fits'\n",
    "contrast_name = 'pair-wise_contrasts.fits'"
   ]
  },
  {
   "cell_type": "code",
   "execution_count": null,
   "metadata": {},
   "outputs": [],
   "source": [
    "# Load both matrices\n",
    "mat_stand = fits.getdata(os.path.join(datadir, dir_standard, 'matrix_numerical', matrix_name))\n",
    "mat_new = fits.getdata(os.path.join(datadir, dir_new, 'matrix_numerical', matrix_name))"
   ]
  },
  {
   "cell_type": "code",
   "execution_count": null,
   "metadata": {},
   "outputs": [],
   "source": [
    "# Load contrast matrices\n",
    "con_stand = fits.getdata(os.path.join(datadir, dir_standard, 'matrix_numerical', contrast_name))\n",
    "con_new = fits.getdata(os.path.join(datadir, dir_new, 'matrix_numerical', contrast_name))"
   ]
  },
  {
   "cell_type": "code",
   "execution_count": null,
   "metadata": {},
   "outputs": [],
   "source": [
    "# Plot both PASTIS matrices\n",
    "plt.figure(figsize=(18, 9))\n",
    "plt.subplot(1, 2, 1)\n",
    "plt.imshow(mat_stand)#, norm=LogNorm())\n",
    "plt.colorbar()\n",
    "plt.subplot(1, 2, 2)\n",
    "plt.imshow(mat_new)#, norm=LogNorm())\n",
    "plt.colorbar()"
   ]
  },
  {
   "cell_type": "code",
   "execution_count": null,
   "metadata": {},
   "outputs": [],
   "source": [
    "# Plot their difference\n",
    "print(np.sum(mat_stand - mat_new))\n",
    "plt.imshow(np.log10(mat_stand - mat_new))\n",
    "plt.colorbar()"
   ]
  },
  {
   "cell_type": "code",
   "execution_count": null,
   "metadata": {},
   "outputs": [],
   "source": [
    "# Plot both contrast matrices\n",
    "plt.figure(figsize=(18, 9))\n",
    "plt.subplot(1, 2, 1)\n",
    "plt.imshow(con_stand)#, norm=LogNorm())\n",
    "plt.colorbar()\n",
    "plt.subplot(1, 2, 2)\n",
    "plt.imshow(con_new)#, norm=LogNorm())\n",
    "plt.colorbar()"
   ]
  },
  {
   "cell_type": "code",
   "execution_count": null,
   "metadata": {},
   "outputs": [],
   "source": [
    "# Plot their difference\n",
    "print(np.sum(con_stand - con_new))\n",
    "plt.imshow(np.log10(con_stand - con_new))\n",
    "plt.colorbar()"
   ]
  },
  {
   "cell_type": "markdown",
   "metadata": {},
   "source": [
    "## Check symmetrized contrast matrix\n",
    "\n",
    "Symmetrize new contrast matrix and make sure it's the same like the standard one."
   ]
  },
  {
   "cell_type": "code",
   "execution_count": null,
   "metadata": {},
   "outputs": [],
   "source": [
    "con_new_symm = util.symmetrize(con_new)"
   ]
  },
  {
   "cell_type": "code",
   "execution_count": null,
   "metadata": {},
   "outputs": [],
   "source": [
    "# Plot both contrast matrices\n",
    "plt.figure(figsize=(18, 9))\n",
    "plt.subplot(1, 2, 1)\n",
    "plt.imshow(con_stand)#, norm=LogNorm())\n",
    "plt.colorbar()\n",
    "plt.subplot(1, 2, 2)\n",
    "plt.imshow(con_new_symm)#, norm=LogNorm())\n",
    "plt.colorbar()"
   ]
  },
  {
   "cell_type": "code",
   "execution_count": null,
   "metadata": {},
   "outputs": [],
   "source": [
    "# Plot their difference\n",
    "print(np.sum(con_stand - con_new_symm))\n",
    "plt.imshow(np.log10(con_stand - con_new_symm))\n",
    "plt.colorbar()"
   ]
  },
  {
   "cell_type": "markdown",
   "metadata": {},
   "source": [
    "### Check the matrix transposes"
   ]
  },
  {
   "cell_type": "code",
   "execution_count": null,
   "metadata": {},
   "outputs": [],
   "source": [
    "print(np.all(mat_stand) == np.all(mat_stand.T))"
   ]
  },
  {
   "cell_type": "code",
   "execution_count": null,
   "metadata": {},
   "outputs": [],
   "source": [
    "print(np.all(mat_new) == np.all(mat_new.T))"
   ]
  },
  {
   "cell_type": "code",
   "execution_count": null,
   "metadata": {},
   "outputs": [],
   "source": [
    "print(np.all(con_stand) == np.all(con_stand.T))"
   ]
  },
  {
   "cell_type": "code",
   "execution_count": null,
   "metadata": {},
   "outputs": [],
   "source": [
    "print(np.all(con_new_symm) == np.all(con_new_symm.T))"
   ]
  },
  {
   "cell_type": "markdown",
   "metadata": {},
   "source": [
    "## Symmetrizing the contrast matrix from itself"
   ]
  },
  {
   "cell_type": "code",
   "execution_count": null,
   "metadata": {},
   "outputs": [],
   "source": [
    "con_orig_half = np.triu(con_stand)"
   ]
  },
  {
   "cell_type": "code",
   "execution_count": null,
   "metadata": {},
   "outputs": [],
   "source": [
    "plt.imshow(con_orig_half)"
   ]
  },
  {
   "cell_type": "code",
   "execution_count": null,
   "metadata": {},
   "outputs": [],
   "source": [
    "# Plot both contrast matrices\n",
    "plt.figure(figsize=(18, 9))\n",
    "plt.subplot(1, 2, 1)\n",
    "plt.imshow(con_orig_half)#, norm=LogNorm())\n",
    "plt.colorbar()\n",
    "plt.subplot(1, 2, 2)\n",
    "plt.imshow(con_new)#, norm=LogNorm())\n",
    "plt.colorbar()"
   ]
  },
  {
   "cell_type": "code",
   "execution_count": null,
   "metadata": {},
   "outputs": [],
   "source": [
    "# Plot their difference\n",
    "print(np.sum(con_orig_half - con_new))\n",
    "plt.imshow(np.log10(con_orig_half - con_new))\n",
    "plt.colorbar()"
   ]
  },
  {
   "cell_type": "markdown",
   "metadata": {},
   "source": [
    "### Symmetrize this"
   ]
  },
  {
   "cell_type": "code",
   "execution_count": null,
   "metadata": {},
   "outputs": [],
   "source": [
    "con_orig_half_sym = util.symmetrize(con_orig_half)"
   ]
  },
  {
   "cell_type": "code",
   "execution_count": null,
   "metadata": {},
   "outputs": [],
   "source": [
    "# Plot both contrast matrices\n",
    "plt.figure(figsize=(18, 9))\n",
    "plt.subplot(1, 2, 1)\n",
    "plt.imshow(con_stand)#, norm=LogNorm())\n",
    "plt.colorbar()\n",
    "plt.subplot(1, 2, 2)\n",
    "plt.imshow(con_orig_half_sym)#, norm=LogNorm())\n",
    "plt.colorbar()"
   ]
  },
  {
   "cell_type": "code",
   "execution_count": null,
   "metadata": {},
   "outputs": [],
   "source": [
    "# Plot their difference\n",
    "print(np.sum(con_stand - con_orig_half_sym))\n",
    "plt.imshow(np.log10(con_stand - con_orig_half_sym))\n",
    "plt.colorbar()"
   ]
  },
  {
   "cell_type": "markdown",
   "metadata": {},
   "source": [
    "## Compare the half original contrst matrix to new contrsat matrix\n",
    "... which is only half anyway"
   ]
  },
  {
   "cell_type": "code",
   "execution_count": null,
   "metadata": {},
   "outputs": [],
   "source": [
    "# Plot both contrast matrices\n",
    "plt.figure(figsize=(18, 9))\n",
    "plt.subplot(1, 2, 1)\n",
    "plt.imshow(con_orig_half)#, norm=LogNorm())\n",
    "plt.colorbar()\n",
    "plt.subplot(1, 2, 2)\n",
    "plt.imshow(con_new)#, norm=LogNorm())\n",
    "plt.colorbar()"
   ]
  },
  {
   "cell_type": "code",
   "execution_count": null,
   "metadata": {},
   "outputs": [],
   "source": [
    "# Plot their difference\n",
    "print(np.sum(con_orig_half - con_new))\n",
    "plt.imshow(np.log10(con_orig_half - con_new))\n",
    "plt.colorbar()"
   ]
  },
  {
   "cell_type": "markdown",
   "metadata": {},
   "source": [
    "Good! We can confirm that both methods produce exactly the same contrast matrix that gets saved to disk, except that the new one is only half filled. Neither of them have had the coronagraph floor subtracted yet.\n",
    "\n",
    "Moving on."
   ]
  },
  {
   "cell_type": "markdown",
   "metadata": {},
   "source": [
    "## Compare off-axis matrices"
   ]
  },
  {
   "cell_type": "code",
   "execution_count": null,
   "metadata": {},
   "outputs": [],
   "source": [
    "# Load both matrices\n",
    "off_name = 'off_axis_matrix.fits'\n",
    "off_dir_stand = '2020-09-02T16-44-03_hicat'\n",
    "off_dir_new = '2020-09-02T17-48-47_hicat'\n",
    "\n",
    "off_stand = fits.getdata(os.path.join(datadir, off_dir_stand, 'matrix_numerical', off_name))\n",
    "off_new = fits.getdata(os.path.join(datadir, off_dir_new, 'matrix_numerical', off_name))"
   ]
  },
  {
   "cell_type": "code",
   "execution_count": null,
   "metadata": {},
   "outputs": [],
   "source": [
    "# Plot both contrast matrices\n",
    "plt.figure(figsize=(18, 9))\n",
    "plt.subplot(1, 2, 1)\n",
    "plt.imshow(off_stand)#, norm=LogNorm())\n",
    "plt.colorbar()\n",
    "plt.subplot(1, 2, 2)\n",
    "plt.imshow(off_new)#, norm=LogNorm())\n",
    "plt.colorbar()"
   ]
  },
  {
   "cell_type": "code",
   "execution_count": null,
   "metadata": {},
   "outputs": [],
   "source": [
    "# Plot their difference\n",
    "print(np.sum(off_stand - off_new))\n",
    "plt.imshow(np.log10(off_stand - off_new))\n",
    "plt.colorbar()"
   ]
  },
  {
   "cell_type": "markdown",
   "metadata": {},
   "source": [
    "Symmetrize the new one and try again"
   ]
  },
  {
   "cell_type": "code",
   "execution_count": null,
   "metadata": {},
   "outputs": [],
   "source": [
    "off_new_sym = util.symmetrize(off_new)"
   ]
  },
  {
   "cell_type": "code",
   "execution_count": null,
   "metadata": {},
   "outputs": [],
   "source": [
    "# Plot both contrast matrices\n",
    "plt.figure(figsize=(18, 9))\n",
    "plt.subplot(1, 2, 1)\n",
    "plt.imshow(off_stand)#, norm=LogNorm())\n",
    "plt.colorbar()\n",
    "plt.subplot(1, 2, 2)\n",
    "plt.imshow(off_new_sym)#, norm=LogNorm())\n",
    "plt.colorbar()"
   ]
  },
  {
   "cell_type": "code",
   "execution_count": null,
   "metadata": {},
   "outputs": [],
   "source": [
    "# Plot their difference\n",
    "print(np.sum(off_stand - off_new_sym))\n",
    "plt.imshow(np.log10(off_stand - off_new_sym))\n",
    "plt.colorbar()"
   ]
  },
  {
   "cell_type": "markdown",
   "metadata": {},
   "source": [
    "# WHOOOOO!!\n",
    "\n",
    "## It works!\n",
    "\n",
    "Rest below here was just other things I was playing around with."
   ]
  },
  {
   "cell_type": "code",
   "execution_count": null,
   "metadata": {},
   "outputs": [],
   "source": []
  },
  {
   "cell_type": "markdown",
   "metadata": {},
   "source": [
    "## Load coronagraph floor and subtract"
   ]
  },
  {
   "cell_type": "code",
   "execution_count": null,
   "metadata": {},
   "outputs": [],
   "source": [
    "floor_name = 'coronagraph_floor.txt'\n",
    "floor_orig_path = os.path.join(datadir, dir_standard, floor_name)\n",
    "floor_new_path = os.path.join(datadir, dir_new, floor_name)"
   ]
  },
  {
   "cell_type": "code",
   "execution_count": null,
   "metadata": {},
   "outputs": [],
   "source": [
    "def read_coro_floor_from_txt(filename):\n",
    "    with open(filename, 'r') as file:\n",
    "        full = file.read()\n",
    "    return float(full[19:])"
   ]
  },
  {
   "cell_type": "code",
   "execution_count": null,
   "metadata": {},
   "outputs": [],
   "source": [
    "floor_orig = read_coro_floor_from_txt(floor_orig_path)\n",
    "floor_new = read_coro_floor_from_txt(floor_new_path)\n",
    "print(f'floor_orig: {floor_orig}')\n",
    "print(f'floor_new: {floor_new}')"
   ]
  },
  {
   "cell_type": "code",
   "execution_count": null,
   "metadata": {},
   "outputs": [],
   "source": []
  },
  {
   "cell_type": "code",
   "execution_count": null,
   "metadata": {},
   "outputs": [],
   "source": []
  },
  {
   "cell_type": "markdown",
   "metadata": {},
   "source": [
    "## Calculate off-axis elements to get PASTIS matrix"
   ]
  },
  {
   "cell_type": "code",
   "execution_count": null,
   "metadata": {},
   "outputs": [],
   "source": [
    "def calculate_off_axis_elements(nb_seg, contrast_matrix, seglist):\n",
    "    #log.info('\\nCalculating off-axis matrix elements...')\n",
    "    matrix_two_N = np.copy(contrast_matrix)      # This is just an intermediary copy so that I don't mix things up.\n",
    "    matrix_pastis = np.zeros_like(contrast_matrix)     # This will be the final PASTIS matrix.\n",
    "\n",
    "    for i, seg_i in enumerate(seglist):\n",
    "        for j, seg_j in enumerate(seglist):\n",
    "            if i != j:\n",
    "                matrix_off_val = (matrix_two_N[i,j] - matrix_two_N[i,i] - matrix_two_N[j,j]) / 2.\n",
    "                matrix_pastis[i,j] = matrix_off_val\n",
    "                #log.info(f'Off-axis for i{seg_i}-j{seg_j}: {matrix_off_val}')\n",
    "\n",
    "    return matrix_pastis"
   ]
  },
  {
   "cell_type": "code",
   "execution_count": null,
   "metadata": {},
   "outputs": [],
   "source": [
    "seglist = util.get_segment_list('HiCAT')"
   ]
  },
  {
   "cell_type": "code",
   "execution_count": null,
   "metadata": {},
   "outputs": [],
   "source": [
    "off_orig = calculate_off_axis_elements(37, con_stand, seglist)\n",
    "off_new = calculate_off_axis_elements(37, con_new_symm, seglist)"
   ]
  },
  {
   "cell_type": "code",
   "execution_count": null,
   "metadata": {},
   "outputs": [],
   "source": [
    "# Plot both off matrices\n",
    "plt.figure(figsize=(18, 9))\n",
    "plt.subplot(1, 2, 1)\n",
    "plt.imshow(off_orig)#, norm=LogNorm())\n",
    "plt.colorbar()\n",
    "plt.subplot(1, 2, 2)\n",
    "plt.imshow(off_new)#, norm=LogNorm())\n",
    "plt.colorbar()"
   ]
  },
  {
   "cell_type": "code",
   "execution_count": null,
   "metadata": {},
   "outputs": [],
   "source": [
    "# Plot their difference\n",
    "print(np.sum(off_orig - off_new))\n",
    "plt.imshow(np.log10(off_orig - off_new))\n",
    "plt.colorbar()"
   ]
  },
  {
   "cell_type": "markdown",
   "metadata": {},
   "source": [
    "This is also ok, just noisy."
   ]
  },
  {
   "cell_type": "markdown",
   "metadata": {},
   "source": [
    "## Normalize both matrices"
   ]
  },
  {
   "cell_type": "code",
   "execution_count": null,
   "metadata": {},
   "outputs": [],
   "source": [
    "wfe_aber = 640*1e-9   # [m]"
   ]
  },
  {
   "cell_type": "code",
   "execution_count": null,
   "metadata": {},
   "outputs": [],
   "source": [
    "matrix_pastis_orig = off_orig / np.square(wfe_aber * 1e9)\n",
    "matrix_pastis_new = off_new / np.square(wfe_aber * 1e9)"
   ]
  },
  {
   "cell_type": "code",
   "execution_count": null,
   "metadata": {},
   "outputs": [],
   "source": [
    "# Plot both off matrices\n",
    "plt.figure(figsize=(18, 9))\n",
    "plt.subplot(1, 2, 1)\n",
    "plt.imshow(matrix_pastis_orig)#, norm=LogNorm())\n",
    "plt.colorbar()\n",
    "plt.subplot(1, 2, 2)\n",
    "plt.imshow(matrix_pastis_new)#, norm=LogNorm())\n",
    "plt.colorbar()"
   ]
  },
  {
   "cell_type": "code",
   "execution_count": null,
   "metadata": {},
   "outputs": [],
   "source": [
    "# Plot their difference\n",
    "print(np.sum(matrix_pastis_orig - matrix_pastis_new))\n",
    "plt.imshow(np.log10(matrix_pastis_orig - matrix_pastis_new))\n",
    "plt.colorbar()"
   ]
  },
  {
   "cell_type": "markdown",
   "metadata": {},
   "source": [
    "## Save and use for hockey stick curve"
   ]
  },
  {
   "cell_type": "code",
   "execution_count": null,
   "metadata": {},
   "outputs": [],
   "source": [
    "#..."
   ]
  },
  {
   "cell_type": "markdown",
   "metadata": {},
   "source": [
    "## Compare to input result for both PASTIS matrices\n",
    "\n",
    "Could figure out which input matrix is the crooked one."
   ]
  },
  {
   "cell_type": "markdown",
   "metadata": {},
   "source": [
    "### Standard matrix"
   ]
  },
  {
   "cell_type": "code",
   "execution_count": null,
   "metadata": {},
   "outputs": [],
   "source": [
    "# Plot both off matrices\n",
    "plt.figure(figsize=(18, 9))\n",
    "plt.subplot(1, 2, 1)\n",
    "plt.imshow(mat_stand)#, norm=LogNorm())\n",
    "plt.colorbar()\n",
    "plt.subplot(1, 2, 2)\n",
    "plt.imshow(matrix_pastis_orig)#, norm=LogNorm())\n",
    "plt.colorbar()"
   ]
  },
  {
   "cell_type": "code",
   "execution_count": null,
   "metadata": {},
   "outputs": [],
   "source": [
    "# Plot their difference\n",
    "print(np.sum(mat_stand - matrix_pastis_orig))\n",
    "plt.imshow(np.log10(mat_stand - matrix_pastis_orig))\n",
    "plt.colorbar()"
   ]
  },
  {
   "cell_type": "code",
   "execution_count": null,
   "metadata": {},
   "outputs": [],
   "source": []
  }
 ],
 "metadata": {
  "kernelspec": {
   "display_name": "Python 3",
   "language": "python",
   "name": "python3"
  },
  "language_info": {
   "codemirror_mode": {
    "name": "ipython",
    "version": 3
   },
   "file_extension": ".py",
   "mimetype": "text/x-python",
   "name": "python",
   "nbconvert_exporter": "python",
   "pygments_lexer": "ipython3",
   "version": "3.7.3"
  }
 },
 "nbformat": 4,
 "nbformat_minor": 2
}
