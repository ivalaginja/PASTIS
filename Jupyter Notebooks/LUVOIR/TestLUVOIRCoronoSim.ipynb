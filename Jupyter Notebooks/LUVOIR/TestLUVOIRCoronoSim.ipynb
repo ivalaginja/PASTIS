{
 "cells": [
  {
   "cell_type": "markdown",
   "metadata": {},
   "source": [
    "# Stability calculations\n",
    "\n",
    "## -- LUVOIR --\n",
    "\n",
    "In notebook 10, we calculated the PASTIS modes for all three currently designed apodizers for the LUVOIR A pupil. In this notebook, we will load the modes and calculate the maximum mode contributions $\\sigma$ and strability requirements $\\Delta \\sigma$.\n",
    "\n",
    "After that I also calculate the maximum segment contributions $\\mu$."
   ]
  },
  {
   "cell_type": "code",
   "execution_count": null,
   "metadata": {},
   "outputs": [],
   "source": [
    "# Imports\n",
    "import os\n",
    "import numpy as np\n",
    "import matplotlib.pyplot as plt\n",
    "from matplotlib.colors import LogNorm\n",
    "%matplotlib inline\n",
    "from astropy.io import fits\n",
    "import astropy.units as u\n",
    "import hcipy as hc\n",
    "\n",
    "os.chdir('../../pastis/')\n",
    "import util_pastis as util\n",
    "from e2e_simulators.luvoir_imaging_new import LuvoirAPLC"
   ]
  },
  {
   "cell_type": "markdown",
   "metadata": {},
   "source": [
    "## Instantiate a simple SM for mode plotting\n",
    "\n",
    "I need to simplify this... I can make a child class like I did for the full LUVOIR simulator."
   ]
  },
  {
   "cell_type": "code",
   "execution_count": null,
   "metadata": {},
   "outputs": [],
   "source": [
    "# Load aperture files needed for SM\n",
    "nseg = 120\n",
    "wvln = 638e-9\n",
    "\n",
    "datadir = '/Users/pueyo/PythonPackages/PASTIS/LUVOIR_delivery_May2019/'\n",
    "aper_path = 'inputs/TelAp_LUVOIR_gap_pad01_bw_ovsamp04_N1000.fits'\n",
    "aper_ind_path = 'inputs/TelAp_LUVOIR_gap_pad01_bw_ovsamp04_N1000_indexed.fits'\n",
    "aper_read = hc.read_fits(os.path.join(datadir, aper_path))\n",
    "aper_ind_read = hc.read_fits(os.path.join(datadir, aper_ind_path))\n",
    "\n",
    "pupil_grid = hc.make_pupil_grid(dims=aper_ind_read.shape[0], diameter=15)\n",
    "aper = hc.Field(aper_read.ravel(), pupil_grid)\n",
    "aper_ind = hc.Field(aper_ind_read.ravel(), pupil_grid)\n",
    "\n",
    "wf_aper = hc.Wavefront(aper, wvln)\n",
    "\n",
    "# Load segment positions from fits header\n",
    "hdr = fits.getheader(os.path.join(datadir, aper_ind_path))\n",
    "\n",
    "poslist = []\n",
    "for i in range(nseg):\n",
    "    segname = 'SEG' + str(i+1)\n",
    "    xin = hdr[segname + '_X']\n",
    "    yin = hdr[segname + '_Y']\n",
    "    poslist.append((xin, yin))\n",
    "    \n",
    "poslist = np.transpose(np.array(poslist))\n",
    "seg_pos = hc.CartesianGrid(hc.UnstructuredCoords(poslist))"
   ]
  },
  {
   "cell_type": "markdown",
   "metadata": {},
   "source": [
    "## Mode and eigenvalue units\n",
    "\n",
    "Since the matrices got generated normalized to an aberration of 1 nm, everything stemming from the matrix will be in units of **nanometers**. --> This is the desired behaviour of course and is yet to be confirmed, which is one of the goals of this notebook."
   ]
  },
  {
   "cell_type": "code",
   "execution_count": null,
   "metadata": {},
   "outputs": [],
   "source": [
    "eunit = 1e-9"
   ]
  },
  {
   "cell_type": "markdown",
   "metadata": {},
   "source": [
    "## Also instantiate a LUVOR telescope\n",
    "\n",
    "For cumulative contrast calculation.\n",
    "\n",
    "> **ATTENTION:** the variable `apodizer_design` has to be correct for the data we are reading with the variable `savedpath` further below!!!"
   ]
  },
  {
   "cell_type": "code",
   "execution_count": null,
   "metadata": {},
   "outputs": [],
   "source": [
    "# Instantiate LUVOIR\n",
    "sampling = 4\n",
    "apodizer_design = 'large'\n",
    "# This path is specific to the paths used in the LuvoirAPLC class\n",
    "optics_input = '/Users/pueyo/PythonPackages/PASTIS/LUVOIR_delivery_May2019/'\n",
    "\n",
    "luvoir = LuvoirAPLC(optics_input, apodizer_design, sampling)"
   ]
  },
  {
   "cell_type": "code",
   "execution_count": null,
   "metadata": {},
   "outputs": [],
   "source": [
    "luvoir.make_segment_zernike_primary(1)"
   ]
  },
  {
   "cell_type": "code",
   "execution_count": null,
   "metadata": {},
   "outputs": [],
   "source": [
    "zernike_coeffs = np.zeros([luvoir.sm.num_actuators])\n",
    "luvoir.sm.actuators = zernike_coeffs"
   ]
  },
  {
   "cell_type": "code",
   "execution_count": null,
   "metadata": {
    "scrolled": true
   },
   "outputs": [],
   "source": [
    "luvoir.sm(luvoir.wf_aper)"
   ]
  },
  {
   "cell_type": "code",
   "execution_count": null,
   "metadata": {},
   "outputs": [],
   "source": [
    "# Make reference image\n",
    "# luvoir.flatten()\n",
    "psf_unaber, ref = luvoir.calc_psf(ref=True)\n",
    "norm = ref.max()"
   ]
  },
  {
   "cell_type": "code",
   "execution_count": null,
   "metadata": {},
   "outputs": [],
   "source": [
    "plt.figure(figsize=(10, 10))\n",
    "hc.imshow_field(psf_unaber/norm, norm=LogNorm())"
   ]
  },
  {
   "cell_type": "code",
   "execution_count": null,
   "metadata": {},
   "outputs": [],
   "source": [
    "plt.figure(figsize=(10, 10))\n",
    "hc.imshow_field(ref/norm, norm=LogNorm())"
   ]
  },
  {
   "cell_type": "code",
   "execution_count": null,
   "metadata": {},
   "outputs": [],
   "source": [
    "apod_prop = hc.Apodizer(luvoir.apodizer)\n",
    "wf_sm = wf_aper\n",
    "wf_apod = apod_prop(wf_sm)\n",
    "plt.figure(figsize=(10, 10))\n",
    "hc.imshow_field(wf_apod.amplitude)\n",
    "samp_foc = luvoir.apod_dict[apodizer_design]['fpm_px'] / (luvoir.apod_dict[apodizer_design]['fpm_rad'] * 2)\n",
    "focal_grid_fpm = hc.make_focal_grid(\n",
    "            samp_foc,\n",
    "            luvoir.apod_dict[apodizer_design]['fpm_rad'],\n",
    "            pupil_diameter=luvoir.diam,\n",
    "            focal_length=1,\n",
    "            reference_wavelength=luvoir.wvln,\n",
    "        )\n",
    "luvoir.fpm = 1 - hc.circular_aperture(2*luvoir.apod_dict[apodizer_design]['fpm_rad']*luvoir.wvln/luvoir.diam)(focal_grid_fpm)\n",
    "plt.figure(figsize=(10, 10))\n",
    "hc.imshow_field(luvoir.fpm)\n",
    "luvoir.coro = hc.LyotCoronagraph(luvoir.pupil_grid, luvoir.fpm, luvoir.ls)\n",
    "wf_lyot = luvoir.coro(wf_apod)\n",
    "plt.figure(figsize=(10, 10))\n",
    "hc.imshow_field(wf_lyot.amplitude)\n",
    "plt.figure(figsize=(10, 10))\n",
    "hc.imshow_field(wf_lyot.phase)\n",
    "focal_det = luvoir.focal_det\n",
    "# focal_det = hc.make_focal_grid(\n",
    "#             4,\n",
    "#             60,\n",
    "#             pupil_diameter=luvoir.diam,\n",
    "#             focal_length=1,\n",
    "#             reference_wavelength=luvoir.wvln,\n",
    "#         )\n",
    "luvoir.prop = hc.FraunhoferPropagator(pupil_grid,focal_det)\n",
    "wf_im_coro = luvoir.prop(wf_lyot)\n",
    "plt.figure(figsize=(10, 10))\n",
    "hc.imshow_field(wf_im_coro.intensity, norm=LogNorm())\n",
    "IWA = 13\n",
    "OWA = 48\n",
    "IWAmask = hc.circular_aperture(2*IWA*luvoir.wvln/luvoir.diam)(focal_det)\n",
    "OWAmask = hc.circular_aperture(2*OWA*luvoir.wvln/luvoir.diam)(focal_det)\n",
    "final_mask =  -IWAmask + OWAmask\n",
    "plt.figure(figsize=(10, 10))\n",
    "#hc.imshow_field(final_mask)\n",
    "hc.imshow_field(final_mask*wf_im_coro.intensity, norm=LogNorm())\n",
    "plt.figure(figsize=(10, 10))\n",
    "hc.imshow_field(final_mask*np.log(wf_im_coro.intensity))\n",
    "# ref = luvoir.prop(wf_apod).intensity\n",
    "# norm = ref.max()\n",
    "np.sum(final_mask*wf_im_coro.intensity/norm)/np.sum(final_mask)"
   ]
  },
  {
   "cell_type": "code",
   "execution_count": null,
   "metadata": {},
   "outputs": [],
   "source": [
    "plt.figure(figsize=(10, 10))\n",
    "hc.imshow_field(psf_unaber-wf_im_coro.intensity)"
   ]
  }
 ],
 "metadata": {
  "kernelspec": {
   "display_name": "Python 3",
   "language": "python",
   "name": "python3"
  },
  "language_info": {
   "codemirror_mode": {
    "name": "ipython",
    "version": 3
   },
   "file_extension": ".py",
   "mimetype": "text/x-python",
   "name": "python",
   "nbconvert_exporter": "python",
   "pygments_lexer": "ipython3",
   "version": "3.7.3"
  }
 },
 "nbformat": 4,
 "nbformat_minor": 2
}
