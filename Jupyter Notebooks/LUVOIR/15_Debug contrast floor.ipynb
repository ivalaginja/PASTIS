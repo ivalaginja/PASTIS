{
 "cells": [
  {
   "cell_type": "markdown",
   "metadata": {},
   "source": [
    "# Statistical treatment for PASTIS\n",
    "\n",
    "Essentially a copy of notebook #14 so that we can mess around with things here.\n",
    "\n",
    "1. set target contrat in code cell 2 (e.g. `1e-10`)\n",
    "2. set apodizer design in code cell 3 (e.g. `small`)\n",
    "3. comment in correct data path in code cell 3 (e.g. `[...]/2020-01-27T23-57-00_luvoir-small`)"
   ]
  },
  {
   "cell_type": "code",
   "execution_count": null,
   "metadata": {},
   "outputs": [],
   "source": [
    "# Imports\n",
    "import os\n",
    "import numpy as np\n",
    "import matplotlib.pyplot as plt\n",
    "from matplotlib.colors import LogNorm\n",
    "%matplotlib inline\n",
    "from astropy.io import fits\n",
    "import astropy.units as u\n",
    "import hcipy as hc\n",
    "from hcipy.optics.segmented_mirror import SegmentedMirror\n",
    "\n",
    "os.chdir('../../pastis/')\n",
    "import util as util\n",
    "from e2e_simulators.luvoir_imaging import LuvoirAPLC"
   ]
  },
  {
   "cell_type": "code",
   "execution_count": null,
   "metadata": {},
   "outputs": [],
   "source": [
    "nmodes = 120\n",
    "c_target = 1e-10"
   ]
  },
  {
   "cell_type": "markdown",
   "metadata": {},
   "source": [
    "## Instantiate LUVOIR telescope for full functionality"
   ]
  },
  {
   "cell_type": "code",
   "execution_count": null,
   "metadata": {},
   "outputs": [],
   "source": [
    "apodizer_design = 'large'\n",
    "\n",
    "#savedpath = '/Users/ilaginja/Documents/data_from_repos/pastis_data/2020-01-27T23-57-00_luvoir-small'\n",
    "#savedpath = '/Users/ilaginja/Documents/data_from_repos/pastis_data/2020-01-28T02-17-18_luvoir-medium'\n",
    "savedpath = '/Users/ilaginja/Documents/data_from_repos/pastis_data/2020-01-28T04-45-55_luvoir-large'"
   ]
  },
  {
   "cell_type": "code",
   "execution_count": null,
   "metadata": {},
   "outputs": [],
   "source": [
    "# Instantiate LUVOIR\n",
    "sampling = 4\n",
    "# This path is specific to the paths used in the LuvoirAPLC class\n",
    "optics_input = '/Users/ilaginja/Documents/LabWork/ultra/LUVOIR_delivery_May2019/'\n",
    "\n",
    "luvoir = LuvoirAPLC(optics_input, apodizer_design, sampling)"
   ]
  },
  {
   "cell_type": "code",
   "execution_count": null,
   "metadata": {},
   "outputs": [],
   "source": [
    "# Make reference image\n",
    "luvoir.flatten()\n",
    "psf_unaber, ref = luvoir.calc_psf(ref=True)\n",
    "norm = ref.max()"
   ]
  },
  {
   "cell_type": "code",
   "execution_count": null,
   "metadata": {},
   "outputs": [],
   "source": [
    "# Make dark hole\n",
    "dh_outer = hc.circular_aperture(2*luvoir.apod_dict[apodizer_design]['owa'] * luvoir.lam_over_d)(luvoir.focal_det)\n",
    "dh_inner = hc.circular_aperture(2*luvoir.apod_dict[apodizer_design]['iwa'] * luvoir.lam_over_d)(luvoir.focal_det)\n",
    "dh_mask = (dh_outer - dh_inner).astype('bool')\n",
    "\n",
    "plt.figure(figsize=(18, 6))\n",
    "plt.subplot(131)\n",
    "hc.imshow_field(psf_unaber/norm, norm=LogNorm())\n",
    "plt.subplot(132)\n",
    "hc.imshow_field(dh_mask)\n",
    "plt.subplot(133)\n",
    "hc.imshow_field(psf_unaber/norm, norm=LogNorm(), mask=dh_mask)"
   ]
  },
  {
   "cell_type": "code",
   "execution_count": null,
   "metadata": {},
   "outputs": [],
   "source": [
    "dh_intensity = psf_unaber/norm * dh_mask\n",
    "baseline_contrast = util.dh_mean(dh_intensity, dh_mask)\n",
    "#np.mean(dh_intensity[np.where(dh_intensity != 0)])\n",
    "print('Baseline contrast:', baseline_contrast)"
   ]
  },
  {
   "cell_type": "code",
   "execution_count": null,
   "metadata": {},
   "outputs": [],
   "source": [
    "# Load PASTIS modes - piston value per segment per mode\n",
    "pastismodes = np.loadtxt(os.path.join(savedpath, 'results', 'pastis_modes.txt'))\n",
    "print('pastismodes.shape: {}'.format(pastismodes.shape))\n",
    "# pastismodes[segs, modes]\n",
    "\n",
    "# Load PASTIS matrix\n",
    "pastismatrix = fits.getdata(os.path.join(savedpath, 'matrix_numerical', 'PASTISmatrix_num_piston_Noll1.fits'))\n",
    "\n",
    "# Load sigma vector\n",
    "sigmas = np.loadtxt(os.path.join(savedpath, 'results', 'mode_requirements_1e-10_uniform.txt'))\n",
    "#print(sigmas)"
   ]
  },
  {
   "cell_type": "code",
   "execution_count": null,
   "metadata": {},
   "outputs": [],
   "source": [
    "# Calculate the inverse of the PASTIS mode matrix\n",
    "# This is ModeToSegs in Mathematica\n",
    "modestosegs = np.linalg.pinv(pastismodes)\n",
    "# modestosegs[modes, segs]"
   ]
  },
  {
   "cell_type": "markdown",
   "metadata": {},
   "source": [
    "## Static sigmas to avg contrast"
   ]
  },
  {
   "cell_type": "code",
   "execution_count": null,
   "metadata": {},
   "outputs": [],
   "source": [
    "# Calculate mean contrast of all modes with PASTIS matrix AND the sigmas, to make sure this works\n",
    "c_avg_sigma = []\n",
    "for i in range(nmodes):\n",
    "    c_avg_sigma.append(util.pastis_contrast(sigmas[i] * pastismodes[:,i]*u.nm, pastismatrix))\n",
    "    \n",
    "print(c_avg_sigma)"
   ]
  },
  {
   "cell_type": "markdown",
   "metadata": {},
   "source": [
    "Confirm that all of of them, with the baseline contarst, add up to the target contrast."
   ]
  },
  {
   "cell_type": "code",
   "execution_count": null,
   "metadata": {},
   "outputs": [],
   "source": [
    "np.sum(c_avg_sigma) + baseline_contrast"
   ]
  },
  {
   "cell_type": "markdown",
   "metadata": {},
   "source": [
    "Draw random numbers"
   ]
  },
  {
   "cell_type": "code",
   "execution_count": null,
   "metadata": {},
   "outputs": [],
   "source": [
    "# Create x-array\n",
    "x_vals = np.zeros_like(sigmas)\n",
    "for i, sig in enumerate(sigmas):\n",
    "    x_vals[i] = np.random.normal(loc=0, scale=sig)\n",
    "\n",
    "print(x_vals.shape)\n",
    "print(x_vals)"
   ]
  },
  {
   "cell_type": "code",
   "execution_count": null,
   "metadata": {},
   "outputs": [],
   "source": [
    "# Calculate mean contrast of all modes with PASTIS matrix AND the sigmas, to make sure this works\n",
    "c_avg_sigma = []\n",
    "for i in range(nmodes):\n",
    "    c_avg_sigma.append(util.pastis_contrast(x_vals[i] * pastismodes[:,i]*u.nm, pastismatrix))\n",
    "    \n",
    "print(c_avg_sigma)"
   ]
  },
  {
   "cell_type": "code",
   "execution_count": null,
   "metadata": {},
   "outputs": [],
   "source": [
    "np.sum(c_avg_sigma) + baseline_contrast"
   ]
  },
  {
   "cell_type": "markdown",
   "metadata": {},
   "source": [
    "Loop it up - cumulatively"
   ]
  },
  {
   "cell_type": "code",
   "execution_count": null,
   "metadata": {},
   "outputs": [],
   "source": [
    "runnum = 1000\n",
    "xs_list = []\n",
    "\n",
    "for l in range(runnum):\n",
    "    x_vals = np.zeros_like(sigmas)\n",
    "    for i, sig in enumerate(sigmas):\n",
    "        x_vals[i] = np.random.normal(loc=0, scale=sig)\n",
    "        #x_vals[i] = np.random.uniform(-sig, sig)\n",
    "\n",
    "    xs_list.append(x_vals)\n",
    "xs_list = np.array(xs_list)\n",
    "xs_list.shape"
   ]
  },
  {
   "cell_type": "code",
   "execution_count": null,
   "metadata": {},
   "outputs": [],
   "source": [
    "c_avg_list = []\n",
    "for a in range(runnum):\n",
    "\n",
    "    c_avg_sigma = []\n",
    "    for i in range(nmodes):\n",
    "        c_avg_sigma.append(util.pastis_contrast(xs_list[a][i] * pastismodes[:,i]*u.nm, pastismatrix))\n",
    "\n",
    "    c_avg_list.append(np.sum(c_avg_sigma) + baseline_contrast)"
   ]
  },
  {
   "cell_type": "code",
   "execution_count": null,
   "metadata": {},
   "outputs": [],
   "source": [
    "print(np.mean(c_avg_list))\n",
    "print(np.std(c_avg_list))"
   ]
  },
  {
   "cell_type": "markdown",
   "metadata": {},
   "source": [
    "Which results in the input target contrast.\n",
    "\n",
    "Same thing for a single mode at a time"
   ]
  },
  {
   "cell_type": "code",
   "execution_count": null,
   "metadata": {},
   "outputs": [],
   "source": [
    "modechoice = 50\n",
    "runnum = 1000\n",
    "xs_list = []\n",
    "\n",
    "for l in range(runnum):\n",
    "    x_vals = np.zeros_like(sigmas)\n",
    "    x_vals[modechoice] = np.random.normal(loc=0, scale=sigmas[modechoice])\n",
    "    xs_list.append(x_vals)\n",
    "    \n",
    "xs_list = np.array(xs_list)\n",
    "xs_list.shape"
   ]
  },
  {
   "cell_type": "code",
   "execution_count": null,
   "metadata": {},
   "outputs": [],
   "source": [
    "c_avg_list = []\n",
    "for a in range(runnum):\n",
    "\n",
    "    c_avg_sigma = util.pastis_contrast(xs_list[a][modechoice] * pastismodes[:,modechoice]*u.nm, pastismatrix)\n",
    "    c_avg_list.append(c_avg_sigma + baseline_contrast)"
   ]
  },
  {
   "cell_type": "code",
   "execution_count": null,
   "metadata": {},
   "outputs": [],
   "source": [
    "print(np.mean(c_avg_list))\n",
    "print(np.std(c_avg_list))"
   ]
  },
  {
   "cell_type": "markdown",
   "metadata": {},
   "source": [
    "Which is equivalent to:"
   ]
  },
  {
   "cell_type": "code",
   "execution_count": null,
   "metadata": {},
   "outputs": [],
   "source": [
    "c_target/120 + baseline_contrast"
   ]
  },
  {
   "cell_type": "markdown",
   "metadata": {},
   "source": [
    "We are able to define a static sigma value from the target contrast and singular values (See equation for sigmas). With this static sigmas, you get the correct contrast in a deterministic sense, see cumulative contrast plot.\n",
    "\n",
    "We have verified in this notebook that a Gaussian distribution with a zero mean and std = sigma prodices an average (statistical) DH mean (spatial) contrast. It's the statistical average of the mean contrast. We have checked this both for individual modes as well as the ensemble of modes all toghether.\n",
    "\n",
    "## Segment requirements\n",
    "\n",
    "Now we want to transform this into segment-based requirements/tolerances/constraints $\\mu$.\n",
    "\n",
    "We now want to verify that this works in segment space (as opposed to the mode-base the sigmas are defined in).\n",
    "\n",
    "We're doing $ y = M \\cdot x$ here."
   ]
  },
  {
   "cell_type": "code",
   "execution_count": null,
   "metadata": {},
   "outputs": [],
   "source": [
    "runnum = 1000\n",
    "ys_list = []\n",
    "xs_list = []\n",
    "\n",
    "for l in range(runnum):\n",
    "    x_vals = np.zeros_like(sigmas)\n",
    "    for i, sig in enumerate(sigmas):\n",
    "        x_vals[i] = np.random.normal(loc=0, scale=sig)\n",
    "    \n",
    "    xs_list.append(x_vals)\n",
    "        \n",
    "    # Calculate y vector\n",
    "    y_vals = np.dot(pastismodes, x_vals)\n",
    "        \n",
    "    ys_list.append(y_vals)\n",
    "ys_list = np.array(ys_list)\n",
    "xs_list = np.array(xs_list)\n",
    "ys_list.shape"
   ]
  },
  {
   "cell_type": "code",
   "execution_count": null,
   "metadata": {},
   "outputs": [],
   "source": [
    "c_avg_list = []\n",
    "for a in range(runnum):\n",
    "\n",
    "    c_avg_sigma = util.pastis_contrast(ys_list[a]*u.nm, pastismatrix)\n",
    "    c_avg_list.append(c_avg_sigma + baseline_contrast)\n",
    "    #c_avg_list.append(c_avg_sigma)"
   ]
  },
  {
   "cell_type": "code",
   "execution_count": null,
   "metadata": {},
   "outputs": [],
   "source": [
    "print(np.mean(c_avg_list))\n",
    "print(np.std(c_avg_list))"
   ]
  },
  {
   "cell_type": "code",
   "execution_count": null,
   "metadata": {},
   "outputs": [],
   "source": [
    "print(np.mean(ys_list))\n",
    "print(np.mean(xs_list))"
   ]
  },
  {
   "cell_type": "markdown",
   "metadata": {},
   "source": [
    "This means it is completely equivalent to work in the mode basis or in the segment basis.\n",
    "\n",
    "We have now a bunch of ys for which this works. Now we want to figure out what distributions these y maps (correct realizations of $\\mu$s follow, and what we can quote as segment requirements.\n",
    "The y capture everything, including the cross-terms of the covariance matrix. Just averaging the ys will probably not be enough, but we can run them through the MC and see. If the off-diagonal terms of the Covariance matrix are not large though, this will be very similar.\n",
    "\n",
    "We need to assemble the Covariance matrix for y, $C_y$.\n",
    "\n",
    "## Covariance matrix $C_y$\n",
    "\n",
    "Build $C_x$ by hand by dumping the square of the std (= variance) into the diagonal of a properly sized matrix."
   ]
  },
  {
   "cell_type": "code",
   "execution_count": null,
   "metadata": {},
   "outputs": [],
   "source": [
    "cx = np.diag(np.square(sigmas))\n",
    "#print(cx)"
   ]
  },
  {
   "cell_type": "markdown",
   "metadata": {},
   "source": [
    "$$y = M \\cdot x$$\n",
    "$$C_x = E(x \\cdot x^T)$$\n",
    "$$C_y = E(y \\cdot y^T) = M \\cdot E(x \\cdot x^T) \\cdot M^T$$\n",
    "$$C_y = M \\cdot C_x \\cdot M^T$$"
   ]
  },
  {
   "cell_type": "code",
   "execution_count": null,
   "metadata": {},
   "outputs": [],
   "source": [
    "cy = np.dot(pastismodes, np.dot(cx, np.transpose(pastismodes)))"
   ]
  },
  {
   "cell_type": "code",
   "execution_count": null,
   "metadata": {},
   "outputs": [],
   "source": [
    "plt.figure(figsize=(10,10))\n",
    "plt.imshow(cy)\n",
    "plt.xlabel('segment')\n",
    "plt.ylabel('segment')\n",
    "plt.colorbar()"
   ]
  },
  {
   "cell_type": "code",
   "execution_count": null,
   "metadata": {},
   "outputs": [],
   "source": [
    "cy[0,0]"
   ]
  },
  {
   "cell_type": "code",
   "execution_count": null,
   "metadata": {},
   "outputs": [],
   "source": [
    "testmap = np.sqrt(np.diag(cy))\n",
    "print(testmap)"
   ]
  },
  {
   "cell_type": "code",
   "execution_count": null,
   "metadata": {},
   "outputs": [],
   "source": [
    "luvoir.flatten()\n",
    "testmap *= u.nm\n",
    "for seg, mu in enumerate(testmap):\n",
    "    luvoir.set_segment(seg+1, (mu).to(u.m).value/2, 0, 0)\n",
    "psf, ref = luvoir.calc_psf(ref=True, display_intermediate=True)"
   ]
  },
  {
   "cell_type": "code",
   "execution_count": null,
   "metadata": {},
   "outputs": [],
   "source": [
    "testmap"
   ]
  },
  {
   "cell_type": "code",
   "execution_count": null,
   "metadata": {},
   "outputs": [],
   "source": [
    "# Recalculate the xs\n",
    "runnum = 1000\n",
    "xs_list = []\n",
    "\n",
    "for l in range(runnum):\n",
    "    x_vals = np.zeros_like(sigmas)\n",
    "    for i, sig in enumerate(sigmas):\n",
    "        x_vals[i] = np.random.normal(loc=0, scale=sig) #sig\n",
    "        #x_vals[i] = np.random.uniform(-sig, sig)\n",
    "\n",
    "    xs_list.append(x_vals)\n",
    "xs_list = np.array(xs_list)\n",
    "xs_list.shape"
   ]
  },
  {
   "cell_type": "code",
   "execution_count": null,
   "metadata": {},
   "outputs": [],
   "source": [
    "# Empirical Cx\n",
    "# !! Make sure to rerun the correct xs_list\n",
    "pall = []\n",
    "for i in range(runnum):\n",
    "    pall.append(np.outer(xs_list[i], np.transpose(xs_list[i])))\n",
    "\n",
    "pall = np.array(pall)"
   ]
  },
  {
   "cell_type": "code",
   "execution_count": null,
   "metadata": {},
   "outputs": [],
   "source": [
    "cx_emp = np.mean(pall, axis=0)\n",
    "print(cx_emp.shape)"
   ]
  },
  {
   "cell_type": "code",
   "execution_count": null,
   "metadata": {},
   "outputs": [],
   "source": [
    "plt.figure(figsize=(10, 10))\n",
    "plt.imshow(np.log10(cx_emp))\n",
    "plt.colorbar()"
   ]
  },
  {
   "cell_type": "code",
   "execution_count": null,
   "metadata": {},
   "outputs": [],
   "source": [
    "np.sqrt(np.diag(cx_emp))   # these should be equivlaneet to the sigmas"
   ]
  },
  {
   "cell_type": "code",
   "execution_count": null,
   "metadata": {},
   "outputs": [],
   "source": [
    "plt.plot(sigmas)\n",
    "plt.semilogy()"
   ]
  },
  {
   "cell_type": "code",
   "execution_count": null,
   "metadata": {},
   "outputs": [],
   "source": [
    "sigmas"
   ]
  },
  {
   "cell_type": "code",
   "execution_count": null,
   "metadata": {},
   "outputs": [],
   "source": [
    "np.allclose(cx, cx_emp)"
   ]
  },
  {
   "cell_type": "code",
   "execution_count": null,
   "metadata": {},
   "outputs": [],
   "source": [
    "plt.figure(figsize=(10, 10))\n",
    "plt.imshow(np.log10(cx))\n",
    "plt.colorbar()"
   ]
  },
  {
   "cell_type": "code",
   "execution_count": null,
   "metadata": {},
   "outputs": [],
   "source": [
    "np.sqrt(np.diag(cx))"
   ]
  },
  {
   "cell_type": "code",
   "execution_count": null,
   "metadata": {},
   "outputs": [],
   "source": [
    "np.sqrt(np.diag(cy))"
   ]
  },
  {
   "cell_type": "code",
   "execution_count": null,
   "metadata": {},
   "outputs": [],
   "source": [
    "# Empirical Cy\n",
    "pall_y = []\n",
    "for i in range(ys_list.shape[0]):\n",
    "    pall_y.append(np.outer(ys_list[i], np.transpose(ys_list[i])))\n",
    "\n",
    "print('runnum = {}'.format(ys_list.shape[0]))\n",
    "pall_y = np.array(pall_y)"
   ]
  },
  {
   "cell_type": "code",
   "execution_count": null,
   "metadata": {},
   "outputs": [],
   "source": [
    "cy_emp = np.mean(pall_y, axis=0)\n",
    "print(cy_emp.shape)"
   ]
  },
  {
   "cell_type": "code",
   "execution_count": null,
   "metadata": {},
   "outputs": [],
   "source": [
    "plt.figure(figsize=(10, 10))\n",
    "plt.imshow(cy_emp)\n",
    "plt.colorbar()"
   ]
  },
  {
   "cell_type": "markdown",
   "metadata": {},
   "source": [
    "Get mean of the ys directly, ignoring the Covariance matrix."
   ]
  },
  {
   "cell_type": "code",
   "execution_count": null,
   "metadata": {},
   "outputs": [],
   "source": [
    "y_direkt_mean = np.mean(ys_list, axis=0)\n",
    "print(y_direkt_mean.shape)\n",
    "print(y_direkt_mean)"
   ]
  },
  {
   "cell_type": "code",
   "execution_count": null,
   "metadata": {},
   "outputs": [],
   "source": [
    "np.mean(y_direkt_mean)"
   ]
  },
  {
   "cell_type": "code",
   "execution_count": null,
   "metadata": {},
   "outputs": [],
   "source": [
    "# Put those mean ys/mus on the simulator\n",
    "luvoir.flatten()\n",
    "y_direkt_mean *= u.nm\n",
    "for seg, mu in enumerate(y_direkt_mean):\n",
    "    luvoir.set_segment(seg+1, (mu).to(u.m).value/2, 0, 0)\n",
    "psf, ref = luvoir.calc_psf(ref=True, display_intermediate=True)"
   ]
  },
  {
   "cell_type": "code",
   "execution_count": null,
   "metadata": {},
   "outputs": [],
   "source": [
    "avg_con = util.pastis_contrast(y_direkt_mean, pastismatrix) + baseline_contrast\n",
    "print(avg_con)"
   ]
  },
  {
   "cell_type": "markdown",
   "metadata": {},
   "source": [
    "### Some tests\n",
    "\n",
    "Use an x vector with only one entry (=1) and see whether $y = M \\cdot x$ yields a PASTIS mode."
   ]
  },
  {
   "cell_type": "code",
   "execution_count": null,
   "metadata": {},
   "outputs": [],
   "source": [
    "testmode = -2\n",
    "x_test = np.zeros(nmodes)\n",
    "x_test[testmode] = 1\n",
    "\n",
    "print(x_test)"
   ]
  },
  {
   "cell_type": "code",
   "execution_count": null,
   "metadata": {},
   "outputs": [],
   "source": [
    "y_test = np.dot(pastismodes, x_test)\n",
    "y_test *= u.nm"
   ]
  },
  {
   "cell_type": "code",
   "execution_count": null,
   "metadata": {},
   "outputs": [],
   "source": [
    "# Put the resulting y on the simulator\n",
    "luvoir.flatten()\n",
    "for seg, coef in enumerate(y_test):\n",
    "    luvoir.set_segment(seg+1, (coef).to(u.m).value/2, 0, 0)\n",
    "psf, ref = luvoir.calc_psf(ref=True, display_intermediate=True)"
   ]
  },
  {
   "cell_type": "code",
   "execution_count": null,
   "metadata": {},
   "outputs": [],
   "source": []
  }
 ],
 "metadata": {
  "kernelspec": {
   "display_name": "Python 3",
   "language": "python",
   "name": "python3"
  },
  "language_info": {
   "codemirror_mode": {
    "name": "ipython",
    "version": 3
   },
   "file_extension": ".py",
   "mimetype": "text/x-python",
   "name": "python",
   "nbconvert_exporter": "python",
   "pygments_lexer": "ipython3",
   "version": "3.7.3"
  }
 },
 "nbformat": 4,
 "nbformat_minor": 2
}
