{
 "cells": [
  {
   "cell_type": "markdown",
   "metadata": {},
   "source": [
    "# General debug\n",
    "\n",
    "There have been a couple of inconsistencies and errors in the results and analysis of the LUVOIR small APLC PASTIS modes that I want to debug in here."
   ]
  },
  {
   "cell_type": "code",
   "execution_count": null,
   "metadata": {},
   "outputs": [],
   "source": [
    "# Imports\n",
    "import os\n",
    "import numpy as np\n",
    "import matplotlib.pyplot as plt\n",
    "from matplotlib.colors import LogNorm\n",
    "%matplotlib inline\n",
    "from astropy.io import fits\n",
    "import astropy.units as u\n",
    "import hcipy as hc\n",
    "from hcipy.optics.segmented_mirror import SegmentedMirror\n",
    "\n",
    "os.chdir('../../pastis/')\n",
    "import util as util\n",
    "from e2e_simulators.luvoir_imaging import LuvoirAPLC"
   ]
  },
  {
   "cell_type": "code",
   "execution_count": null,
   "metadata": {},
   "outputs": [],
   "source": [
    "# Which directory are we working in?\n",
    "savedpath = '/Users/ilaginja/Documents/data_from_repos/pastis_data/2019-8-09_001_1nm'    # medium apodizer LUVOIR\n",
    "#savedpath = '/Users/ilaginja/Documents/data_from_repos/pastis_data/2019-8-11_001_1nm'    # large apodizer LUVOIR"
   ]
  },
  {
   "cell_type": "markdown",
   "metadata": {},
   "source": [
    "#### Load the SM"
   ]
  },
  {
   "cell_type": "code",
   "execution_count": null,
   "metadata": {},
   "outputs": [],
   "source": [
    "# Load aperture files needed for SM\n",
    "nseg = 120\n",
    "wvln = 638e-9\n",
    "\n",
    "datadir = '/Users/ilaginja/Documents/LabWork/ultra/LUVOIR_delivery_May2019/'\n",
    "aper_path = 'inputs/TelAp_LUVOIR_gap_pad01_bw_ovsamp04_N1000.fits'\n",
    "aper_ind_path = 'inputs/TelAp_LUVOIR_gap_pad01_bw_ovsamp04_N1000_indexed.fits'\n",
    "aper_read = hc.read_fits(os.path.join(datadir, aper_path))\n",
    "aper_ind_read = hc.read_fits(os.path.join(datadir, aper_ind_path))\n",
    "\n",
    "pupil_grid = hc.make_pupil_grid(dims=aper_ind_read.shape[0], diameter=15)\n",
    "aper = hc.Field(aper_read.ravel(), pupil_grid)\n",
    "aper_ind = hc.Field(aper_ind_read.ravel(), pupil_grid)\n",
    "\n",
    "wf_aper = hc.Wavefront(aper, wvln)\n",
    "\n",
    "# Load segment positions from fits header\n",
    "hdr = fits.getheader(os.path.join(datadir, aper_ind_path))\n",
    "\n",
    "poslist = []\n",
    "for i in range(nseg):\n",
    "    segname = 'SEG' + str(i+1)\n",
    "    xin = hdr[segname + '_X']\n",
    "    yin = hdr[segname + '_Y']\n",
    "    poslist.append((xin, yin))\n",
    "    \n",
    "poslist = np.transpose(np.array(poslist))\n",
    "seg_pos = hc.CartesianGrid(poslist)\n",
    "\n",
    "# Instantiate SM\n",
    "sm = SegmentedMirror(aper_ind, seg_pos)"
   ]
  },
  {
   "cell_type": "markdown",
   "metadata": {},
   "source": [
    "#### Instantiate LUVOIR simulator"
   ]
  },
  {
   "cell_type": "code",
   "execution_count": null,
   "metadata": {},
   "outputs": [],
   "source": [
    "# Instantiate LUVOIR\n",
    "sampling = 4\n",
    "apodizer_design = 'medium'\n",
    "# This path is specific to the paths used in the LuvoirAPLC class\n",
    "optics_input = '/Users/ilaginja/Documents/LabWork/ultra/LUVOIR_delivery_May2019/'\n",
    "\n",
    "luvoir = LuvoirAPLC(optics_input, apodizer_design, sampling)"
   ]
  },
  {
   "cell_type": "code",
   "execution_count": null,
   "metadata": {},
   "outputs": [],
   "source": [
    "# Make reference image and normalization factor\n",
    "luvoir.flatten()\n",
    "psf_unaber, ref = luvoir.calc_psf(ref=True)\n",
    "norm = ref.max()\n",
    "\n",
    "# Create DH\n",
    "dh_outer = hc.circular_aperture(2*luvoir.apod_dict[apodizer_design]['owa'] * luvoir.lam_over_d)(luvoir.focal_det)\n",
    "dh_inner = hc.circular_aperture(2*luvoir.apod_dict[apodizer_design]['iwa'] * luvoir.lam_over_d)(luvoir.focal_det)\n",
    "dh_mask = (dh_outer - dh_inner).astype('bool')\n",
    "\n",
    "# Calculate DH mean contrast\n",
    "dh_intensity = psf_unaber/norm * dh_mask\n",
    "baseline_contrast = np.mean(dh_intensity[np.where(dh_intensity != 0)])\n",
    "\n",
    "# Display DH and mean contrast\n",
    "plt.figure(figsize=(10, 5))\n",
    "plt.subplot(121)\n",
    "hc.imshow_field(ref/norm, norm=LogNorm(), mask=dh_mask)\n",
    "plt.title('Reference PSF', size=15)\n",
    "plt.subplot(122)\n",
    "hc.imshow_field(psf_unaber/norm, norm=LogNorm(), mask=dh_mask)\n",
    "plt.title('Unaberrated PSF', size=15)\n",
    "\n",
    "print('Baseline contrast:', baseline_contrast)"
   ]
  },
  {
   "cell_type": "markdown",
   "metadata": {},
   "source": [
    "## PASTIS matrix"
   ]
  },
  {
   "cell_type": "code",
   "execution_count": null,
   "metadata": {},
   "outputs": [],
   "source": [
    "matrix = fits.getdata(os.path.join(savedpath, 'matrix_numerical', 'PASTISmatrix_num_piston_Noll1.fits'))\n",
    "\n",
    "plt.figure(figsize=(10, 10))\n",
    "plt.imshow(matrix)\n",
    "plt.colorbar()"
   ]
  },
  {
   "cell_type": "code",
   "execution_count": null,
   "metadata": {},
   "outputs": [],
   "source": [
    "print('Min matrix: {}'.format(np.min(matrix)))\n",
    "print('Max matrix: {}'.format(np.max(matrix)))\n",
    "print('A couple diagonal elements: {}'.format((matrix[0,0], matrix[10,10], matrix[15,15], matrix[50,50])))\n",
    "print('A couple of off-axis elements: {}'.format((matrix[0,5], matrix[15,5], matrix[50,112])))"
   ]
  },
  {
   "cell_type": "markdown",
   "metadata": {},
   "source": [
    "The PASTIS matrix is a symmetrical matrix."
   ]
  },
  {
   "cell_type": "code",
   "execution_count": null,
   "metadata": {},
   "outputs": [],
   "source": [
    "a = 5\n",
    "b = 60\n",
    "\n",
    "c = 13\n",
    "d = 94\n",
    "\n",
    "print(matrix[a,b], matrix[b,a])\n",
    "print(matrix[c,d], matrix[d,c])"
   ]
  },
  {
   "cell_type": "markdown",
   "metadata": {},
   "source": [
    "The (13, 94) pair is not exactly the same and it looks like this might stem from numerical errors. Let's try some more."
   ]
  },
  {
   "cell_type": "code",
   "execution_count": null,
   "metadata": {},
   "outputs": [],
   "source": [
    "e = 49\n",
    "f = 43\n",
    "\n",
    "g = 83\n",
    "h = 119\n",
    "\n",
    "print(matrix[e,f], matrix[f,e])\n",
    "print(matrix[g,h], matrix[h,g])"
   ]
  },
  {
   "cell_type": "markdown",
   "metadata": {},
   "source": [
    "I found another pair where it shows, (83, 119).\n",
    "\n",
    "#### Matrix units\n",
    "\n",
    "In the numerical PASTIS case, we fill the matrix with contrast values and then divide by the aberration squared. Now, in the LUVOIR case, while I define the aberration as 1nm in the configfile, when I apply it to the simulator that makes the images for the matrix, I convert that to meters by multiplying it with 1e-9. This is saved in the variable `nm_aber`.\n",
    "\n",
    "**I carry `nm_aber` around in the matrix building script and only ever use it for the E2E simulator.** This means that when I get to the point of normalizing the matrix, `nm_aber` is still in meters. This is odd, since I don't actually apply the normalization factor when I build the matrix with 1nm as per the configfile.\n",
    "\n",
    "I always assumed my matrix has untis of contrast over linear units squared, so $C/nm^2$. This seems to have been confirmed when I constructed the hockeystick contrast curve and I think this makes sense. In the hockeystick script, I define an rms range with respect to the input unit, meaning if my log range is fomr -4 to 4, then I am working with rms of 1e-4 nm to 1e4 nm. Also in that script, before applying the aberration to the E2E simulator, it gets converted to meters with astropy units."
   ]
  },
  {
   "cell_type": "markdown",
   "metadata": {},
   "source": [
    "## Mode basis and eigenvalues from SVD\n",
    "\n",
    "The mode basis gets returned as `emodes[segmentnr, modesnr]`."
   ]
  },
  {
   "cell_type": "code",
   "execution_count": null,
   "metadata": {},
   "outputs": [],
   "source": [
    "u, s, vh = np.linalg.svd(matrix, full_matrices=True)"
   ]
  },
  {
   "cell_type": "code",
   "execution_count": null,
   "metadata": {},
   "outputs": [],
   "source": [
    "evals = s\n",
    "emodes = u\n",
    "\n",
    "print(evals.shape)\n",
    "print(emodes.shape)"
   ]
  },
  {
   "cell_type": "code",
   "execution_count": null,
   "metadata": {},
   "outputs": [],
   "source": [
    "print('evals:\\n{}'.format(evals))"
   ]
  },
  {
   "cell_type": "code",
   "execution_count": null,
   "metadata": {},
   "outputs": [],
   "source": [
    "# Plot evals\n",
    "plt.figure(figsize=(12, 7))\n",
    "plt.plot(evals[:-1])\n",
    "plt.title('Eigenvalues', size=15)\n",
    "plt.xlabel('Modes', size=15)\n",
    "plt.ylabel('Log Eigenvalues', size=15)\n",
    "plt.semilogy()"
   ]
  },
  {
   "cell_type": "markdown",
   "metadata": {},
   "source": [
    "The question is now, what units are the modes in?"
   ]
  },
  {
   "cell_type": "code",
   "execution_count": null,
   "metadata": {},
   "outputs": [],
   "source": [
    "# Print one mode\n",
    "modenr = 10\n",
    "print('Mode {}:\\n{}'.format(modenr, emodes[:, modenr]))"
   ]
  },
  {
   "cell_type": "code",
   "execution_count": null,
   "metadata": {},
   "outputs": [],
   "source": [
    "aber_fac = 1e-9  # current fudgde factor on the modes, should be their units but not sure"
   ]
  },
  {
   "cell_type": "code",
   "execution_count": null,
   "metadata": {},
   "outputs": [],
   "source": [
    "# Plot one mode\n",
    "modenr = -2   # We start numbering at 0 here, 0-35 (Python nunmbering!)\n",
    "\n",
    "sm.flatten()\n",
    "for seg, val in enumerate(emodes[:, modenr]):\n",
    "    #print(val)\n",
    "    sm.set_segment(seg+1, aber_fac*val/2, 0, 0)\n",
    "\n",
    "# Propagate WF and display SM phase\n",
    "wf_sm = sm(wf_aper)\n",
    "\n",
    "plt.figure(figsize=(10, 10))\n",
    "hc.imshow_field(wf_sm.phase, cmap='RdBu')\n",
    "plt.title(modenr+1)\n",
    "plt.colorbar()"
   ]
  },
  {
   "cell_type": "markdown",
   "metadata": {},
   "source": [
    "One thing to consider is that `imshow_field` displays the phase in units of radians here, wo it would be useful to figure out a way in which it actually displays it in OPD units.\n",
    "\n",
    "One way of checking this is to put the modes onto the pupil one by one, propagate that and check the DH and its mean contrast. We know that all modes should have the same contrast contribution when applied to the pupil when they're multiplied by their maximum contribution value $\\sigma_p$. So i fI calculate the $\\sigma_p$ and then pick a mode $p$, multiply it by its $\\sigma_p$ and apply that to the pupil and propagate, I sould get the same mean contrast for all the modes - whcih should be a 120th of the target contrast, which I will set to $C_t = 10^{-10}$."
   ]
  },
  {
   "cell_type": "markdown",
   "metadata": {},
   "source": [
    "## Maximum mode contributions\n",
    "\n",
    "$$\\sigma_p = \\sqrt{\\frac{C-C_0}{(N-1)\\lambda_p}}$$"
   ]
  },
  {
   "cell_type": "code",
   "execution_count": null,
   "metadata": {},
   "outputs": [],
   "source": [
    "# Calculate single sigma - remember that we start numbering at 0 because of python\n",
    "def get_sigma(cstat, nseg, eigenval, c_zero):\n",
    "    sigma = np.sqrt((cstat - c_zero) / ((nseg-1)*eigenval))\n",
    "    return sigma\n",
    "\n",
    "# Version without baseline contrast - which might be more accurate because I\n",
    "# did not subtract C_0 when generating the matrix.\n",
    "def get_sigma_no_c0(cstat, nseg, eigenval, c_zero):\n",
    "    sigma = np.sqrt((cstat) / ((nseg-1)*eigenval))\n",
    "    return sigma"
   ]
  },
  {
   "cell_type": "code",
   "execution_count": null,
   "metadata": {},
   "outputs": [],
   "source": [
    "# Target contrast\n",
    "c_target = 1e-10"
   ]
  },
  {
   "cell_type": "code",
   "execution_count": null,
   "metadata": {},
   "outputs": [],
   "source": [
    "# Calculate the sigmas\n",
    "#sigmas = get_sigma_no_c0(c_target, nseg, evals, baseline_contrast)\n",
    "sigmas = get_sigma(c_target, nseg, evals, baseline_contrast)\n",
    "print(sigmas.shape)\n",
    "print(sigmas)\n",
    "\n",
    "plt.figure(figsize=(8, 5))\n",
    "plt.plot(sigmas[:-1])\n",
    "plt.title('Maximum mode contribution', size=15)\n",
    "plt.ylabel('$\\sigma_p$', size=15)\n",
    "plt.xlabel('Mode number', size=15)\n",
    "plt.semilogy()"
   ]
  },
  {
   "cell_type": "code",
   "execution_count": null,
   "metadata": {},
   "outputs": [],
   "source": [
    "# Load one mode on the pupil witih its sigma\n",
    "modenr = -100   # We start numbering at 0 here, 0-35 (Python nunmbering!)\n",
    "\n",
    "luvoir.flatten()\n",
    "for seg, val in enumerate(emodes[:, modenr]):\n",
    "    #print(val)\n",
    "    luvoir.set_segment(seg+1, aber_fac*sigmas[modenr]*val/2, 0, 0)\n",
    "\n",
    "# Calculate the LUVOIR PSF with that mode\n",
    "psf_mode = luvoir.calc_psf(display_intermediate=True)"
   ]
  },
  {
   "cell_type": "code",
   "execution_count": null,
   "metadata": {},
   "outputs": [],
   "source": [
    "# Plot just the DH PSF with one mode and its sigma\n",
    "plt.figure(figsize=(8, 8))\n",
    "hc.imshow_field(psf_mode, norm=LogNorm())\n",
    "plt.title('DH from a single mode', size=15)\n",
    "plt.colorbar()\n",
    "\n",
    "# Get mean contrast from this DH\n",
    "dh_mode = psf_mode/norm * dh_mask\n",
    "mode_contrast = np.mean(dh_mode[np.where(dh_mode != 0)])\n",
    "print('Mode contrast: {}'.format(mode_contrast))"
   ]
  },
  {
   "cell_type": "code",
   "execution_count": null,
   "metadata": {},
   "outputs": [],
   "source": [
    "# Remind myself what the dict keys are called - only if calc_psf returns all planes (as 'intensity' or 'efield')\n",
    "#print(all_planes.keys())"
   ]
  },
  {
   "cell_type": "code",
   "execution_count": null,
   "metadata": {},
   "outputs": [],
   "source": [
    "# Apodizer plane\n",
    "# plt.subplot(121)\n",
    "# hc.imshow_field(all_planes['apod'].phase)\n",
    "# plt.title('Phase')\n",
    "# plt.subplot(122)\n",
    "# hc.imshow_field(all_planes['apod'].intensity)\n",
    "# plt.title('Intensity')"
   ]
  },
  {
   "cell_type": "markdown",
   "metadata": {},
   "source": [
    "## Individual contrast contributions\n",
    "\n",
    "Instead of doing a cumulative contrast plot that bunches all modes together, I can calculate the contrast contribution individually."
   ]
  },
  {
   "cell_type": "code",
   "execution_count": null,
   "metadata": {},
   "outputs": [],
   "source": [
    "aber_fac = 1e-9\n",
    "\n",
    "# Individual contrast contributions\n",
    "all_mode_psfs = []\n",
    "all_mode_contrasts = []\n",
    "all_mode_contrasts_squared_sigma = []\n",
    "\n",
    "for onemode in range(len(evals)):\n",
    "    print('{} of {}'.format(onemode+1, len(evals)))\n",
    "    \n",
    "    luvoir.flatten()\n",
    "    for seg, val in enumerate(emodes[:, onemode]):\n",
    "        #print(val)\n",
    "        luvoir.set_segment(seg+1, aber_fac*sigmas[onemode]*val/2, 0, 0)\n",
    "\n",
    "    # Calculate the LUVOIR PSF with that mode\n",
    "    psf_mode = luvoir.calc_psf()\n",
    "    all_mode_psfs.append(psf_mode)\n",
    "    \n",
    "    # Calc contrast\n",
    "    dh_mode = psf_mode/norm * dh_mask\n",
    "    mode_contrast = np.mean(dh_mode[np.where(dh_mode != 0)])\n",
    "    all_mode_contrasts.append(mode_contrast)"
   ]
  },
  {
   "cell_type": "markdown",
   "metadata": {},
   "source": [
    "If I plot the contrasts coming from the individual modes, I should get a completely straight line at $C_t/120$"
   ]
  },
  {
   "cell_type": "code",
   "execution_count": null,
   "metadata": {},
   "outputs": [],
   "source": [
    "print('C_t / nseg = C_p')\n",
    "print('{} / {} = {}'.format(c_target, nseg, c_target/nseg))\n",
    "print('aberration fudge factor: {}'.format(aber_fac))\n",
    "\n",
    "plt.figure(figsize=(16, 8))\n",
    "plt.title('Target contrast ' + str(c_target))\n",
    "plt.plot(all_mode_contrasts)\n",
    "plt.semilogy()\n",
    "#plt.ylim(4e-11, 4.5e-11)"
   ]
  },
  {
   "cell_type": "markdown",
   "metadata": {},
   "source": [
    "## Single mode with increasing rms\n",
    "\n",
    "Check the dependency of contrast on mode (phase) amplitude\n",
    "\n",
    "#### Pure modes, no sigmas"
   ]
  },
  {
   "cell_type": "code",
   "execution_count": null,
   "metadata": {},
   "outputs": [],
   "source": [
    "aber_fac = 1e-9\n",
    "\n",
    "rms_list = np.linspace(0.01, 5, 50)\n",
    "onemode_list = [1, 2, 50, 51]#, 52, 100, 101, 118, 119]\n",
    "contrast_by_aberampl = np.zeros((len(onemode_list), len(rms_list)))\n",
    "nm_aber_list = np.zeros((len(onemode_list), len(rms_list)))\n",
    "\n",
    "for m, onemode in enumerate(onemode_list):\n",
    "    print('Mode {} of {}'.format(m, len(onemode_list)))\n",
    "\n",
    "    for j, rms in enumerate(rms_list):\n",
    "        # Create random aberration coefficients\n",
    "        aber = np.random.random([nseg])   # piston values in input units\n",
    "        #print('PISTON ABERRATIONS: ', aber)\n",
    "\n",
    "        # Normalize to the RMS value I want\n",
    "        rms_init = util.rms(aber)\n",
    "        aber *= rms / rms_init\n",
    "        calc_rms = util.rms(aber)\n",
    "        print(\"Calculated RMS: {} nm\".format(calc_rms))\n",
    "        nm_aber_list[m,j] = calc_rms\n",
    "\n",
    "        # Remove global piston\n",
    "        aber -= np.mean(aber)\n",
    "\n",
    "        luvoir.flatten()\n",
    "        for seg, (val, ab) in enumerate(zip(emodes[:, onemode], aber)):\n",
    "            #print(val)\n",
    "            luvoir.set_segment(seg+1, aber_fac*ab*val/2, 0, 0)\n",
    "\n",
    "        # Calculate the LUVOIR PSF with that mode\n",
    "        psf_mode = luvoir.calc_psf()\n",
    "        all_mode_psfs.append(psf_mode)\n",
    "\n",
    "        # Calc contrast\n",
    "        dh_mode = psf_mode/norm * dh_mask\n",
    "        mode_contrast = np.mean(dh_mode[np.where(dh_mode != 0)])\n",
    "        contrast_by_aberampl[m,j] = mode_contrast\n",
    "\n",
    "        #print(mode_contrast)"
   ]
  },
  {
   "cell_type": "code",
   "execution_count": null,
   "metadata": {},
   "outputs": [],
   "source": [
    "plt.figure(figsize=(15, 10))\n",
    "for i, mo in enumerate(onemode_list):\n",
    "    plt.plot(nm_aber_list[i], contrast_by_aberampl[i], label='Mode '+str(mo))\n",
    "plt.ylabel('Mean contrast', size=15)\n",
    "plt.xlabel('Phase amplitude (nm)', size=15)\n",
    "plt.title('No sigmas', size=15)\n",
    "plt.legend()\n",
    "plt.semilogy()\n",
    "\n",
    "print('aber_fac = {}'.format(aber_fac))"
   ]
  },
  {
   "cell_type": "code",
   "execution_count": null,
   "metadata": {},
   "outputs": [],
   "source": [
    "mode = 1\n",
    "plt.figure(figsize=(15, 10))\n",
    "for i, mo in enumerate(onemode_list):\n",
    "    plt.plot(nm_aber_list[i], contrast_by_aberampl[i], label='Mode '+str(mo))\n",
    "plt.ylabel('Mean contrast', size=15)\n",
    "plt.xlabel('Phase amplitude (nm)', size=15)\n",
    "plt.title('No sigmas', size=15)\n",
    "plt.xlim(0, 1.)\n",
    "plt.legend()\n",
    "plt.semilogy()\n",
    "\n",
    "print('aber_fac = {}'.format(aber_fac))"
   ]
  },
  {
   "cell_type": "markdown",
   "metadata": {},
   "source": [
    "#### Including the sigmas"
   ]
  },
  {
   "cell_type": "code",
   "execution_count": null,
   "metadata": {},
   "outputs": [],
   "source": [
    "#aber_fac = 1e-9\n",
    "\n",
    "rms_list = np.linspace(0.01, 5, 50)\n",
    "onemode_list = [1, 2, 50, 51, 52, 100, 101, 118, 119]\n",
    "contrast_by_aberampl = np.zeros((len(onemode_list), len(rms_list)))\n",
    "nm_aber_list = np.zeros((len(onemode_list), len(rms_list)))\n",
    "\n",
    "for m, onemode in enumerate(onemode_list):\n",
    "    print('Mode {} of {}'.format(m, len(onemode_list)))\n",
    "\n",
    "    for j, rms in enumerate(rms_list):\n",
    "        # Create random aberration coefficients\n",
    "        aber = np.random.random([nseg])   # piston values in input units\n",
    "        #print('PISTON ABERRATIONS: ', aber)\n",
    "\n",
    "        # Normalize to the RMS value I want\n",
    "        rms_init = util.rms(aber)\n",
    "        aber *= rms / rms_init\n",
    "        calc_rms = util.rms(aber)\n",
    "        print(\"Calculated RMS: {} nm\".format(calc_rms))\n",
    "        nm_aber_list[m,j] = calc_rms\n",
    "\n",
    "        # Remove global piston\n",
    "        aber -= np.mean(aber)\n",
    "\n",
    "        luvoir.flatten()\n",
    "        for seg, (val, ab) in enumerate(zip(emodes[:, onemode], aber)):\n",
    "            #print(val)\n",
    "            luvoir.set_segment(seg+1, sigmas[onemode]*aber_fac*ab*val/2, 0, 0)\n",
    "\n",
    "        # Calculate the LUVOIR PSF with that mode\n",
    "        psf_mode = luvoir.calc_psf()\n",
    "        all_mode_psfs.append(psf_mode)\n",
    "\n",
    "        # Calc contrast\n",
    "        dh_mode = psf_mode/norm * dh_mask\n",
    "        mode_contrast = np.mean(dh_mode[np.where(dh_mode != 0)])\n",
    "        contrast_by_aberampl[m,j] = mode_contrast\n",
    "\n",
    "        #print(mode_contrast)"
   ]
  },
  {
   "cell_type": "code",
   "execution_count": null,
   "metadata": {},
   "outputs": [],
   "source": [
    "plt.figure(figsize=(15, 10))\n",
    "for i, mo in enumerate(onemode_list):\n",
    "    plt.plot(nm_aber_list[i], contrast_by_aberampl[i], label='Mode '+str(mo))\n",
    "plt.ylabel('Mean contrast', size=15)\n",
    "plt.xlabel('Phase amplitude (nm)', size=15)\n",
    "plt.title('With sigmas', size=15)\n",
    "plt.legend()\n",
    "plt.semilogy()\n",
    "\n",
    "print('aber_fac = {}'.format(aber_fac))"
   ]
  },
  {
   "cell_type": "code",
   "execution_count": null,
   "metadata": {},
   "outputs": [],
   "source": [
    "mode = 1\n",
    "plt.figure(figsize=(15, 10))\n",
    "for i, mo in enumerate(onemode_list):\n",
    "    plt.plot(nm_aber_list[i], contrast_by_aberampl[i], label='Mode '+str(mo))\n",
    "plt.ylabel('Mean contrast', size=15)\n",
    "plt.xlabel('Phase amplitude (nm)', size=15)\n",
    "plt.title('With sigmas', size=15)\n",
    "plt.xlim(0, 2.)\n",
    "plt.legend()\n",
    "plt.semilogy()\n",
    "\n",
    "print('aber_fac = {}'.format(aber_fac))"
   ]
  },
  {
   "cell_type": "code",
   "execution_count": null,
   "metadata": {},
   "outputs": [],
   "source": []
  }
 ],
 "metadata": {
  "kernelspec": {
   "display_name": "Python 3",
   "language": "python",
   "name": "python3"
  },
  "language_info": {
   "codemirror_mode": {
    "name": "ipython",
    "version": 3
   },
   "file_extension": ".py",
   "mimetype": "text/x-python",
   "name": "python",
   "nbconvert_exporter": "python",
   "pygments_lexer": "ipython3",
   "version": "3.7.3"
  }
 },
 "nbformat": 4,
 "nbformat_minor": 2
}
